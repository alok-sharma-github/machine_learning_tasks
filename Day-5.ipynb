{
 "cells": [
  {
   "cell_type": "code",
   "execution_count": null,
   "metadata": {},
   "outputs": [],
   "source": [
    "# Investopaedia --- Stats\n",
    "# ML---stat quest"
   ]
  },
  {
   "cell_type": "code",
   "execution_count": 1,
   "metadata": {},
   "outputs": [],
   "source": [
    "text_to_search = '''\n",
    "abcdefghijklmnopqurtuvwxyz\n",
    "ABCDEFGHIJKLMNOPQRSTUVWXYZ\n",
    "1234567890\n",
    " \n",
    "Ha HaHa\n",
    " \n",
    "MetaCharacters (Need to be escaped):\n",
    ". ^ $ * + ? { } [ ] \\ | ( )\n",
    " \n",
    "vanshika.com\n",
    " \n",
    "321-555-4321\n",
    "123.555.1234\n",
    "123*555*1234\n",
    "800-555-1234\n",
    "900-555-1234\n",
    " \n",
    "Mr. Schafer\n",
    "Mr Smith\n",
    "Ms Davis\n",
    "Mrs. Robinson\n",
    "Mr. T\n",
    " \n",
    "cat\n",
    "mat\n",
    "pat bat\n",
    "'''"
   ]
  },
  {
   "cell_type": "code",
   "execution_count": 2,
   "metadata": {},
   "outputs": [],
   "source": [
    "import re"
   ]
  },
  {
   "cell_type": "code",
   "execution_count": 9,
   "metadata": {},
   "outputs": [
    {
     "data": {
      "text/plain": [
       "<callable_iterator at 0x1df05ff1cc0>"
      ]
     },
     "execution_count": 9,
     "metadata": {},
     "output_type": "execute_result"
    }
   ],
   "source": [
    "# pattern by COMPILE method\n",
    "\n",
    "# Literal match\n",
    "pattern = re.compile(r'abcd')\n",
    "pattern.finditer(text_to_search)"
   ]
  },
  {
   "cell_type": "code",
   "execution_count": 8,
   "metadata": {},
   "outputs": [
    {
     "name": "stdout",
     "output_type": "stream",
     "text": [
      "<re.Match object; span=(1, 5), match='abcd'>\n"
     ]
    }
   ],
   "source": [
    "for _ in pattern.finditer(text_to_search):\n",
    "    print(_)"
   ]
  },
  {
   "cell_type": "code",
   "execution_count": 10,
   "metadata": {},
   "outputs": [
    {
     "name": "stdout",
     "output_type": "stream",
     "text": [
      "<re.Match object; span=(1, 2), match='a'>\n",
      "<re.Match object; span=(2, 3), match='b'>\n",
      "<re.Match object; span=(3, 4), match='c'>\n",
      "<re.Match object; span=(4, 5), match='d'>\n",
      "<re.Match object; span=(5, 6), match='e'>\n",
      "<re.Match object; span=(6, 7), match='f'>\n",
      "<re.Match object; span=(7, 8), match='g'>\n",
      "<re.Match object; span=(8, 9), match='h'>\n",
      "<re.Match object; span=(9, 10), match='i'>\n",
      "<re.Match object; span=(10, 11), match='j'>\n",
      "<re.Match object; span=(11, 12), match='k'>\n",
      "<re.Match object; span=(12, 13), match='l'>\n",
      "<re.Match object; span=(13, 14), match='m'>\n",
      "<re.Match object; span=(14, 15), match='n'>\n",
      "<re.Match object; span=(15, 16), match='o'>\n",
      "<re.Match object; span=(16, 17), match='p'>\n",
      "<re.Match object; span=(17, 18), match='q'>\n",
      "<re.Match object; span=(18, 19), match='u'>\n",
      "<re.Match object; span=(19, 20), match='r'>\n",
      "<re.Match object; span=(20, 21), match='t'>\n",
      "<re.Match object; span=(21, 22), match='u'>\n",
      "<re.Match object; span=(22, 23), match='v'>\n",
      "<re.Match object; span=(23, 24), match='w'>\n",
      "<re.Match object; span=(24, 25), match='x'>\n",
      "<re.Match object; span=(25, 26), match='y'>\n",
      "<re.Match object; span=(26, 27), match='z'>\n",
      "<re.Match object; span=(28, 29), match='A'>\n",
      "<re.Match object; span=(29, 30), match='B'>\n",
      "<re.Match object; span=(30, 31), match='C'>\n",
      "<re.Match object; span=(31, 32), match='D'>\n",
      "<re.Match object; span=(32, 33), match='E'>\n",
      "<re.Match object; span=(33, 34), match='F'>\n",
      "<re.Match object; span=(34, 35), match='G'>\n",
      "<re.Match object; span=(35, 36), match='H'>\n",
      "<re.Match object; span=(36, 37), match='I'>\n",
      "<re.Match object; span=(37, 38), match='J'>\n",
      "<re.Match object; span=(38, 39), match='K'>\n",
      "<re.Match object; span=(39, 40), match='L'>\n",
      "<re.Match object; span=(40, 41), match='M'>\n",
      "<re.Match object; span=(41, 42), match='N'>\n",
      "<re.Match object; span=(42, 43), match='O'>\n",
      "<re.Match object; span=(43, 44), match='P'>\n",
      "<re.Match object; span=(44, 45), match='Q'>\n",
      "<re.Match object; span=(45, 46), match='R'>\n",
      "<re.Match object; span=(46, 47), match='S'>\n",
      "<re.Match object; span=(47, 48), match='T'>\n",
      "<re.Match object; span=(48, 49), match='U'>\n",
      "<re.Match object; span=(49, 50), match='V'>\n",
      "<re.Match object; span=(50, 51), match='W'>\n",
      "<re.Match object; span=(51, 52), match='X'>\n",
      "<re.Match object; span=(52, 53), match='Y'>\n",
      "<re.Match object; span=(53, 54), match='Z'>\n",
      "<re.Match object; span=(55, 56), match='1'>\n",
      "<re.Match object; span=(56, 57), match='2'>\n",
      "<re.Match object; span=(57, 58), match='3'>\n",
      "<re.Match object; span=(58, 59), match='4'>\n",
      "<re.Match object; span=(59, 60), match='5'>\n",
      "<re.Match object; span=(60, 61), match='6'>\n",
      "<re.Match object; span=(61, 62), match='7'>\n",
      "<re.Match object; span=(62, 63), match='8'>\n",
      "<re.Match object; span=(63, 64), match='9'>\n",
      "<re.Match object; span=(64, 65), match='0'>\n",
      "<re.Match object; span=(66, 67), match=' '>\n",
      "<re.Match object; span=(68, 69), match='H'>\n",
      "<re.Match object; span=(69, 70), match='a'>\n",
      "<re.Match object; span=(70, 71), match=' '>\n",
      "<re.Match object; span=(71, 72), match='H'>\n",
      "<re.Match object; span=(72, 73), match='a'>\n",
      "<re.Match object; span=(73, 74), match='H'>\n",
      "<re.Match object; span=(74, 75), match='a'>\n",
      "<re.Match object; span=(76, 77), match=' '>\n",
      "<re.Match object; span=(78, 79), match='M'>\n",
      "<re.Match object; span=(79, 80), match='e'>\n",
      "<re.Match object; span=(80, 81), match='t'>\n",
      "<re.Match object; span=(81, 82), match='a'>\n",
      "<re.Match object; span=(82, 83), match='C'>\n",
      "<re.Match object; span=(83, 84), match='h'>\n",
      "<re.Match object; span=(84, 85), match='a'>\n",
      "<re.Match object; span=(85, 86), match='r'>\n",
      "<re.Match object; span=(86, 87), match='a'>\n",
      "<re.Match object; span=(87, 88), match='c'>\n",
      "<re.Match object; span=(88, 89), match='t'>\n",
      "<re.Match object; span=(89, 90), match='e'>\n",
      "<re.Match object; span=(90, 91), match='r'>\n",
      "<re.Match object; span=(91, 92), match='s'>\n",
      "<re.Match object; span=(92, 93), match=' '>\n",
      "<re.Match object; span=(93, 94), match='('>\n",
      "<re.Match object; span=(94, 95), match='N'>\n",
      "<re.Match object; span=(95, 96), match='e'>\n",
      "<re.Match object; span=(96, 97), match='e'>\n",
      "<re.Match object; span=(97, 98), match='d'>\n",
      "<re.Match object; span=(98, 99), match=' '>\n",
      "<re.Match object; span=(99, 100), match='t'>\n",
      "<re.Match object; span=(100, 101), match='o'>\n",
      "<re.Match object; span=(101, 102), match=' '>\n",
      "<re.Match object; span=(102, 103), match='b'>\n",
      "<re.Match object; span=(103, 104), match='e'>\n",
      "<re.Match object; span=(104, 105), match=' '>\n",
      "<re.Match object; span=(105, 106), match='e'>\n",
      "<re.Match object; span=(106, 107), match='s'>\n",
      "<re.Match object; span=(107, 108), match='c'>\n",
      "<re.Match object; span=(108, 109), match='a'>\n",
      "<re.Match object; span=(109, 110), match='p'>\n",
      "<re.Match object; span=(110, 111), match='e'>\n",
      "<re.Match object; span=(111, 112), match='d'>\n",
      "<re.Match object; span=(112, 113), match=')'>\n",
      "<re.Match object; span=(113, 114), match=':'>\n",
      "<re.Match object; span=(115, 116), match='.'>\n",
      "<re.Match object; span=(116, 117), match=' '>\n",
      "<re.Match object; span=(117, 118), match='^'>\n",
      "<re.Match object; span=(118, 119), match=' '>\n",
      "<re.Match object; span=(119, 120), match='$'>\n",
      "<re.Match object; span=(120, 121), match=' '>\n",
      "<re.Match object; span=(121, 122), match='*'>\n",
      "<re.Match object; span=(122, 123), match=' '>\n",
      "<re.Match object; span=(123, 124), match='+'>\n",
      "<re.Match object; span=(124, 125), match=' '>\n",
      "<re.Match object; span=(125, 126), match='?'>\n",
      "<re.Match object; span=(126, 127), match=' '>\n",
      "<re.Match object; span=(127, 128), match='{'>\n",
      "<re.Match object; span=(128, 129), match=' '>\n",
      "<re.Match object; span=(129, 130), match='}'>\n",
      "<re.Match object; span=(130, 131), match=' '>\n",
      "<re.Match object; span=(131, 132), match='['>\n",
      "<re.Match object; span=(132, 133), match=' '>\n",
      "<re.Match object; span=(133, 134), match=']'>\n",
      "<re.Match object; span=(134, 135), match=' '>\n",
      "<re.Match object; span=(135, 136), match='\\\\'>\n",
      "<re.Match object; span=(136, 137), match=' '>\n",
      "<re.Match object; span=(137, 138), match='|'>\n",
      "<re.Match object; span=(138, 139), match=' '>\n",
      "<re.Match object; span=(139, 140), match='('>\n",
      "<re.Match object; span=(140, 141), match=' '>\n",
      "<re.Match object; span=(141, 142), match=')'>\n",
      "<re.Match object; span=(143, 144), match=' '>\n",
      "<re.Match object; span=(145, 146), match='v'>\n",
      "<re.Match object; span=(146, 147), match='a'>\n",
      "<re.Match object; span=(147, 148), match='n'>\n",
      "<re.Match object; span=(148, 149), match='s'>\n",
      "<re.Match object; span=(149, 150), match='h'>\n",
      "<re.Match object; span=(150, 151), match='i'>\n",
      "<re.Match object; span=(151, 152), match='k'>\n",
      "<re.Match object; span=(152, 153), match='a'>\n",
      "<re.Match object; span=(153, 154), match='.'>\n",
      "<re.Match object; span=(154, 155), match='c'>\n",
      "<re.Match object; span=(155, 156), match='o'>\n",
      "<re.Match object; span=(156, 157), match='m'>\n",
      "<re.Match object; span=(158, 159), match=' '>\n",
      "<re.Match object; span=(160, 161), match='3'>\n",
      "<re.Match object; span=(161, 162), match='2'>\n",
      "<re.Match object; span=(162, 163), match='1'>\n",
      "<re.Match object; span=(163, 164), match='-'>\n",
      "<re.Match object; span=(164, 165), match='5'>\n",
      "<re.Match object; span=(165, 166), match='5'>\n",
      "<re.Match object; span=(166, 167), match='5'>\n",
      "<re.Match object; span=(167, 168), match='-'>\n",
      "<re.Match object; span=(168, 169), match='4'>\n",
      "<re.Match object; span=(169, 170), match='3'>\n",
      "<re.Match object; span=(170, 171), match='2'>\n",
      "<re.Match object; span=(171, 172), match='1'>\n",
      "<re.Match object; span=(173, 174), match='1'>\n",
      "<re.Match object; span=(174, 175), match='2'>\n",
      "<re.Match object; span=(175, 176), match='3'>\n",
      "<re.Match object; span=(176, 177), match='.'>\n",
      "<re.Match object; span=(177, 178), match='5'>\n",
      "<re.Match object; span=(178, 179), match='5'>\n",
      "<re.Match object; span=(179, 180), match='5'>\n",
      "<re.Match object; span=(180, 181), match='.'>\n",
      "<re.Match object; span=(181, 182), match='1'>\n",
      "<re.Match object; span=(182, 183), match='2'>\n",
      "<re.Match object; span=(183, 184), match='3'>\n",
      "<re.Match object; span=(184, 185), match='4'>\n",
      "<re.Match object; span=(186, 187), match='1'>\n",
      "<re.Match object; span=(187, 188), match='2'>\n",
      "<re.Match object; span=(188, 189), match='3'>\n",
      "<re.Match object; span=(189, 190), match='*'>\n",
      "<re.Match object; span=(190, 191), match='5'>\n",
      "<re.Match object; span=(191, 192), match='5'>\n",
      "<re.Match object; span=(192, 193), match='5'>\n",
      "<re.Match object; span=(193, 194), match='*'>\n",
      "<re.Match object; span=(194, 195), match='1'>\n",
      "<re.Match object; span=(195, 196), match='2'>\n",
      "<re.Match object; span=(196, 197), match='3'>\n",
      "<re.Match object; span=(197, 198), match='4'>\n",
      "<re.Match object; span=(199, 200), match='8'>\n",
      "<re.Match object; span=(200, 201), match='0'>\n",
      "<re.Match object; span=(201, 202), match='0'>\n",
      "<re.Match object; span=(202, 203), match='-'>\n",
      "<re.Match object; span=(203, 204), match='5'>\n",
      "<re.Match object; span=(204, 205), match='5'>\n",
      "<re.Match object; span=(205, 206), match='5'>\n",
      "<re.Match object; span=(206, 207), match='-'>\n",
      "<re.Match object; span=(207, 208), match='1'>\n",
      "<re.Match object; span=(208, 209), match='2'>\n",
      "<re.Match object; span=(209, 210), match='3'>\n",
      "<re.Match object; span=(210, 211), match='4'>\n",
      "<re.Match object; span=(212, 213), match='9'>\n",
      "<re.Match object; span=(213, 214), match='0'>\n",
      "<re.Match object; span=(214, 215), match='0'>\n",
      "<re.Match object; span=(215, 216), match='-'>\n",
      "<re.Match object; span=(216, 217), match='5'>\n",
      "<re.Match object; span=(217, 218), match='5'>\n",
      "<re.Match object; span=(218, 219), match='5'>\n",
      "<re.Match object; span=(219, 220), match='-'>\n",
      "<re.Match object; span=(220, 221), match='1'>\n",
      "<re.Match object; span=(221, 222), match='2'>\n",
      "<re.Match object; span=(222, 223), match='3'>\n",
      "<re.Match object; span=(223, 224), match='4'>\n",
      "<re.Match object; span=(225, 226), match=' '>\n",
      "<re.Match object; span=(227, 228), match='M'>\n",
      "<re.Match object; span=(228, 229), match='r'>\n",
      "<re.Match object; span=(229, 230), match='.'>\n",
      "<re.Match object; span=(230, 231), match=' '>\n",
      "<re.Match object; span=(231, 232), match='S'>\n",
      "<re.Match object; span=(232, 233), match='c'>\n",
      "<re.Match object; span=(233, 234), match='h'>\n",
      "<re.Match object; span=(234, 235), match='a'>\n",
      "<re.Match object; span=(235, 236), match='f'>\n",
      "<re.Match object; span=(236, 237), match='e'>\n",
      "<re.Match object; span=(237, 238), match='r'>\n",
      "<re.Match object; span=(239, 240), match='M'>\n",
      "<re.Match object; span=(240, 241), match='r'>\n",
      "<re.Match object; span=(241, 242), match=' '>\n",
      "<re.Match object; span=(242, 243), match='S'>\n",
      "<re.Match object; span=(243, 244), match='m'>\n",
      "<re.Match object; span=(244, 245), match='i'>\n",
      "<re.Match object; span=(245, 246), match='t'>\n",
      "<re.Match object; span=(246, 247), match='h'>\n",
      "<re.Match object; span=(248, 249), match='M'>\n",
      "<re.Match object; span=(249, 250), match='s'>\n",
      "<re.Match object; span=(250, 251), match=' '>\n",
      "<re.Match object; span=(251, 252), match='D'>\n",
      "<re.Match object; span=(252, 253), match='a'>\n",
      "<re.Match object; span=(253, 254), match='v'>\n",
      "<re.Match object; span=(254, 255), match='i'>\n",
      "<re.Match object; span=(255, 256), match='s'>\n",
      "<re.Match object; span=(257, 258), match='M'>\n",
      "<re.Match object; span=(258, 259), match='r'>\n",
      "<re.Match object; span=(259, 260), match='s'>\n",
      "<re.Match object; span=(260, 261), match='.'>\n",
      "<re.Match object; span=(261, 262), match=' '>\n",
      "<re.Match object; span=(262, 263), match='R'>\n",
      "<re.Match object; span=(263, 264), match='o'>\n",
      "<re.Match object; span=(264, 265), match='b'>\n",
      "<re.Match object; span=(265, 266), match='i'>\n",
      "<re.Match object; span=(266, 267), match='n'>\n",
      "<re.Match object; span=(267, 268), match='s'>\n",
      "<re.Match object; span=(268, 269), match='o'>\n",
      "<re.Match object; span=(269, 270), match='n'>\n",
      "<re.Match object; span=(271, 272), match='M'>\n",
      "<re.Match object; span=(272, 273), match='r'>\n",
      "<re.Match object; span=(273, 274), match='.'>\n",
      "<re.Match object; span=(274, 275), match=' '>\n",
      "<re.Match object; span=(275, 276), match='T'>\n",
      "<re.Match object; span=(277, 278), match=' '>\n",
      "<re.Match object; span=(279, 280), match='c'>\n",
      "<re.Match object; span=(280, 281), match='a'>\n",
      "<re.Match object; span=(281, 282), match='t'>\n",
      "<re.Match object; span=(283, 284), match='m'>\n",
      "<re.Match object; span=(284, 285), match='a'>\n",
      "<re.Match object; span=(285, 286), match='t'>\n",
      "<re.Match object; span=(287, 288), match='p'>\n",
      "<re.Match object; span=(288, 289), match='a'>\n",
      "<re.Match object; span=(289, 290), match='t'>\n",
      "<re.Match object; span=(290, 291), match=' '>\n",
      "<re.Match object; span=(291, 292), match='b'>\n",
      "<re.Match object; span=(292, 293), match='a'>\n",
      "<re.Match object; span=(293, 294), match='t'>\n"
     ]
    }
   ],
   "source": [
    "# '.' any except \\n\n",
    "pattern = re.compile(r'.')\n",
    "\n",
    "for _ in pattern.finditer(text_to_search):\n",
    "    print(_)\n",
    "\n",
    "\"\"\"\n",
    "\\d: Matches digits (0-9).\n",
    "\\D: Matches non-digits.\n",
    "\\s: Matches white space characters.\n",
    "\\S: Matches non-white space characters.\n",
    "\\w: Matches word characters (letters, digits, underscore).\n",
    "\\W: Matches non-word characters.\n",
    "\n",
    "\\^ - matches the start of a string, \n",
    "\\$ - end of  athe string, \n",
    "\\A - matches the start of a line in multi-line mode, \n",
    "\\b - a word boundary, \n",
    "\\B - represents a non-word boundary, \n",
    "\\Z: Anchors for string positions.\n",
    "\n",
    "\"\"\""
   ]
  },
  {
   "cell_type": "code",
   "execution_count": 12,
   "metadata": {},
   "outputs": [
    {
     "name": "stdout",
     "output_type": "stream",
     "text": [
      "<re.Match object; span=(160, 172), match='321-555-4321'>\n",
      "<re.Match object; span=(173, 185), match='123.555.1234'>\n",
      "<re.Match object; span=(186, 198), match='123*555*1234'>\n",
      "<re.Match object; span=(199, 211), match='800-555-1234'>\n",
      "<re.Match object; span=(212, 224), match='900-555-1234'>\n"
     ]
    }
   ],
   "source": [
    "# Phone Number\n",
    "pattern = re.compile(r'\\d\\d\\d.\\d\\d\\d.\\d\\d\\d\\d')\n",
    "for i in pattern.finditer(text_to_search):\n",
    "    print(i)"
   ]
  },
  {
   "cell_type": "code",
   "execution_count": 16,
   "metadata": {},
   "outputs": [
    {
     "name": "stdout",
     "output_type": "stream",
     "text": [
      "<re.Match object; span=(160, 172), match='321-555-4321'>\n",
      "<re.Match object; span=(173, 185), match='123.555.1234'>\n",
      "<re.Match object; span=(199, 211), match='800-555-1234'>\n",
      "<re.Match object; span=(212, 224), match='900-555-1234'>\n"
     ]
    }
   ],
   "source": [
    "# Phone Number\n",
    "pattern = re.compile(r'\\d{3}.\\d{3}.\\d{4}') # {2,4}- range\n",
    "for i in pattern.finditer(text_to_search):\n",
    "    print(i)"
   ]
  },
  {
   "cell_type": "code",
   "execution_count": 18,
   "metadata": {},
   "outputs": [
    {
     "name": "stdout",
     "output_type": "stream",
     "text": [
      "<re.Match object; span=(160, 172), match='321-555-4321'>\n",
      "<re.Match object; span=(173, 185), match='123.555.1234'>\n",
      "<re.Match object; span=(199, 211), match='800-555-1234'>\n",
      "<re.Match object; span=(212, 224), match='900-555-1234'>\n"
     ]
    }
   ],
   "source": [
    "# Phone Number [either . or -] only\n",
    "pattern = re.compile(r'\\d{3}[.-]\\d{3}.\\d{4}') # [.-] character set( Single Occurrence)\n",
    "for i in pattern.finditer(text_to_search):\n",
    "    print(i)"
   ]
  },
  {
   "cell_type": "code",
   "execution_count": 22,
   "metadata": {},
   "outputs": [
    {
     "name": "stdout",
     "output_type": "stream",
     "text": [
      "<re.Match object; span=(199, 211), match='800-555-1234'>\n",
      "<re.Match object; span=(212, 224), match='900-555-1234'>\n"
     ]
    }
   ],
   "source": [
    "# Phone Number start m 800 ya 900\n",
    "pattern = re.compile(r'[89]00.\\d{3}.\\d{4}') # (800|900) character set( Single Occurrence)\n",
    "for i in pattern.finditer(text_to_search):\n",
    "    print(i)"
   ]
  },
  {
   "cell_type": "code",
   "execution_count": 23,
   "metadata": {},
   "outputs": [
    {
     "name": "stdout",
     "output_type": "stream",
     "text": [
      "<re.Match object; span=(1, 2), match='a'>\n",
      "<re.Match object; span=(2, 3), match='b'>\n",
      "<re.Match object; span=(3, 4), match='c'>\n",
      "<re.Match object; span=(4, 5), match='d'>\n",
      "<re.Match object; span=(5, 6), match='e'>\n",
      "<re.Match object; span=(6, 7), match='f'>\n",
      "<re.Match object; span=(7, 8), match='g'>\n",
      "<re.Match object; span=(8, 9), match='h'>\n",
      "<re.Match object; span=(9, 10), match='i'>\n",
      "<re.Match object; span=(10, 11), match='j'>\n",
      "<re.Match object; span=(11, 12), match='k'>\n",
      "<re.Match object; span=(12, 13), match='l'>\n",
      "<re.Match object; span=(13, 14), match='m'>\n",
      "<re.Match object; span=(14, 15), match='n'>\n",
      "<re.Match object; span=(15, 16), match='o'>\n",
      "<re.Match object; span=(16, 17), match='p'>\n",
      "<re.Match object; span=(17, 18), match='q'>\n",
      "<re.Match object; span=(18, 19), match='u'>\n",
      "<re.Match object; span=(19, 20), match='r'>\n",
      "<re.Match object; span=(20, 21), match='t'>\n",
      "<re.Match object; span=(21, 22), match='u'>\n",
      "<re.Match object; span=(22, 23), match='v'>\n",
      "<re.Match object; span=(23, 24), match='w'>\n",
      "<re.Match object; span=(24, 25), match='x'>\n",
      "<re.Match object; span=(25, 26), match='y'>\n",
      "<re.Match object; span=(26, 27), match='z'>\n",
      "<re.Match object; span=(28, 29), match='A'>\n",
      "<re.Match object; span=(29, 30), match='B'>\n",
      "<re.Match object; span=(30, 31), match='C'>\n",
      "<re.Match object; span=(31, 32), match='D'>\n",
      "<re.Match object; span=(32, 33), match='E'>\n",
      "<re.Match object; span=(33, 34), match='F'>\n",
      "<re.Match object; span=(34, 35), match='G'>\n",
      "<re.Match object; span=(35, 36), match='H'>\n",
      "<re.Match object; span=(36, 37), match='I'>\n",
      "<re.Match object; span=(37, 38), match='J'>\n",
      "<re.Match object; span=(38, 39), match='K'>\n",
      "<re.Match object; span=(39, 40), match='L'>\n",
      "<re.Match object; span=(40, 41), match='M'>\n",
      "<re.Match object; span=(41, 42), match='N'>\n",
      "<re.Match object; span=(42, 43), match='O'>\n",
      "<re.Match object; span=(43, 44), match='P'>\n",
      "<re.Match object; span=(44, 45), match='Q'>\n",
      "<re.Match object; span=(45, 46), match='R'>\n",
      "<re.Match object; span=(46, 47), match='S'>\n",
      "<re.Match object; span=(47, 48), match='T'>\n",
      "<re.Match object; span=(48, 49), match='U'>\n",
      "<re.Match object; span=(49, 50), match='V'>\n",
      "<re.Match object; span=(50, 51), match='W'>\n",
      "<re.Match object; span=(51, 52), match='X'>\n",
      "<re.Match object; span=(52, 53), match='Y'>\n",
      "<re.Match object; span=(53, 54), match='Z'>\n",
      "<re.Match object; span=(68, 69), match='H'>\n",
      "<re.Match object; span=(69, 70), match='a'>\n",
      "<re.Match object; span=(71, 72), match='H'>\n",
      "<re.Match object; span=(72, 73), match='a'>\n",
      "<re.Match object; span=(73, 74), match='H'>\n",
      "<re.Match object; span=(74, 75), match='a'>\n",
      "<re.Match object; span=(78, 79), match='M'>\n",
      "<re.Match object; span=(79, 80), match='e'>\n",
      "<re.Match object; span=(80, 81), match='t'>\n",
      "<re.Match object; span=(81, 82), match='a'>\n",
      "<re.Match object; span=(82, 83), match='C'>\n",
      "<re.Match object; span=(83, 84), match='h'>\n",
      "<re.Match object; span=(84, 85), match='a'>\n",
      "<re.Match object; span=(85, 86), match='r'>\n",
      "<re.Match object; span=(86, 87), match='a'>\n",
      "<re.Match object; span=(87, 88), match='c'>\n",
      "<re.Match object; span=(88, 89), match='t'>\n",
      "<re.Match object; span=(89, 90), match='e'>\n",
      "<re.Match object; span=(90, 91), match='r'>\n",
      "<re.Match object; span=(91, 92), match='s'>\n",
      "<re.Match object; span=(94, 95), match='N'>\n",
      "<re.Match object; span=(95, 96), match='e'>\n",
      "<re.Match object; span=(96, 97), match='e'>\n",
      "<re.Match object; span=(97, 98), match='d'>\n",
      "<re.Match object; span=(99, 100), match='t'>\n",
      "<re.Match object; span=(100, 101), match='o'>\n",
      "<re.Match object; span=(102, 103), match='b'>\n",
      "<re.Match object; span=(103, 104), match='e'>\n",
      "<re.Match object; span=(105, 106), match='e'>\n",
      "<re.Match object; span=(106, 107), match='s'>\n",
      "<re.Match object; span=(107, 108), match='c'>\n",
      "<re.Match object; span=(108, 109), match='a'>\n",
      "<re.Match object; span=(109, 110), match='p'>\n",
      "<re.Match object; span=(110, 111), match='e'>\n",
      "<re.Match object; span=(111, 112), match='d'>\n",
      "<re.Match object; span=(145, 146), match='v'>\n",
      "<re.Match object; span=(146, 147), match='a'>\n",
      "<re.Match object; span=(147, 148), match='n'>\n",
      "<re.Match object; span=(148, 149), match='s'>\n",
      "<re.Match object; span=(149, 150), match='h'>\n",
      "<re.Match object; span=(150, 151), match='i'>\n",
      "<re.Match object; span=(151, 152), match='k'>\n",
      "<re.Match object; span=(152, 153), match='a'>\n",
      "<re.Match object; span=(154, 155), match='c'>\n",
      "<re.Match object; span=(155, 156), match='o'>\n",
      "<re.Match object; span=(156, 157), match='m'>\n",
      "<re.Match object; span=(227, 228), match='M'>\n",
      "<re.Match object; span=(228, 229), match='r'>\n",
      "<re.Match object; span=(231, 232), match='S'>\n",
      "<re.Match object; span=(232, 233), match='c'>\n",
      "<re.Match object; span=(233, 234), match='h'>\n",
      "<re.Match object; span=(234, 235), match='a'>\n",
      "<re.Match object; span=(235, 236), match='f'>\n",
      "<re.Match object; span=(236, 237), match='e'>\n",
      "<re.Match object; span=(237, 238), match='r'>\n",
      "<re.Match object; span=(239, 240), match='M'>\n",
      "<re.Match object; span=(240, 241), match='r'>\n",
      "<re.Match object; span=(242, 243), match='S'>\n",
      "<re.Match object; span=(243, 244), match='m'>\n",
      "<re.Match object; span=(244, 245), match='i'>\n",
      "<re.Match object; span=(245, 246), match='t'>\n",
      "<re.Match object; span=(246, 247), match='h'>\n",
      "<re.Match object; span=(248, 249), match='M'>\n",
      "<re.Match object; span=(249, 250), match='s'>\n",
      "<re.Match object; span=(251, 252), match='D'>\n",
      "<re.Match object; span=(252, 253), match='a'>\n",
      "<re.Match object; span=(253, 254), match='v'>\n",
      "<re.Match object; span=(254, 255), match='i'>\n",
      "<re.Match object; span=(255, 256), match='s'>\n",
      "<re.Match object; span=(257, 258), match='M'>\n",
      "<re.Match object; span=(258, 259), match='r'>\n",
      "<re.Match object; span=(259, 260), match='s'>\n",
      "<re.Match object; span=(262, 263), match='R'>\n",
      "<re.Match object; span=(263, 264), match='o'>\n",
      "<re.Match object; span=(264, 265), match='b'>\n",
      "<re.Match object; span=(265, 266), match='i'>\n",
      "<re.Match object; span=(266, 267), match='n'>\n",
      "<re.Match object; span=(267, 268), match='s'>\n",
      "<re.Match object; span=(268, 269), match='o'>\n",
      "<re.Match object; span=(269, 270), match='n'>\n",
      "<re.Match object; span=(271, 272), match='M'>\n",
      "<re.Match object; span=(272, 273), match='r'>\n",
      "<re.Match object; span=(275, 276), match='T'>\n",
      "<re.Match object; span=(279, 280), match='c'>\n",
      "<re.Match object; span=(280, 281), match='a'>\n",
      "<re.Match object; span=(281, 282), match='t'>\n",
      "<re.Match object; span=(283, 284), match='m'>\n",
      "<re.Match object; span=(284, 285), match='a'>\n",
      "<re.Match object; span=(285, 286), match='t'>\n",
      "<re.Match object; span=(287, 288), match='p'>\n",
      "<re.Match object; span=(288, 289), match='a'>\n",
      "<re.Match object; span=(289, 290), match='t'>\n",
      "<re.Match object; span=(291, 292), match='b'>\n",
      "<re.Match object; span=(292, 293), match='a'>\n",
      "<re.Match object; span=(293, 294), match='t'>\n"
     ]
    }
   ],
   "source": [
    "# set\n",
    "pattern = re.compile(r'[a-zA-Z]') # ^ is used for negation inside characterset\n",
    "for i in pattern.finditer(text_to_search):\n",
    "    print(i)"
   ]
  },
  {
   "cell_type": "code",
   "execution_count": 26,
   "metadata": {},
   "outputs": [
    {
     "name": "stdout",
     "output_type": "stream",
     "text": [
      "<re.Match object; span=(279, 282), match='cat'>\n",
      "<re.Match object; span=(283, 286), match='mat'>\n",
      "<re.Match object; span=(287, 290), match='pat'>\n"
     ]
    }
   ],
   "source": [
    "# character set\n",
    "pattern = re.compile(r'[cmp]at') \n",
    "for i in pattern.finditer(text_to_search):\n",
    "    print(i)"
   ]
  },
  {
   "cell_type": "code",
   "execution_count": 34,
   "metadata": {},
   "outputs": [
    {
     "name": "stdout",
     "output_type": "stream",
     "text": [
      "<re.Match object; span=(227, 238), match='Mr. Schafer'>\n",
      "<re.Match object; span=(239, 247), match='Mr Smith'>\n",
      "<re.Match object; span=(271, 276), match='Mr. T'>\n"
     ]
    }
   ],
   "source": [
    "# Quantifiers:\n",
    "'''\n",
    "* zero or more\n",
    "+ one or more\n",
    "? zero or one\n",
    "n exact occeurence\n",
    "n, atleat n occurrence\n",
    "n,m\n",
    "'''\n",
    "pattern = re.compile(r'Mr\\.?\\s[A-Z]\\w*') \n",
    "for i in pattern.finditer(text_to_search):\n",
    "    print(i)"
   ]
  },
  {
   "cell_type": "code",
   "execution_count": 35,
   "metadata": {},
   "outputs": [
    {
     "name": "stdout",
     "output_type": "stream",
     "text": [
      "<re.Match object; span=(227, 238), match='Mr. Schafer'>\n",
      "<re.Match object; span=(239, 247), match='Mr Smith'>\n",
      "<re.Match object; span=(248, 256), match='Ms Davis'>\n",
      "<re.Match object; span=(257, 270), match='Mrs. Robinson'>\n",
      "<re.Match object; span=(271, 276), match='Mr. T'>\n"
     ]
    }
   ],
   "source": [
    "# (either|or)\n",
    "pattern = re.compile(r'(Mr|Mrs|Ms)\\.?\\s[A-Z]\\w*') \n",
    "for i in pattern.finditer(text_to_search):\n",
    "    print(i)"
   ]
  },
  {
   "cell_type": "code",
   "execution_count": 36,
   "metadata": {},
   "outputs": [],
   "source": [
    "emails = '''\n",
    "VanshikaPanwar@gmail.com\n",
    "vanshika.panwar@inzint.org\n",
    "vanshika-321-panwar@my-work.net\n",
    "'''"
   ]
  },
  {
   "cell_type": "code",
   "execution_count": 64,
   "metadata": {},
   "outputs": [
    {
     "name": "stdout",
     "output_type": "stream",
     "text": [
      "<re.Match object; span=(15, 25), match='@gmail.com'>\n",
      "<re.Match object; span=(41, 52), match='@inzint.org'>\n",
      "<re.Match object; span=(72, 84), match='@my-work.net'>\n"
     ]
    }
   ],
   "source": [
    "# LAST\n",
    "pattern = re.compile(r'[@](gmail|inzint|my-work)\\.+(org|com|net)') \n",
    "for i in pattern.finditer(emails):\n",
    "    print(i)"
   ]
  },
  {
   "cell_type": "code",
   "execution_count": 97,
   "metadata": {},
   "outputs": [
    {
     "name": "stdout",
     "output_type": "stream",
     "text": [
      "<re.Match object; span=(1, 15), match='VanshikaPanwar'>\n",
      "<re.Match object; span=(16, 22), match='gmail.'>\n",
      "<re.Match object; span=(22, 25), match='com'>\n",
      "<re.Match object; span=(26, 35), match='vanshika.'>\n",
      "<re.Match object; span=(35, 41), match='panwar'>\n",
      "<re.Match object; span=(42, 49), match='inzint.'>\n",
      "<re.Match object; span=(49, 52), match='org'>\n",
      "<re.Match object; span=(53, 61), match='vanshika'>\n",
      "<re.Match object; span=(62, 65), match='321'>\n",
      "<re.Match object; span=(66, 72), match='panwar'>\n",
      "<re.Match object; span=(73, 75), match='my'>\n",
      "<re.Match object; span=(76, 81), match='work.'>\n",
      "<re.Match object; span=(81, 84), match='net'>\n"
     ]
    }
   ],
   "source": [
    "pattern = re.compile(r'(\\w+\\.?|\\w+\\-?\\d{3}\\-?)') \n",
    "for i in pattern.finditer(emails):\n",
    "    print(i)"
   ]
  },
  {
   "cell_type": "code",
   "execution_count": 92,
   "metadata": {},
   "outputs": [
    {
     "name": "stdout",
     "output_type": "stream",
     "text": [
      "<re.Match object; span=(1, 16), match='VanshikaPanwar@'>\n",
      "<re.Match object; span=(16, 22), match='gmail.'>\n",
      "<re.Match object; span=(22, 25), match='com'>\n",
      "<re.Match object; span=(26, 35), match='vanshika.'>\n",
      "<re.Match object; span=(35, 42), match='panwar@'>\n",
      "<re.Match object; span=(42, 49), match='inzint.'>\n",
      "<re.Match object; span=(49, 52), match='org'>\n",
      "<re.Match object; span=(53, 66), match='vanshika-321-'>\n",
      "<re.Match object; span=(66, 73), match='panwar@'>\n",
      "<re.Match object; span=(73, 75), match='my'>\n",
      "<re.Match object; span=(76, 81), match='work.'>\n",
      "<re.Match object; span=(81, 84), match='net'>\n"
     ]
    }
   ],
   "source": [
    "# START\n",
    "# Ya to WORD hai | WORD. | WORD-d{3}-\n",
    "pattern = re.compile(r'\\w+([.-@]|-\\d{3}-)') \n",
    "for i in pattern.finditer(emails):\n",
    "    print(i)\n"
   ]
  },
  {
   "cell_type": "code",
   "execution_count": 87,
   "metadata": {},
   "outputs": [
    {
     "name": "stdout",
     "output_type": "stream",
     "text": [
      "<re.Match object; span=(1, 25), match='VanshikaPanwar@gmail.com'>\n",
      "<re.Match object; span=(35, 52), match='panwar@inzint.org'>\n",
      "<re.Match object; span=(66, 84), match='panwar@my-work.net'>\n"
     ]
    }
   ],
   "source": [
    "# COMBINED\n",
    "pattern = re.compile(r'\\w+@(gmail|inzint|my-work)\\.+(org|com|net)') \n",
    "for i in pattern.finditer(emails):\n",
    "    print(i)"
   ]
  },
  {
   "cell_type": "code",
   "execution_count": 110,
   "metadata": {},
   "outputs": [
    {
     "name": "stdout",
     "output_type": "stream",
     "text": [
      "<re.Match object; span=(1, 25), match='VanshikaPanwar@gmail.com'>\n",
      "<re.Match object; span=(26, 52), match='vanshika.panwar@inzint.org'>\n",
      "<re.Match object; span=(62, 84), match='321-panwar@my-work.net'>\n"
     ]
    }
   ],
   "source": [
    "# COMBINED\n",
    "pattern = re.compile(r'(\\w+[.-]\\w+|\\w+)@(gmail|inzint|my-work)\\.+(org|com|net)') \n",
    "for i in pattern.finditer(emails):\n",
    "    print(i)"
   ]
  },
  {
   "cell_type": "code",
   "execution_count": 55,
   "metadata": {},
   "outputs": [
    {
     "name": "stdout",
     "output_type": "stream",
     "text": [
      "<re.Match object; span=(21, 25), match='.com'>\n",
      "<re.Match object; span=(48, 52), match='.org'>\n",
      "<re.Match object; span=(80, 84), match='.net'>\n"
     ]
    }
   ],
   "source": [
    "pattern = re.compile(r'\\w*.\\w*.\\w+\\.+(org|com|net)') \n",
    "for i in pattern.finditer(emails):\n",
    "    print(i)"
   ]
  },
  {
   "cell_type": "markdown",
   "metadata": {},
   "source": [
    "# Probability"
   ]
  },
  {
   "cell_type": "code",
   "execution_count": 2,
   "metadata": {},
   "outputs": [],
   "source": [
    "# Independent Event\n",
    "# Dependent Event\n",
    "path = \"C:\\\\Users\\\\alok\\\\Downloads\\\\airbnb_data.csv\""
   ]
  },
  {
   "cell_type": "code",
   "execution_count": 3,
   "metadata": {},
   "outputs": [],
   "source": [
    "import pandas as pd\n"
   ]
  },
  {
   "cell_type": "code",
   "execution_count": 4,
   "metadata": {},
   "outputs": [],
   "source": [
    "df = pd.read_csv(path)"
   ]
  },
  {
   "cell_type": "code",
   "execution_count": 5,
   "metadata": {},
   "outputs": [
    {
     "data": {
      "text/html": [
       "<div>\n",
       "<style scoped>\n",
       "    .dataframe tbody tr th:only-of-type {\n",
       "        vertical-align: middle;\n",
       "    }\n",
       "\n",
       "    .dataframe tbody tr th {\n",
       "        vertical-align: top;\n",
       "    }\n",
       "\n",
       "    .dataframe thead th {\n",
       "        text-align: right;\n",
       "    }\n",
       "</style>\n",
       "<table border=\"1\" class=\"dataframe\">\n",
       "  <thead>\n",
       "    <tr style=\"text-align: right;\">\n",
       "      <th></th>\n",
       "      <th>id</th>\n",
       "      <th>name</th>\n",
       "      <th>room_type</th>\n",
       "      <th>price</th>\n",
       "      <th>minimum_nights</th>\n",
       "      <th>number_of_reviews</th>\n",
       "      <th>city</th>\n",
       "    </tr>\n",
       "  </thead>\n",
       "  <tbody>\n",
       "    <tr>\n",
       "      <th>0</th>\n",
       "      <td>3781</td>\n",
       "      <td>HARBORSIDE-Walk to subway</td>\n",
       "      <td>Apartment</td>\n",
       "      <td>146</td>\n",
       "      <td>28</td>\n",
       "      <td>16</td>\n",
       "      <td>Boston</td>\n",
       "    </tr>\n",
       "    <tr>\n",
       "      <th>1</th>\n",
       "      <td>5506</td>\n",
       "      <td>**$49 Special **   Private! Minutes to center!</td>\n",
       "      <td>Apartment</td>\n",
       "      <td>145</td>\n",
       "      <td>3</td>\n",
       "      <td>107</td>\n",
       "      <td>Boston</td>\n",
       "    </tr>\n",
       "    <tr>\n",
       "      <th>2</th>\n",
       "      <td>6695</td>\n",
       "      <td>$99 Special!! Home Away! Condo</td>\n",
       "      <td>Apartment</td>\n",
       "      <td>169</td>\n",
       "      <td>3</td>\n",
       "      <td>115</td>\n",
       "      <td>Boston</td>\n",
       "    </tr>\n",
       "    <tr>\n",
       "      <th>3</th>\n",
       "      <td>10730</td>\n",
       "      <td>Bright 1bed facing Golden Dome</td>\n",
       "      <td>Apartment</td>\n",
       "      <td>85</td>\n",
       "      <td>91</td>\n",
       "      <td>32</td>\n",
       "      <td>Boston</td>\n",
       "    </tr>\n",
       "    <tr>\n",
       "      <th>4</th>\n",
       "      <td>10813</td>\n",
       "      <td>Back Bay Apt-blocks to subway, Newbury St, The...</td>\n",
       "      <td>Apartment</td>\n",
       "      <td>87</td>\n",
       "      <td>28</td>\n",
       "      <td>10</td>\n",
       "      <td>Boston</td>\n",
       "    </tr>\n",
       "    <tr>\n",
       "      <th>...</th>\n",
       "      <td>...</td>\n",
       "      <td>...</td>\n",
       "      <td>...</td>\n",
       "      <td>...</td>\n",
       "      <td>...</td>\n",
       "      <td>...</td>\n",
       "      <td>...</td>\n",
       "    </tr>\n",
       "    <tr>\n",
       "      <th>32343</th>\n",
       "      <td>43805501</td>\n",
       "      <td>Modern Boutique Apt in S. Lake Union, Gym +Pet...</td>\n",
       "      <td>Apartment</td>\n",
       "      <td>109</td>\n",
       "      <td>30</td>\n",
       "      <td>0</td>\n",
       "      <td>Seattle</td>\n",
       "    </tr>\n",
       "    <tr>\n",
       "      <th>32344</th>\n",
       "      <td>43807087</td>\n",
       "      <td>Beautiful &amp; Bright Downtown Studio</td>\n",
       "      <td>Apartment</td>\n",
       "      <td>119</td>\n",
       "      <td>1</td>\n",
       "      <td>0</td>\n",
       "      <td>Seattle</td>\n",
       "    </tr>\n",
       "    <tr>\n",
       "      <th>32345</th>\n",
       "      <td>43807576</td>\n",
       "      <td>3 BDRM/1.75 bath Top Queen Anne home@quiet street</td>\n",
       "      <td>Apartment</td>\n",
       "      <td>299</td>\n",
       "      <td>1</td>\n",
       "      <td>0</td>\n",
       "      <td>Seattle</td>\n",
       "    </tr>\n",
       "    <tr>\n",
       "      <th>32346</th>\n",
       "      <td>43807578</td>\n",
       "      <td>Perfect &amp; Bright Downtown Studio</td>\n",
       "      <td>Apartment</td>\n",
       "      <td>119</td>\n",
       "      <td>1</td>\n",
       "      <td>0</td>\n",
       "      <td>Seattle</td>\n",
       "    </tr>\n",
       "    <tr>\n",
       "      <th>32347</th>\n",
       "      <td>43821640</td>\n",
       "      <td>Bright and Clean in the U District</td>\n",
       "      <td>Apartment</td>\n",
       "      <td>85</td>\n",
       "      <td>30</td>\n",
       "      <td>0</td>\n",
       "      <td>Seattle</td>\n",
       "    </tr>\n",
       "  </tbody>\n",
       "</table>\n",
       "<p>32348 rows × 7 columns</p>\n",
       "</div>"
      ],
      "text/plain": [
       "             id                                               name  room_type  \\\n",
       "0          3781                          HARBORSIDE-Walk to subway  Apartment   \n",
       "1          5506     **$49 Special **   Private! Minutes to center!  Apartment   \n",
       "2          6695                     $99 Special!! Home Away! Condo  Apartment   \n",
       "3         10730                     Bright 1bed facing Golden Dome  Apartment   \n",
       "4         10813  Back Bay Apt-blocks to subway, Newbury St, The...  Apartment   \n",
       "...         ...                                                ...        ...   \n",
       "32343  43805501  Modern Boutique Apt in S. Lake Union, Gym +Pet...  Apartment   \n",
       "32344  43807087                 Beautiful & Bright Downtown Studio  Apartment   \n",
       "32345  43807576  3 BDRM/1.75 bath Top Queen Anne home@quiet street  Apartment   \n",
       "32346  43807578                   Perfect & Bright Downtown Studio  Apartment   \n",
       "32347  43821640                 Bright and Clean in the U District  Apartment   \n",
       "\n",
       "       price  minimum_nights  number_of_reviews     city  \n",
       "0        146              28                 16   Boston  \n",
       "1        145               3                107   Boston  \n",
       "2        169               3                115   Boston  \n",
       "3         85              91                 32   Boston  \n",
       "4         87              28                 10   Boston  \n",
       "...      ...             ...                ...      ...  \n",
       "32343    109              30                  0  Seattle  \n",
       "32344    119               1                  0  Seattle  \n",
       "32345    299               1                  0  Seattle  \n",
       "32346    119               1                  0  Seattle  \n",
       "32347     85              30                  0  Seattle  \n",
       "\n",
       "[32348 rows x 7 columns]"
      ]
     },
     "execution_count": 5,
     "metadata": {},
     "output_type": "execute_result"
    }
   ],
   "source": [
    "df"
   ]
  },
  {
   "cell_type": "code",
   "execution_count": 6,
   "metadata": {},
   "outputs": [
    {
     "data": {
      "text/plain": [
       "city\n",
       "Boston      3339\n",
       "Hawaii     22434\n",
       "Seattle     6575\n",
       "Name: room_type, dtype: int64"
      ]
     },
     "execution_count": 6,
     "metadata": {},
     "output_type": "execute_result"
    }
   ],
   "source": [
    "df.groupby(['city'])['room_type'].count()"
   ]
  },
  {
   "cell_type": "code",
   "execution_count": 7,
   "metadata": {},
   "outputs": [],
   "source": [
    "sample_space = df.shape[0]"
   ]
  },
  {
   "cell_type": "code",
   "execution_count": 8,
   "metadata": {},
   "outputs": [
    {
     "data": {
      "text/plain": [
       "32348"
      ]
     },
     "execution_count": 8,
     "metadata": {},
     "output_type": "execute_result"
    }
   ],
   "source": [
    "# probabilty(boston) = 3339/ss\n",
    "sample_space"
   ]
  },
  {
   "cell_type": "code",
   "execution_count": 9,
   "metadata": {},
   "outputs": [],
   "source": [
    "grouped_df = df.groupby(['city', 'room_type'])['room_type'].count()\n",
    "airbn = pd.DataFrame({\"count\":df.groupby(['city', 'room_type'])['room_type'].count()}).reset_index()"
   ]
  },
  {
   "cell_type": "code",
   "execution_count": 10,
   "metadata": {},
   "outputs": [
    {
     "data": {
      "text/html": [
       "<div>\n",
       "<style scoped>\n",
       "    .dataframe tbody tr th:only-of-type {\n",
       "        vertical-align: middle;\n",
       "    }\n",
       "\n",
       "    .dataframe tbody tr th {\n",
       "        vertical-align: top;\n",
       "    }\n",
       "\n",
       "    .dataframe thead th {\n",
       "        text-align: right;\n",
       "    }\n",
       "</style>\n",
       "<table border=\"1\" class=\"dataframe\">\n",
       "  <thead>\n",
       "    <tr style=\"text-align: right;\">\n",
       "      <th></th>\n",
       "      <th>city</th>\n",
       "      <th>room_type</th>\n",
       "      <th>count</th>\n",
       "    </tr>\n",
       "  </thead>\n",
       "  <tbody>\n",
       "    <tr>\n",
       "      <th>0</th>\n",
       "      <td>Boston</td>\n",
       "      <td>Apartment</td>\n",
       "      <td>2163</td>\n",
       "    </tr>\n",
       "    <tr>\n",
       "      <th>1</th>\n",
       "      <td>Boston</td>\n",
       "      <td>HotelRoom</td>\n",
       "      <td>26</td>\n",
       "    </tr>\n",
       "    <tr>\n",
       "      <th>2</th>\n",
       "      <td>Boston</td>\n",
       "      <td>Private</td>\n",
       "      <td>1142</td>\n",
       "    </tr>\n",
       "    <tr>\n",
       "      <th>3</th>\n",
       "      <td>Boston</td>\n",
       "      <td>Shared</td>\n",
       "      <td>8</td>\n",
       "    </tr>\n",
       "    <tr>\n",
       "      <th>4</th>\n",
       "      <td>Hawaii</td>\n",
       "      <td>Apartment</td>\n",
       "      <td>20050</td>\n",
       "    </tr>\n",
       "    <tr>\n",
       "      <th>5</th>\n",
       "      <td>Hawaii</td>\n",
       "      <td>HotelRoom</td>\n",
       "      <td>195</td>\n",
       "    </tr>\n",
       "    <tr>\n",
       "      <th>6</th>\n",
       "      <td>Hawaii</td>\n",
       "      <td>Private</td>\n",
       "      <td>2119</td>\n",
       "    </tr>\n",
       "    <tr>\n",
       "      <th>7</th>\n",
       "      <td>Hawaii</td>\n",
       "      <td>Shared</td>\n",
       "      <td>70</td>\n",
       "    </tr>\n",
       "    <tr>\n",
       "      <th>8</th>\n",
       "      <td>Seattle</td>\n",
       "      <td>Apartment</td>\n",
       "      <td>5028</td>\n",
       "    </tr>\n",
       "    <tr>\n",
       "      <th>9</th>\n",
       "      <td>Seattle</td>\n",
       "      <td>HotelRoom</td>\n",
       "      <td>51</td>\n",
       "    </tr>\n",
       "    <tr>\n",
       "      <th>10</th>\n",
       "      <td>Seattle</td>\n",
       "      <td>Private</td>\n",
       "      <td>1399</td>\n",
       "    </tr>\n",
       "    <tr>\n",
       "      <th>11</th>\n",
       "      <td>Seattle</td>\n",
       "      <td>Shared</td>\n",
       "      <td>97</td>\n",
       "    </tr>\n",
       "  </tbody>\n",
       "</table>\n",
       "</div>"
      ],
      "text/plain": [
       "       city  room_type  count\n",
       "0    Boston  Apartment   2163\n",
       "1    Boston  HotelRoom     26\n",
       "2    Boston    Private   1142\n",
       "3    Boston     Shared      8\n",
       "4    Hawaii  Apartment  20050\n",
       "5    Hawaii  HotelRoom    195\n",
       "6    Hawaii    Private   2119\n",
       "7    Hawaii     Shared     70\n",
       "8   Seattle  Apartment   5028\n",
       "9   Seattle  HotelRoom     51\n",
       "10  Seattle    Private   1399\n",
       "11  Seattle     Shared     97"
      ]
     },
     "execution_count": 10,
     "metadata": {},
     "output_type": "execute_result"
    }
   ],
   "source": [
    "airbn"
   ]
  },
  {
   "cell_type": "code",
   "execution_count": 11,
   "metadata": {},
   "outputs": [],
   "source": [
    "apartment = airbn[airbn['room_type']==\"Apartment\"]['count'].sum()"
   ]
  },
  {
   "cell_type": "code",
   "execution_count": 12,
   "metadata": {},
   "outputs": [
    {
     "data": {
      "text/plain": [
       "0.8421231606281687"
      ]
     },
     "execution_count": 12,
     "metadata": {},
     "output_type": "execute_result"
    }
   ],
   "source": [
    "# probbailty getting an appartment\n",
    "apartment/sample_space"
   ]
  },
  {
   "cell_type": "code",
   "execution_count": 18,
   "metadata": {},
   "outputs": [
    {
     "name": "stdout",
     "output_type": "stream",
     "text": [
      "Probability of getting an Apartment in Seattle: 0.203\n",
      "Probability of finding a room in Seattle: 8    0.155435\n",
      "Name: count, dtype: float64\n"
     ]
    }
   ],
   "source": [
    "# prob getting an appartment in seatle. (sample_space= 32348)\n",
    "\n",
    "# rooms in seattle\n",
    "room_in_seatle = airbn[airbn['city']=='Seattle']['count'].sum()\n",
    "\n",
    "# p(room in seattle)\n",
    "prob_room_in_seattle = round(room_in_seatle/sample_space,3)\n",
    "\n",
    "\n",
    "# apartments in seattle\n",
    "apartment_in_seattle = airbn[(airbn['city'] == 'Seattle') & (airbn['room_type'] == 'Apartment')]['count']\n",
    "prob_apartment_in_seattle = apartment_in_seattle/sample_space\n",
    "\n",
    "print(\"Probability of getting an Apartment in Seattle:\", prob_room_in_seattle)\n",
    "print(\"Probability of finding a room in Seattle:\", prob_apartment_in_seattle)\n"
   ]
  },
  {
   "cell_type": "code",
   "execution_count": 17,
   "metadata": {},
   "outputs": [
    {
     "name": "stdout",
     "output_type": "stream",
     "text": [
      "Probability of getting an Apartment in Boston: 0.103\n",
      "Probability of finding a room in Boston: 0    0.066867\n",
      "Name: count, dtype: float64\n"
     ]
    }
   ],
   "source": [
    "# prob getting an appartment in seatle. (sample_space= 32348)\n",
    "\n",
    "# rooms in seattle\n",
    "room_in_boston = airbn[airbn['city']=='Boston']['count'].sum()\n",
    "\n",
    "# p(room in seattle)\n",
    "prob_room_in_boston = round(room_in_boston/sample_space,3)\n",
    "\n",
    "\n",
    "# apartments in seattle\n",
    "apartment_in_boston = airbn[(airbn['city'] == 'Boston') & (airbn['room_type'] == 'Apartment')]['count']\n",
    "\n",
    "# Probability of getting an Apartment in Seattle\n",
    "prob_apartment_in_boston = apartment_in_boston/ sample_space\n",
    "\n",
    "print(\"Probability of getting an Apartment in Boston:\", prob_room_in_boston)\n",
    "print(\"Probability of finding a room in Boston:\", prob_apartment_in_boston)"
   ]
  },
  {
   "cell_type": "code",
   "execution_count": 24,
   "metadata": {},
   "outputs": [
    {
     "name": "stdout",
     "output_type": "stream",
     "text": [
      "Probability of Any Room: 8087.0000\n",
      "Probability of An Apartment: 0.8421\n"
     ]
    },
    {
     "ename": "TypeError",
     "evalue": "unsupported format string passed to Series.__format__",
     "output_type": "error",
     "traceback": [
      "\u001b[1;31m---------------------------------------------------------------------------\u001b[0m",
      "\u001b[1;31mTypeError\u001b[0m                                 Traceback (most recent call last)",
      "Input \u001b[1;32mIn [24]\u001b[0m, in \u001b[0;36m<cell line: 26>\u001b[1;34m()\u001b[0m\n\u001b[0;32m     24\u001b[0m \u001b[38;5;28mprint\u001b[39m(\u001b[38;5;124mf\u001b[39m\u001b[38;5;124m\"\u001b[39m\u001b[38;5;124mProbability of Any Room: \u001b[39m\u001b[38;5;132;01m{\u001b[39;00mprob_any_room\u001b[38;5;132;01m:\u001b[39;00m\u001b[38;5;124m.4f\u001b[39m\u001b[38;5;132;01m}\u001b[39;00m\u001b[38;5;124m\"\u001b[39m)\n\u001b[0;32m     25\u001b[0m \u001b[38;5;28mprint\u001b[39m(\u001b[38;5;124mf\u001b[39m\u001b[38;5;124m\"\u001b[39m\u001b[38;5;124mProbability of An Apartment: \u001b[39m\u001b[38;5;132;01m{\u001b[39;00mprob_apartment\u001b[38;5;132;01m:\u001b[39;00m\u001b[38;5;124m.4f\u001b[39m\u001b[38;5;132;01m}\u001b[39;00m\u001b[38;5;124m\"\u001b[39m)\n\u001b[1;32m---> 26\u001b[0m \u001b[38;5;28mprint\u001b[39m(\u001b[38;5;124mf\u001b[39m\u001b[38;5;124m\"\u001b[39m\u001b[38;5;124mProbability of An Apartment in Boston: \u001b[39m\u001b[38;5;132;01m{\u001b[39;00mprob_apartment_boston\u001b[38;5;132;01m:\u001b[39;00m\u001b[38;5;124m.4f\u001b[39m\u001b[38;5;132;01m}\u001b[39;00m\u001b[38;5;124m\"\u001b[39m)\n\u001b[0;32m     27\u001b[0m \u001b[38;5;28mprint\u001b[39m(\u001b[38;5;124mf\u001b[39m\u001b[38;5;124m\"\u001b[39m\u001b[38;5;124mProbability of An Apartment in Hawaii: \u001b[39m\u001b[38;5;132;01m{\u001b[39;00mprob_apartment_hawaii\u001b[38;5;132;01m:\u001b[39;00m\u001b[38;5;124m.4f\u001b[39m\u001b[38;5;132;01m}\u001b[39;00m\u001b[38;5;124m\"\u001b[39m)\n\u001b[0;32m     28\u001b[0m \u001b[38;5;28mprint\u001b[39m(\u001b[38;5;124mf\u001b[39m\u001b[38;5;124m\"\u001b[39m\u001b[38;5;124mProbability of An Apartment in Seattle: \u001b[39m\u001b[38;5;132;01m{\u001b[39;00mprob_apartment_seattle\u001b[38;5;132;01m:\u001b[39;00m\u001b[38;5;124m.4f\u001b[39m\u001b[38;5;132;01m}\u001b[39;00m\u001b[38;5;124m\"\u001b[39m)\n",
      "\u001b[1;31mTypeError\u001b[0m: unsupported format string passed to Series.__format__"
     ]
    }
   ],
   "source": [
    "# Total count of all rooms\n",
    "total_rooms = sample_space\n",
    "\n",
    "# Count of apartments\n",
    "count_apartments = airbn[airbn['room_type'] == 'Apartment']['count'].sum()\n",
    "\n",
    "# Count of apartments in Boston\n",
    "count_apartments_boston = airbn[(airbn['city'] == 'Boston') & (airbn['room_type'] == 'Apartment')]['count']\n",
    "\n",
    "# Count of apartments in Hawaii\n",
    "count_apartments_hawaii = airbn[(airbn['city'] == 'Hawaii') & (airbn['room_type'] == 'Apartment')]['count']\n",
    "\n",
    "# Count of apartments in Seattle\n",
    "count_apartments_seattle = airbn[(airbn['city'] == 'Seattle') & (airbn['room_type'] == 'Apartment')]['count']\n",
    "\n",
    "# Calculate probabilities\n",
    "prob_any_room = total_rooms / len(['Apartment', 'Share', 'Hotel', 'Private'])\n",
    "prob_apartment = count_apartments / total_rooms\n",
    "prob_apartment_boston = count_apartments_boston / total_rooms\n",
    "prob_apartment_hawaii = count_apartments_hawaii / total_rooms\n",
    "prob_apartment_seattle = count_apartments_seattle / total_rooms\n",
    "\n",
    "# Print the probabilities\n",
    "print(f\"Probability of Any Room: {prob_any_room:.4f}\")\n",
    "print(f\"Probability of An Apartment: {prob_apartment:.4f}\")\n",
    "print(f\"Probability of An Apartment in Boston: {prob_apartment_boston:.4f}\")\n",
    "print(f\"Probability of An Apartment in Hawaii: {prob_apartment_hawaii:.4f}\")\n",
    "print(f\"Probability of An Apartment in Seattle: {prob_apartment_seattle:.4f}\")"
   ]
  },
  {
   "cell_type": "code",
   "execution_count": 20,
   "metadata": {},
   "outputs": [
    {
     "data": {
      "text/plain": [
       "1"
      ]
     },
     "execution_count": 20,
     "metadata": {},
     "output_type": "execute_result"
    }
   ],
   "source": [
    "count_apartments_seattle"
   ]
  }
 ],
 "metadata": {
  "kernelspec": {
   "display_name": "Python 3",
   "language": "python",
   "name": "python3"
  },
  "language_info": {
   "codemirror_mode": {
    "name": "ipython",
    "version": 3
   },
   "file_extension": ".py",
   "mimetype": "text/x-python",
   "name": "python",
   "nbconvert_exporter": "python",
   "pygments_lexer": "ipython3",
   "version": "3.10.5"
  }
 },
 "nbformat": 4,
 "nbformat_minor": 2
}
