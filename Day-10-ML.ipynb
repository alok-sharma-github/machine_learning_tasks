{
 "cells": [
  {
   "cell_type": "code",
   "execution_count": 9,
   "metadata": {},
   "outputs": [
    {
     "name": "stdout",
     "output_type": "stream",
     "text": [
      "Equation of the line: y = 0.04753664043301972x + 7.032593549127696\n",
      "R-squared error: 0.611875050850071\n"
     ]
    },
    {
     "data": {
      "image/png": "[encoded data removed]",
      "text/plain": [
       "<Figure size 432x288 with 1 Axes>"
      ]
     },
     "metadata": {
      "needs_background": "light"
     },
     "output_type": "display_data"
    }
   ],
   "source": [
    "import numpy as np\n",
    "import matplotlib.pyplot as plt\n",
    "\n",
    "path = \"C:\\\\Users\\\\alok\\\\Desktop\\\\Inzint\\\\datasets\\\\Advertising.csv\"\n",
    "import pandas as pd\n",
    "df = pd.read_csv(path)\n",
    "\n",
    "\n",
    "# Sample data\n",
    "x = df.TV\n",
    "y = df.sales\n",
    "\n",
    "slope, intercept = np.polyfit(x, y, 1) # polynomial fn with degree 1\n",
    "\n",
    "# equation of the line\n",
    "line = slope * x + intercept\n",
    "# equation of the line\n",
    "equation = f\"y = {slope}x + {intercept}\"  # Format the equation\n",
    "print(\"Equation of the line:\", equation)\n",
    "\n",
    "# R-squared error\n",
    "y_mean = np.mean(y)\n",
    "SS_tot = np.sum((y - y_mean) ** 2) # total sum of squares\n",
    "SS_res = np.sum((y - (slope * x + intercept)) ** 2) # residual sum of squares\n",
    "r_squared = 1 - (SS_res / SS_tot)\n",
    "\n",
    "print(\"R-squared error:\", r_squared)\n",
    "\n",
    "# Plot the original\n",
    "plt.scatter(x, y, label='Data')\n",
    "\n",
    "# linear regression line\n",
    "plt.plot(x, line, color='red', label='Linear Regression')\n",
    "\n",
    "# Add labels and legend\n",
    "plt.xlabel('X')\n",
    "plt.ylabel('Y')\n",
    "plt.title('Linear Regression')\n",
    "plt.legend()\n",
    "\n",
    "# Show plot\n",
    "plt.grid(True)\n",
    "plt.show()\n"
   ]
  },
  {
   "cell_type": "code",
   "execution_count": 10,
   "metadata": {},
   "outputs": [
    {
     "name": "stdout",
     "output_type": "stream",
     "text": [
      "Predicted sales for $200k TV advertising: 16.53992163573164\n"
     ]
    }
   ],
   "source": [
    "# new value advertising\n",
    "new_tv_advertising = 200\n",
    "\n",
    "# equation to make a prediction\n",
    "predicted_sales = slope * new_tv_advertising + intercept\n",
    "\n",
    "print(\"Predicted sales for $200k TV advertising:\", predicted_sales)"
   ]
  },
  {
   "cell_type": "markdown",
   "metadata": {},
   "source": [
    "# Sk Learn"
   ]
  },
  {
   "cell_type": "code",
   "execution_count": 11,
   "metadata": {},
   "outputs": [
    {
     "name": "stdout",
     "output_type": "stream",
     "text": [
      "Predicted sales for $200k TV advertising: 16.425585171681625\n"
     ]
    },
    {
     "name": "stderr",
     "output_type": "stream",
     "text": [
      "c:\\Users\\alok\\AppData\\Local\\Programs\\Python\\Python310\\lib\\site-packages\\sklearn\\base.py:420: UserWarning: X does not have valid feature names, but LinearRegression was fitted with feature names\n",
      "  warnings.warn(\n"
     ]
    }
   ],
   "source": [
    "from sklearn.linear_model import LinearRegression\n",
    "from sklearn.model_selection import train_test_split\n",
    "\n",
    "X = df[['TV']]\n",
    "y = df['sales']\n",
    "\n",
    "# Split\n",
    "X_train, X_test, y_train, y_test = train_test_split(X, y, test_size=0.2, random_state=42)\n",
    "\n",
    "\n",
    "model = LinearRegression()\n",
    "model.fit(X_train, y_train)\n",
    "\n",
    "'''# new value for TV advertising\n",
    "new_tv_advertising = [[200]]  \n",
    "\n",
    "# make predictions\n",
    "predicted_sales = model.predict(new_tv_advertising)\n",
    "\n",
    "print(\"Predicted sales for $200k TV advertising:\", predicted_sales[0])'''"
   ]
  },
  {
   "cell_type": "code",
   "execution_count": 24,
   "metadata": {},
   "outputs": [
    {
     "name": "stdout",
     "output_type": "stream",
     "text": [
      "Training set score: 0.5911667812043272\n",
      "Test set score: 0.6766954295627076\n"
     ]
    }
   ],
   "source": [
    "train_score = model.score(X_train, y_train)\n",
    "test_score = model.score(X_test, y_test)\n",
    "y_pred = model.predict(X_train)\n",
    "\n",
    "\n",
    "# Print the predicted values\n",
    "print(\"Training set score:\", train_score)\n",
    "print(\"Test set score:\", test_score)\n"
   ]
  },
  {
   "cell_type": "code",
   "execution_count": 25,
   "metadata": {},
   "outputs": [
    {
     "data": {
      "text/plain": [
       "array([12.51708754, 15.3554013 ,  9.12506995, 10.01844084, 17.54229878,\n",
       "        8.89707426, 10.40463763, 13.97346821, 11.98664858, 10.66985711,\n",
       "       10.75826361, 14.95524559,  7.52444711,  7.48257035, 10.67451009,\n",
       "       13.14058597, 10.53492088, 20.59930229,  8.03162121, 16.31391381,\n",
       "       20.34804172, 15.72298619, 12.37284537,  8.22704609, 20.64583202,\n",
       "        8.02231526, 20.78076825,  7.98974445, 13.36858167,  8.31079961,\n",
       "       11.79122369, 10.85132307, 15.88584026, 15.3554013 , 12.96842596,\n",
       "       16.87227062, 13.76873738, 15.72298619, 17.46785121, 18.36587507,\n",
       "        7.91994985, 12.72647134, 11.29335554, 16.01147054, 10.63263333,\n",
       "       16.10918298, 11.10723661, 19.53842436,  8.95756291, 19.27785785,\n",
       "        7.73383092, 16.13244785, 20.9110515 , 19.4779357 , 17.10957226,\n",
       "       14.08513957, 13.24760436,  9.79509812, 18.29142749, 13.6942898 ,\n",
       "       15.53221428, 11.64232855, 17.37944471, 13.64776007, 19.00333242,\n",
       "       11.59579881, 10.19525383, 18.25420371, 15.29491264, 18.29142749,\n",
       "        7.95252066, 17.82613016, 20.31547091, 15.09018181, 16.38370841,\n",
       "       12.84744865, 13.21968652,  8.28753475, 14.72724989, 18.69623618,\n",
       "       16.54190951,  7.72917794,  7.31041034, 11.48878043, 19.35230542,\n",
       "       17.74237664, 18.92888485, 18.43566967, 18.27746857, 17.72841772,\n",
       "       17.14214307, 18.28212155, 12.11693183, 15.85792242, 16.74664033,\n",
       "        9.12041698, 14.16889309, 13.53608871, 15.61596781, 17.3468739 ,\n",
       "       14.40619473, 19.99441575, 16.65823384, 10.23247762, 10.67451009,\n",
       "       11.57253395, 12.71251242, 17.6260523 ,  8.45038881, 10.30227222,\n",
       "       18.67762428, 17.28638525, 12.22860319,  7.51979414, 11.65628747,\n",
       "       16.92345332, 14.77377963, 19.45932381, 20.2131055 ,  8.36663529,\n",
       "       20.00372169,  8.8365856 , 16.74198736, 20.50158984, 11.89824208,\n",
       "       19.34299948, 11.32592636, 16.41627922, 11.50273935, 16.9281063 ,\n",
       "       17.69119393, 11.22821392, 18.16579721, 13.45698816, 15.14601749,\n",
       "        7.91994985,  9.89281056, 10.59540954, 14.08979254, 14.88079801,\n",
       "        9.19021158, 17.1886728 ,  9.19951753,  7.15220924, 12.74973621,\n",
       "       15.86257539, 13.41045843, 13.59657736, 12.27047995, 17.0490836 ,\n",
       "        7.99439742, 17.91918962, 17.28173227, 20.42714227, 12.22860319,\n",
       "        8.28288177, 16.61635708, 17.24916146, 14.82496233, 20.15726981])"
      ]
     },
     "execution_count": 25,
     "metadata": {},
     "output_type": "execute_result"
    }
   ],
   "source": [
    "y_pred"
   ]
  },
  {
   "cell_type": "code",
   "execution_count": 26,
   "metadata": {},
   "outputs": [],
   "source": [
    "\n",
    "train_pred = pd.DataFrame({'Actual': y_train, 'Predicted': y_pred})\n"
   ]
  },
  {
   "cell_type": "code",
   "execution_count": 27,
   "metadata": {},
   "outputs": [
    {
     "data": {
      "text/html": [
       "<div>\n",
       "<style scoped>\n",
       "    .dataframe tbody tr th:only-of-type {\n",
       "        vertical-align: middle;\n",
       "    }\n",
       "\n",
       "    .dataframe tbody tr th {\n",
       "        vertical-align: top;\n",
       "    }\n",
       "\n",
       "    .dataframe thead th {\n",
       "        text-align: right;\n",
       "    }\n",
       "</style>\n",
       "<table border=\"1\" class=\"dataframe\">\n",
       "  <thead>\n",
       "    <tr style=\"text-align: right;\">\n",
       "      <th></th>\n",
       "      <th>Actual</th>\n",
       "      <th>Predicted</th>\n",
       "    </tr>\n",
       "  </thead>\n",
       "  <tbody>\n",
       "    <tr>\n",
       "      <th>79</th>\n",
       "      <td>11.0</td>\n",
       "      <td>12.517088</td>\n",
       "    </tr>\n",
       "    <tr>\n",
       "      <th>197</th>\n",
       "      <td>12.8</td>\n",
       "      <td>15.355401</td>\n",
       "    </tr>\n",
       "    <tr>\n",
       "      <th>38</th>\n",
       "      <td>10.1</td>\n",
       "      <td>9.125070</td>\n",
       "    </tr>\n",
       "    <tr>\n",
       "      <th>24</th>\n",
       "      <td>9.7</td>\n",
       "      <td>10.018441</td>\n",
       "    </tr>\n",
       "    <tr>\n",
       "      <th>122</th>\n",
       "      <td>11.6</td>\n",
       "      <td>17.542299</td>\n",
       "    </tr>\n",
       "    <tr>\n",
       "      <th>...</th>\n",
       "      <td>...</td>\n",
       "      <td>...</td>\n",
       "    </tr>\n",
       "    <tr>\n",
       "      <th>106</th>\n",
       "      <td>7.2</td>\n",
       "      <td>8.282882</td>\n",
       "    </tr>\n",
       "    <tr>\n",
       "      <th>14</th>\n",
       "      <td>19.0</td>\n",
       "      <td>16.616357</td>\n",
       "    </tr>\n",
       "    <tr>\n",
       "      <th>92</th>\n",
       "      <td>19.4</td>\n",
       "      <td>17.249161</td>\n",
       "    </tr>\n",
       "    <tr>\n",
       "      <th>179</th>\n",
       "      <td>12.6</td>\n",
       "      <td>14.824962</td>\n",
       "    </tr>\n",
       "    <tr>\n",
       "      <th>102</th>\n",
       "      <td>14.8</td>\n",
       "      <td>20.157270</td>\n",
       "    </tr>\n",
       "  </tbody>\n",
       "</table>\n",
       "<p>160 rows × 2 columns</p>\n",
       "</div>"
      ],
      "text/plain": [
       "     Actual  Predicted\n",
       "79     11.0  12.517088\n",
       "197    12.8  15.355401\n",
       "38     10.1   9.125070\n",
       "24      9.7  10.018441\n",
       "122    11.6  17.542299\n",
       "..      ...        ...\n",
       "106     7.2   8.282882\n",
       "14     19.0  16.616357\n",
       "92     19.4  17.249161\n",
       "179    12.6  14.824962\n",
       "102    14.8  20.157270\n",
       "\n",
       "[160 rows x 2 columns]"
      ]
     },
     "execution_count": 27,
     "metadata": {},
     "output_type": "execute_result"
    }
   ],
   "source": [
    "train_pred"
   ]
  },
  {
   "cell_type": "code",
   "execution_count": 29,
   "metadata": {},
   "outputs": [
    {
     "name": "stdout",
     "output_type": "stream",
     "text": [
      "Equation of the line: y = 0.591166781204327x + 5.764548385018981\n"
     ]
    },
    {
     "data": {
      "text/plain": [
       "<matplotlib.legend.Legend at 0x23c87cb0e80>"
      ]
     },
     "execution_count": 29,
     "metadata": {},
     "output_type": "execute_result"
    },
    {
     "data": {
      "image/png": "[encoded data removed]",
      "text/plain": [
       "<Figure size 432x288 with 1 Axes>"
      ]
     },
     "metadata": {
      "needs_background": "light"
     },
     "output_type": "display_data"
    }
   ],
   "source": [
    "# Sample data\n",
    "x = train_pred.Actual\n",
    "y = train_pred.Predicted\n",
    "\n",
    "slope, intercept = np.polyfit(x, y, 1) # polynomial fn with degree 1\n",
    "\n",
    "# equation of the line\n",
    "line = slope * x + intercept\n",
    "# equation of the line\n",
    "equation = f\"y = {slope}x + {intercept}\"  # Format the equation\n",
    "print(\"Equation of the line:\", equation)\n",
    "\n",
    "\n",
    "# Plot the original\n",
    "plt.scatter(x, y, label='Data')\n",
    "\n",
    "# linear regression line\n",
    "plt.plot(x, line, color='red', label='Linear Regression')\n",
    "\n",
    "# Add labels and legend\n",
    "plt.xlabel('X')\n",
    "plt.ylabel('Y')\n",
    "plt.title('Linear Regression')\n",
    "plt.legend()\n"
   ]
  },
  {
   "cell_type": "code",
   "execution_count": 30,
   "metadata": {},
   "outputs": [
    {
     "data": {
      "text/plain": [
       "<matplotlib.legend.Legend at 0x23c87cb3be0>"
      ]
     },
     "execution_count": 30,
     "metadata": {},
     "output_type": "execute_result"
    },
    {
     "data": {
      "image/png": "[encoded data removed]",
      "text/plain": [
       "<Figure size 432x288 with 1 Axes>"
      ]
     },
     "metadata": {
      "needs_background": "light"
     },
     "output_type": "display_data"
    }
   ],
   "source": [
    "# Plot the original\n",
    "plt.scatter(X_train, y_train, label='Data')\n",
    "\n",
    "# linear regression line\n",
    "plt.plot(X_train, y_pred, color='red', label='Linear Regression')\n",
    "\n",
    "# Add labels and legend\n",
    "plt.xlabel('X')\n",
    "plt.ylabel('Y')\n",
    "plt.title('Linear Regression')\n",
    "plt.legend()"
   ]
  },
  {
   "cell_type": "code",
   "execution_count": 34,
   "metadata": {},
   "outputs": [
    {
     "data": {
      "text/plain": [
       "<matplotlib.legend.Legend at 0x23c8a69eef0>"
      ]
     },
     "execution_count": 34,
     "metadata": {},
     "output_type": "execute_result"
    },
    {
     "data": {
      "image/png": "[encoded data removed]",
      "text/plain": [
       "<Figure size 432x288 with 1 Axes>"
      ]
     },
     "metadata": {
      "needs_background": "light"
     },
     "output_type": "display_data"
    }
   ],
   "source": [
    "# Plot the original\n",
    "plt.scatter(train_pred[\"Actual\"], train_pred['Predicted'], label='Data', c= \"pink\")\n",
    "\n",
    "\n",
    "\n",
    "# Add labels and legend\n",
    "plt.xlabel('X')\n",
    "plt.ylabel('Y')\n",
    "plt.title('Linear Regression')\n",
    "plt.legend()"
   ]
  },
  {
   "cell_type": "markdown",
   "metadata": {},
   "source": [
    "# Student"
   ]
  },
  {
   "cell_type": "code",
   "execution_count": 35,
   "metadata": {},
   "outputs": [],
   "source": [
    "path = \"C:\\\\Users\\\\alok\\\\Desktop\\\\Inzint\\\\datasets\\\\student.csv\"\n",
    "df= pd.read_csv(path)"
   ]
  },
  {
   "cell_type": "code",
   "execution_count": 36,
   "metadata": {},
   "outputs": [
    {
     "data": {
      "text/html": [
       "<div>\n",
       "<style scoped>\n",
       "    .dataframe tbody tr th:only-of-type {\n",
       "        vertical-align: middle;\n",
       "    }\n",
       "\n",
       "    .dataframe tbody tr th {\n",
       "        vertical-align: top;\n",
       "    }\n",
       "\n",
       "    .dataframe thead th {\n",
       "        text-align: right;\n",
       "    }\n",
       "</style>\n",
       "<table border=\"1\" class=\"dataframe\">\n",
       "  <thead>\n",
       "    <tr style=\"text-align: right;\">\n",
       "      <th></th>\n",
       "      <th>Math</th>\n",
       "      <th>Statistics</th>\n",
       "      <th>Physics</th>\n",
       "    </tr>\n",
       "  </thead>\n",
       "  <tbody>\n",
       "    <tr>\n",
       "      <th>0</th>\n",
       "      <td>48</td>\n",
       "      <td>68</td>\n",
       "      <td>63</td>\n",
       "    </tr>\n",
       "    <tr>\n",
       "      <th>1</th>\n",
       "      <td>62</td>\n",
       "      <td>81</td>\n",
       "      <td>72</td>\n",
       "    </tr>\n",
       "    <tr>\n",
       "      <th>2</th>\n",
       "      <td>79</td>\n",
       "      <td>80</td>\n",
       "      <td>78</td>\n",
       "    </tr>\n",
       "    <tr>\n",
       "      <th>3</th>\n",
       "      <td>76</td>\n",
       "      <td>83</td>\n",
       "      <td>79</td>\n",
       "    </tr>\n",
       "    <tr>\n",
       "      <th>4</th>\n",
       "      <td>59</td>\n",
       "      <td>64</td>\n",
       "      <td>62</td>\n",
       "    </tr>\n",
       "    <tr>\n",
       "      <th>...</th>\n",
       "      <td>...</td>\n",
       "      <td>...</td>\n",
       "      <td>...</td>\n",
       "    </tr>\n",
       "    <tr>\n",
       "      <th>995</th>\n",
       "      <td>72</td>\n",
       "      <td>74</td>\n",
       "      <td>70</td>\n",
       "    </tr>\n",
       "    <tr>\n",
       "      <th>996</th>\n",
       "      <td>73</td>\n",
       "      <td>86</td>\n",
       "      <td>90</td>\n",
       "    </tr>\n",
       "    <tr>\n",
       "      <th>997</th>\n",
       "      <td>89</td>\n",
       "      <td>87</td>\n",
       "      <td>94</td>\n",
       "    </tr>\n",
       "    <tr>\n",
       "      <th>998</th>\n",
       "      <td>83</td>\n",
       "      <td>82</td>\n",
       "      <td>78</td>\n",
       "    </tr>\n",
       "    <tr>\n",
       "      <th>999</th>\n",
       "      <td>66</td>\n",
       "      <td>66</td>\n",
       "      <td>72</td>\n",
       "    </tr>\n",
       "  </tbody>\n",
       "</table>\n",
       "<p>1000 rows × 3 columns</p>\n",
       "</div>"
      ],
      "text/plain": [
       "     Math  Statistics  Physics\n",
       "0      48          68       63\n",
       "1      62          81       72\n",
       "2      79          80       78\n",
       "3      76          83       79\n",
       "4      59          64       62\n",
       "..    ...         ...      ...\n",
       "995    72          74       70\n",
       "996    73          86       90\n",
       "997    89          87       94\n",
       "998    83          82       78\n",
       "999    66          66       72\n",
       "\n",
       "[1000 rows x 3 columns]"
      ]
     },
     "execution_count": 36,
     "metadata": {},
     "output_type": "execute_result"
    }
   ],
   "source": [
    "df"
   ]
  },
  {
   "cell_type": "code",
   "execution_count": 38,
   "metadata": {},
   "outputs": [
    {
     "name": "stdout",
     "output_type": "stream",
     "text": [
      "R-squared: 0.9084155129001201\n",
      "Coefficients: [0.09212476 0.91363985]\n",
      "Intercept: -1.5389274197073348\n"
     ]
    },
    {
     "data": {
      "image/png": "[encoded data removed]",
      "text/plain": [
       "<Figure size 432x288 with 1 Axes>"
      ]
     },
     "metadata": {
      "needs_background": "light"
     },
     "output_type": "display_data"
    }
   ],
   "source": [
    "from sklearn.metrics import r2_score\n",
    "\n",
    "dep_col = ['Math', 'Statistics']\n",
    "X = df[dep_col] \n",
    "y = df['Physics']     \n",
    "\n",
    "X_train, X_test, y_train, y_test = train_test_split(X, y, test_size=0.2, random_state=42)\n",
    "\n",
    "model = LinearRegression()\n",
    "\n",
    "model.fit(X_train, y_train)\n",
    "\n",
    "y_pred = model.predict(X_test)\n",
    "\n",
    "r_squared = r2_score(y_test, y_pred)\n",
    "\n",
    "coefficients = model.coef_\n",
    "intercept = model.intercept_\n",
    "\n",
    "print(\"R-squared:\", r_squared)\n",
    "print(\"Coefficients:\", coefficients)\n",
    "print(\"Intercept:\", intercept)\n",
    "\n",
    "# Plot actual vs predicted\n",
    "plt.scatter(y_test, y_pred)\n",
    "plt.xlabel(\"Actual\")\n",
    "plt.ylabel(\"Predicted\")\n",
    "plt.title(\"Actual vs Predicted\")\n",
    "plt.show()"
   ]
  },
  {
   "cell_type": "code",
   "execution_count": 39,
   "metadata": {},
   "outputs": [
    {
     "data": {
      "image/png": "[encoded data removed]",
      "text/plain": [
       "<Figure size 432x288 with 1 Axes>"
      ]
     },
     "metadata": {
      "needs_background": "light"
     },
     "output_type": "display_data"
    }
   ],
   "source": [
    "plt.scatter(y_test, y_test, color='blue', label='Actual')  \n",
    "plt.scatter(y_test, y_pred, color='red', label='Predicted')\n",
    "plt.xlabel(\"Actual\")\n",
    "plt.ylabel(\"Predicted\")\n",
    "plt.title(\"Actual vs Predicted\")\n",
    "plt.show()"
   ]
  },
  {
   "cell_type": "code",
   "execution_count": 41,
   "metadata": {},
   "outputs": [
    {
     "data": {
      "application/vnd.plotly.v1+json": {
       "config": {
        "plotlyServerURL": "https://plot.ly"
       },
       "data": [
        {
         "hovertemplate": "Type=Actual<br>Actual Value=%{x}<br>Predicted Value=%{z}<extra></extra>",
         "legendgroup": "Actual",
         "marker": {
          "color": "#636efa",
          "symbol": "circle"
         },
         "mode": "markers",
         "name": "Actual",
         "scene": "scene",
         "showlegend": true,
         "type": "scatter3d",
         "x": [
          69,
          41,
          57,
          56,
          88,
          70,
          100,
          40,
          58,
          82,
          81,
          62,
          63,
          53,
          59,
          50,
          65,
          62,
          89,
          62,
          78,
          70,
          62,
          74,
          57,
          84,
          51,
          57,
          82,
          50,
          96,
          76,
          32,
          56,
          83,
          78,
          96,
          91,
          68,
          78,
          87,
          60,
          67,
          74,
          57,
          86,
          77,
          77,
          39,
          79,
          48,
          72,
          62,
          74,
          49,
          74,
          39,
          64,
          75,
          84,
          46,
          50,
          67,
          58,
          52,
          91,
          100,
          65,
          60,
          87,
          49,
          100,
          62,
          88,
          62,
          53,
          78,
          46,
          71,
          55,
          73,
          73,
          64,
          83,
          74,
          82,
          78,
          63,
          63,
          74,
          71,
          67,
          59,
          57,
          21,
          90,
          80,
          81,
          78,
          67,
          74,
          33,
          87,
          27,
          95,
          82,
          67,
          69,
          73,
          57,
          75,
          92,
          74,
          74,
          89,
          82,
          67,
          62,
          100,
          51,
          63,
          100,
          81,
          61,
          42,
          47,
          52,
          84,
          73,
          62,
          67,
          89,
          76,
          70,
          55,
          44,
          73,
          99,
          83,
          48,
          72,
          31,
          81,
          53,
          74,
          61,
          59,
          63,
          52,
          69,
          63,
          59,
          85,
          94,
          77,
          43,
          77,
          59,
          58,
          93,
          75,
          72,
          82,
          94,
          48,
          56,
          77,
          77,
          75,
          56,
          82,
          64,
          71,
          87,
          39,
          45,
          86,
          66,
          69,
          85,
          80,
          50,
          78,
          72,
          41,
          79,
          34,
          62,
          75,
          71,
          58,
          62,
          62,
          76,
          63,
          67,
          74,
          84,
          80,
          74
         ],
         "y": [
          69,
          41,
          57,
          56,
          88,
          70,
          100,
          40,
          58,
          82,
          81,
          62,
          63,
          53,
          59,
          50,
          65,
          62,
          89,
          62,
          78,
          70,
          62,
          74,
          57,
          84,
          51,
          57,
          82,
          50,
          96,
          76,
          32,
          56,
          83,
          78,
          96,
          91,
          68,
          78,
          87,
          60,
          67,
          74,
          57,
          86,
          77,
          77,
          39,
          79,
          48,
          72,
          62,
          74,
          49,
          74,
          39,
          64,
          75,
          84,
          46,
          50,
          67,
          58,
          52,
          91,
          100,
          65,
          60,
          87,
          49,
          100,
          62,
          88,
          62,
          53,
          78,
          46,
          71,
          55,
          73,
          73,
          64,
          83,
          74,
          82,
          78,
          63,
          63,
          74,
          71,
          67,
          59,
          57,
          21,
          90,
          80,
          81,
          78,
          67,
          74,
          33,
          87,
          27,
          95,
          82,
          67,
          69,
          73,
          57,
          75,
          92,
          74,
          74,
          89,
          82,
          67,
          62,
          100,
          51,
          63,
          100,
          81,
          61,
          42,
          47,
          52,
          84,
          73,
          62,
          67,
          89,
          76,
          70,
          55,
          44,
          73,
          99,
          83,
          48,
          72,
          31,
          81,
          53,
          74,
          61,
          59,
          63,
          52,
          69,
          63,
          59,
          85,
          94,
          77,
          43,
          77,
          59,
          58,
          93,
          75,
          72,
          82,
          94,
          48,
          56,
          77,
          77,
          75,
          56,
          82,
          64,
          71,
          87,
          39,
          45,
          86,
          66,
          69,
          85,
          80,
          50,
          78,
          72,
          41,
          79,
          34,
          62,
          75,
          71,
          58,
          62,
          62,
          76,
          63,
          67,
          74,
          84,
          80,
          74
         ],
         "z": [
          69,
          41,
          57,
          56,
          88,
          70,
          100,
          40,
          58,
          82,
          81,
          62,
          63,
          53,
          59,
          50,
          65,
          62,
          89,
          62,
          78,
          70,
          62,
          74,
          57,
          84,
          51,
          57,
          82,
          50,
          96,
          76,
          32,
          56,
          83,
          78,
          96,
          91,
          68,
          78,
          87,
          60,
          67,
          74,
          57,
          86,
          77,
          77,
          39,
          79,
          48,
          72,
          62,
          74,
          49,
          74,
          39,
          64,
          75,
          84,
          46,
          50,
          67,
          58,
          52,
          91,
          100,
          65,
          60,
          87,
          49,
          100,
          62,
          88,
          62,
          53,
          78,
          46,
          71,
          55,
          73,
          73,
          64,
          83,
          74,
          82,
          78,
          63,
          63,
          74,
          71,
          67,
          59,
          57,
          21,
          90,
          80,
          81,
          78,
          67,
          74,
          33,
          87,
          27,
          95,
          82,
          67,
          69,
          73,
          57,
          75,
          92,
          74,
          74,
          89,
          82,
          67,
          62,
          100,
          51,
          63,
          100,
          81,
          61,
          42,
          47,
          52,
          84,
          73,
          62,
          67,
          89,
          76,
          70,
          55,
          44,
          73,
          99,
          83,
          48,
          72,
          31,
          81,
          53,
          74,
          61,
          59,
          63,
          52,
          69,
          63,
          59,
          85,
          94,
          77,
          43,
          77,
          59,
          58,
          93,
          75,
          72,
          82,
          94,
          48,
          56,
          77,
          77,
          75,
          56,
          82,
          64,
          71,
          87,
          39,
          45,
          86,
          66,
          69,
          85,
          80,
          50,
          78,
          72,
          41,
          79,
          34,
          62,
          75,
          71,
          58,
          62,
          62,
          76,
          63,
          67,
          74,
          84,
          80,
          74
         ]
        },
        {
         "hovertemplate": "Type=Predicted<br>Actual Value=%{x}<br>Predicted Value=%{z}<extra></extra>",
         "legendgroup": "Predicted",
         "marker": {
          "color": "#EF553B",
          "symbol": "circle"
         },
         "mode": "markers",
         "name": "Predicted",
         "scene": "scene",
         "showlegend": true,
         "type": "scatter3d",
         "x": [
          69,
          41,
          57,
          56,
          88,
          70,
          100,
          40,
          58,
          82,
          81,
          62,
          63,
          53,
          59,
          50,
          65,
          62,
          89,
          62,
          78,
          70,
          62,
          74,
          57,
          84,
          51,
          57,
          82,
          50,
          96,
          76,
          32,
          56,
          83,
          78,
          96,
          91,
          68,
          78,
          87,
          60,
          67,
          74,
          57,
          86,
          77,
          77,
          39,
          79,
          48,
          72,
          62,
          74,
          49,
          74,
          39,
          64,
          75,
          84,
          46,
          50,
          67,
          58,
          52,
          91,
          100,
          65,
          60,
          87,
          49,
          100,
          62,
          88,
          62,
          53,
          78,
          46,
          71,
          55,
          73,
          73,
          64,
          83,
          74,
          82,
          78,
          63,
          63,
          74,
          71,
          67,
          59,
          57,
          21,
          90,
          80,
          81,
          78,
          67,
          74,
          33,
          87,
          27,
          95,
          82,
          67,
          69,
          73,
          57,
          75,
          92,
          74,
          74,
          89,
          82,
          67,
          62,
          100,
          51,
          63,
          100,
          81,
          61,
          42,
          47,
          52,
          84,
          73,
          62,
          67,
          89,
          76,
          70,
          55,
          44,
          73,
          99,
          83,
          48,
          72,
          31,
          81,
          53,
          74,
          61,
          59,
          63,
          52,
          69,
          63,
          59,
          85,
          94,
          77,
          43,
          77,
          59,
          58,
          93,
          75,
          72,
          82,
          94,
          48,
          56,
          77,
          77,
          75,
          56,
          82,
          64,
          71,
          87,
          39,
          45,
          86,
          66,
          69,
          85,
          80,
          50,
          78,
          72,
          41,
          79,
          34,
          62,
          75,
          71,
          58,
          62,
          62,
          76,
          63,
          67,
          74,
          84,
          80,
          74
         ],
         "y": [
          67.3060818300715,
          36.134986773877216,
          61.463351429064296,
          58.722431882530515,
          91.72841435574429,
          67.94334740846362,
          97.20264572948153,
          47.64380578158696,
          59.54394697455762,
          79.29834777985964,
          85.22559521835403,
          65.38667737556483,
          68.13520464142891,
          55.321423599613674,
          58.630307125713024,
          55.61301330872678,
          69.87035958230061,
          66.20058474826162,
          86.86862540240824,
          64.29639573241556,
          79.92039791959114,
          71.50578204702451,
          65.39428509489514,
          73.80890096746177,
          56.52665315757137,
          85.77073603992866,
          51.58234716674812,
          64.7494117971727,
          83.7668145479348,
          43.359588527146784,
          95.65174030224483,
          83.49804799681264,
          31.382538016019268,
          53.686001134889786,
          86.05471802971144,
          73.70156077198365,
          88.52687102512307,
          83.21406600702986,
          72.78792092313907,
          78.91463331392904,
          76.18892920605589,
          59.62085629271448,
          58.89146595750486,
          69.95487661978778,
          58.07755858480808,
          79.29074006052932,
          80.73430529228793,
          82.8455669797599,
          38.05439122838389,
          78.64586676280689,
          51.758988961052786,
          70.50001744136242,
          62.83000734266602,
          67.58245610052397,
          51.77420439971342,
          75.35219867536817,
          35.22134692503262,
          67.21395707325401,
          72.6112791288344,
          88.61899578194055,
          48.38080383612689,
          48.47292859294438,
          60.91821060748966,
          63.27541568809285,
          61.63999322336896,
          88.89537005239303,
          98.3926598487786,
          69.50946827436096,
          60.45758682340221,
          84.31195536950943,
          42.99108949987682,
          96.83414670221157,
          60.35785434725441,
          79.55950661165149,
          65.02578606762518,
          61.81663501767363,
          81.85501781275843,
          42.53046571578937,
          66.76094100849687,
          43.9968541055389,
          74.80705785379354,
          65.74756868350447,
          58.99119843365268,
          83.13715668887299,
          66.84545804598405,
          81.47891106615816,
          81.02589500140103,
          59.07571547113985,
          62.73027486651823,
          70.13151841409245,
          69.22548628457817,
          65.48640985171262,
          57.99304154732091,
          60.4499791040719,
          30.00066666375691,
          85.40984473198901,
          76.25823080488246,
          77.08735361623987,
          80.92616252525322,
          71.24462321523265,
          77.09496133557018,
          30.56102292399217,
          80.11225515255643,
          38.77617384426319,
          96.29661359996726,
          78.66108220146752,
          67.67458085734147,
          76.17371376739527,
          67.57484838119366,
          61.002727644976844,
          69.23309400390849,
          96.19688112381947,
          74.72254081630636,
          78.46161724917191,
          84.58072192063159,
          72.44224505386003,
          67.1142245971062,
          66.21580018692224,
          98.57690936241359,
          53.04873555649766,
          69.04123677094319,
          96.38113063745445,
          82.20830140136778,
          63.651522434693135,
          40.69557829876987,
          44.08897886235639,
          55.32903131894399,
          78.73799151962437,
          63.467272921058154,
          60.350246627924086,
          64.75701951650302,
          86.33109230016392,
          84.05079653771759,
          72.70340388565188,
          53.23298507013264,
          48.11203728500474,
          68.40397119255107,
          94.46933390227807,
          86.9531424398954,
          47.10627267934265,
          66.20819246759193,
          31.37493029668896,
          85.78595147858928,
          52.849270604202054,
          68.41157891188139,
          64.38852048923306,
          69.59398531184813,
          63.190898650605675,
          59.45182221774013,
          63.382755883570965,
          63.55178995854533,
          62.08540156879579,
          79.65163136846897,
          87.06048263537353,
          69.31761104139566,
          47.84327073388258,
          83.7668145479348,
          57.156311016633175,
          54.23874967579473,
          84.5883296399619,
          63.09877389378819,
          73.60943601516615,
          80.20437990937391,
          88.8801546137324,
          43.62074735893863,
          56.61877791438886,
          76.9107118219352,
          78.54613428665908,
          75.53644818900315,
          55.23690656212649,
          82.03926732639341,
          54.04689244282943,
          67.75909789482864,
          90.25441824666444,
          46.64564889525519,
          40.98716800788297,
          84.4885971638141,
          62.100617007456414,
          70.1543415720834,
          71.06037370159767,
          83.40592323999516,
          49.217534366814625,
          70.87612418796269,
          75.81282245945562,
          44.541994927113535,
          79.65923908779928,
          32.56494441598602,
          60.82608585067217,
          70.50762516069273,
          73.80890096746177,
          54.60724870306469,
          56.603562475728225,
          59.160232508627026,
          74.4461665458539,
          53.86264292919445,
          65.65544392668698,
          63.467272921058154,
          72.79552864246938,
          76.19653692538621,
          75.54405590833346
         ],
         "z": [
          67.3060818300715,
          36.134986773877216,
          61.463351429064296,
          58.722431882530515,
          91.72841435574429,
          67.94334740846362,
          97.20264572948153,
          47.64380578158696,
          59.54394697455762,
          79.29834777985964,
          85.22559521835403,
          65.38667737556483,
          68.13520464142891,
          55.321423599613674,
          58.630307125713024,
          55.61301330872678,
          69.87035958230061,
          66.20058474826162,
          86.86862540240824,
          64.29639573241556,
          79.92039791959114,
          71.50578204702451,
          65.39428509489514,
          73.80890096746177,
          56.52665315757137,
          85.77073603992866,
          51.58234716674812,
          64.7494117971727,
          83.7668145479348,
          43.359588527146784,
          95.65174030224483,
          83.49804799681264,
          31.382538016019268,
          53.686001134889786,
          86.05471802971144,
          73.70156077198365,
          88.52687102512307,
          83.21406600702986,
          72.78792092313907,
          78.91463331392904,
          76.18892920605589,
          59.62085629271448,
          58.89146595750486,
          69.95487661978778,
          58.07755858480808,
          79.29074006052932,
          80.73430529228793,
          82.8455669797599,
          38.05439122838389,
          78.64586676280689,
          51.758988961052786,
          70.50001744136242,
          62.83000734266602,
          67.58245610052397,
          51.77420439971342,
          75.35219867536817,
          35.22134692503262,
          67.21395707325401,
          72.6112791288344,
          88.61899578194055,
          48.38080383612689,
          48.47292859294438,
          60.91821060748966,
          63.27541568809285,
          61.63999322336896,
          88.89537005239303,
          98.3926598487786,
          69.50946827436096,
          60.45758682340221,
          84.31195536950943,
          42.99108949987682,
          96.83414670221157,
          60.35785434725441,
          79.55950661165149,
          65.02578606762518,
          61.81663501767363,
          81.85501781275843,
          42.53046571578937,
          66.76094100849687,
          43.9968541055389,
          74.80705785379354,
          65.74756868350447,
          58.99119843365268,
          83.13715668887299,
          66.84545804598405,
          81.47891106615816,
          81.02589500140103,
          59.07571547113985,
          62.73027486651823,
          70.13151841409245,
          69.22548628457817,
          65.48640985171262,
          57.99304154732091,
          60.4499791040719,
          30.00066666375691,
          85.40984473198901,
          76.25823080488246,
          77.08735361623987,
          80.92616252525322,
          71.24462321523265,
          77.09496133557018,
          30.56102292399217,
          80.11225515255643,
          38.77617384426319,
          96.29661359996726,
          78.66108220146752,
          67.67458085734147,
          76.17371376739527,
          67.57484838119366,
          61.002727644976844,
          69.23309400390849,
          96.19688112381947,
          74.72254081630636,
          78.46161724917191,
          84.58072192063159,
          72.44224505386003,
          67.1142245971062,
          66.21580018692224,
          98.57690936241359,
          53.04873555649766,
          69.04123677094319,
          96.38113063745445,
          82.20830140136778,
          63.651522434693135,
          40.69557829876987,
          44.08897886235639,
          55.32903131894399,
          78.73799151962437,
          63.467272921058154,
          60.350246627924086,
          64.75701951650302,
          86.33109230016392,
          84.05079653771759,
          72.70340388565188,
          53.23298507013264,
          48.11203728500474,
          68.40397119255107,
          94.46933390227807,
          86.9531424398954,
          47.10627267934265,
          66.20819246759193,
          31.37493029668896,
          85.78595147858928,
          52.849270604202054,
          68.41157891188139,
          64.38852048923306,
          69.59398531184813,
          63.190898650605675,
          59.45182221774013,
          63.382755883570965,
          63.55178995854533,
          62.08540156879579,
          79.65163136846897,
          87.06048263537353,
          69.31761104139566,
          47.84327073388258,
          83.7668145479348,
          57.156311016633175,
          54.23874967579473,
          84.5883296399619,
          63.09877389378819,
          73.60943601516615,
          80.20437990937391,
          88.8801546137324,
          43.62074735893863,
          56.61877791438886,
          76.9107118219352,
          78.54613428665908,
          75.53644818900315,
          55.23690656212649,
          82.03926732639341,
          54.04689244282943,
          67.75909789482864,
          90.25441824666444,
          46.64564889525519,
          40.98716800788297,
          84.4885971638141,
          62.100617007456414,
          70.1543415720834,
          71.06037370159767,
          83.40592323999516,
          49.217534366814625,
          70.87612418796269,
          75.81282245945562,
          44.541994927113535,
          79.65923908779928,
          32.56494441598602,
          60.82608585067217,
          70.50762516069273,
          73.80890096746177,
          54.60724870306469,
          56.603562475728225,
          59.160232508627026,
          74.4461665458539,
          53.86264292919445,
          65.65544392668698,
          63.467272921058154,
          72.79552864246938,
          76.19653692538621,
          75.54405590833346
         ]
        }
       ],
       "layout": {
        "legend": {
         "title": {
          "text": "Type"
         },
         "tracegroupgap": 0
        },
        "scene": {
         "domain": {
          "x": [
           0,
           1
          ],
          "y": [
           0,
           1
          ]
         },
         "xaxis": {
          "title": {
           "text": "Actual Value"
          }
         },
         "yaxis": {
          "title": {
           "text": "Predicted Value"
          }
         },
         "zaxis": {
          "title": {
           "text": "Predicted Value"
          }
         }
        },
        "template": {
         "data": {
          "bar": [
           {
            "error_x": {
             "color": "#2a3f5f"
            },
            "error_y": {
             "color": "#2a3f5f"
            },
            "marker": {
             "line": {
              "color": "#E5ECF6",
              "width": 0.5
             },
             "pattern": {
              "fillmode": "overlay",
              "size": 10,
              "solidity": 0.2
             }
            },
            "type": "bar"
           }
          ],
          "barpolar": [
           {
            "marker": {
             "line": {
              "color": "#E5ECF6",
              "width": 0.5
             },
             "pattern": {
              "fillmode": "overlay",
              "size": 10,
              "solidity": 0.2
             }
            },
            "type": "barpolar"
           }
          ],
          "carpet": [
           {
            "aaxis": {
             "endlinecolor": "#2a3f5f",
             "gridcolor": "white",
             "linecolor": "white",
             "minorgridcolor": "white",
             "startlinecolor": "#2a3f5f"
            },
            "baxis": {
             "endlinecolor": "#2a3f5f",
             "gridcolor": "white",
             "linecolor": "white",
             "minorgridcolor": "white",
             "startlinecolor": "#2a3f5f"
            },
            "type": "carpet"
           }
          ],
          "choropleth": [
           {
            "colorbar": {
             "outlinewidth": 0,
             "ticks": ""
            },
            "type": "choropleth"
           }
          ],
          "contour": [
           {
            "colorbar": {
             "outlinewidth": 0,
             "ticks": ""
            },
            "colorscale": [
             [
              0,
              "#0d0887"
             ],
             [
              0.1111111111111111,
              "#46039f"
             ],
             [
              0.2222222222222222,
              "#7201a8"
             ],
             [
              0.3333333333333333,
              "#9c179e"
             ],
             [
              0.4444444444444444,
              "#bd3786"
             ],
             [
              0.5555555555555556,
              "#d8576b"
             ],
             [
              0.6666666666666666,
              "#ed7953"
             ],
             [
              0.7777777777777778,
              "#fb9f3a"
             ],
             [
              0.8888888888888888,
              "#fdca26"
             ],
             [
              1,
              "#f0f921"
             ]
            ],
            "type": "contour"
           }
          ],
          "contourcarpet": [
           {
            "colorbar": {
             "outlinewidth": 0,
             "ticks": ""
            },
            "type": "contourcarpet"
           }
          ],
          "heatmap": [
           {
            "colorbar": {
             "outlinewidth": 0,
             "ticks": ""
            },
            "colorscale": [
             [
              0,
              "#0d0887"
             ],
             [
              0.1111111111111111,
              "#46039f"
             ],
             [
              0.2222222222222222,
              "#7201a8"
             ],
             [
              0.3333333333333333,
              "#9c179e"
             ],
             [
              0.4444444444444444,
              "#bd3786"
             ],
             [
              0.5555555555555556,
              "#d8576b"
             ],
             [
              0.6666666666666666,
              "#ed7953"
             ],
             [
              0.7777777777777778,
              "#fb9f3a"
             ],
             [
              0.8888888888888888,
              "#fdca26"
             ],
             [
              1,
              "#f0f921"
             ]
            ],
            "type": "heatmap"
           }
          ],
          "heatmapgl": [
           {
            "colorbar": {
             "outlinewidth": 0,
             "ticks": ""
            },
            "colorscale": [
             [
              0,
              "#0d0887"
             ],
             [
              0.1111111111111111,
              "#46039f"
             ],
             [
              0.2222222222222222,
              "#7201a8"
             ],
             [
              0.3333333333333333,
              "#9c179e"
             ],
             [
              0.4444444444444444,
              "#bd3786"
             ],
             [
              0.5555555555555556,
              "#d8576b"
             ],
             [
              0.6666666666666666,
              "#ed7953"
             ],
             [
              0.7777777777777778,
              "#fb9f3a"
             ],
             [
              0.8888888888888888,
              "#fdca26"
             ],
             [
              1,
              "#f0f921"
             ]
            ],
            "type": "heatmapgl"
           }
          ],
          "histogram": [
           {
            "marker": {
             "pattern": {
              "fillmode": "overlay",
              "size": 10,
              "solidity": 0.2
             }
            },
            "type": "histogram"
           }
          ],
          "histogram2d": [
           {
            "colorbar": {
             "outlinewidth": 0,
             "ticks": ""
            },
            "colorscale": [
             [
              0,
              "#0d0887"
             ],
             [
              0.1111111111111111,
              "#46039f"
             ],
             [
              0.2222222222222222,
              "#7201a8"
             ],
             [
              0.3333333333333333,
              "#9c179e"
             ],
             [
              0.4444444444444444,
              "#bd3786"
             ],
             [
              0.5555555555555556,
              "#d8576b"
             ],
             [
              0.6666666666666666,
              "#ed7953"
             ],
             [
              0.7777777777777778,
              "#fb9f3a"
             ],
             [
              0.8888888888888888,
              "#fdca26"
             ],
             [
              1,
              "#f0f921"
             ]
            ],
            "type": "histogram2d"
           }
          ],
          "histogram2dcontour": [
           {
            "colorbar": {
             "outlinewidth": 0,
             "ticks": ""
            },
            "colorscale": [
             [
              0,
              "#0d0887"
             ],
             [
              0.1111111111111111,
              "#46039f"
             ],
             [
              0.2222222222222222,
              "#7201a8"
             ],
             [
              0.3333333333333333,
              "#9c179e"
             ],
             [
              0.4444444444444444,
              "#bd3786"
             ],
             [
              0.5555555555555556,
              "#d8576b"
             ],
             [
              0.6666666666666666,
              "#ed7953"
             ],
             [
              0.7777777777777778,
              "#fb9f3a"
             ],
             [
              0.8888888888888888,
              "#fdca26"
             ],
             [
              1,
              "#f0f921"
             ]
            ],
            "type": "histogram2dcontour"
           }
          ],
          "mesh3d": [
           {
            "colorbar": {
             "outlinewidth": 0,
             "ticks": ""
            },
            "type": "mesh3d"
           }
          ],
          "parcoords": [
           {
            "line": {
             "colorbar": {
              "outlinewidth": 0,
              "ticks": ""
             }
            },
            "type": "parcoords"
           }
          ],
          "pie": [
           {
            "automargin": true,
            "type": "pie"
           }
          ],
          "scatter": [
           {
            "fillpattern": {
             "fillmode": "overlay",
             "size": 10,
             "solidity": 0.2
            },
            "type": "scatter"
           }
          ],
          "scatter3d": [
           {
            "line": {
             "colorbar": {
              "outlinewidth": 0,
              "ticks": ""
             }
            },
            "marker": {
             "colorbar": {
              "outlinewidth": 0,
              "ticks": ""
             }
            },
            "type": "scatter3d"
           }
          ],
          "scattercarpet": [
           {
            "marker": {
             "colorbar": {
              "outlinewidth": 0,
              "ticks": ""
             }
            },
            "type": "scattercarpet"
           }
          ],
          "scattergeo": [
           {
            "marker": {
             "colorbar": {
              "outlinewidth": 0,
              "ticks": ""
             }
            },
            "type": "scattergeo"
           }
          ],
          "scattergl": [
           {
            "marker": {
             "colorbar": {
              "outlinewidth": 0,
              "ticks": ""
             }
            },
            "type": "scattergl"
           }
          ],
          "scattermapbox": [
           {
            "marker": {
             "colorbar": {
              "outlinewidth": 0,
              "ticks": ""
             }
            },
            "type": "scattermapbox"
           }
          ],
          "scatterpolar": [
           {
            "marker": {
             "colorbar": {
              "outlinewidth": 0,
              "ticks": ""
             }
            },
            "type": "scatterpolar"
           }
          ],
          "scatterpolargl": [
           {
            "marker": {
             "colorbar": {
              "outlinewidth": 0,
              "ticks": ""
             }
            },
            "type": "scatterpolargl"
           }
          ],
          "scatterternary": [
           {
            "marker": {
             "colorbar": {
              "outlinewidth": 0,
              "ticks": ""
             }
            },
            "type": "scatterternary"
           }
          ],
          "surface": [
           {
            "colorbar": {
             "outlinewidth": 0,
             "ticks": ""
            },
            "colorscale": [
             [
              0,
              "#0d0887"
             ],
             [
              0.1111111111111111,
              "#46039f"
             ],
             [
              0.2222222222222222,
              "#7201a8"
             ],
             [
              0.3333333333333333,
              "#9c179e"
             ],
             [
              0.4444444444444444,
              "#bd3786"
             ],
             [
              0.5555555555555556,
              "#d8576b"
             ],
             [
              0.6666666666666666,
              "#ed7953"
             ],
             [
              0.7777777777777778,
              "#fb9f3a"
             ],
             [
              0.8888888888888888,
              "#fdca26"
             ],
             [
              1,
              "#f0f921"
             ]
            ],
            "type": "surface"
           }
          ],
          "table": [
           {
            "cells": {
             "fill": {
              "color": "#EBF0F8"
             },
             "line": {
              "color": "white"
             }
            },
            "header": {
             "fill": {
              "color": "#C8D4E3"
             },
             "line": {
              "color": "white"
             }
            },
            "type": "table"
           }
          ]
         },
         "layout": {
          "annotationdefaults": {
           "arrowcolor": "#2a3f5f",
           "arrowhead": 0,
           "arrowwidth": 1
          },
          "autotypenumbers": "strict",
          "coloraxis": {
           "colorbar": {
            "outlinewidth": 0,
            "ticks": ""
           }
          },
          "colorscale": {
           "diverging": [
            [
             0,
             "#8e0152"
            ],
            [
             0.1,
             "#c51b7d"
            ],
            [
             0.2,
             "#de77ae"
            ],
            [
             0.3,
             "#f1b6da"
            ],
            [
             0.4,
             "#fde0ef"
            ],
            [
             0.5,
             "#f7f7f7"
            ],
            [
             0.6,
             "#e6f5d0"
            ],
            [
             0.7,
             "#b8e186"
            ],
            [
             0.8,
             "#7fbc41"
            ],
            [
             0.9,
             "#4d9221"
            ],
            [
             1,
             "#276419"
            ]
           ],
           "sequential": [
            [
             0,
             "#0d0887"
            ],
            [
             0.1111111111111111,
             "#46039f"
            ],
            [
             0.2222222222222222,
             "#7201a8"
            ],
            [
             0.3333333333333333,
             "#9c179e"
            ],
            [
             0.4444444444444444,
             "#bd3786"
            ],
            [
             0.5555555555555556,
             "#d8576b"
            ],
            [
             0.6666666666666666,
             "#ed7953"
            ],
            [
             0.7777777777777778,
             "#fb9f3a"
            ],
            [
             0.8888888888888888,
             "#fdca26"
            ],
            [
             1,
             "#f0f921"
            ]
           ],
           "sequentialminus": [
            [
             0,
             "#0d0887"
            ],
            [
             0.1111111111111111,
             "#46039f"
            ],
            [
             0.2222222222222222,
             "#7201a8"
            ],
            [
             0.3333333333333333,
             "#9c179e"
            ],
            [
             0.4444444444444444,
             "#bd3786"
            ],
            [
             0.5555555555555556,
             "#d8576b"
            ],
            [
             0.6666666666666666,
             "#ed7953"
            ],
            [
             0.7777777777777778,
             "#fb9f3a"
            ],
            [
             0.8888888888888888,
             "#fdca26"
            ],
            [
             1,
             "#f0f921"
            ]
           ]
          },
          "colorway": [
           "#636efa",
           "#EF553B",
           "#00cc96",
           "#ab63fa",
           "#FFA15A",
           "#19d3f3",
           "#FF6692",
           "#B6E880",
           "#FF97FF",
           "#FECB52"
          ],
          "font": {
           "color": "#2a3f5f"
          },
          "geo": {
           "bgcolor": "white",
           "lakecolor": "white",
           "landcolor": "#E5ECF6",
           "showlakes": true,
           "showland": true,
           "subunitcolor": "white"
          },
          "hoverlabel": {
           "align": "left"
          },
          "hovermode": "closest",
          "mapbox": {
           "style": "light"
          },
          "paper_bgcolor": "white",
          "plot_bgcolor": "#E5ECF6",
          "polar": {
           "angularaxis": {
            "gridcolor": "white",
            "linecolor": "white",
            "ticks": ""
           },
           "bgcolor": "#E5ECF6",
           "radialaxis": {
            "gridcolor": "white",
            "linecolor": "white",
            "ticks": ""
           }
          },
          "scene": {
           "xaxis": {
            "backgroundcolor": "#E5ECF6",
            "gridcolor": "white",
            "gridwidth": 2,
            "linecolor": "white",
            "showbackground": true,
            "ticks": "",
            "zerolinecolor": "white"
           },
           "yaxis": {
            "backgroundcolor": "#E5ECF6",
            "gridcolor": "white",
            "gridwidth": 2,
            "linecolor": "white",
            "showbackground": true,
            "ticks": "",
            "zerolinecolor": "white"
           },
           "zaxis": {
            "backgroundcolor": "#E5ECF6",
            "gridcolor": "white",
            "gridwidth": 2,
            "linecolor": "white",
            "showbackground": true,
            "ticks": "",
            "zerolinecolor": "white"
           }
          },
          "shapedefaults": {
           "line": {
            "color": "#2a3f5f"
           }
          },
          "ternary": {
           "aaxis": {
            "gridcolor": "white",
            "linecolor": "white",
            "ticks": ""
           },
           "baxis": {
            "gridcolor": "white",
            "linecolor": "white",
            "ticks": ""
           },
           "bgcolor": "#E5ECF6",
           "caxis": {
            "gridcolor": "white",
            "linecolor": "white",
            "ticks": ""
           }
          },
          "title": {
           "x": 0.05
          },
          "xaxis": {
           "automargin": true,
           "gridcolor": "white",
           "linecolor": "white",
           "ticks": "",
           "title": {
            "standoff": 15
           },
           "zerolinecolor": "white",
           "zerolinewidth": 2
          },
          "yaxis": {
           "automargin": true,
           "gridcolor": "white",
           "linecolor": "white",
           "ticks": "",
           "title": {
            "standoff": 15
           },
           "zerolinecolor": "white",
           "zerolinewidth": 2
          }
         }
        },
        "title": {
         "text": "Actual vs Predicted"
        }
       }
      }
     },
     "metadata": {},
     "output_type": "display_data"
    }
   ],
   "source": [
    "import plotly.express as px\n",
    "\n",
    "actual_df = pd.DataFrame({'Actual': y_test, 'Predicted': y_test, 'Type': 'Actual'})\n",
    "predicted_df = pd.DataFrame({'Actual': y_test, 'Predicted': y_pred, 'Type': 'Predicted'})\n",
    "results_df = pd.concat([actual_df, predicted_df])\n",
    "\n",
    "fig = px.scatter_3d(results_df, x='Actual', y='Predicted', z='Predicted', color='Type',\n",
    "                    title='Actual vs Predicted', labels={'Actual': 'Actual Value', 'Predicted': 'Predicted Value'})\n",
    "fig.show()"
   ]
  },
  {
   "cell_type": "code",
   "execution_count": 42,
   "metadata": {},
   "outputs": [
    {
     "data": {
      "text/html": [
       "<div>\n",
       "<style scoped>\n",
       "    .dataframe tbody tr th:only-of-type {\n",
       "        vertical-align: middle;\n",
       "    }\n",
       "\n",
       "    .dataframe tbody tr th {\n",
       "        vertical-align: top;\n",
       "    }\n",
       "\n",
       "    .dataframe thead th {\n",
       "        text-align: right;\n",
       "    }\n",
       "</style>\n",
       "<table border=\"1\" class=\"dataframe\">\n",
       "  <thead>\n",
       "    <tr style=\"text-align: right;\">\n",
       "      <th></th>\n",
       "      <th>Actual</th>\n",
       "      <th>Predicted</th>\n",
       "      <th>Type</th>\n",
       "    </tr>\n",
       "  </thead>\n",
       "  <tbody>\n",
       "    <tr>\n",
       "      <th>521</th>\n",
       "      <td>69</td>\n",
       "      <td>69.000000</td>\n",
       "      <td>Actual</td>\n",
       "    </tr>\n",
       "    <tr>\n",
       "      <th>737</th>\n",
       "      <td>41</td>\n",
       "      <td>41.000000</td>\n",
       "      <td>Actual</td>\n",
       "    </tr>\n",
       "    <tr>\n",
       "      <th>740</th>\n",
       "      <td>57</td>\n",
       "      <td>57.000000</td>\n",
       "      <td>Actual</td>\n",
       "    </tr>\n",
       "    <tr>\n",
       "      <th>660</th>\n",
       "      <td>56</td>\n",
       "      <td>56.000000</td>\n",
       "      <td>Actual</td>\n",
       "    </tr>\n",
       "    <tr>\n",
       "      <th>411</th>\n",
       "      <td>88</td>\n",
       "      <td>88.000000</td>\n",
       "      <td>Actual</td>\n",
       "    </tr>\n",
       "    <tr>\n",
       "      <th>...</th>\n",
       "      <td>...</td>\n",
       "      <td>...</td>\n",
       "      <td>...</td>\n",
       "    </tr>\n",
       "    <tr>\n",
       "      <th>408</th>\n",
       "      <td>67</td>\n",
       "      <td>65.655444</td>\n",
       "      <td>Predicted</td>\n",
       "    </tr>\n",
       "    <tr>\n",
       "      <th>332</th>\n",
       "      <td>74</td>\n",
       "      <td>63.467273</td>\n",
       "      <td>Predicted</td>\n",
       "    </tr>\n",
       "    <tr>\n",
       "      <th>208</th>\n",
       "      <td>84</td>\n",
       "      <td>72.795529</td>\n",
       "      <td>Predicted</td>\n",
       "    </tr>\n",
       "    <tr>\n",
       "      <th>613</th>\n",
       "      <td>80</td>\n",
       "      <td>76.196537</td>\n",
       "      <td>Predicted</td>\n",
       "    </tr>\n",
       "    <tr>\n",
       "      <th>78</th>\n",
       "      <td>74</td>\n",
       "      <td>75.544056</td>\n",
       "      <td>Predicted</td>\n",
       "    </tr>\n",
       "  </tbody>\n",
       "</table>\n",
       "<p>400 rows × 3 columns</p>\n",
       "</div>"
      ],
      "text/plain": [
       "     Actual  Predicted       Type\n",
       "521      69  69.000000     Actual\n",
       "737      41  41.000000     Actual\n",
       "740      57  57.000000     Actual\n",
       "660      56  56.000000     Actual\n",
       "411      88  88.000000     Actual\n",
       "..      ...        ...        ...\n",
       "408      67  65.655444  Predicted\n",
       "332      74  63.467273  Predicted\n",
       "208      84  72.795529  Predicted\n",
       "613      80  76.196537  Predicted\n",
       "78       74  75.544056  Predicted\n",
       "\n",
       "[400 rows x 3 columns]"
      ]
     },
     "execution_count": 42,
     "metadata": {},
     "output_type": "execute_result"
    }
   ],
   "source": [
    "results_df"
   ]
  },
  {
   "cell_type": "code",
   "execution_count": 43,
   "metadata": {},
   "outputs": [
    {
     "data": {
      "text/html": [
       "<div>\n",
       "<style scoped>\n",
       "    .dataframe tbody tr th:only-of-type {\n",
       "        vertical-align: middle;\n",
       "    }\n",
       "\n",
       "    .dataframe tbody tr th {\n",
       "        vertical-align: top;\n",
       "    }\n",
       "\n",
       "    .dataframe thead th {\n",
       "        text-align: right;\n",
       "    }\n",
       "</style>\n",
       "<table border=\"1\" class=\"dataframe\">\n",
       "  <thead>\n",
       "    <tr style=\"text-align: right;\">\n",
       "      <th></th>\n",
       "      <th>Actual</th>\n",
       "      <th>Predicted</th>\n",
       "      <th>Type</th>\n",
       "    </tr>\n",
       "  </thead>\n",
       "  <tbody>\n",
       "    <tr>\n",
       "      <th>521</th>\n",
       "      <td>69</td>\n",
       "      <td>69</td>\n",
       "      <td>Actual</td>\n",
       "    </tr>\n",
       "    <tr>\n",
       "      <th>737</th>\n",
       "      <td>41</td>\n",
       "      <td>41</td>\n",
       "      <td>Actual</td>\n",
       "    </tr>\n",
       "    <tr>\n",
       "      <th>740</th>\n",
       "      <td>57</td>\n",
       "      <td>57</td>\n",
       "      <td>Actual</td>\n",
       "    </tr>\n",
       "    <tr>\n",
       "      <th>660</th>\n",
       "      <td>56</td>\n",
       "      <td>56</td>\n",
       "      <td>Actual</td>\n",
       "    </tr>\n",
       "    <tr>\n",
       "      <th>411</th>\n",
       "      <td>88</td>\n",
       "      <td>88</td>\n",
       "      <td>Actual</td>\n",
       "    </tr>\n",
       "    <tr>\n",
       "      <th>...</th>\n",
       "      <td>...</td>\n",
       "      <td>...</td>\n",
       "      <td>...</td>\n",
       "    </tr>\n",
       "    <tr>\n",
       "      <th>408</th>\n",
       "      <td>67</td>\n",
       "      <td>67</td>\n",
       "      <td>Actual</td>\n",
       "    </tr>\n",
       "    <tr>\n",
       "      <th>332</th>\n",
       "      <td>74</td>\n",
       "      <td>74</td>\n",
       "      <td>Actual</td>\n",
       "    </tr>\n",
       "    <tr>\n",
       "      <th>208</th>\n",
       "      <td>84</td>\n",
       "      <td>84</td>\n",
       "      <td>Actual</td>\n",
       "    </tr>\n",
       "    <tr>\n",
       "      <th>613</th>\n",
       "      <td>80</td>\n",
       "      <td>80</td>\n",
       "      <td>Actual</td>\n",
       "    </tr>\n",
       "    <tr>\n",
       "      <th>78</th>\n",
       "      <td>74</td>\n",
       "      <td>74</td>\n",
       "      <td>Actual</td>\n",
       "    </tr>\n",
       "  </tbody>\n",
       "</table>\n",
       "<p>200 rows × 3 columns</p>\n",
       "</div>"
      ],
      "text/plain": [
       "     Actual  Predicted    Type\n",
       "521      69         69  Actual\n",
       "737      41         41  Actual\n",
       "740      57         57  Actual\n",
       "660      56         56  Actual\n",
       "411      88         88  Actual\n",
       "..      ...        ...     ...\n",
       "408      67         67  Actual\n",
       "332      74         74  Actual\n",
       "208      84         84  Actual\n",
       "613      80         80  Actual\n",
       "78       74         74  Actual\n",
       "\n",
       "[200 rows x 3 columns]"
      ]
     },
     "execution_count": 43,
     "metadata": {},
     "output_type": "execute_result"
    }
   ],
   "source": [
    "actual_df"
   ]
  },
  {
   "cell_type": "code",
   "execution_count": 44,
   "metadata": {},
   "outputs": [
    {
     "data": {
      "text/html": [
       "<div>\n",
       "<style scoped>\n",
       "    .dataframe tbody tr th:only-of-type {\n",
       "        vertical-align: middle;\n",
       "    }\n",
       "\n",
       "    .dataframe tbody tr th {\n",
       "        vertical-align: top;\n",
       "    }\n",
       "\n",
       "    .dataframe thead th {\n",
       "        text-align: right;\n",
       "    }\n",
       "</style>\n",
       "<table border=\"1\" class=\"dataframe\">\n",
       "  <thead>\n",
       "    <tr style=\"text-align: right;\">\n",
       "      <th></th>\n",
       "      <th>Actual</th>\n",
       "      <th>Predicted</th>\n",
       "      <th>Type</th>\n",
       "    </tr>\n",
       "  </thead>\n",
       "  <tbody>\n",
       "    <tr>\n",
       "      <th>521</th>\n",
       "      <td>69</td>\n",
       "      <td>67.306082</td>\n",
       "      <td>Predicted</td>\n",
       "    </tr>\n",
       "    <tr>\n",
       "      <th>737</th>\n",
       "      <td>41</td>\n",
       "      <td>36.134987</td>\n",
       "      <td>Predicted</td>\n",
       "    </tr>\n",
       "    <tr>\n",
       "      <th>740</th>\n",
       "      <td>57</td>\n",
       "      <td>61.463351</td>\n",
       "      <td>Predicted</td>\n",
       "    </tr>\n",
       "    <tr>\n",
       "      <th>660</th>\n",
       "      <td>56</td>\n",
       "      <td>58.722432</td>\n",
       "      <td>Predicted</td>\n",
       "    </tr>\n",
       "    <tr>\n",
       "      <th>411</th>\n",
       "      <td>88</td>\n",
       "      <td>91.728414</td>\n",
       "      <td>Predicted</td>\n",
       "    </tr>\n",
       "    <tr>\n",
       "      <th>...</th>\n",
       "      <td>...</td>\n",
       "      <td>...</td>\n",
       "      <td>...</td>\n",
       "    </tr>\n",
       "    <tr>\n",
       "      <th>408</th>\n",
       "      <td>67</td>\n",
       "      <td>65.655444</td>\n",
       "      <td>Predicted</td>\n",
       "    </tr>\n",
       "    <tr>\n",
       "      <th>332</th>\n",
       "      <td>74</td>\n",
       "      <td>63.467273</td>\n",
       "      <td>Predicted</td>\n",
       "    </tr>\n",
       "    <tr>\n",
       "      <th>208</th>\n",
       "      <td>84</td>\n",
       "      <td>72.795529</td>\n",
       "      <td>Predicted</td>\n",
       "    </tr>\n",
       "    <tr>\n",
       "      <th>613</th>\n",
       "      <td>80</td>\n",
       "      <td>76.196537</td>\n",
       "      <td>Predicted</td>\n",
       "    </tr>\n",
       "    <tr>\n",
       "      <th>78</th>\n",
       "      <td>74</td>\n",
       "      <td>75.544056</td>\n",
       "      <td>Predicted</td>\n",
       "    </tr>\n",
       "  </tbody>\n",
       "</table>\n",
       "<p>200 rows × 3 columns</p>\n",
       "</div>"
      ],
      "text/plain": [
       "     Actual  Predicted       Type\n",
       "521      69  67.306082  Predicted\n",
       "737      41  36.134987  Predicted\n",
       "740      57  61.463351  Predicted\n",
       "660      56  58.722432  Predicted\n",
       "411      88  91.728414  Predicted\n",
       "..      ...        ...        ...\n",
       "408      67  65.655444  Predicted\n",
       "332      74  63.467273  Predicted\n",
       "208      84  72.795529  Predicted\n",
       "613      80  76.196537  Predicted\n",
       "78       74  75.544056  Predicted\n",
       "\n",
       "[200 rows x 3 columns]"
      ]
     },
     "execution_count": 44,
     "metadata": {},
     "output_type": "execute_result"
    }
   ],
   "source": [
    "predicted_df"
   ]
  },
  {
   "cell_type": "markdown",
   "metadata": {},
   "source": [
    "**Ridge Regression:**\n",
    "- Objective: Ridge regression (also known as L2 regularization) adds the L2-norm (Euclidean norm) of the coefficients to the ordinary least squares (OLS) objective function.\n",
    "- Penalty Term: The penalty term penalizes large coefficients by adding the squared magnitude of each coefficient to the loss function. This encourages the coefficients to be small but does not force them to be exactly zero.\n",
    "- Effect: Ridge regression shrinks the coefficients towards zero, reducing their variance. It is effective in dealing with multicollinearity and stabilizing coefficient estimates.\n",
    "- Optimization: The strength of the regularization (i.e., how much the coefficients are penalized) is controlled by a hyperparameter λ (lambda). Higher values of λ result in stronger regularization.\n",
    "- Implementation: In Python, you can use Ridge regression with the Ridge class from sklearn.linear_model.\n",
    "\n",
    "**Lasso Regression**\n",
    "- Objective: Lasso regression (also known as L1 regularization) adds the L1-norm of the coefficients to the ordinary least squares (OLS) objective function.\n",
    "- Penalty Term: The penalty term penalizes large coefficients by adding the absolute magnitude of each coefficient to the loss function. This encourages sparsity in the coefficient vector and can force some coefficients to be exactly zero.\n",
    "- Effect: Lasso regression not only shrinks the coefficients but also performs variable selection by setting some coefficients to zero. It is useful for feature selection and model interpretability.\n",
    "- Optimization: Similar to Ridge regression, the strength of regularization in Lasso regression is controlled by a hyperparameter λ (lambda). Higher values of λ result in stronger regularization.\n",
    "- Implementation: In Python, you can use Lasso regression with the Lasso class from sklearn.linear_model.\n",
    "\n"
   ]
  },
  {
   "cell_type": "code",
   "execution_count": 45,
   "metadata": {},
   "outputs": [
    {
     "name": "stdout",
     "output_type": "stream",
     "text": [
      "Ridge MSE: 0.5558827543113782\n",
      "Lasso MSE: 0.6135115198058131\n"
     ]
    }
   ],
   "source": [
    "from sklearn.datasets import fetch_california_housing\n",
    "from sklearn.model_selection import train_test_split\n",
    "from sklearn.linear_model import Ridge, Lasso\n",
    "from sklearn.metrics import mean_squared_error\n",
    "\n",
    "california_housing = fetch_california_housing()\n",
    "X = california_housing.data\n",
    "y = california_housing.target\n",
    "\n",
    "X_train, X_test, y_train, y_test = train_test_split(X, y, test_size=0.2, random_state=42)\n",
    "\n",
    "# Ridge regression\n",
    "ridge = Ridge(alpha=0.1)  # Set the regularization strength (alpha/ Lambda)\n",
    "ridge.fit(X_train, y_train)\n",
    "ridge_predictions = ridge.predict(X_test)\n",
    "ridge_mse = mean_squared_error(y_test, ridge_predictions)\n",
    "print(\"Ridge MSE:\", ridge_mse)\n",
    "\n",
    "# Lasso regression\n",
    "lasso = Lasso(alpha=0.1)  \n",
    "lasso.fit(X_train, y_train)\n",
    "lasso_predictions = lasso.predict(X_test)\n",
    "lasso_mse = mean_squared_error(y_test, lasso_predictions)\n",
    "print(\"Lasso MSE:\", lasso_mse)\n"
   ]
  },
  {
   "cell_type": "code",
   "execution_count": 46,
   "metadata": {},
   "outputs": [
    {
     "name": "stdout",
     "output_type": "stream",
     "text": [
      "Ridge MSE: 0.5558034669932191\n",
      "Lasso MSE: 0.9380337514945428\n"
     ]
    }
   ],
   "source": [
    "# Ridge regression\n",
    "ridge = Ridge(alpha=1.0)  # Set the regularization strength (alpha/ Lambda)\n",
    "ridge.fit(X_train, y_train)\n",
    "ridge_predictions = ridge.predict(X_test)\n",
    "ridge_mse = mean_squared_error(y_test, ridge_predictions)\n",
    "print(\"Ridge MSE:\", ridge_mse)\n",
    "\n",
    "# Lasso regression\n",
    "lasso = Lasso(alpha=1.0)  \n",
    "lasso.fit(X_train, y_train)\n",
    "lasso_predictions = lasso.predict(X_test)\n",
    "lasso_mse = mean_squared_error(y_test, lasso_predictions)\n",
    "print(\"Lasso MSE:\", lasso_mse)"
   ]
  },
  {
   "cell_type": "markdown",
   "metadata": {},
   "source": [
    "*Day 11*\n",
    "# Logistic Regression"
   ]
  },
  {
   "cell_type": "code",
   "execution_count": null,
   "metadata": {},
   "outputs": [],
   "source": []
  }
 ],
 "metadata": {
  "kernelspec": {
   "display_name": "Python 3",
   "language": "python",
   "name": "python3"
  },
  "language_info": {
   "codemirror_mode": {
    "name": "ipython",
    "version": 3
   },
   "file_extension": ".py",
   "mimetype": "text/x-python",
   "name": "python",
   "nbconvert_exporter": "python",
   "pygments_lexer": "ipython3",
   "version": "3.10.5"
  }
 },
 "nbformat": 4,
 "nbformat_minor": 2
}
