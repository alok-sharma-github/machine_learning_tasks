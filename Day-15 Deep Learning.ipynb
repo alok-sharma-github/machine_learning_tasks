{
 "cells": [
  {
   "cell_type": "code",
   "execution_count": 1,
   "metadata": {},
   "outputs": [],
   "source": [
    "import tensorflow as tf\n",
    "from tensorflow import keras\n",
    "import matplotlib.pyplot as plt\n",
    "import numpy as np"
   ]
  },
  {
   "cell_type": "code",
   "execution_count": 2,
   "metadata": {},
   "outputs": [],
   "source": [
    "(x_train,y_train),(x_test, y_test) = keras.datasets.mnist.load_data()"
   ]
  },
  {
   "cell_type": "code",
   "execution_count": 5,
   "metadata": {},
   "outputs": [
    {
     "name": "stdout",
     "output_type": "stream",
     "text": [
      "x_train (60000, 28, 28)\n",
      "x_test (10000, 28, 28)\n",
      "y_test (10000,)\n",
      "y_train (60000,)\n"
     ]
    }
   ],
   "source": [
    "print(\"x_train\",x_train.shape)\n",
    "print(\"x_test\",x_test.shape)\n",
    "print(\"y_test\",y_test.shape)\n",
    "print(\"y_train\",y_train.shape)"
   ]
  },
  {
   "cell_type": "code",
   "execution_count": 6,
   "metadata": {},
   "outputs": [
    {
     "data": {
      "text/plain": [
       "<matplotlib.image.AxesImage at 0x20adec244c0>"
      ]
     },
     "execution_count": 6,
     "metadata": {},
     "output_type": "execute_result"
    },
    {
     "data": {
      "image/png": "[encoded data removed]",
      "text/plain": [
       "<Figure size 345.6x345.6 with 1 Axes>"
      ]
     },
     "metadata": {
      "needs_background": "light"
     },
     "output_type": "display_data"
    }
   ],
   "source": [
    "# display image\n",
    "plt.matshow(x_train[0])"
   ]
  },
  {
   "cell_type": "code",
   "execution_count": 16,
   "metadata": {},
   "outputs": [
    {
     "name": "stdout",
     "output_type": "stream",
     "text": [
      "x_train_flattened (60000, 784)\n",
      "x_test_flattened (10000, 784)\n"
     ]
    }
   ],
   "source": [
    "# Flat Array\n",
    "'''x_train_flattened = x_train.reshape(len(x_train),28*28)\n",
    "x_test_flattened = x_test.reshape(len(x_test),28*28)'''\n",
    "\n",
    "x_train_flattened = x_train.reshape(x_train.shape[0], -1) / 255.0\n",
    "x_test_flattened = x_test.reshape(x_test.shape[0], -1) / 255.0\n",
    "print(\"x_train_flattened\", x_train_flattened.shape )\n",
    "print(\"x_test_flattened\", x_test_flattened.shape )\n"
   ]
  },
  {
   "cell_type": "code",
   "execution_count": 17,
   "metadata": {},
   "outputs": [
    {
     "name": "stdout",
     "output_type": "stream",
     "text": [
      "Model: \"sequential_1\"\n",
      "_________________________________________________________________\n",
      " Layer (type)                Output Shape              Param #   \n",
      "=================================================================\n",
      " dense_1 (Dense)             (None, 10)                7850      \n",
      "                                                                 \n",
      "=================================================================\n",
      "Total params: 7,850\n",
      "Trainable params: 7,850\n",
      "Non-trainable params: 0\n",
      "_________________________________________________________________\n",
      "Epoch 1/5\n",
      "1875/1875 [==============================] - 3s 1ms/step - loss: 0.4735 - accuracy: 0.8779\n",
      "Epoch 2/5\n",
      "1875/1875 [==============================] - 3s 2ms/step - loss: 0.3044 - accuracy: 0.9147\n",
      "Epoch 3/5\n",
      "1875/1875 [==============================] - 3s 1ms/step - loss: 0.2839 - accuracy: 0.9207\n",
      "Epoch 4/5\n",
      "1875/1875 [==============================] - 3s 1ms/step - loss: 0.2727 - accuracy: 0.9240\n",
      "Epoch 5/5\n",
      "1875/1875 [==============================] - 3s 1ms/step - loss: 0.2668 - accuracy: 0.9248\n"
     ]
    },
    {
     "data": {
      "text/plain": [
       "<keras.callbacks.History at 0x20ae2b2d480>"
      ]
     },
     "execution_count": 17,
     "metadata": {},
     "output_type": "execute_result"
    }
   ],
   "source": [
    "# Neural Network with no hidden layer: Sequential Model\n",
    "model = keras.Sequential([\n",
    "    keras.layers.Dense(10, input_shape = (784,), activation = \"sigmoid\")\n",
    "    ])\n",
    "\n",
    "model.compile(optimizer = \"adam\",\n",
    "              loss = \"sparse_categorical_crossentropy\",\n",
    "              metrics = [\"accuracy\"])\n",
    "\n",
    "model.summary()\n",
    "model.fit(x_train_flattened, y_train, epochs=5)"
   ]
  },
  {
   "cell_type": "code",
   "execution_count": 18,
   "metadata": {},
   "outputs": [
    {
     "name": "stdout",
     "output_type": "stream",
     "text": [
      "313/313 [==============================] - 1s 1ms/step - loss: 0.2680 - accuracy: 0.9261\n",
      "Test accuracy: 0.9261000156402588\n"
     ]
    }
   ],
   "source": [
    "# Accuracy Score\n",
    "test_loss, test_accuracy = model.evaluate(x_test_flattened, y_test)\n",
    "print(\"Test accuracy:\", test_accuracy)"
   ]
  },
  {
   "cell_type": "code",
   "execution_count": 20,
   "metadata": {},
   "outputs": [
    {
     "name": "stdout",
     "output_type": "stream",
     "text": [
      "313/313 [==============================] - 0s 1ms/step\n"
     ]
    }
   ],
   "source": [
    "# predict:\n",
    "y_pred = model.predict(x_test_flattened)"
   ]
  },
  {
   "cell_type": "code",
   "execution_count": 23,
   "metadata": {},
   "outputs": [
    {
     "data": {
      "text/plain": [
       "array([[1.7892350e-02, 2.8099080e-07, 4.8794203e-02, ..., 9.9967033e-01,\n",
       "        8.0111742e-02, 5.2920061e-01],\n",
       "       [5.1210964e-01, 8.6891688e-03, 9.9953467e-01, ..., 6.6471801e-13,\n",
       "        2.5032592e-01, 1.3335173e-09],\n",
       "       [5.1968562e-04, 9.9307299e-01, 6.6052741e-01, ..., 1.5367419e-01,\n",
       "        3.8019809e-01, 4.4151887e-02],\n",
       "       ...,\n",
       "       [4.3608043e-06, 2.9719317e-06, 6.5863872e-04, ..., 1.2518492e-01,\n",
       "        4.8836845e-01, 6.1729741e-01],\n",
       "       [1.3772081e-04, 1.8344073e-04, 1.3316885e-04, ..., 2.8068785e-05,\n",
       "        6.3987315e-01, 7.6408985e-05],\n",
       "       [1.0653944e-02, 8.6226043e-10, 2.4318184e-01, ..., 1.2083531e-08,\n",
       "        2.8296976e-04, 4.9160542e-07]], dtype=float32)"
      ]
     },
     "execution_count": 23,
     "metadata": {},
     "output_type": "execute_result"
    }
   ],
   "source": [
    "y_pred"
   ]
  },
  {
   "cell_type": "code",
   "execution_count": 21,
   "metadata": {},
   "outputs": [
    {
     "data": {
      "text/plain": [
       "10"
      ]
     },
     "execution_count": 21,
     "metadata": {},
     "output_type": "execute_result"
    }
   ],
   "source": [
    "len(y_pred[0])"
   ]
  },
  {
   "cell_type": "code",
   "execution_count": 22,
   "metadata": {},
   "outputs": [
    {
     "data": {
      "text/plain": [
       "7"
      ]
     },
     "execution_count": 22,
     "metadata": {},
     "output_type": "execute_result"
    }
   ],
   "source": [
    "np.argmax(y_pred[0])"
   ]
  },
  {
   "cell_type": "code",
   "execution_count": 24,
   "metadata": {},
   "outputs": [
    {
     "name": "stdout",
     "output_type": "stream",
     "text": [
      "y_pred_labels[:5] [7, 2, 1, 0, 4]\n",
      "y_test[:5] [7 2 1 0 4]\n"
     ]
    }
   ],
   "source": [
    "y_pred_labels = [np.argmax(i) for i in y_pred]\n",
    "print(\"y_pred_labels[:5]\",y_pred_labels[:5])\n",
    "print(\"y_test[:5]\",y_test[:5])"
   ]
  },
  {
   "cell_type": "code",
   "execution_count": 26,
   "metadata": {},
   "outputs": [],
   "source": [
    "cm = tf.math.confusion_matrix(labels = y_test, predictions=y_pred_labels)"
   ]
  },
  {
   "cell_type": "code",
   "execution_count": 28,
   "metadata": {},
   "outputs": [
    {
     "data": {
      "image/png": "[encoded data removed]",
      "text/plain": [
       "<Figure size 432x288 with 2 Axes>"
      ]
     },
     "metadata": {
      "needs_background": "light"
     },
     "output_type": "display_data"
    }
   ],
   "source": [
    "import seaborn as sns\n",
    "sns.heatmap(cm,annot=True,fmt = \"d\")\n",
    "plt.xlabel(\"predicted\")\n",
    "plt.ylabel(\"Truth\")\n",
    "plt.show()"
   ]
  },
  {
   "cell_type": "code",
   "execution_count": 33,
   "metadata": {},
   "outputs": [
    {
     "name": "stdout",
     "output_type": "stream",
     "text": [
      "Model: \"sequential_6\"\n",
      "_________________________________________________________________\n",
      " Layer (type)                Output Shape              Param #   \n",
      "=================================================================\n",
      " flatten_2 (Flatten)         (None, 784)               0         \n",
      "                                                                 \n",
      " dense_10 (Dense)            (None, 100)               78500     \n",
      "                                                                 \n",
      " dense_11 (Dense)            (None, 10)                1010      \n",
      "                                                                 \n",
      "=================================================================\n",
      "Total params: 79,510\n",
      "Trainable params: 79,510\n",
      "Non-trainable params: 0\n",
      "_________________________________________________________________\n",
      "Epoch 1/15\n",
      "1875/1875 [==============================] - 5s 2ms/step - loss: 2.3014 - accuracy: 0.1113\n",
      "Epoch 2/15\n",
      "1875/1875 [==============================] - 4s 2ms/step - loss: 2.3005 - accuracy: 0.1124\n",
      "Epoch 3/15\n",
      "1875/1875 [==============================] - 4s 2ms/step - loss: 2.2987 - accuracy: 0.1124\n",
      "Epoch 4/15\n",
      "1875/1875 [==============================] - 4s 2ms/step - loss: 2.2929 - accuracy: 0.1145\n",
      "Epoch 5/15\n",
      "1875/1875 [==============================] - 4s 2ms/step - loss: 2.2796 - accuracy: 0.1496\n",
      "Epoch 6/15\n",
      "1875/1875 [==============================] - 4s 2ms/step - loss: 2.2544 - accuracy: 0.2016\n",
      "Epoch 7/15\n",
      "1875/1875 [==============================] - 4s 2ms/step - loss: 2.2165 - accuracy: 0.2433\n",
      "Epoch 8/15\n",
      "1875/1875 [==============================] - 4s 2ms/step - loss: 2.1684 - accuracy: 0.2786\n",
      "Epoch 9/15\n",
      "1875/1875 [==============================] - 4s 2ms/step - loss: 2.1119 - accuracy: 0.3137\n",
      "Epoch 10/15\n",
      "1875/1875 [==============================] - 4s 2ms/step - loss: 2.0511 - accuracy: 0.3508\n",
      "Epoch 11/15\n",
      "1875/1875 [==============================] - 4s 2ms/step - loss: 1.9872 - accuracy: 0.3818\n",
      "Epoch 12/15\n",
      "1875/1875 [==============================] - 4s 2ms/step - loss: 1.9225 - accuracy: 0.4085\n",
      "Epoch 13/15\n",
      "1875/1875 [==============================] - 4s 2ms/step - loss: 1.8586 - accuracy: 0.4283\n",
      "Epoch 14/15\n",
      "1875/1875 [==============================] - 4s 2ms/step - loss: 1.7966 - accuracy: 0.4505\n",
      "Epoch 15/15\n",
      "1875/1875 [==============================] - 4s 2ms/step - loss: 1.7366 - accuracy: 0.4665\n"
     ]
    },
    {
     "data": {
      "text/plain": [
       "<keras.callbacks.History at 0x20af6ed4700>"
      ]
     },
     "execution_count": 33,
     "metadata": {},
     "output_type": "execute_result"
    }
   ],
   "source": [
    "x_train = x_train / 255.0\n",
    "x_test = x_test / 255.0\n",
    "# Neural Network with hidden layer: Sequential Model\n",
    "model = keras.Sequential([\n",
    "    keras.layers.Flatten(input_shape=(28,28)),\n",
    "    keras.layers.Dense(100, activation='relu'),  # Hidden layer with 10 neurons and ReLU activation\n",
    "    keras.layers.Dense(10, activation='sigmoid')  # Output layer with 10 neurons and sigmoid activation\n",
    "])\n",
    "\n",
    "model.compile(optimizer = \"adam\",\n",
    "              loss = \"sparse_categorical_crossentropy\",\n",
    "              metrics = [\"accuracy\"])\n",
    "\n",
    "model.summary()\n",
    "model.fit(x_train, y_train, epochs=15)"
   ]
  },
  {
   "cell_type": "code",
   "execution_count": null,
   "metadata": {},
   "outputs": [],
   "source": []
  }
 ],
 "metadata": {
  "kernelspec": {
   "display_name": "Python 3",
   "language": "python",
   "name": "python3"
  },
  "language_info": {
   "codemirror_mode": {
    "name": "ipython",
    "version": 3
   },
   "file_extension": ".py",
   "mimetype": "text/x-python",
   "name": "python",
   "nbconvert_exporter": "python",
   "pygments_lexer": "ipython3",
   "version": "3.10.5"
  }
 },
 "nbformat": 4,
 "nbformat_minor": 2
}
