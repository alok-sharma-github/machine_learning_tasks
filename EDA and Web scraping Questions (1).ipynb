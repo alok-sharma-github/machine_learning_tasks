{
 "cells": [
  {
   "cell_type": "code",
   "execution_count": null,
   "id": "02445ce4",
   "metadata": {},
   "outputs": [],
   "source": [
    "#submission date: 8/02/2024 (Thursday)"
   ]
  },
  {
   "cell_type": "markdown",
   "id": "a520fa4f",
   "metadata": {},
   "source": [
    "\n",
    "**Q1. Problem Statement: Univariate EDA**\n",
    "\n",
    "Load the “cereal.csv” data into a DataFrame and perform the following tasks:\n",
    "\n",
    "1.\tExplore the DataFrame using info() and describe() functions\n",
    "\n",
    "2.\tReplace the manufacturer names with the dictionary of names given here –\n",
    "{'A':'American Home Food Products', 'G':'General Mills', 'K':'Kelloggs','N':'Nabisco', 'P':'Post', 'Q':'Quaker Oats', 'R':'Ralston Purina'}\n",
    "\n",
    "3.\tFind out the top five cereal manufacturers based on customer ratings\n",
    "\n",
    "4.\tWith the help of a barplot, compare the manufacturers based on customer ratings\n",
    "\n",
    "5.\tWith the help of a pie chart, find out which of the manufacturers are the largest producers of cereals\n",
    "\n",
    "\n",
    "4.\tFind out cereal manufacturers whose products are rich in protein but contains minimal calories, with the help of a scatter plot\n",
    "\n",
    "\n",
    "5.\tUsing a heatmap, plot the correlation and covariance between all the nutritional values present in the cereals\n",
    "\n"
   ]
  },
  {
   "cell_type": "code",
   "execution_count": 17,
   "id": "0e3ed17c",
   "metadata": {},
   "outputs": [],
   "source": [
    "cereal = \"C:\\\\Users\\\\alok\\\\Downloads\\\\cereal.csv\"\n",
    "import pandas as pd\n",
    "cereal = pd.read_csv(cereal)"
   ]
  },
  {
   "cell_type": "code",
   "execution_count": 18,
   "id": "b0c9bc5c",
   "metadata": {},
   "outputs": [
    {
     "name": "stdout",
     "output_type": "stream",
     "text": [
      "                        name mfr type  calories  protein  fat  sodium  fiber  \\\n",
      "0                  100% Bran   N    C        70        4    1     130   10.0   \n",
      "1          100% Natural Bran   Q    C       120        3    5      15    2.0   \n",
      "2                   All-Bran   K    C        70        4    1     260    9.0   \n",
      "3  All-Bran with Extra Fiber   K    C        50        4    0     140   14.0   \n",
      "4             Almond Delight   R    C       110        2    2     200    1.0   \n",
      "\n",
      "   carbo  sugars  potass  vitamins  shelf  weight  cups     rating  \n",
      "0    5.0       6     280        25      3     1.0  0.33  68.402973  \n",
      "1    8.0       8     135         0      3     1.0  1.00  33.983679  \n",
      "2    7.0       5     320        25      3     1.0  0.33  59.425505  \n",
      "3    8.0       0     330        25      3     1.0  0.50  93.704912  \n",
      "4   14.0       8      -1        25      3     1.0  0.75  34.384843  \n",
      "Index(['name', 'mfr', 'type', 'calories', 'protein', 'fat', 'sodium', 'fiber',\n",
      "       'carbo', 'sugars', 'potass', 'vitamins', 'shelf', 'weight', 'cups',\n",
      "       'rating'],\n",
      "      dtype='object')\n"
     ]
    }
   ],
   "source": [
    "print(cereal.head())\n",
    "print(cereal.columns)"
   ]
  },
  {
   "cell_type": "code",
   "execution_count": 19,
   "id": "88a2062f",
   "metadata": {},
   "outputs": [],
   "source": [
    "replace = {'A':'American Home Food Products', 'G':'General Mills', 'K':'Kelloggs','N':'Nabisco', 'P':'Post', 'Q':'Quaker Oats', 'R':'Ralston Purina'}\n",
    "cereal['mfr'] = cereal['mfr'].replace(replace)"
   ]
  },
  {
   "cell_type": "code",
   "execution_count": 20,
   "id": "0814e34d",
   "metadata": {},
   "outputs": [
    {
     "data": {
      "text/html": [
       "<div>\n",
       "<style scoped>\n",
       "    .dataframe tbody tr th:only-of-type {\n",
       "        vertical-align: middle;\n",
       "    }\n",
       "\n",
       "    .dataframe tbody tr th {\n",
       "        vertical-align: top;\n",
       "    }\n",
       "\n",
       "    .dataframe thead th {\n",
       "        text-align: right;\n",
       "    }\n",
       "</style>\n",
       "<table border=\"1\" class=\"dataframe\">\n",
       "  <thead>\n",
       "    <tr style=\"text-align: right;\">\n",
       "      <th></th>\n",
       "      <th>name</th>\n",
       "      <th>mfr</th>\n",
       "      <th>type</th>\n",
       "      <th>calories</th>\n",
       "      <th>protein</th>\n",
       "      <th>fat</th>\n",
       "      <th>sodium</th>\n",
       "      <th>fiber</th>\n",
       "      <th>carbo</th>\n",
       "      <th>sugars</th>\n",
       "      <th>potass</th>\n",
       "      <th>vitamins</th>\n",
       "      <th>shelf</th>\n",
       "      <th>weight</th>\n",
       "      <th>cups</th>\n",
       "      <th>rating</th>\n",
       "    </tr>\n",
       "  </thead>\n",
       "  <tbody>\n",
       "    <tr>\n",
       "      <th>0</th>\n",
       "      <td>100% Bran</td>\n",
       "      <td>Nabisco</td>\n",
       "      <td>C</td>\n",
       "      <td>70</td>\n",
       "      <td>4</td>\n",
       "      <td>1</td>\n",
       "      <td>130</td>\n",
       "      <td>10.0</td>\n",
       "      <td>5.0</td>\n",
       "      <td>6</td>\n",
       "      <td>280</td>\n",
       "      <td>25</td>\n",
       "      <td>3</td>\n",
       "      <td>1.0</td>\n",
       "      <td>0.33</td>\n",
       "      <td>68.402973</td>\n",
       "    </tr>\n",
       "    <tr>\n",
       "      <th>1</th>\n",
       "      <td>100% Natural Bran</td>\n",
       "      <td>Quaker Oats</td>\n",
       "      <td>C</td>\n",
       "      <td>120</td>\n",
       "      <td>3</td>\n",
       "      <td>5</td>\n",
       "      <td>15</td>\n",
       "      <td>2.0</td>\n",
       "      <td>8.0</td>\n",
       "      <td>8</td>\n",
       "      <td>135</td>\n",
       "      <td>0</td>\n",
       "      <td>3</td>\n",
       "      <td>1.0</td>\n",
       "      <td>1.00</td>\n",
       "      <td>33.983679</td>\n",
       "    </tr>\n",
       "    <tr>\n",
       "      <th>2</th>\n",
       "      <td>All-Bran</td>\n",
       "      <td>Kelloggs</td>\n",
       "      <td>C</td>\n",
       "      <td>70</td>\n",
       "      <td>4</td>\n",
       "      <td>1</td>\n",
       "      <td>260</td>\n",
       "      <td>9.0</td>\n",
       "      <td>7.0</td>\n",
       "      <td>5</td>\n",
       "      <td>320</td>\n",
       "      <td>25</td>\n",
       "      <td>3</td>\n",
       "      <td>1.0</td>\n",
       "      <td>0.33</td>\n",
       "      <td>59.425505</td>\n",
       "    </tr>\n",
       "    <tr>\n",
       "      <th>3</th>\n",
       "      <td>All-Bran with Extra Fiber</td>\n",
       "      <td>Kelloggs</td>\n",
       "      <td>C</td>\n",
       "      <td>50</td>\n",
       "      <td>4</td>\n",
       "      <td>0</td>\n",
       "      <td>140</td>\n",
       "      <td>14.0</td>\n",
       "      <td>8.0</td>\n",
       "      <td>0</td>\n",
       "      <td>330</td>\n",
       "      <td>25</td>\n",
       "      <td>3</td>\n",
       "      <td>1.0</td>\n",
       "      <td>0.50</td>\n",
       "      <td>93.704912</td>\n",
       "    </tr>\n",
       "    <tr>\n",
       "      <th>4</th>\n",
       "      <td>Almond Delight</td>\n",
       "      <td>Ralston Purina</td>\n",
       "      <td>C</td>\n",
       "      <td>110</td>\n",
       "      <td>2</td>\n",
       "      <td>2</td>\n",
       "      <td>200</td>\n",
       "      <td>1.0</td>\n",
       "      <td>14.0</td>\n",
       "      <td>8</td>\n",
       "      <td>-1</td>\n",
       "      <td>25</td>\n",
       "      <td>3</td>\n",
       "      <td>1.0</td>\n",
       "      <td>0.75</td>\n",
       "      <td>34.384843</td>\n",
       "    </tr>\n",
       "  </tbody>\n",
       "</table>\n",
       "</div>"
      ],
      "text/plain": [
       "                        name             mfr type  calories  protein  fat  \\\n",
       "0                  100% Bran         Nabisco    C        70        4    1   \n",
       "1          100% Natural Bran     Quaker Oats    C       120        3    5   \n",
       "2                   All-Bran        Kelloggs    C        70        4    1   \n",
       "3  All-Bran with Extra Fiber        Kelloggs    C        50        4    0   \n",
       "4             Almond Delight  Ralston Purina    C       110        2    2   \n",
       "\n",
       "   sodium  fiber  carbo  sugars  potass  vitamins  shelf  weight  cups  \\\n",
       "0     130   10.0    5.0       6     280        25      3     1.0  0.33   \n",
       "1      15    2.0    8.0       8     135         0      3     1.0  1.00   \n",
       "2     260    9.0    7.0       5     320        25      3     1.0  0.33   \n",
       "3     140   14.0    8.0       0     330        25      3     1.0  0.50   \n",
       "4     200    1.0   14.0       8      -1        25      3     1.0  0.75   \n",
       "\n",
       "      rating  \n",
       "0  68.402973  \n",
       "1  33.983679  \n",
       "2  59.425505  \n",
       "3  93.704912  \n",
       "4  34.384843  "
      ]
     },
     "execution_count": 20,
     "metadata": {},
     "output_type": "execute_result"
    }
   ],
   "source": [
    "cereal.head()"
   ]
  },
  {
   "cell_type": "code",
   "execution_count": 22,
   "id": "b41bedfd",
   "metadata": {},
   "outputs": [
    {
     "data": {
      "text/plain": [
       "mfr\n",
       "American Home Food Products    54.850917\n",
       "General Mills                  51.592193\n",
       "Kelloggs                       93.704912\n",
       "Nabisco                        74.472949\n",
       "Post                           53.371007\n",
       "Name: rating, dtype: float64"
      ]
     },
     "execution_count": 22,
     "metadata": {},
     "output_type": "execute_result"
    }
   ],
   "source": [
    "grouped = cereal.groupby('mfr')['rating'].agg('max')\n",
    "grouped.head()\n"
   ]
  },
  {
   "cell_type": "code",
   "execution_count": 29,
   "id": "7a04a346",
   "metadata": {},
   "outputs": [
    {
     "data": {
      "image/png": "[encoded data removed]",
      "text/plain": [
       "<Figure size 864x720 with 1 Axes>"
      ]
     },
     "metadata": {
      "needs_background": "light"
     },
     "output_type": "display_data"
    }
   ],
   "source": [
    "import seaborn as sns\n",
    "import matplotlib.pyplot as plt\n",
    "\n",
    "\n",
    "plt.figure(figsize=(12, 10))\n",
    "\n",
    "# Data\n",
    "x = cereal['mfr']\n",
    "y = cereal['rating']\n",
    "\n",
    "# Create bar plot\n",
    "sns.barplot(x=x, y=y)\n",
    "\n",
    "plt.xlabel('Manufacturers')\n",
    "plt.ylabel('Rating')\n",
    "plt.title('Bar Plot')\n",
    "\n",
    "# Show plot\n",
    "plt.show()\n"
   ]
  },
  {
   "cell_type": "code",
   "execution_count": 32,
   "id": "15f8dde9",
   "metadata": {},
   "outputs": [
    {
     "data": {
      "text/plain": [
       "<Figure size 864x720 with 0 Axes>"
      ]
     },
     "metadata": {},
     "output_type": "display_data"
    },
    {
     "data": {
      "image/png": "[encoded data removed]",
      "text/plain": [
       "<Figure size 576x576 with 1 Axes>"
      ]
     },
     "metadata": {},
     "output_type": "display_data"
    }
   ],
   "source": [
    "# 5. With the help of a pie chart, find out which of the manufacturers are the largest producers of cereals\n",
    "\n",
    "\n",
    "plt.figure(figsize=(12, 10))\n",
    "\n",
    "manufacturer_counts = cereal['mfr'].value_counts()\n",
    "\n",
    "# Plotting\n",
    "plt.figure(figsize=(8, 8))  # Set the figure size\n",
    "plt.pie(x=manufacturer_counts.values, labels=manufacturer_counts.index, autopct='%1.1f%%')\n",
    "plt.title('Proportion of Cereals Produced by Manufacturer')\n",
    "plt.ylabel('')  # Remove the default ylabel\n",
    "plt.legend()\n",
    "plt.show()"
   ]
  },
  {
   "cell_type": "code",
   "execution_count": 34,
   "id": "e41dd145",
   "metadata": {},
   "outputs": [
    {
     "data": {
      "image/png": "[encoded data removed]",
      "text/plain": [
       "<Figure size 432x288 with 1 Axes>"
      ]
     },
     "metadata": {
      "needs_background": "light"
     },
     "output_type": "display_data"
    }
   ],
   "source": [
    "# Find out cereal manufacturers whose products are rich in protein but contains minimal calories, with the help of a scatter plot\n",
    "\n",
    "\n",
    "\n",
    "x= cereal['protein']\n",
    "y= cereal['calories']\n",
    "plt.scatter(x,y)\n",
    "plt.xlabel('protein')\n",
    "plt.ylabel('calories')\n",
    "plt.show()"
   ]
  },
  {
   "cell_type": "code",
   "execution_count": 35,
   "id": "a30d3782",
   "metadata": {},
   "outputs": [
    {
     "data": {
      "image/png": "[encoded data removed]",
      "text/plain": [
       "<Figure size 720x432 with 1 Axes>"
      ]
     },
     "metadata": {
      "needs_background": "light"
     },
     "output_type": "display_data"
    },
    {
     "name": "stdout",
     "output_type": "stream",
     "text": [
      "Manufacturers of cereals with high protein and low calories:\n",
      "['Nabisco' 'Kelloggs' 'Post']\n"
     ]
    }
   ],
   "source": [
    "import matplotlib.pyplot as plt\n",
    "\n",
    "# Filter cereals with high protein and low calorie values\n",
    "filtered_cereals = cereal[(cereal['protein'] > 2) & (cereal['calories'] < 100)]\n",
    "\n",
    "# Plot the scatter plot\n",
    "plt.figure(figsize=(10, 6))\n",
    "plt.scatter(filtered_cereals['protein'], filtered_cereals['calories'], label='Cereals', color='blue')\n",
    "plt.xlabel('Protein')\n",
    "plt.ylabel('Calories')\n",
    "plt.title('Cereals with High Protein and Low Calories')\n",
    "plt.legend()\n",
    "plt.show()\n",
    "\n",
    "# Print the manufacturers of the filtered cereals\n",
    "print(\"Manufacturers of cereals with high protein and low calories:\")\n",
    "print(filtered_cereals['mfr'].unique())\n"
   ]
  },
  {
   "cell_type": "code",
   "execution_count": 41,
   "id": "51a4cf25",
   "metadata": {},
   "outputs": [
    {
     "data": {
      "text/html": [
       "<div>\n",
       "<style scoped>\n",
       "    .dataframe tbody tr th:only-of-type {\n",
       "        vertical-align: middle;\n",
       "    }\n",
       "\n",
       "    .dataframe tbody tr th {\n",
       "        vertical-align: top;\n",
       "    }\n",
       "\n",
       "    .dataframe thead th {\n",
       "        text-align: right;\n",
       "    }\n",
       "</style>\n",
       "<table border=\"1\" class=\"dataframe\">\n",
       "  <thead>\n",
       "    <tr style=\"text-align: right;\">\n",
       "      <th></th>\n",
       "      <th>calories</th>\n",
       "      <th>protein</th>\n",
       "      <th>fat</th>\n",
       "      <th>sodium</th>\n",
       "      <th>fiber</th>\n",
       "      <th>carbo</th>\n",
       "      <th>sugars</th>\n",
       "      <th>potass</th>\n",
       "      <th>vitamins</th>\n",
       "    </tr>\n",
       "  </thead>\n",
       "  <tbody>\n",
       "    <tr>\n",
       "      <th>0</th>\n",
       "      <td>70</td>\n",
       "      <td>4</td>\n",
       "      <td>1</td>\n",
       "      <td>130</td>\n",
       "      <td>10.0</td>\n",
       "      <td>5.0</td>\n",
       "      <td>6</td>\n",
       "      <td>280</td>\n",
       "      <td>25</td>\n",
       "    </tr>\n",
       "    <tr>\n",
       "      <th>1</th>\n",
       "      <td>120</td>\n",
       "      <td>3</td>\n",
       "      <td>5</td>\n",
       "      <td>15</td>\n",
       "      <td>2.0</td>\n",
       "      <td>8.0</td>\n",
       "      <td>8</td>\n",
       "      <td>135</td>\n",
       "      <td>0</td>\n",
       "    </tr>\n",
       "    <tr>\n",
       "      <th>2</th>\n",
       "      <td>70</td>\n",
       "      <td>4</td>\n",
       "      <td>1</td>\n",
       "      <td>260</td>\n",
       "      <td>9.0</td>\n",
       "      <td>7.0</td>\n",
       "      <td>5</td>\n",
       "      <td>320</td>\n",
       "      <td>25</td>\n",
       "    </tr>\n",
       "    <tr>\n",
       "      <th>3</th>\n",
       "      <td>50</td>\n",
       "      <td>4</td>\n",
       "      <td>0</td>\n",
       "      <td>140</td>\n",
       "      <td>14.0</td>\n",
       "      <td>8.0</td>\n",
       "      <td>0</td>\n",
       "      <td>330</td>\n",
       "      <td>25</td>\n",
       "    </tr>\n",
       "    <tr>\n",
       "      <th>4</th>\n",
       "      <td>110</td>\n",
       "      <td>2</td>\n",
       "      <td>2</td>\n",
       "      <td>200</td>\n",
       "      <td>1.0</td>\n",
       "      <td>14.0</td>\n",
       "      <td>8</td>\n",
       "      <td>-1</td>\n",
       "      <td>25</td>\n",
       "    </tr>\n",
       "  </tbody>\n",
       "</table>\n",
       "</div>"
      ],
      "text/plain": [
       "   calories  protein  fat  sodium  fiber  carbo  sugars  potass  vitamins\n",
       "0        70        4    1     130   10.0    5.0       6     280        25\n",
       "1       120        3    5      15    2.0    8.0       8     135         0\n",
       "2        70        4    1     260    9.0    7.0       5     320        25\n",
       "3        50        4    0     140   14.0    8.0       0     330        25\n",
       "4       110        2    2     200    1.0   14.0       8      -1        25"
      ]
     },
     "execution_count": 41,
     "metadata": {},
     "output_type": "execute_result"
    }
   ],
   "source": [
    "# 5.\tUsing a heatmap, plot the correlation and covariance between all the nutritional values present in the cereals\n",
    "nutrition = ['calories', 'protein', 'fat', 'sodium', 'fiber', 'carbo', 'sugars', 'potass', 'vitamins']\n",
    "nutrition = cereal[nutrition]\n",
    "nutrition.head()"
   ]
  },
  {
   "cell_type": "code",
   "execution_count": 42,
   "id": "429730ba",
   "metadata": {},
   "outputs": [
    {
     "data": {
      "image/png": "[encoded data removed]",
      "text/plain": [
       "<Figure size 720x576 with 2 Axes>"
      ]
     },
     "metadata": {
      "needs_background": "light"
     },
     "output_type": "display_data"
    },
    {
     "data": {
      "image/png": "[encoded data removed]",
      "text/plain": [
       "<Figure size 720x576 with 2 Axes>"
      ]
     },
     "metadata": {
      "needs_background": "light"
     },
     "output_type": "display_data"
    }
   ],
   "source": [
    "correlation_matrix = nutrition.corr()\n",
    "\n",
    "# Calculate covariance matrix\n",
    "covariance_matrix = nutrition.cov()\n",
    "\n",
    "# Plot correlation heatmap\n",
    "plt.figure(figsize=(10, 8))\n",
    "sns.heatmap(correlation_matrix)\n",
    "#sns.heatmap(correlation_matrix, annot=True, cmap='coolwarm', fmt=\".2f\")\n",
    "plt.title('Correlation Between Nutritional Values')\n",
    "plt.show()\n",
    "\n",
    "# Plot covariance heatmap\n",
    "plt.figure(figsize=(10, 8))\n",
    "sns.heatmap(covariance_matrix)\n",
    "#sns.heatmap(covariance_matrix, annot=True, cmap='coolwarm', fmt=\".2f\")\n",
    "plt.title('Covariance Between Nutritional Values')\n",
    "plt.show()"
   ]
  },
  {
   "cell_type": "markdown",
   "id": "706f38de",
   "metadata": {},
   "source": [
    "#Web scraping\n",
    "\n",
    "Write  a  Python  program  that  can  extract  the  data  from  a  website  using  web scrapping concepts to perform the following tasks:\n",
    "\n",
    "1.Use the request library and the link to extract the data.\n",
    "\n",
    "2.Use BeautifulSoup to prepare the website's source code, then try to find a table on the source page.\n",
    "\n",
    "3.After finding the table, extract data from all available columns and store it in the dataframe.Website Link:Use the below link to get the data from the table on the website.\n",
    "\n",
    "https://en.wikipedia.org/wiki/List_of_countries_and_dependencies_by_population\n"
   ]
  },
  {
   "cell_type": "code",
   "execution_count": 1,
   "id": "2d23970b",
   "metadata": {},
   "outputs": [
    {
     "name": "stdout",
     "output_type": "stream",
     "text": [
      "                              Country / dependency     Population   % ofworld  \\\n",
      "0           –                                World  8,087,768,000        100%   \n",
      "1    1/2  [b]                                China  1,409,670,000       17.4%   \n",
      "2       India                        1,392,329,000          17.2%  1 Jul 2023   \n",
      "3           3                        United States    335,893,238        4.2%   \n",
      "4           4                            Indonesia    279,118,866        3.5%   \n",
      "..        ...                                  ...            ...         ...   \n",
      "236         –                            Niue (NZ)          1,689          0%   \n",
      "237         –                         Tokelau (NZ)          1,647          0%   \n",
      "238       195                         Vatican City            764          0%   \n",
      "239         –  Cocos (Keeling) Islands (Australia)            593          0%   \n",
      "240         –                Pitcairn Islands (UK)             47          0%   \n",
      "\n",
      "                       Date Source (official or fromthe United Nations)        \n",
      "0                6 Feb 2024                            UN projection[3]        \n",
      "1               31 Dec 2023                        Official estimate[5]   [c]  \n",
      "2    Official projection[6]                                         [d]  None  \n",
      "3                1 Jan 2024                        Official estimate[7]   [e]  \n",
      "4                1 Jul 2023               National annual projection[8]        \n",
      "..                      ...                                         ...   ...  \n",
      "236             11 Nov 2022                           2022 Census [232]        \n",
      "237              1 Jan 2019                           2019 Census [233]        \n",
      "238             26 Jun 2023                        Official figure[234]  [af]  \n",
      "239             30 Jun 2020                            2021 Census[235]        \n",
      "240              1 Jul 2021                      Official estimate[236]        \n",
      "\n",
      "[241 rows x 7 columns]\n"
     ]
    }
   ],
   "source": [
    "import requests\n",
    "import pandas as pd\n",
    "from bs4 import BeautifulSoup\n",
    "\n",
    "# Step 1: Use the requests library to fetch the HTML content of the website\n",
    "url = \"https://en.wikipedia.org/wiki/List_of_countries_and_dependencies_by_population\"\n",
    "response = requests.get(url)\n",
    "html_content = response.text\n",
    "\n",
    "# Step 2: Use BeautifulSoup to parse the HTML and find the table\n",
    "soup = BeautifulSoup(html_content, \"html.parser\")\n",
    "table = soup.find(\"table\", {\"class\": \"wikitable\"})\n",
    "\n",
    "# Step 3: Extract data from all available columns and store it in a dataframe\n",
    "data = []\n",
    "rows = table.find_all(\"tr\")\n",
    "for row in rows:\n",
    "    cols = row.find_all([\"th\", \"td\"])\n",
    "    cols = [col.text.strip() for col in cols]\n",
    "    data.append(cols)\n",
    "\n",
    "# Remove empty rows\n",
    "data = [row for row in data if row]\n",
    "\n",
    "# Create dataframe\n",
    "df = pd.DataFrame(data[1:], columns=data[0])\n",
    "\n",
    "print(df)\n"
   ]
  },
  {
   "cell_type": "code",
   "execution_count": 7,
   "id": "cc9cb5fd",
   "metadata": {},
   "outputs": [],
   "source": [
    "df = df.iloc[3:].reset_index(drop=True)"
   ]
  },
  {
   "cell_type": "code",
   "execution_count": 8,
   "id": "6ac686c2",
   "metadata": {},
   "outputs": [
    {
     "data": {
      "text/html": [
       "<div>\n",
       "<style scoped>\n",
       "    .dataframe tbody tr th:only-of-type {\n",
       "        vertical-align: middle;\n",
       "    }\n",
       "\n",
       "    .dataframe tbody tr th {\n",
       "        vertical-align: top;\n",
       "    }\n",
       "\n",
       "    .dataframe thead th {\n",
       "        text-align: right;\n",
       "    }\n",
       "</style>\n",
       "<table border=\"1\" class=\"dataframe\">\n",
       "  <thead>\n",
       "    <tr style=\"text-align: right;\">\n",
       "      <th></th>\n",
       "      <th></th>\n",
       "      <th>Country / dependency</th>\n",
       "      <th>Population</th>\n",
       "      <th>% ofworld</th>\n",
       "      <th>Date</th>\n",
       "      <th>Source (official or fromthe United Nations)</th>\n",
       "      <th></th>\n",
       "    </tr>\n",
       "  </thead>\n",
       "  <tbody>\n",
       "    <tr>\n",
       "      <th>0</th>\n",
       "      <td>3</td>\n",
       "      <td>United States</td>\n",
       "      <td>335,893,238</td>\n",
       "      <td>4.2%</td>\n",
       "      <td>1 Jan 2024</td>\n",
       "      <td>Official estimate[7]</td>\n",
       "      <td>[e]</td>\n",
       "    </tr>\n",
       "    <tr>\n",
       "      <th>1</th>\n",
       "      <td>4</td>\n",
       "      <td>Indonesia</td>\n",
       "      <td>279,118,866</td>\n",
       "      <td>3.5%</td>\n",
       "      <td>1 Jul 2023</td>\n",
       "      <td>National annual projection[8]</td>\n",
       "      <td></td>\n",
       "    </tr>\n",
       "    <tr>\n",
       "      <th>2</th>\n",
       "      <td>5</td>\n",
       "      <td>Pakistan</td>\n",
       "      <td>241,499,431</td>\n",
       "      <td>3.0%</td>\n",
       "      <td>1 Mar 2023</td>\n",
       "      <td>2023 census result[9]</td>\n",
       "      <td>[f]</td>\n",
       "    </tr>\n",
       "    <tr>\n",
       "      <th>3</th>\n",
       "      <td>6</td>\n",
       "      <td>Nigeria</td>\n",
       "      <td>216,783,381</td>\n",
       "      <td>2.7%</td>\n",
       "      <td>1 Jul 2022</td>\n",
       "      <td>Official projection[10]</td>\n",
       "      <td></td>\n",
       "    </tr>\n",
       "    <tr>\n",
       "      <th>4</th>\n",
       "      <td>7</td>\n",
       "      <td>Brazil</td>\n",
       "      <td>203,080,756</td>\n",
       "      <td>2.5%</td>\n",
       "      <td>1 Aug 2022</td>\n",
       "      <td>2022 census result[11]</td>\n",
       "      <td></td>\n",
       "    </tr>\n",
       "    <tr>\n",
       "      <th>...</th>\n",
       "      <td>...</td>\n",
       "      <td>...</td>\n",
       "      <td>...</td>\n",
       "      <td>...</td>\n",
       "      <td>...</td>\n",
       "      <td>...</td>\n",
       "      <td>...</td>\n",
       "    </tr>\n",
       "    <tr>\n",
       "      <th>233</th>\n",
       "      <td>–</td>\n",
       "      <td>Niue (NZ)</td>\n",
       "      <td>1,689</td>\n",
       "      <td>0%</td>\n",
       "      <td>11 Nov 2022</td>\n",
       "      <td>2022 Census [232]</td>\n",
       "      <td></td>\n",
       "    </tr>\n",
       "    <tr>\n",
       "      <th>234</th>\n",
       "      <td>–</td>\n",
       "      <td>Tokelau (NZ)</td>\n",
       "      <td>1,647</td>\n",
       "      <td>0%</td>\n",
       "      <td>1 Jan 2019</td>\n",
       "      <td>2019 Census [233]</td>\n",
       "      <td></td>\n",
       "    </tr>\n",
       "    <tr>\n",
       "      <th>235</th>\n",
       "      <td>195</td>\n",
       "      <td>Vatican City</td>\n",
       "      <td>764</td>\n",
       "      <td>0%</td>\n",
       "      <td>26 Jun 2023</td>\n",
       "      <td>Official figure[234]</td>\n",
       "      <td>[af]</td>\n",
       "    </tr>\n",
       "    <tr>\n",
       "      <th>236</th>\n",
       "      <td>–</td>\n",
       "      <td>Cocos (Keeling) Islands (Australia)</td>\n",
       "      <td>593</td>\n",
       "      <td>0%</td>\n",
       "      <td>30 Jun 2020</td>\n",
       "      <td>2021 Census[235]</td>\n",
       "      <td></td>\n",
       "    </tr>\n",
       "    <tr>\n",
       "      <th>237</th>\n",
       "      <td>–</td>\n",
       "      <td>Pitcairn Islands (UK)</td>\n",
       "      <td>47</td>\n",
       "      <td>0%</td>\n",
       "      <td>1 Jul 2021</td>\n",
       "      <td>Official estimate[236]</td>\n",
       "      <td></td>\n",
       "    </tr>\n",
       "  </tbody>\n",
       "</table>\n",
       "<p>238 rows × 7 columns</p>\n",
       "</div>"
      ],
      "text/plain": [
       "                         Country / dependency   Population % ofworld  \\\n",
       "0      3                        United States  335,893,238      4.2%   \n",
       "1      4                            Indonesia  279,118,866      3.5%   \n",
       "2      5                             Pakistan  241,499,431      3.0%   \n",
       "3      6                              Nigeria  216,783,381      2.7%   \n",
       "4      7                               Brazil  203,080,756      2.5%   \n",
       "..   ...                                  ...          ...       ...   \n",
       "233    –                            Niue (NZ)        1,689        0%   \n",
       "234    –                         Tokelau (NZ)        1,647        0%   \n",
       "235  195                         Vatican City          764        0%   \n",
       "236    –  Cocos (Keeling) Islands (Australia)          593        0%   \n",
       "237    –                Pitcairn Islands (UK)           47        0%   \n",
       "\n",
       "            Date Source (official or fromthe United Nations)        \n",
       "0     1 Jan 2024                        Official estimate[7]   [e]  \n",
       "1     1 Jul 2023               National annual projection[8]        \n",
       "2     1 Mar 2023                       2023 census result[9]   [f]  \n",
       "3     1 Jul 2022                     Official projection[10]        \n",
       "4     1 Aug 2022                      2022 census result[11]        \n",
       "..           ...                                         ...   ...  \n",
       "233  11 Nov 2022                           2022 Census [232]        \n",
       "234   1 Jan 2019                           2019 Census [233]        \n",
       "235  26 Jun 2023                        Official figure[234]  [af]  \n",
       "236  30 Jun 2020                            2021 Census[235]        \n",
       "237   1 Jul 2021                      Official estimate[236]        \n",
       "\n",
       "[238 rows x 7 columns]"
      ]
     },
     "execution_count": 8,
     "metadata": {},
     "output_type": "execute_result"
    }
   ],
   "source": [
    "df"
   ]
  },
  {
   "cell_type": "code",
   "execution_count": null,
   "id": "d5eaba86",
   "metadata": {},
   "outputs": [],
   "source": []
  }
 ],
 "metadata": {
  "kernelspec": {
   "display_name": "Python 3 (ipykernel)",
   "language": "python",
   "name": "python3"
  },
  "language_info": {
   "codemirror_mode": {
    "name": "ipython",
    "version": 3
   },
   "file_extension": ".py",
   "mimetype": "text/x-python",
   "name": "python",
   "nbconvert_exporter": "python",
   "pygments_lexer": "ipython3",
   "version": "3.10.5"
  }
 },
 "nbformat": 4,
 "nbformat_minor": 5
}
