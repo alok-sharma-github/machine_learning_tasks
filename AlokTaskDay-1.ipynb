{
 "cells": [
  {
   "cell_type": "markdown",
   "metadata": {},
   "source": [
    "# Strings\n"
   ]
  },
  {
   "cell_type": "code",
   "execution_count": null,
   "metadata": {},
   "outputs": [],
   "source": [
    "# capitalize(): Converts the first character of a string to uppercase.\n",
    "original_string = \"hello world\"\n",
    "capitalized_string = original_string.capitalize()\n",
    "print(capitalized_string)  # Output: Hello world\n",
    "\n",
    "# casefold(): Returns a casefolded version of the string (more aggressive form of lowercasing).\n",
    "original_string = \"Hello World\"\n",
    "casefolded_string = original_string.casefold()\n",
    "print(casefolded_string)  # Output: hello world\n",
    "\n",
    "# center(): Centers the string within a specified width.\n",
    "original_string = \"Python\"\n",
    "centered_string = original_string.center(10, '*')\n",
    "print(centered_string)  # Output: **Python**\n",
    "\n",
    "# count(): Returns the number of occurrences of a substring in the string.\n",
    "original_string = \"programming is fun, programming is creative.\"\n",
    "count_occurrences = original_string.count(\"programming\")\n",
    "print(count_occurrences)  # Output: 2\n",
    "\n",
    "# encode(): Encodes the string using the specified encoding.\n",
    "original_string = \"hello\"\n",
    "encoded_string = original_string.encode(encoding='utf-8')\n",
    "print(encoded_string)  # Output: b'hello'\n",
    "\n",
    "# endswith(): Checks if the string ends with a specified suffix.\n",
    "original_string = \"Hello, World!\"\n",
    "ends_with = original_string.endswith(\"World!\")\n",
    "print(ends_with)  # Output: True\n",
    "\n",
    "# expandtabs(): Expands tabs in a string to spaces.\n",
    "original_string = \"Hello\\tworld\"\n",
    "expanded_string = original_string.expandtabs()\n",
    "print(expanded_string)  # Output: Hello   world\n",
    "\n",
    "# find(): Returns the lowest index of a substring in the string (or -1 if not found).\n",
    "original_string = \"Python is easy and Python is powerful\"\n",
    "index_of_python = original_string.find(\"Python\")\n",
    "print(index_of_python)  # Output: 0\n",
    "\n",
    "# format(): Formats a string by substituting values.\n",
    "name = \"Alice\"\n",
    "age = 25\n",
    "formatted_string = \"My name is {} and I am {} years old.\".format(name, age)\n",
    "print(formatted_string)  # Output: My name is Alice and I am 25 years old.\n",
    "\n",
    "# format_map(): Similar to format(), but uses a dictionary for substitutions.\n",
    "info_dict = {\"name\": \"Bob\", \"age\": 30}\n",
    "formatted_string = \"My name is {name} and I am {age} years old.\".format_map(info_dict)\n",
    "print(formatted_string)  # Output: My name is Bob and I am 30 years old.\n",
    "\n",
    "# index(): Similar to find(), but raises a ValueError if the substring is not found.\n",
    "original_string = \"Python is easy and Python is powerful\"\n",
    "index_of_python = original_string.index(\"Python\")\n",
    "print(index_of_python)  # Output: 0\n",
    "\n",
    "# isalnum(): Returns True if all characters in the string are alphanumeric.\n",
    "alphanumeric_string = \"Python3\"\n",
    "is_alnum = alphanumeric_string.isalnum()\n",
    "print(is_alnum)  # Output: True\n",
    "\n",
    "# isalpha(): Returns True if all characters in the string are alphabetic.\n",
    "alpha_string = \"Python\"\n",
    "is_alpha = alpha_string.isalpha()\n",
    "print(is_alpha)  # Output: True\n",
    "\n",
    "# isdecimal(): Returns True if all characters in the string are decimals.\n",
    "decimal_string = \"12345\"\n",
    "is_decimal = decimal_string.isdecimal()\n",
    "print(is_decimal)  # Output: True\n",
    "\n",
    "# isdigit(): Returns True if all characters in the string are digits.\n",
    "digit_string = \"123\"\n",
    "is_digit = digit_string.isdigit()\n",
    "print(is_digit)  # Output: True\n",
    "\n",
    "# isidentifier(): Returns True if the string is a valid identifier.\n",
    "valid_identifier = \"variable_name\"\n",
    "is_valid_identifier = valid_identifier.isidentifier()\n",
    "print(is_valid_identifier)  # Output: True\n",
    "\n",
    "# islower(): Returns True if all alphabetic characters in the string are lowercase.\n",
    "lowercase_string = \"python\"\n",
    "is_lower = lowercase_string.islower()\n",
    "print(is_lower)  # Output: True\n",
    "\n",
    "# isnumeric(): Returns True if all characters in the string are numeric.\n",
    "numeric_string = \"123\"\n",
    "is_numeric = numeric_string.isnumeric()\n",
    "print(is_numeric)  # Output: True\n",
    "\n",
    "# isprintable(): Returns True if all characters in the string are printable.\n",
    "printable_string = \"Hello\\nWorld\"\n",
    "is_printable = printable_string.isprintable()\n",
    "print(is_printable)  # Output: False\n",
    "\n",
    "# isspace(): Returns True if all characters in the string are whitespace.\n",
    "whitespace_string = \"    \"\n",
    "is_space = whitespace_string.isspace()\n",
    "print(is_space)  # Output: True\n",
    "\n",
    "# istitle(): Returns True if the string is a titlecased string.\n",
    "titlecased_string = \"This Is a Title\"\n",
    "is_title = titlecased_string.istitle()\n",
    "print(is_title)  # Output: True\n",
    "\n",
    "# isupper(): Returns True if all alphabetic characters in the string are uppercase.\n",
    "uppercase_string = \"PYTHON\"\n",
    "is_upper = uppercase_string.isupper()\n",
    "print(is_upper)  # Output: True\n",
    "\n",
    "# join(): Joins elements of an iterable into a string using the string as a separator.\n",
    "words = [\"Hello\", \"world\", \"Python\"]\n",
    "joined_string = \" \".join(words)\n",
    "print(joined_string)  # Output: Hello world Python\n",
    "\n",
    "# ljust(): Left-justifies the string in a field of a specified width.\n",
    "original_string = \"Python\"\n",
    "left_justified_string = original_string.ljust(10, '*')\n",
    "print(left_justified_string)  # Output: Python****\n",
    "\n",
    "# lower(): Converts all alphabetic characters in the string to lowercase.\n",
    "original_string = \"HELLO\"\n",
    "lowercase_string = original_string.lower()\n",
    "print(lowercase_string)  # Output: hello\n",
    "\n",
    "# lstrip(): Removes leading whitespace characters from the string.\n",
    "original_string = \"   Python   \"\n",
    "stripped_string = original_string.lstrip()\n",
    "print(stripped_string)  # Output: Python   \n",
    "\n",
    "# maketrans(): Creates a translation table for use in translate().\n",
    "# Used with translate() to replace characters.\n",
    "replace_table = str.maketrans(\"aeiou\", \"12345\")\n",
    "translated_string = \"python is fun\".translate(replace_table)\n",
    "print(translated_string)  # Output: pyth4n 3s fun\n",
    "\n",
    "# partition(): Returns a tuple containing three parts of the string.\n",
    "original_string = \"Python is easy\"\n",
    "partition_tuple = original_string.partition(\"is\")\n",
    "print(partition_tuple)  # Output: ('Python ', 'is', ' easy')\n",
    "\n",
    "# replace(): Replaces a specified substring with another string.\n",
    "original_string = \"Python is easy and Python is powerful\"\n",
    "new_string = original_string.replace(\"Python\", \"Java\")\n",
    "print(new_string)  # Output: Java is easy and Java is powerful\n",
    "\n",
    "# rfind(): Similar to find(), but searches backward from the end.\n",
    "original_string = \"Python is easy and Python is powerful\"\n",
    "index_of_python = original_string.rfind(\"Python\")\n",
    "print(index_of_python)  # Output: 20\n",
    "\n",
    "# rindex(): Similar to index(), but searches backward from the end.\n",
    "original_string = \"Python is easy and Python is powerful\"\n",
    "index_of_python = original_string.rindex(\"Python\")\n",
    "print(index_of_python)  # Output: 20\n",
    "\n",
    "# rjust(): Right-justifies the string in a field of a specified width.\n",
    "original_string = \"Python\"\n",
    "right_justified_string = original_string.rjust(10, '*')\n",
    "print(right_justified_string)  # Output: ****Python\n",
    "\n",
    "# rpartition(): Returns a tuple containing three parts of the string.\n",
    "original_string = \"Python is easy\"\n",
    "partition_tuple = original_string.rpartition(\"is\")\n",
    "print(partition_tuple)  # Output: ('Python ', 'is', ' easy')\n",
    "\n",
    "# rsplit(): Splits the string at the specified separator from the right.\n",
    "original_string = \"Python,Java,C++,JavaScript\"\n",
    "split_list = original_string.rsplit(\",\")\n",
    "print(split_list)  # Output: ['Python', 'Java', 'C++', 'JavaScript']\n",
    "\n",
    "# rstrip(): Removes trailing whitespace characters from the string.\n",
    "original_string = \"   Python   \"\n",
    "stripped_string = original_string.rstrip()\n",
    "print(stripped_string)  # Output:    Python\n",
    "\n",
    "# splitlines(): Splits the string at line breaks and returns a list of lines.\n",
    "multiline_string = \"Hello\\nWorld\\nPython\"\n",
    "lines_list = multiline_string.splitlines()\n",
    "print(lines_list)  # Output: ['Hello', 'World', 'Python']\n",
    "\n",
    "# startswith(): Checks if the string starts with a specified prefix.\n",
    "original_string = \"Python is easy\"\n",
    "starts_with = original_string.startswith(\"Python\")\n",
    "print(starts_with)  # Output: True\n",
    "\n",
    "# strip(): Removes leading and trailing whitespace characters from the string.\n",
    "original_string = \"   Python   \"\n",
    "stripped_string = original_string.strip()\n",
    "print(stripped_string)  # Output: Python\n",
    "\n",
    "# swapcase(): Swaps the case of all alphabetic characters in the string.\n",
    "mixed_case_string = \"PyThOn Is FuN\"\n",
    "swapped_case_string = mixed_case_string.swapcase()\n",
    "print(swapped_case_string)  # Output: pYtHoN iS fUn\n",
    "\n",
    "# title(): Returns a titlecased version of the string.\n",
    "original_string = \"python is fun\"\n",
    "titlecased_string = original_string.title()\n",
    "print(titlecased_string)  # Output: Python Is Fun\n",
    "\n",
    "# translate(): Translates characters using a translation table.\n",
    "# Requires a translation table created with maketrans().\n",
    "replace_table = str.maketrans(\"aeiou\", \"12345\")\n",
    "translated_string = \"python is fun\".translate(replace_table)\n",
    "print(translated_string)  # Output: pyth4n 3s fun\n",
    "\n",
    "# upper(): Converts all alphabetic characters in the string to uppercase.\n",
    "original_string = \"hello\"\n",
    "uppercase_string = original_string.upper()\n",
    "print(uppercase_string)  # Output: HELLO\n",
    "\n",
    "# zfill(): Pads the string with zeros on the left to a specified width.\n",
    "original_string = \"42\"\n",
    "zero_padded_string = original_string.zfill(5)\n",
    "print(zero_padded_string)  # Output: 00042\n"
   ]
  },
  {
   "cell_type": "markdown",
   "metadata": {},
   "source": [
    "# \"==\"   vs is  vs in \n",
    "# use examples to differentiate"
   ]
  },
  {
   "cell_type": "code",
   "execution_count": 10,
   "metadata": {},
   "outputs": [
    {
     "name": "stdout",
     "output_type": "stream",
     "text": [
      "Equality Check: True\n",
      "Equality Check Two: True\n",
      "Equality Check Three: True\n",
      "\n",
      "Identity Check: True\n",
      "Identity Check Two: False\n",
      "Identity Check Three: False\n",
      "\n",
      "Membership Check: True\n",
      "Membership Check Two: False\n",
      "Membership Check Three: False\n"
     ]
    }
   ],
   "source": [
    "# Example list\n",
    "list_a = [1, 2, 3]\n",
    "list_b = [1, 2, 3]\n",
    "list_c = list_a\n",
    "\n",
    "# Equality check (==): Checks if values are same\n",
    "equality_result = (list_a == list_b)\n",
    "print(f\"Equality Check: {equality_result}\")  # Output: True\n",
    "equality_result_two = (list_a == list_c)\n",
    "print(f\"Equality Check Two: {equality_result_two}\") #output: True\n",
    "equality_result_three = (list_b == list_c)\n",
    "print(f\"Equality Check Three: {equality_result_three}\") #output: True\n",
    "\n",
    "# Identity check (is): Checks if the object reference in the memory is same\n",
    "identity_result = (list_a is list_c)\n",
    "print(f\"\\nIdentity Check: {identity_result}\")  # Output: True\n",
    "#True, because list_c is assigned same to the list_a\n",
    "\n",
    "identity_result_two = (list_b is list_c)\n",
    "print(f\"Identity Check Two: {identity_result_two}\")  # Output: False\n",
    "identity_result_three = (list_a is list_b)\n",
    "print(f\"Identity Check Three: {identity_result_three}\")  # Output: False\n",
    "\n",
    "# Membership check (in): checks if that particular value does lie in the object or not.\n",
    "membership_result = (2 in list_a)\n",
    "print(f\"\\nMembership Check: {membership_result}\")  # Output: True\n",
    "membership_result_two = (list_a in list_c)\n",
    "print(f\"Membership Check Two: {membership_result_two}\")  # Output: False\n",
    "membership_result_three = (list_a in list_b)\n",
    "print(f\"Membership Check Three: {membership_result_three}\")  # Output: False"
   ]
  },
  {
   "cell_type": "markdown",
   "metadata": {},
   "source": [
    "# Question : To-Do List Manager\n",
    "    \n",
    "Create a simple command-line program that allows users to add, view, and remove items from a to-do list. Use a list to store the items.\n",
    "\n"
   ]
  },
  {
   "cell_type": "code",
   "execution_count": 22,
   "metadata": {},
   "outputs": [],
   "source": [
    "my_list = [1,2,3,4,5]"
   ]
  },
  {
   "cell_type": "code",
   "execution_count": 30,
   "metadata": {},
   "outputs": [
    {
     "data": {
      "text/plain": [
       "[1, 2, 3, 4, 5, 6, 7, 8, [9, 10]]"
      ]
     },
     "execution_count": 30,
     "metadata": {},
     "output_type": "execute_result"
    }
   ],
   "source": [
    "my_list"
   ]
  },
  {
   "cell_type": "code",
   "execution_count": 13,
   "metadata": {},
   "outputs": [],
   "source": [
    "my_list.clear() # clears whole list\n",
    "my_list.pop() # pops out last element\n",
    "my_list.remove(4) # removes the mentioned element\n",
    "my_list.append(6) # appends particular value to the list\n",
    "my_list.extend([[9,10]]) # appends a list/nested list inside list"
   ]
  },
  {
   "cell_type": "code",
   "execution_count": 31,
   "metadata": {},
   "outputs": [],
   "source": [
    "class ToDoList:\n",
    "    \"\"\"\n",
    "    A class representing a to-do list.\n",
    "\n",
    "    Attributes:\n",
    "    - my_list (list): The list to store tasks.\n",
    "\n",
    "    Methods:\n",
    "    - add_one(): Add a single task to the list.\n",
    "    - add_multi(): Add multiple tasks to the list.\n",
    "    - view(): Display the current list of tasks.\n",
    "    - remove(): Remove a specific task from the list.\n",
    "    - remove_last(): Remove the last task from the list.\n",
    "    - clear(): Clear all tasks from the list.\n",
    "    \"\"\"\n",
    "\n",
    "    def __init__(self):\n",
    "        # Initialize an empty list for each instance\n",
    "        self.my_list = []\n",
    "\n",
    "    def add_one(self):\n",
    "        task = input(\"Type your task: \")\n",
    "        self.my_list.append(task)\n",
    "\n",
    "    def add_multi(self):\n",
    "        tasks = input(\"Type your multiple tasks separated by commas: \")\n",
    "        tasks_list = tasks.split(',')\n",
    "        self.my_list.extend(tasks_list)\n",
    "\n",
    "    def view(self):\n",
    "        print(self.my_list)\n",
    "\n",
    "    def remove(self):\n",
    "        task_to_remove = input(\"Enter task to remove: \")\n",
    "        if task_to_remove in self.my_list:\n",
    "            self.my_list.remove(task_to_remove)\n",
    "        else:\n",
    "            print(\"Task not found.\")\n",
    "\n",
    "    def remove_last(self):\n",
    "        if self.my_list:\n",
    "            removed_task = self.my_list.pop()\n",
    "            print(f\"Removed task: {removed_task}\")\n",
    "        else:\n",
    "            print(\"List is empty.\")\n",
    "\n",
    "    def clear(self):\n",
    "        self.my_list.clear()\n",
    "\n",
    "'''# Example usage\n",
    "todo = ToDoList()\n",
    "todo.add_one()\n",
    "todo.add_multi()\n",
    "todo.view()\n",
    "todo.remove()\n",
    "todo.remove_last()\n",
    "todo.clear()\n",
    "'''\n"
   ]
  },
  {
   "cell_type": "markdown",
   "metadata": {},
   "source": [
    "# Question : Password Generator\n",
    "    \n",
    "Create a tool that generates strong passwords with a specified length and complexity (uppercase, lowercase, digits, symbols)."
   ]
  },
  {
   "cell_type": "code",
   "execution_count": 111,
   "metadata": {},
   "outputs": [
    {
     "data": {
      "text/plain": [
       "['H', 'H', 'X', 'U', '5', '?', '+', 'p']"
      ]
     },
     "execution_count": 111,
     "metadata": {},
     "output_type": "execute_result"
    }
   ],
   "source": [
    "import random\n",
    "import string\n",
    "all_characters = string.printable\n",
    "password = random.choices(all_characters,k=8)\n",
    "password\n",
    "\n"
   ]
  },
  {
   "cell_type": "code",
   "execution_count": 141,
   "metadata": {},
   "outputs": [],
   "source": [
    "import random\n",
    "\n",
    "class PasswordGenerator:\n",
    "    \"\"\"\n",
    "    A class for generating random passwords based on user-defined criteria.\n",
    "\n",
    "    Attributes:\n",
    "    - recipe (list): A list to store possible characters for password generation.\n",
    "\n",
    "    Methods:\n",
    "    - length(): Prompt the user to select number of characters from the combinations list, which includes digits, letters, and special characters.\n",
    "    - digits(): Allow the user to specify possible digits for the password.\n",
    "    - letters(): Allow the user to specify possible letters for the password.\n",
    "    - special_char(): Allow the user to specify possible special characters for the password.\n",
    "    - create_passwords(num_passwords): Generate random passwords based on user-defined criteria.\n",
    "    \"\"\"\n",
    "\n",
    "    def __init__(self):\n",
    "        \"\"\"\n",
    "        Initialize the PasswordGenerator with an empty recipe list.\n",
    "        \"\"\"\n",
    "        self.recipe = []\n",
    "\n",
    "    def length(self):\n",
    "        \"\"\"\n",
    "        Prompt the user to select characters from the combinations list, which includes digits, letters, and special characters.\n",
    "        Returns:\n",
    "        - int: number of characters from the combinations list, which includes digits, letters, and special characters.\n",
    "        \"\"\"\n",
    "        length_of_password = int(input(\"How many characters to chose?\"))\n",
    "        return length_of_password\n",
    "\n",
    "    def digits(self):\n",
    "        \"\"\"\n",
    "        Allow the user to specify possible digits for the password.\n",
    "        \"\"\"\n",
    "        digits = input(\"Enter possible digits separated by comma: \")\n",
    "        digit_list = digits.split(',')\n",
    "        self.recipe.extend(digit_list)\n",
    "\n",
    "    def letters(self):\n",
    "        \"\"\"\n",
    "        Allow the user to specify possible letters for the password.\n",
    "        \"\"\"\n",
    "        letters = input(\"Enter possible letters separated by comma: \")\n",
    "        letter_list = letters.split(',')\n",
    "        self.recipe.extend(letter_list)\n",
    "\n",
    "    def special_char(self):\n",
    "        \"\"\"\n",
    "        Allow the user to specify possible special characters for the password.\n",
    "        \"\"\"\n",
    "        character = input(\"Enter possible characters separated by comma: \")\n",
    "        character_list = character.split(',')\n",
    "        self.recipe.extend(character_list)\n",
    "\n",
    "    def create_passwords(self, num_passwords):\n",
    "        \"\"\"\n",
    "        Generate random passwords based on user-defined criteria.\n",
    "\n",
    "        Parameters:\n",
    "        - num_passwords (int): The number of passwords to generate.\n",
    "\n",
    "        Returns:\n",
    "        - list: A list of randomly generated passwords.\n",
    "        \"\"\"\n",
    "        combinations = self.recipe\n",
    "        password_length = self.length()\n",
    "        passwords = [''.join(random.sample(combinations, password_length)) for _ in range(num_passwords)]\n",
    "        return passwords\n"
   ]
  },
  {
   "cell_type": "code",
   "execution_count": 142,
   "metadata": {},
   "outputs": [],
   "source": [
    "password_generator = PasswordGenerator()"
   ]
  },
  {
   "cell_type": "code",
   "execution_count": 143,
   "metadata": {},
   "outputs": [],
   "source": [
    "password_generator.digits()"
   ]
  },
  {
   "cell_type": "code",
   "execution_count": 144,
   "metadata": {},
   "outputs": [],
   "source": [
    "password_generator.letters()"
   ]
  },
  {
   "cell_type": "code",
   "execution_count": 145,
   "metadata": {},
   "outputs": [],
   "source": [
    "password_generator.special_char()"
   ]
  },
  {
   "cell_type": "code",
   "execution_count": 146,
   "metadata": {},
   "outputs": [],
   "source": [
    "generated_password = password_generator.create_passwords(10)"
   ]
  },
  {
   "cell_type": "code",
   "execution_count": 147,
   "metadata": {},
   "outputs": [
    {
     "name": "stdout",
     "output_type": "stream",
     "text": [
      "Generated Password: ['#123inzint', 'Inzint@123', 'Inzint@$', 'Inzint#$', '321Inzint@', '123Inzint@', '#$@', '#@inzint', '@inzint321', '321&Inzint']\n"
     ]
    }
   ],
   "source": [
    "print(\"Generated Password:\", generated_password)"
   ]
  },
  {
   "cell_type": "markdown",
   "metadata": {},
   "source": [
    "Question : Caesar Cipher\n",
    "\n",
    "Implement a simple Caesar cipher encryption program that shifts letters in a string by a specified number of positions."
   ]
  },
  {
   "cell_type": "code",
   "execution_count": 216,
   "metadata": {},
   "outputs": [],
   "source": [
    "my_string = \"Alok\"\n",
    "\n",
    "lst = list(my_string)\n",
    "\n",
    "\n",
    "\n"
   ]
  },
  {
   "cell_type": "code",
   "execution_count": 213,
   "metadata": {},
   "outputs": [],
   "source": [
    "# shift by 1 left to right\n",
    "last = lst[-1]\n",
    "lst = lst[:-1]\n",
    "lst.insert(0,last)\n"
   ]
  },
  {
   "cell_type": "code",
   "execution_count": 219,
   "metadata": {},
   "outputs": [],
   "source": [
    "# shift by 1 right to left\n",
    "lst\n",
    "last = lst[0]\n",
    "lst = lst[1:]\n",
    "lst.append(last)\n"
   ]
  },
  {
   "cell_type": "code",
   "execution_count": 220,
   "metadata": {},
   "outputs": [
    {
     "data": {
      "text/plain": [
       "['l', 'o', 'k', 'A']"
      ]
     },
     "execution_count": 220,
     "metadata": {},
     "output_type": "execute_result"
    }
   ],
   "source": [
    "lst"
   ]
  },
  {
   "cell_type": "code",
   "execution_count": 226,
   "metadata": {},
   "outputs": [],
   "source": [
    "class CaeserCipher:\n",
    "    def __init__(self):\n",
    "        self.my_string = input(\"Enter message\")\n",
    "    \n",
    "    def left_to_right(self,positions):\n",
    "        mylist= list(self.my_string)\n",
    "        for _ in range(positions):\n",
    "            last_char = mylist[-1]\n",
    "            mylist = mylist[:-1]\n",
    "            mylist.insert(0,last_char)\n",
    "            self.my_string = ''.join(mylist)\n",
    "        return self.my_string\n",
    "    \n",
    "    def right_to_left(self,positions):\n",
    "        mylist= list(self.my_string)\n",
    "        for _ in range(positions):\n",
    "            first_char = mylist[0]\n",
    "            mylist = mylist[1:]\n",
    "            mylist.append(first_char)\n",
    "            self.my_string = ''.join(mylist)\n",
    "        return self.my_string\n",
    "            \n"
   ]
  },
  {
   "cell_type": "code",
   "execution_count": 227,
   "metadata": {},
   "outputs": [],
   "source": [
    "cipher = CaeserCipher()"
   ]
  },
  {
   "cell_type": "code",
   "execution_count": 228,
   "metadata": {},
   "outputs": [
    {
     "data": {
      "text/plain": [
       "'kalo'"
      ]
     },
     "execution_count": 228,
     "metadata": {},
     "output_type": "execute_result"
    }
   ],
   "source": [
    "cipher.left_to_right(1)"
   ]
  },
  {
   "cell_type": "code",
   "execution_count": 230,
   "metadata": {},
   "outputs": [
    {
     "data": {
      "text/plain": [
       "'loka'"
      ]
     },
     "execution_count": 230,
     "metadata": {},
     "output_type": "execute_result"
    }
   ],
   "source": [
    "cipher.right_to_left(1)"
   ]
  },
  {
   "cell_type": "code",
   "execution_count": null,
   "metadata": {},
   "outputs": [],
   "source": []
  }
 ],
 "metadata": {
  "kernelspec": {
   "display_name": "Python 3",
   "language": "python",
   "name": "python3"
  },
  "language_info": {
   "codemirror_mode": {
    "name": "ipython",
    "version": 3
   },
   "file_extension": ".py",
   "mimetype": "text/x-python",
   "name": "python",
   "nbconvert_exporter": "python",
   "pygments_lexer": "ipython3",
   "version": "3.10.5"
  }
 },
 "nbformat": 4,
 "nbformat_minor": 2
}
