{
 "cells": [
  {
   "cell_type": "code",
   "execution_count": null,
   "id": "8aac6ba4",
   "metadata": {},
   "outputs": [],
   "source": [
    "#chi square test>>>>\n",
    "#data preprocessing\n",
    "#scaling>>>>minmax,standard , robust\n",
    "#normalization>>>>\n",
    "#encoding>>>> get dummies, label encoder, one hot encoding"
   ]
  },
  {
   "cell_type": "code",
   "execution_count": 56,
   "id": "3b9a4c9d",
   "metadata": {},
   "outputs": [],
   "source": [
    "import pandas as pd\n",
    "import numpy as np\n",
    "import seaborn as sns\n"
   ]
  },
  {
   "cell_type": "code",
   "execution_count": 93,
   "id": "a9ad6724",
   "metadata": {},
   "outputs": [],
   "source": [
    "df=pd.read_csv('students.csv')"
   ]
  },
  {
   "cell_type": "code",
   "execution_count": 94,
   "id": "9975bd69",
   "metadata": {},
   "outputs": [
    {
     "data": {
      "text/html": [
       "<div>\n",
       "<style scoped>\n",
       "    .dataframe tbody tr th:only-of-type {\n",
       "        vertical-align: middle;\n",
       "    }\n",
       "\n",
       "    .dataframe tbody tr th {\n",
       "        vertical-align: top;\n",
       "    }\n",
       "\n",
       "    .dataframe thead th {\n",
       "        text-align: right;\n",
       "    }\n",
       "</style>\n",
       "<table border=\"1\" class=\"dataframe\">\n",
       "  <thead>\n",
       "    <tr style=\"text-align: right;\">\n",
       "      <th></th>\n",
       "      <th>stud.id</th>\n",
       "      <th>name</th>\n",
       "      <th>gender</th>\n",
       "      <th>age</th>\n",
       "      <th>height</th>\n",
       "      <th>weight</th>\n",
       "      <th>religion</th>\n",
       "      <th>nc.score</th>\n",
       "      <th>semester</th>\n",
       "      <th>major</th>\n",
       "      <th>minor</th>\n",
       "      <th>score1</th>\n",
       "      <th>score2</th>\n",
       "      <th>online.tutorial</th>\n",
       "      <th>graduated</th>\n",
       "      <th>salary</th>\n",
       "    </tr>\n",
       "  </thead>\n",
       "  <tbody>\n",
       "    <tr>\n",
       "      <th>1</th>\n",
       "      <td>833917</td>\n",
       "      <td>Gonzales, Christina</td>\n",
       "      <td>Female</td>\n",
       "      <td>19</td>\n",
       "      <td>160</td>\n",
       "      <td>64.8</td>\n",
       "      <td>Muslim</td>\n",
       "      <td>1.91</td>\n",
       "      <td>1st</td>\n",
       "      <td>Political Science</td>\n",
       "      <td>Social Sciences</td>\n",
       "      <td>NaN</td>\n",
       "      <td>NaN</td>\n",
       "      <td>0</td>\n",
       "      <td>0</td>\n",
       "      <td>NaN</td>\n",
       "    </tr>\n",
       "    <tr>\n",
       "      <th>2</th>\n",
       "      <td>898539</td>\n",
       "      <td>Lozano, T'Hani</td>\n",
       "      <td>Female</td>\n",
       "      <td>19</td>\n",
       "      <td>172</td>\n",
       "      <td>73.0</td>\n",
       "      <td>Other</td>\n",
       "      <td>1.56</td>\n",
       "      <td>2nd</td>\n",
       "      <td>Social Sciences</td>\n",
       "      <td>Mathematics and Statistics</td>\n",
       "      <td>NaN</td>\n",
       "      <td>NaN</td>\n",
       "      <td>0</td>\n",
       "      <td>0</td>\n",
       "      <td>NaN</td>\n",
       "    </tr>\n",
       "    <tr>\n",
       "      <th>3</th>\n",
       "      <td>379678</td>\n",
       "      <td>Williams, Hanh</td>\n",
       "      <td>Female</td>\n",
       "      <td>22</td>\n",
       "      <td>168</td>\n",
       "      <td>70.6</td>\n",
       "      <td>Protestant</td>\n",
       "      <td>1.24</td>\n",
       "      <td>3rd</td>\n",
       "      <td>Social Sciences</td>\n",
       "      <td>Mathematics and Statistics</td>\n",
       "      <td>45.0</td>\n",
       "      <td>46.0</td>\n",
       "      <td>0</td>\n",
       "      <td>0</td>\n",
       "      <td>NaN</td>\n",
       "    </tr>\n",
       "    <tr>\n",
       "      <th>4</th>\n",
       "      <td>807564</td>\n",
       "      <td>Nem, Denzel</td>\n",
       "      <td>Male</td>\n",
       "      <td>19</td>\n",
       "      <td>183</td>\n",
       "      <td>79.7</td>\n",
       "      <td>Other</td>\n",
       "      <td>1.37</td>\n",
       "      <td>2nd</td>\n",
       "      <td>Environmental Sciences</td>\n",
       "      <td>Mathematics and Statistics</td>\n",
       "      <td>NaN</td>\n",
       "      <td>NaN</td>\n",
       "      <td>0</td>\n",
       "      <td>0</td>\n",
       "      <td>NaN</td>\n",
       "    </tr>\n",
       "    <tr>\n",
       "      <th>5</th>\n",
       "      <td>383291</td>\n",
       "      <td>Powell, Heather</td>\n",
       "      <td>Female</td>\n",
       "      <td>21</td>\n",
       "      <td>175</td>\n",
       "      <td>71.4</td>\n",
       "      <td>Catholic</td>\n",
       "      <td>1.46</td>\n",
       "      <td>1st</td>\n",
       "      <td>Environmental Sciences</td>\n",
       "      <td>Mathematics and Statistics</td>\n",
       "      <td>NaN</td>\n",
       "      <td>NaN</td>\n",
       "      <td>0</td>\n",
       "      <td>0</td>\n",
       "      <td>NaN</td>\n",
       "    </tr>\n",
       "  </tbody>\n",
       "</table>\n",
       "</div>"
      ],
      "text/plain": [
       "   stud.id                 name  gender  age  height  weight    religion  \\\n",
       "1   833917  Gonzales, Christina  Female   19     160    64.8      Muslim   \n",
       "2   898539       Lozano, T'Hani  Female   19     172    73.0       Other   \n",
       "3   379678       Williams, Hanh  Female   22     168    70.6  Protestant   \n",
       "4   807564          Nem, Denzel    Male   19     183    79.7       Other   \n",
       "5   383291      Powell, Heather  Female   21     175    71.4    Catholic   \n",
       "\n",
       "   nc.score semester                   major                       minor  \\\n",
       "1      1.91      1st       Political Science             Social Sciences   \n",
       "2      1.56      2nd         Social Sciences  Mathematics and Statistics   \n",
       "3      1.24      3rd         Social Sciences  Mathematics and Statistics   \n",
       "4      1.37      2nd  Environmental Sciences  Mathematics and Statistics   \n",
       "5      1.46      1st  Environmental Sciences  Mathematics and Statistics   \n",
       "\n",
       "   score1  score2  online.tutorial  graduated  salary  \n",
       "1     NaN     NaN                0          0     NaN  \n",
       "2     NaN     NaN                0          0     NaN  \n",
       "3    45.0    46.0                0          0     NaN  \n",
       "4     NaN     NaN                0          0     NaN  \n",
       "5     NaN     NaN                0          0     NaN  "
      ]
     },
     "execution_count": 94,
     "metadata": {},
     "output_type": "execute_result"
    }
   ],
   "source": [
    "df.head()"
   ]
  },
  {
   "cell_type": "code",
   "execution_count": 59,
   "id": "0e774831",
   "metadata": {},
   "outputs": [],
   "source": [
    "#goodness of fit   >>>to check whether a variable is likely to come in a specific dist.\n",
    "#independence >>>> association b/w two cat variables"
   ]
  },
  {
   "cell_type": "markdown",
   "id": "b759d1a4",
   "metadata": {},
   "source": [
    "Q. Find whether there is equal proportion of males and females in university?"
   ]
  },
  {
   "cell_type": "code",
   "execution_count": 60,
   "id": "9d2e7f9b",
   "metadata": {},
   "outputs": [],
   "source": [
    "#hypothesis\n",
    "null_hypo=\"Proportion is same\"\n",
    "alt_hypo=\"Proportion is not same\""
   ]
  },
  {
   "cell_type": "code",
   "execution_count": 61,
   "id": "472eefe3",
   "metadata": {},
   "outputs": [
    {
     "data": {
      "text/plain": [
       "1       Female\n",
       "2       Female\n",
       "3       Female\n",
       "4         Male\n",
       "5       Female\n",
       "         ...  \n",
       "8235      Male\n",
       "8236      Male\n",
       "8237    Female\n",
       "8238      Male\n",
       "8239    Female\n",
       "Name: gender, Length: 8239, dtype: object"
      ]
     },
     "execution_count": 61,
     "metadata": {},
     "output_type": "execute_result"
    }
   ],
   "source": [
    "#samples =500\n",
    "df[\"gender\"]"
   ]
  },
  {
   "cell_type": "code",
   "execution_count": 96,
   "id": "fe758c68",
   "metadata": {},
   "outputs": [
    {
     "data": {
      "text/plain": [
       "(8239, 16)"
      ]
     },
     "execution_count": 96,
     "metadata": {},
     "output_type": "execute_result"
    }
   ],
   "source": [
    "df.shape"
   ]
  },
  {
   "cell_type": "code",
   "execution_count": 83,
   "id": "a1a29e6f",
   "metadata": {},
   "outputs": [],
   "source": [
    "df.dropna(inplace= True)"
   ]
  },
  {
   "cell_type": "code",
   "execution_count": 84,
   "id": "339ce278",
   "metadata": {},
   "outputs": [
    {
     "data": {
      "text/html": [
       "<div>\n",
       "<style scoped>\n",
       "    .dataframe tbody tr th:only-of-type {\n",
       "        vertical-align: middle;\n",
       "    }\n",
       "\n",
       "    .dataframe tbody tr th {\n",
       "        vertical-align: top;\n",
       "    }\n",
       "\n",
       "    .dataframe thead th {\n",
       "        text-align: right;\n",
       "    }\n",
       "</style>\n",
       "<table border=\"1\" class=\"dataframe\">\n",
       "  <thead>\n",
       "    <tr style=\"text-align: right;\">\n",
       "      <th>gender</th>\n",
       "      <th>Female</th>\n",
       "      <th>Male</th>\n",
       "    </tr>\n",
       "    <tr>\n",
       "      <th>gender</th>\n",
       "      <th></th>\n",
       "      <th></th>\n",
       "    </tr>\n",
       "  </thead>\n",
       "  <tbody>\n",
       "    <tr>\n",
       "      <th>Female</th>\n",
       "      <td>193</td>\n",
       "      <td>0</td>\n",
       "    </tr>\n",
       "    <tr>\n",
       "      <th>Male</th>\n",
       "      <td>0</td>\n",
       "      <td>307</td>\n",
       "    </tr>\n",
       "  </tbody>\n",
       "</table>\n",
       "</div>"
      ],
      "text/plain": [
       "gender  Female  Male\n",
       "gender              \n",
       "Female     193     0\n",
       "Male         0   307"
      ]
     },
     "execution_count": 84,
     "metadata": {},
     "output_type": "execute_result"
    }
   ],
   "source": [
    "pd.crosstab(df[\"gender\"].sample(n=500,random_state=1),df[\"gender\"].sample(n=500,random_state=1))"
   ]
  },
  {
   "cell_type": "code",
   "execution_count": 85,
   "id": "eba831e3",
   "metadata": {},
   "outputs": [],
   "source": [
    "# 270 + 230 = 500 (sample size)"
   ]
  },
  {
   "cell_type": "code",
   "execution_count": 86,
   "id": "17822e6f",
   "metadata": {},
   "outputs": [],
   "source": [
    "#alpha\n",
    "alpha=0.05"
   ]
  },
  {
   "cell_type": "code",
   "execution_count": 87,
   "id": "1cc3b7e7",
   "metadata": {},
   "outputs": [
    {
     "data": {
      "text/plain": [
       "5.023886187314888"
      ]
     },
     "execution_count": 87,
     "metadata": {},
     "output_type": "execute_result"
    }
   ],
   "source": [
    "#p = 1-alpha/2\n",
    "p=1-alpha/2\n",
    "dof=1\n",
    "from scipy.stats import chi2, chisquare\n",
    "chi2.ppf(p,dof)"
   ]
  },
  {
   "cell_type": "code",
   "execution_count": 90,
   "id": "dec4def5",
   "metadata": {},
   "outputs": [],
   "source": [
    "stat,p_value=chisquare([193,307],[250,250])"
   ]
  },
  {
   "cell_type": "code",
   "execution_count": 91,
   "id": "361f0620",
   "metadata": {},
   "outputs": [
    {
     "data": {
      "text/plain": [
       "3.4283506780566255e-07"
      ]
     },
     "execution_count": 91,
     "metadata": {},
     "output_type": "execute_result"
    }
   ],
   "source": [
    "p_value"
   ]
  },
  {
   "cell_type": "code",
   "execution_count": 92,
   "id": "d7b76bdd",
   "metadata": {},
   "outputs": [
    {
     "data": {
      "text/plain": [
       "25.992"
      ]
     },
     "execution_count": 92,
     "metadata": {},
     "output_type": "execute_result"
    }
   ],
   "source": [
    "stat"
   ]
  },
  {
   "cell_type": "markdown",
   "id": "9e47c63e",
   "metadata": {},
   "source": [
    "**Q1. Problem Statement: Data Pre-Processing (Categorical data)**\n",
    "\n",
    "You are given a dataset – “hotel_bookings.csv.” The dataset has a high number of null and  elements that need to be cleansed;  Your job is to create a separate DataFrame with only categorical columns and  perform the  following operations:\n",
    "\n",
    "\n",
    "1.\tFind the number of null values in each column of the new DataFrame\n",
    "\n",
    "2.\tReplace the null values with mode \n",
    "\n",
    "3.\tIn the \"hotel\" column, replace the hotel names with \"0\" and \"1\" based on the condition that – if, \"hotel\" = \"city_hotel\", then \"hotel\" = \"1\";  else, \"0\"\n",
    "\n",
    "4.\tUsing the label encoder, assign a unique country code to each country\n",
    "\n",
    "5.\tUsing onehot encoder, encode the “month” column\n",
    "\n"
   ]
  },
  {
   "cell_type": "code",
   "execution_count": 3,
   "id": "a64a6d7d",
   "metadata": {},
   "outputs": [
    {
     "name": "stdout",
     "output_type": "stream",
     "text": [
      "Number of null values in each column:\n",
      "hotel                        0\n",
      "arrival_date_month           0\n",
      "meal                         0\n",
      "country                    488\n",
      "market_segment               0\n",
      "distribution_channel         0\n",
      "reserved_room_type           0\n",
      "assigned_room_type           0\n",
      "deposit_type                 0\n",
      "customer_type                0\n",
      "reservation_status           0\n",
      "reservation_status_date      0\n",
      "dtype: int64\n",
      "Modified DataFrame with categorical columns:\n",
      "   hotel arrival_date_month meal  country market_segment distribution_channel  \\\n",
      "0      0               July   BB      135         Direct               Direct   \n",
      "1      0               July   BB      135         Direct               Direct   \n",
      "2      0               July   BB       59         Direct               Direct   \n",
      "3      0               July   BB       59      Corporate            Corporate   \n",
      "4      0               July   BB       59      Online TA                TA/TO   \n",
      "\n",
      "  reserved_room_type assigned_room_type deposit_type customer_type  ...  \\\n",
      "0                  C                  C   No Deposit     Transient  ...   \n",
      "1                  C                  C   No Deposit     Transient  ...   \n",
      "2                  A                  C   No Deposit     Transient  ...   \n",
      "3                  A                  A   No Deposit     Transient  ...   \n",
      "4                  A                  A   No Deposit     Transient  ...   \n",
      "\n",
      "  month_2 month_3  month_4  month_5  month_6  month_7  month_8  month_9  \\\n",
      "0     0.0     0.0      0.0      1.0      0.0      0.0      0.0      0.0   \n",
      "1     0.0     0.0      0.0      1.0      0.0      0.0      0.0      0.0   \n",
      "2     0.0     0.0      0.0      1.0      0.0      0.0      0.0      0.0   \n",
      "3     0.0     0.0      0.0      1.0      0.0      0.0      0.0      0.0   \n",
      "4     0.0     0.0      0.0      1.0      0.0      0.0      0.0      0.0   \n",
      "\n",
      "   month_10  month_11  \n",
      "0       0.0       0.0  \n",
      "1       0.0       0.0  \n",
      "2       0.0       0.0  \n",
      "3       0.0       0.0  \n",
      "4       0.0       0.0  \n",
      "\n",
      "[5 rows x 24 columns]\n"
     ]
    },
    {
     "name": "stderr",
     "output_type": "stream",
     "text": [
      "c:\\Users\\alok\\AppData\\Local\\Programs\\Python\\Python310\\lib\\site-packages\\sklearn\\preprocessing\\_encoders.py:828: FutureWarning: `sparse` was renamed to `sparse_output` in version 1.2 and will be removed in 1.4. `sparse_output` is ignored unless you leave `sparse` to its default value.\n",
      "  warnings.warn(\n"
     ]
    }
   ],
   "source": [
    "import pandas as pd\n",
    "from sklearn.preprocessing import LabelEncoder, OneHotEncoder\n",
    "\n",
    "# Load the dataset\n",
    "df = pd.read_csv(\"C:\\\\Users\\\\alok\\\\Desktop\\\\Inzint\\\\datasets\\\\hotel_bookings.csv\")\n",
    "\n",
    "# Create a separate DataFrame with only categorical columns\n",
    "categorical_df = df.select_dtypes(include=['object'])\n",
    "\n",
    "# 1. Find the number of null values in each column of the new DataFrame\n",
    "null_counts = categorical_df.isnull().sum()\n",
    "print(\"Number of null values in each column:\")\n",
    "print(null_counts)\n",
    "\n",
    "# 2. Replace the null values with mode\n",
    "categorical_df.fillna(categorical_df.mode().iloc[0], inplace=True)\n",
    "\n",
    "# 3. In the \"hotel\" column, replace the hotel names with \"0\" and \"1\"\n",
    "categorical_df['hotel'] = categorical_df['hotel'].apply(lambda x: 1 if x == 'city_hotel' else 0)\n",
    "\n",
    "# 4. Using the label encoder, assign a unique country code to each country\n",
    "label_encoder = LabelEncoder()\n",
    "categorical_df['country'] = label_encoder.fit_transform(categorical_df['country'])\n",
    "\n",
    "# 5. Using onehot encoder, encode the “month” column\n",
    "onehot_encoder = OneHotEncoder(sparse=False)\n",
    "month_encoded = onehot_encoder.fit_transform(categorical_df[['arrival_date_month']])\n",
    "month_encoded_df = pd.DataFrame(month_encoded, columns=['month_' + str(i) for i in range(month_encoded.shape[1])])\n",
    "categorical_df = pd.concat([categorical_df, month_encoded_df], axis=1)\n",
    "\n",
    "# Display the modified DataFrame\n",
    "print(\"Modified DataFrame with categorical columns:\")\n",
    "print(categorical_df.head())\n"
   ]
  },
  {
   "cell_type": "markdown",
   "id": "72dc528f",
   "metadata": {},
   "source": [
    "**Q2. Problem Statement: Data Pre-Processing (Exponential data)**\n",
    "\n",
    "Create a DataFrame to store exponential data using the NumPy np.random.exponential() (size=1000) function, and perform the following operations:\n",
    "\n",
    "1.\tUsing the minmax_scaling() function, scale the data between 0 to 1, and plot the original data and scaled data using the Seaborn library \n",
    "\n",
    "2.\tUsing preprocessing.normalize() function, normalize the data, and plot the original data and normalized data using the Seaborn library\n"
   ]
  },
  {
   "cell_type": "code",
   "execution_count": 5,
   "id": "c2bf7c13",
   "metadata": {},
   "outputs": [
    {
     "name": "stderr",
     "output_type": "stream",
     "text": [
      "c:\\Users\\alok\\AppData\\Local\\Programs\\Python\\Python310\\lib\\site-packages\\seaborn\\_oldcore.py:1119: FutureWarning: use_inf_as_na option is deprecated and will be removed in a future version. Convert inf values to NaN before operating instead.\n",
      "  with pd.option_context('mode.use_inf_as_na', True):\n",
      "c:\\Users\\alok\\AppData\\Local\\Programs\\Python\\Python310\\lib\\site-packages\\seaborn\\_oldcore.py:1119: FutureWarning: use_inf_as_na option is deprecated and will be removed in a future version. Convert inf values to NaN before operating instead.\n",
      "  with pd.option_context('mode.use_inf_as_na', True):\n"
     ]
    },
    {
     "data": {
      "image/png": "[encoded data removed]",
      "text/plain": [
       "<Figure size 432x288 with 1 Axes>"
      ]
     },
     "metadata": {},
     "output_type": "display_data"
    },
    {
     "name": "stderr",
     "output_type": "stream",
     "text": [
      "c:\\Users\\alok\\AppData\\Local\\Programs\\Python\\Python310\\lib\\site-packages\\seaborn\\_oldcore.py:1119: FutureWarning: use_inf_as_na option is deprecated and will be removed in a future version. Convert inf values to NaN before operating instead.\n",
      "  with pd.option_context('mode.use_inf_as_na', True):\n",
      "c:\\Users\\alok\\AppData\\Local\\Programs\\Python\\Python310\\lib\\site-packages\\seaborn\\_oldcore.py:1119: FutureWarning: use_inf_as_na option is deprecated and will be removed in a future version. Convert inf values to NaN before operating instead.\n",
      "  with pd.option_context('mode.use_inf_as_na', True):\n"
     ]
    },
    {
     "data": {
      "image/png": "[encoded data removed]",
      "text/plain": [
       "<Figure size 432x288 with 1 Axes>"
      ]
     },
     "metadata": {},
     "output_type": "display_data"
    }
   ],
   "source": [
    "import numpy as np\n",
    "import pandas as pd\n",
    "import seaborn as sns\n",
    "from sklearn.preprocessing import minmax_scale, normalize\n",
    "import matplotlib.pyplot as plt\n",
    "\n",
    "# 1. Create a DataFrame to store exponential data using np.random.exponential() function\n",
    "exponential_data = np.random.exponential(size=1000)\n",
    "exponential_df = pd.DataFrame(exponential_data, columns=['Original Data'])\n",
    "\n",
    "# Scale the data between 0 and 1 using minmax_scaling()\n",
    "scaled_data = minmax_scale(exponential_data)\n",
    "scaled_df = pd.DataFrame(scaled_data, columns=['Scaled Data'])\n",
    "\n",
    "# Plot the original data and scaled data using Seaborn\n",
    "sns.set_style(\"whitegrid\")\n",
    "sns.histplot(data=exponential_df, x='Original Data', kde=True, color='blue', alpha=0.5, label='Original Data')\n",
    "sns.histplot(data=scaled_df, x='Scaled Data', kde=True, color='red', alpha=0.5, label='Scaled Data')\n",
    "plt.title('Exponential Data - Original vs Scaled')\n",
    "plt.xlabel('Value')\n",
    "plt.ylabel('Frequency')\n",
    "plt.legend()\n",
    "plt.show()\n",
    "\n",
    "# 2. Normalize the data using preprocessing.normalize()\n",
    "normalized_data = normalize(exponential_data.reshape(1, -1))\n",
    "normalized_df = pd.DataFrame(normalized_data.reshape(-1, 1), columns=['Normalized Data'])\n",
    "\n",
    "# Plot the original data and normalized data using Seaborn\n",
    "sns.histplot(data=exponential_df, x='Original Data', kde=True, color='blue', alpha=0.5, label='Original Data')\n",
    "sns.histplot(data=normalized_df, x='Normalized Data', kde=True, color='green', alpha=0.5, label='Normalized Data')\n",
    "plt.title('Exponential Data - Original vs Normalized')\n",
    "plt.xlabel('Value')\n",
    "plt.ylabel('Frequency')\n",
    "plt.legend()\n",
    "plt.show()\n"
   ]
  },
  {
   "cell_type": "code",
   "execution_count": null,
   "id": "73bc1fa0",
   "metadata": {},
   "outputs": [],
   "source": []
  }
 ],
 "metadata": {
  "kernelspec": {
   "display_name": "Python 3 (ipykernel)",
   "language": "python",
   "name": "python3"
  },
  "language_info": {
   "codemirror_mode": {
    "name": "ipython",
    "version": 3
   },
   "file_extension": ".py",
   "mimetype": "text/x-python",
   "name": "python",
   "nbconvert_exporter": "python",
   "pygments_lexer": "ipython3",
   "version": "3.10.5"
  }
 },
 "nbformat": 4,
 "nbformat_minor": 5
}
