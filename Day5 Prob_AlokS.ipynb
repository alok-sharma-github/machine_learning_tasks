{
 "cells": [
  {
   "cell_type": "markdown",
   "metadata": {},
   "source": [
    "# Data Prep"
   ]
  },
  {
   "cell_type": "code",
   "execution_count": 1,
   "metadata": {},
   "outputs": [],
   "source": [
    "path = \"C:\\\\Users\\\\alok\\\\Downloads\\\\airbnb_data.csv\"\n",
    "import pandas as pd\n",
    "df = pd.read_csv(path)\n",
    "df.groupby(['city'])['room_type'].count()\n",
    "sample_space = df.shape[0]\n",
    "\n",
    "grouped_df = df.groupby(['city', 'room_type'])['room_type'].count()\n",
    "airbn = pd.DataFrame({\"count\":df.groupby(['city', 'room_type'])['room_type'].count()}).reset_index()"
   ]
  },
  {
   "cell_type": "markdown",
   "metadata": {},
   "source": [
    "# getting room\n"
   ]
  },
  {
   "cell_type": "code",
   "execution_count": 3,
   "metadata": {},
   "outputs": [
    {
     "name": "stdout",
     "output_type": "stream",
     "text": [
      "probability_any_room 1.0\n"
     ]
    }
   ],
   "source": [
    "total_rooms = airbn['count'].sum()\n",
    "probability_any_room = total_rooms / total_rooms\n",
    "print(\"probability_any_room\",probability_any_room)"
   ]
  },
  {
   "cell_type": "markdown",
   "metadata": {},
   "source": [
    "# Any apartment"
   ]
  },
  {
   "cell_type": "code",
   "execution_count": 5,
   "metadata": {},
   "outputs": [
    {
     "name": "stdout",
     "output_type": "stream",
     "text": [
      "probability_apartment 0.8421231606281687\n"
     ]
    }
   ],
   "source": [
    "total_apartments = airbn.loc[airbn['room_type'] == 'Apartment', 'count'].sum()\n",
    "probability_apartment = total_apartments / total_rooms\n",
    "print(\"probability_apartment\",probability_apartment)"
   ]
  },
  {
   "cell_type": "markdown",
   "metadata": {},
   "source": [
    "# Apartment in Boston"
   ]
  },
  {
   "cell_type": "code",
   "execution_count": 6,
   "metadata": {},
   "outputs": [
    {
     "name": "stdout",
     "output_type": "stream",
     "text": [
      "probability_apartment_in_boston 0.06686657598615062\n"
     ]
    }
   ],
   "source": [
    "apartments_in_boston = airbn.loc[(airbn['city'] == 'Boston') & (airbn['room_type'] == 'Apartment'), 'count'].sum()\n",
    "probability_apartment_in_boston = apartments_in_boston / total_rooms\n",
    "print(\"probability_apartment_in_boston\", probability_apartment_in_boston)"
   ]
  },
  {
   "cell_type": "markdown",
   "metadata": {},
   "source": [
    "# Apartment in Hawaii"
   ]
  },
  {
   "cell_type": "code",
   "execution_count": 7,
   "metadata": {},
   "outputs": [
    {
     "name": "stdout",
     "output_type": "stream",
     "text": [
      "probability_apartment_in_hawaii 0.619821936441202\n"
     ]
    }
   ],
   "source": [
    "apartments_in_hawaii = airbn.loc[(airbn['city'] == 'Hawaii') & (airbn['room_type'] == 'Apartment'), 'count'].sum()\n",
    "probability_apartment_in_hawaii = apartments_in_hawaii / total_rooms\n",
    "print(\"probability_apartment_in_hawaii\", probability_apartment_in_hawaii)"
   ]
  },
  {
   "cell_type": "markdown",
   "metadata": {},
   "source": [
    "# Apartment in Seattle"
   ]
  },
  {
   "cell_type": "code",
   "execution_count": 8,
   "metadata": {},
   "outputs": [
    {
     "name": "stdout",
     "output_type": "stream",
     "text": [
      "probability_apartment_in_seattle 0.15543464820081612\n"
     ]
    }
   ],
   "source": [
    "apartments_in_seattle = airbn.loc[(airbn['city'] == 'Seattle') & (airbn['room_type'] == 'Apartment'), 'count'].sum()\n",
    "probability_apartment_in_seattle = apartments_in_seattle / total_rooms\n",
    "print(\"probability_apartment_in_seattle\", probability_apartment_in_seattle)"
   ]
  },
  {
   "cell_type": "markdown",
   "metadata": {},
   "source": [
    "# Tasks"
   ]
  },
  {
   "cell_type": "markdown",
   "metadata": {},
   "source": [
    "**Problem statement(Probability of an event)**\n",
    "\n",
    "Consider that you have a coin and dice. Each time you roll them, you get a result, so try to solve the given questions based on coins and dice.\n",
    "\n",
    "1.Roll the dice twice and find the probability of getting the number 6 each time.\n",
    "\n",
    "2.Roll two dice at a time and find the probability of getting a sum of both dice greater than 9.\n",
    "\n",
    "3.Flip a coin three times continuously and find the probability of getting three heads in a row.\n",
    "\n",
    "4.Flip a coin anddice simultaneously and find the probability of getting head on the coin and number 5 on the dice simultaneously.\n",
    "\n",
    "5.Card is drawn at random from the pack of 52 cards:\n",
    "\n",
    "I.Find the probability that it is an honor card.\n",
    "\n",
    "II.It is a face card of a diamond house."
   ]
  },
  {
   "cell_type": "markdown",
   "metadata": {},
   "source": [
    "Sure, let's solve each problem step by step:\n",
    "\n",
    "\n",
    "\n",
    "\n",
    "\n",
    "3. **Flip a coin three times continuously and find the probability of getting three heads in a row.**\n",
    "\n",
    "   Since each flip of the coin is an independent event, the probability of getting heads on each flip is 1/2.\n",
    "\n",
    "   Probability of getting three heads in a row = (1/2) * (1/2) * (1/2) = 1/8\n",
    "\n",
    "4. **Flip a coin and dice simultaneously and find the probability of getting head on the coin and number 5 on the dice simultaneously.**\n",
    "\n",
    "   Since the coin flip and dice roll are independent events, the probability of getting a head on the coin is 1/2, and the probability of getting a 5 on the dice is 1/6.\n",
    "\n",
    "   Probability of getting a head on the coin and number 5 on the dice simultaneously = (1/2) * (1/6) = 1/12\n",
    "\n",
    "5. **Card is drawn at random from the pack of 52 cards:**\n",
    "\n",
    "   I. **Find the probability that it is an honor card.**\n",
    "   \n",
    "      There are 16 honor cards in a deck of 52 cards (4 kings, 4 queens, 4 jacks, and 4 aces).\n",
    "\n",
    "      Probability of drawing an honor card = 16 / 52 = 4 / 13\n",
    "\n",
    "   II. **It is a face card of a diamond house.**\n",
    "   \n",
    "      There are 3 face cards in each suit (jack, queen, king), so there are a total of 3 * 4 = 12 face cards in a deck.\n",
    "\n",
    "      Probability of drawing a face card of a diamond house = 12 / 52 = 3 / 13\n",
    "\n",
    "These are the solutions to the given probability problems based on the outcomes of rolling dice, flipping coins, and drawing cards."
   ]
  },
  {
   "cell_type": "code",
   "execution_count": 1,
   "metadata": {},
   "outputs": [
    {
     "data": {
      "text/plain": [
       "0.027777777777777776"
      ]
     },
     "execution_count": 1,
     "metadata": {},
     "output_type": "execute_result"
    }
   ],
   "source": [
    "#1. **Roll the dice twice and find the probability of getting the number 6 each time.**\n",
    "\n",
    "\n",
    "\n",
    "Probability_of_getting_a_6_on_the_first_roll = 1/6\n",
    "Probability_of_getting_a_6_on_the_second_roll = 1/6\n",
    "\n",
    "Probability_of_getting_a_6_on_both_rolls = (Probability_of_getting_a_6_on_the_first_roll) * (Probability_of_getting_a_6_on_the_second_roll)\n",
    "Probability_of_getting_a_6_on_both_rolls\n",
    "\n"
   ]
  },
  {
   "cell_type": "code",
   "execution_count": 3,
   "metadata": {},
   "outputs": [
    {
     "data": {
      "text/plain": [
       "0.16666666666666666"
      ]
     },
     "execution_count": 3,
     "metadata": {},
     "output_type": "execute_result"
    }
   ],
   "source": [
    "# 2 Roll two dice at a time and find the probability of getting a sum of both dice greater than 9.**\n",
    "\n",
    "Favorable_outcomes =  {(4, 6), (5, 5), (5, 6), (6, 4), (6, 5), (6, 6)}\n",
    "No_of_fovourable_outcomes = len(Favorable_outcomes)\n",
    "Total_possible_outcomes = 36\n",
    "\n",
    "Probability_of_getting_a_sum_greater_than_9 = (No_of_fovourable_outcomes) / (Total_possible_outcomes)\n",
    "Probability_of_getting_a_sum_greater_than_9\n"
   ]
  },
  {
   "cell_type": "code",
   "execution_count": null,
   "metadata": {},
   "outputs": [],
   "source": [
    "# 3. Probability of getting three heads in a row\n",
    "probability_heads = 0.5\n",
    "\n",
    "probability_three_heads = probability_heads ** 3\n",
    "\n",
    "print(\"Probability of getting three heads in a row:\", probability_three_heads)\n",
    "\n",
    "# 4. Probability of getting head on the coin and number 5 on the dice simultaneously\n",
    "\n",
    "probability_heads = 0.5\n",
    "probability_number_5 = 1 / 6  \n",
    "\n",
    "probability_coin_and_dice = probability_heads * probability_number_5\n",
    "\n",
    "print(\"Probability of getting head on the coin and number 5 on the dice simultaneously:\", probability_coin_and_dice)"
   ]
  },
  {
   "cell_type": "code",
   "execution_count": 1,
   "metadata": {},
   "outputs": [
    {
     "name": "stdout",
     "output_type": "stream",
     "text": [
      "Probability of drawing an honor card: 0.3076923076923077\n",
      "Probability of drawing a face card of a diamond suit: 0.23076923076923078\n"
     ]
    }
   ],
   "source": [
    "# 5. Probability with cards\n",
    "total_cards = 52\n",
    "\n",
    "# Total number of honor cards = 4 * 4 = 16\n",
    "probability_honor_card = 16 / total_cards\n",
    "\n",
    "print(\"Probability of drawing an honor card:\", probability_honor_card)\n",
    "\n",
    "# Total number of face cards in diamond suit = 3\n",
    "total_diamond_cards = 13 \n",
    "\n",
    "probability_face_card_diamond = 3 / total_diamond_cards\n",
    "\n",
    "print(\"Probability of drawing a face card of a diamond suit:\", probability_face_card_diamond)\n",
    "\n"
   ]
  },
  {
   "cell_type": "markdown",
   "metadata": {},
   "source": []
  },
  {
   "cell_type": "markdown",
   "metadata": {},
   "source": [
    "**Problem statement(Union and intersection of events)**\n",
    "\n",
    "In  a  class  of  100  students,  a  survey  was  conducted  for  their  favorite  subject, where they could choose only one subject as their favorite. 23 boys and 15 girls like Maths, 17 boys and 23 girls like Science, and 10 boys and 12 girls like English. If we choose a random student out of them, find out the probability, where,\n",
    "\n",
    "1.Students love Science subject.\n",
    "\n",
    "2.Girls love Maths subject or English subject.\n",
    "\n",
    "3.If  she is a girl, she loves English, or if he is a boy, then he loves Maths."
   ]
  },
  {
   "cell_type": "code",
   "execution_count": 7,
   "metadata": {},
   "outputs": [
    {
     "name": "stdout",
     "output_type": "stream",
     "text": [
      "Probability that a randomly chosen student loves Science subject: 0.4\n"
     ]
    }
   ],
   "source": [
    "total_students = 100\n",
    "\n",
    "science_boys = 17\n",
    "science_girls = 23\n",
    "\n",
    "total_science_students = science_boys + science_girls\n",
    "\n",
    "# Probability that a randomly chosen student loves Science subject\n",
    "probability_science = total_science_students / total_students\n",
    "\n",
    "print(\"Probability that a randomly chosen student loves Science subject:\", probability_science)\n",
    "\n"
   ]
  },
  {
   "cell_type": "code",
   "execution_count": 8,
   "metadata": {},
   "outputs": [
    {
     "name": "stdout",
     "output_type": "stream",
     "text": [
      "Probability that a randomly chosen girl loves Maths subject or English subject: 0.54\n"
     ]
    }
   ],
   "source": [
    "# girls who like Maths\n",
    "maths_girls = 15\n",
    "\n",
    "# girls who like English\n",
    "english_girls = 12\n",
    "\n",
    "# Total girls\n",
    "total_girls = 50 \n",
    "probability_girls_maths_or_english = (maths_girls + english_girls) / total_girls\n",
    "\n",
    "print(\"Probability that a randomly chosen girl loves Maths subject or English subject:\", probability_girls_maths_or_english)\n"
   ]
  },
  {
   "cell_type": "code",
   "execution_count": 10,
   "metadata": {},
   "outputs": [
    {
     "name": "stdout",
     "output_type": "stream",
     "text": [
      "Probability: 0.35\n"
     ]
    }
   ],
   "source": [
    "\n",
    "probability_english_given_girl = 12 / total_girls\n",
    "probability_maths_given_boy = 23 / 50 \n",
    "probability = (probability_english_given_girl * 0.5) + (probability_maths_given_boy * 0.5)\n",
    "print(\"Probability:\", probability)\n"
   ]
  },
  {
   "cell_type": "code",
   "execution_count": 6,
   "metadata": {},
   "outputs": [
    {
     "data": {
      "text/html": [
       "<div>\n",
       "<style scoped>\n",
       "    .dataframe tbody tr th:only-of-type {\n",
       "        vertical-align: middle;\n",
       "    }\n",
       "\n",
       "    .dataframe tbody tr th {\n",
       "        vertical-align: top;\n",
       "    }\n",
       "\n",
       "    .dataframe thead th {\n",
       "        text-align: right;\n",
       "    }\n",
       "</style>\n",
       "<table border=\"1\" class=\"dataframe\">\n",
       "  <thead>\n",
       "    <tr style=\"text-align: right;\">\n",
       "      <th></th>\n",
       "      <th>stud.id</th>\n",
       "      <th>name</th>\n",
       "      <th>gender</th>\n",
       "      <th>age</th>\n",
       "      <th>height</th>\n",
       "      <th>weight</th>\n",
       "      <th>religion</th>\n",
       "      <th>nc.score</th>\n",
       "      <th>semester</th>\n",
       "      <th>major</th>\n",
       "      <th>minor</th>\n",
       "      <th>score1</th>\n",
       "      <th>score2</th>\n",
       "      <th>online.tutorial</th>\n",
       "      <th>graduated</th>\n",
       "      <th>salary</th>\n",
       "    </tr>\n",
       "  </thead>\n",
       "  <tbody>\n",
       "    <tr>\n",
       "      <th>1</th>\n",
       "      <td>833917</td>\n",
       "      <td>Gonzales, Christina</td>\n",
       "      <td>Female</td>\n",
       "      <td>19</td>\n",
       "      <td>160</td>\n",
       "      <td>64.8</td>\n",
       "      <td>Muslim</td>\n",
       "      <td>1.91</td>\n",
       "      <td>1st</td>\n",
       "      <td>Political Science</td>\n",
       "      <td>Social Sciences</td>\n",
       "      <td>NaN</td>\n",
       "      <td>NaN</td>\n",
       "      <td>0</td>\n",
       "      <td>0</td>\n",
       "      <td>NaN</td>\n",
       "    </tr>\n",
       "    <tr>\n",
       "      <th>2</th>\n",
       "      <td>898539</td>\n",
       "      <td>Lozano, T'Hani</td>\n",
       "      <td>Female</td>\n",
       "      <td>19</td>\n",
       "      <td>172</td>\n",
       "      <td>73.0</td>\n",
       "      <td>Other</td>\n",
       "      <td>1.56</td>\n",
       "      <td>2nd</td>\n",
       "      <td>Social Sciences</td>\n",
       "      <td>Mathematics and Statistics</td>\n",
       "      <td>NaN</td>\n",
       "      <td>NaN</td>\n",
       "      <td>0</td>\n",
       "      <td>0</td>\n",
       "      <td>NaN</td>\n",
       "    </tr>\n",
       "    <tr>\n",
       "      <th>3</th>\n",
       "      <td>379678</td>\n",
       "      <td>Williams, Hanh</td>\n",
       "      <td>Female</td>\n",
       "      <td>22</td>\n",
       "      <td>168</td>\n",
       "      <td>70.6</td>\n",
       "      <td>Protestant</td>\n",
       "      <td>1.24</td>\n",
       "      <td>3rd</td>\n",
       "      <td>Social Sciences</td>\n",
       "      <td>Mathematics and Statistics</td>\n",
       "      <td>45.0</td>\n",
       "      <td>46.0</td>\n",
       "      <td>0</td>\n",
       "      <td>0</td>\n",
       "      <td>NaN</td>\n",
       "    </tr>\n",
       "    <tr>\n",
       "      <th>4</th>\n",
       "      <td>807564</td>\n",
       "      <td>Nem, Denzel</td>\n",
       "      <td>Male</td>\n",
       "      <td>19</td>\n",
       "      <td>183</td>\n",
       "      <td>79.7</td>\n",
       "      <td>Other</td>\n",
       "      <td>1.37</td>\n",
       "      <td>2nd</td>\n",
       "      <td>Environmental Sciences</td>\n",
       "      <td>Mathematics and Statistics</td>\n",
       "      <td>NaN</td>\n",
       "      <td>NaN</td>\n",
       "      <td>0</td>\n",
       "      <td>0</td>\n",
       "      <td>NaN</td>\n",
       "    </tr>\n",
       "    <tr>\n",
       "      <th>5</th>\n",
       "      <td>383291</td>\n",
       "      <td>Powell, Heather</td>\n",
       "      <td>Female</td>\n",
       "      <td>21</td>\n",
       "      <td>175</td>\n",
       "      <td>71.4</td>\n",
       "      <td>Catholic</td>\n",
       "      <td>1.46</td>\n",
       "      <td>1st</td>\n",
       "      <td>Environmental Sciences</td>\n",
       "      <td>Mathematics and Statistics</td>\n",
       "      <td>NaN</td>\n",
       "      <td>NaN</td>\n",
       "      <td>0</td>\n",
       "      <td>0</td>\n",
       "      <td>NaN</td>\n",
       "    </tr>\n",
       "    <tr>\n",
       "      <th>...</th>\n",
       "      <td>...</td>\n",
       "      <td>...</td>\n",
       "      <td>...</td>\n",
       "      <td>...</td>\n",
       "      <td>...</td>\n",
       "      <td>...</td>\n",
       "      <td>...</td>\n",
       "      <td>...</td>\n",
       "      <td>...</td>\n",
       "      <td>...</td>\n",
       "      <td>...</td>\n",
       "      <td>...</td>\n",
       "      <td>...</td>\n",
       "      <td>...</td>\n",
       "      <td>...</td>\n",
       "      <td>...</td>\n",
       "    </tr>\n",
       "    <tr>\n",
       "      <th>8235</th>\n",
       "      <td>818044</td>\n",
       "      <td>Her, Joshua</td>\n",
       "      <td>Male</td>\n",
       "      <td>22</td>\n",
       "      <td>181</td>\n",
       "      <td>79.1</td>\n",
       "      <td>Protestant</td>\n",
       "      <td>2.91</td>\n",
       "      <td>6th</td>\n",
       "      <td>Environmental Sciences</td>\n",
       "      <td>Social Sciences</td>\n",
       "      <td>73.0</td>\n",
       "      <td>71.0</td>\n",
       "      <td>0</td>\n",
       "      <td>1</td>\n",
       "      <td>36750.087135</td>\n",
       "    </tr>\n",
       "    <tr>\n",
       "      <th>8236</th>\n",
       "      <td>560166</td>\n",
       "      <td>Reid, Jose</td>\n",
       "      <td>Male</td>\n",
       "      <td>23</td>\n",
       "      <td>178</td>\n",
       "      <td>72.6</td>\n",
       "      <td>Catholic</td>\n",
       "      <td>2.03</td>\n",
       "      <td>2nd</td>\n",
       "      <td>Environmental Sciences</td>\n",
       "      <td>Mathematics and Statistics</td>\n",
       "      <td>NaN</td>\n",
       "      <td>NaN</td>\n",
       "      <td>0</td>\n",
       "      <td>0</td>\n",
       "      <td>NaN</td>\n",
       "    </tr>\n",
       "    <tr>\n",
       "      <th>8237</th>\n",
       "      <td>380174</td>\n",
       "      <td>Villa, Raechelle</td>\n",
       "      <td>Female</td>\n",
       "      <td>20</td>\n",
       "      <td>169</td>\n",
       "      <td>67.7</td>\n",
       "      <td>Other</td>\n",
       "      <td>3.72</td>\n",
       "      <td>3rd</td>\n",
       "      <td>Environmental Sciences</td>\n",
       "      <td>Economics and Finance</td>\n",
       "      <td>77.0</td>\n",
       "      <td>75.0</td>\n",
       "      <td>1</td>\n",
       "      <td>0</td>\n",
       "      <td>NaN</td>\n",
       "    </tr>\n",
       "    <tr>\n",
       "      <th>8238</th>\n",
       "      <td>540967</td>\n",
       "      <td>Ngo, Preston</td>\n",
       "      <td>Male</td>\n",
       "      <td>23</td>\n",
       "      <td>195</td>\n",
       "      <td>98.6</td>\n",
       "      <td>Other</td>\n",
       "      <td>2.74</td>\n",
       "      <td>4th</td>\n",
       "      <td>Social Sciences</td>\n",
       "      <td>Political Science</td>\n",
       "      <td>50.0</td>\n",
       "      <td>46.0</td>\n",
       "      <td>1</td>\n",
       "      <td>1</td>\n",
       "      <td>40112.041834</td>\n",
       "    </tr>\n",
       "    <tr>\n",
       "      <th>8239</th>\n",
       "      <td>413207</td>\n",
       "      <td>Bernhard, Estela</td>\n",
       "      <td>Female</td>\n",
       "      <td>19</td>\n",
       "      <td>170</td>\n",
       "      <td>69.0</td>\n",
       "      <td>Muslim</td>\n",
       "      <td>3.29</td>\n",
       "      <td>&gt;6th</td>\n",
       "      <td>Political Science</td>\n",
       "      <td>Biology</td>\n",
       "      <td>47.0</td>\n",
       "      <td>59.0</td>\n",
       "      <td>1</td>\n",
       "      <td>1</td>\n",
       "      <td>45900.134459</td>\n",
       "    </tr>\n",
       "  </tbody>\n",
       "</table>\n",
       "<p>8239 rows × 16 columns</p>\n",
       "</div>"
      ],
      "text/plain": [
       "      stud.id                 name  gender  age  height  weight    religion  \\\n",
       "1      833917  Gonzales, Christina  Female   19     160    64.8      Muslim   \n",
       "2      898539       Lozano, T'Hani  Female   19     172    73.0       Other   \n",
       "3      379678       Williams, Hanh  Female   22     168    70.6  Protestant   \n",
       "4      807564          Nem, Denzel    Male   19     183    79.7       Other   \n",
       "5      383291      Powell, Heather  Female   21     175    71.4    Catholic   \n",
       "...       ...                  ...     ...  ...     ...     ...         ...   \n",
       "8235   818044          Her, Joshua    Male   22     181    79.1  Protestant   \n",
       "8236   560166           Reid, Jose    Male   23     178    72.6    Catholic   \n",
       "8237   380174     Villa, Raechelle  Female   20     169    67.7       Other   \n",
       "8238   540967         Ngo, Preston    Male   23     195    98.6       Other   \n",
       "8239   413207     Bernhard, Estela  Female   19     170    69.0      Muslim   \n",
       "\n",
       "      nc.score semester                   major                       minor  \\\n",
       "1         1.91      1st       Political Science             Social Sciences   \n",
       "2         1.56      2nd         Social Sciences  Mathematics and Statistics   \n",
       "3         1.24      3rd         Social Sciences  Mathematics and Statistics   \n",
       "4         1.37      2nd  Environmental Sciences  Mathematics and Statistics   \n",
       "5         1.46      1st  Environmental Sciences  Mathematics and Statistics   \n",
       "...        ...      ...                     ...                         ...   \n",
       "8235      2.91      6th  Environmental Sciences             Social Sciences   \n",
       "8236      2.03      2nd  Environmental Sciences  Mathematics and Statistics   \n",
       "8237      3.72      3rd  Environmental Sciences       Economics and Finance   \n",
       "8238      2.74      4th         Social Sciences           Political Science   \n",
       "8239      3.29     >6th       Political Science                     Biology   \n",
       "\n",
       "      score1  score2  online.tutorial  graduated        salary  \n",
       "1        NaN     NaN                0          0           NaN  \n",
       "2        NaN     NaN                0          0           NaN  \n",
       "3       45.0    46.0                0          0           NaN  \n",
       "4        NaN     NaN                0          0           NaN  \n",
       "5        NaN     NaN                0          0           NaN  \n",
       "...      ...     ...              ...        ...           ...  \n",
       "8235    73.0    71.0                0          1  36750.087135  \n",
       "8236     NaN     NaN                0          0           NaN  \n",
       "8237    77.0    75.0                1          0           NaN  \n",
       "8238    50.0    46.0                1          1  40112.041834  \n",
       "8239    47.0    59.0                1          1  45900.134459  \n",
       "\n",
       "[8239 rows x 16 columns]"
      ]
     },
     "execution_count": 6,
     "metadata": {},
     "output_type": "execute_result"
    }
   ],
   "source": [
    "path = \"C:\\\\Users\\\\alok\\\\Downloads\\\\students.csv\"\n",
    "\n",
    "import pandas as pd \n",
    "student_data = pd.read_csv(path)\n",
    "student_data"
   ]
  },
  {
   "cell_type": "markdown",
   "metadata": {},
   "source": [
    "**Load the “kerala.csv”data into a DataFrame and perform the following tasks:**\n",
    "\n",
    "\n",
    "1.Explore the DataFrame using info()and describe()functions\n",
    "\n",
    "2.June and July are the peak months of rainfall. Consider that if it rains more than  500mm,  then the chances  of  flood  become  more;  create  a  Datarame with  columns –“YEAR”,  “JUN_GT_500” (Contains  a  boolean  value  to  show whether  it  rained  more  than  500  mm  in June), “JUL_GT_500” (Contains  a boolean  value  to  show  whether  it  rained  more  than  500  mm  in July),and “FLOODS” (Contains a boolean value to show whether it flooded that year)\n",
    "\n",
    "3.Calculate the probability of flood given it rained more than 500 mm in June (P(A|B))\n",
    "\n",
    "4.Calculate the probability of rain more than 500 mm in June, given it flooded that year (P(B|A))\n",
    "\n",
    "5.Probability of flood given it rained more than 500 mm in July6.Probability  of  rain of more  than  500  mm  in  July  given  it  flooded  that  year (P(B|A))\n"
   ]
  },
  {
   "cell_type": "code",
   "execution_count": 11,
   "metadata": {},
   "outputs": [
    {
     "name": "stdout",
     "output_type": "stream",
     "text": [
      "DataFrame info:\n",
      "<class 'pandas.core.frame.DataFrame'>\n",
      "RangeIndex: 118 entries, 0 to 117\n",
      "Data columns (total 16 columns):\n",
      " #   Column            Non-Null Count  Dtype  \n",
      "---  ------            --------------  -----  \n",
      " 0   SUBDIVISION       118 non-null    object \n",
      " 1   YEAR              118 non-null    int64  \n",
      " 2   JAN               118 non-null    float64\n",
      " 3   FEB               118 non-null    float64\n",
      " 4   MAR               118 non-null    float64\n",
      " 5   APR               118 non-null    float64\n",
      " 6   MAY               118 non-null    float64\n",
      " 7   JUN               118 non-null    float64\n",
      " 8   JUL               118 non-null    float64\n",
      " 9   AUG               118 non-null    float64\n",
      " 10  SEP               118 non-null    float64\n",
      " 11  OCT               118 non-null    float64\n",
      " 12  NOV               118 non-null    float64\n",
      " 13  DEC               118 non-null    float64\n",
      " 14   ANNUAL RAINFALL  118 non-null    float64\n",
      " 15  FLOODS            118 non-null    object \n",
      "dtypes: float64(13), int64(1), object(2)\n",
      "memory usage: 14.9+ KB\n",
      "None\n",
      "\n",
      "DataFrame description:\n",
      "              YEAR         JAN         FEB         MAR         APR  \\\n",
      "count   118.000000  118.000000  118.000000  118.000000  118.000000   \n",
      "mean   1959.500000   12.218644   15.633898   36.670339  110.330508   \n",
      "std      34.207699   15.473766   16.406290   30.063862   44.633452   \n",
      "min    1901.000000    0.000000    0.000000    0.100000   13.100000   \n",
      "25%    1930.250000    2.175000    4.700000   18.100000   74.350000   \n",
      "50%    1959.500000    5.800000    8.350000   28.400000  110.400000   \n",
      "75%    1988.750000   18.175000   21.400000   49.825000  136.450000   \n",
      "max    2018.000000   83.500000   79.000000  217.200000  238.000000   \n",
      "\n",
      "              MAY          JUN          JUL          AUG         SEP  \\\n",
      "count  118.000000   118.000000   118.000000   118.000000  118.000000   \n",
      "mean   228.644915   651.617797   698.220339   430.369492  246.207627   \n",
      "std    147.548778   186.181363   228.988966   181.980463  121.901131   \n",
      "min     53.400000   196.800000   167.500000   178.600000   41.300000   \n",
      "25%    125.050000   535.550000   533.200000   316.725000  155.425000   \n",
      "50%    184.600000   625.600000   691.650000   386.250000  223.550000   \n",
      "75%    264.875000   786.975000   832.425000   500.100000  334.500000   \n",
      "max    738.800000  1098.200000  1526.500000  1398.900000  526.700000   \n",
      "\n",
      "              OCT         NOV         DEC   ANNUAL RAINFALL  \n",
      "count  118.000000  118.000000  118.000000        118.000000  \n",
      "mean   293.207627  162.311017   40.009322       2925.405085  \n",
      "std     93.705253   83.200485   36.676330        452.169407  \n",
      "min     68.500000   31.500000    0.100000       2068.800000  \n",
      "25%    222.125000   93.025000   10.350000       2613.525000  \n",
      "50%    284.300000  152.450000   31.100000       2934.300000  \n",
      "75%    355.150000  218.325000   54.025000       3170.400000  \n",
      "max    567.900000  365.600000  202.300000       4473.000000  \n"
     ]
    }
   ],
   "source": [
    "import pandas as pd\n",
    "\n",
    "path = \"C:\\\\Users\\\\alok\\\\Downloads\\\\kerala_floods.csv\"\n",
    "\n",
    "df = pd.read_csv(path)\n",
    "\n",
    "print(\"DataFrame info:\")\n",
    "print(df.info())\n",
    "\n",
    "print(\"\\nDataFrame description:\")\n",
    "print(df.describe())\n"
   ]
  },
  {
   "cell_type": "code",
   "execution_count": 57,
   "metadata": {},
   "outputs": [
    {
     "name": "stdout",
     "output_type": "stream",
     "text": [
      "     YEAR  JUN_GT_500  JUL_GT_500  FLOODS\n",
      "0    1901        True        True    True\n",
      "1    1902       False        True    True\n",
      "2    1903        True        True    True\n",
      "3    1904        True        True    True\n",
      "4    1905        True        True    True\n",
      "..    ...         ...         ...     ...\n",
      "113  2014       False        True    True\n",
      "114  2015        True       False    True\n",
      "115  2016        True       False    True\n",
      "116  2017       False       False   False\n",
      "117  2018        True        True    True\n",
      "\n",
      "[118 rows x 4 columns]\n"
     ]
    }
   ],
   "source": [
    "# boolean exceeding 500mm\n",
    "df['JUN_GT_500'] = df['JUN'] > 500\n",
    "df['JUL_GT_500'] = df['JUL'] > 500\n",
    "\n",
    "# boolean column for flood based on conditions\n",
    "df['FLOODS'] = (df['JUN_GT_500'] | df['JUL_GT_500'])\n",
    "\n",
    "flood_df = df[['YEAR', 'JUN_GT_500', 'JUL_GT_500', 'FLOODS']]\n",
    "\n",
    "\n",
    "print(flood_df)\n"
   ]
  },
  {
   "cell_type": "code",
   "execution_count": 58,
   "metadata": {},
   "outputs": [
    {
     "name": "stdout",
     "output_type": "stream",
     "text": [
      "Probability of flood given it rained more than 500 mm in June: 1.0\n"
     ]
    }
   ],
   "source": [
    "# rained more than 500 mm in June\n",
    "total_june_gt_500 = df['JUN_GT_500'].sum()\n",
    "total_flood_given_june_gt_500 = df[df['FLOODS'] & df['JUN_GT_500']]['FLOODS'].sum()\n",
    "\n",
    "probability_flood_given_june_gt_500 = total_flood_given_june_gt_500 / total_june_gt_500\n",
    "\n",
    "print(\"Probability of flood given it rained more than 500 mm in June:\", probability_flood_given_june_gt_500)\n"
   ]
  },
  {
   "cell_type": "code",
   "execution_count": 59,
   "metadata": {},
   "outputs": [
    {
     "name": "stdout",
     "output_type": "stream",
     "text": [
      "Probability of rain more than 500 mm in June, given it flooded that year: 0.808695652173913\n"
     ]
    }
   ],
   "source": [
    "# rain more than 500 mm in June - given it flooded that year\n",
    "total_floods = df['FLOODS'].sum()\n",
    "total_june_gt_500_given_flood = df[df['FLOODS'] & df['JUN_GT_500']]['FLOODS'].sum()\n",
    "\n",
    "probability_june_gt_500_given_flood = total_june_gt_500_given_flood / total_floods\n",
    "\n",
    "print(\"Probability of rain more than 500 mm in June, given it flooded that year:\", probability_june_gt_500_given_flood)\n"
   ]
  },
  {
   "cell_type": "code",
   "execution_count": 60,
   "metadata": {},
   "outputs": [
    {
     "name": "stdout",
     "output_type": "stream",
     "text": [
      "Probability of flood given it rained more than 500 mm in July: 1.0\n"
     ]
    }
   ],
   "source": [
    "# flood given it rained more than 500 mm in July\n",
    "total_july_gt_500 = df['JUL_GT_500'].sum()\n",
    "total_flood_given_july_gt_500 = df[df['FLOODS'] & df['JUL_GT_500']]['FLOODS'].sum()\n",
    "\n",
    "probability_flood_given_july_gt_500 = total_flood_given_july_gt_500 / total_july_gt_500\n",
    "\n",
    "print(\"Probability of flood given it rained more than 500 mm in July:\", probability_flood_given_july_gt_500)\n"
   ]
  },
  {
   "cell_type": "code",
   "execution_count": 61,
   "metadata": {},
   "outputs": [
    {
     "name": "stdout",
     "output_type": "stream",
     "text": [
      "Probability of rain more than 500 mm in July given it flooded that year: 0.8347826086956521\n"
     ]
    }
   ],
   "source": [
    "# rain more than 500 mm in July given it flooded that year\n",
    "total_july_gt_500_given_flood = df[df['FLOODS'] & df['JUL_GT_500']]['FLOODS'].sum()\n",
    "\n",
    "probability_july_gt_500_given_flood = total_july_gt_500_given_flood / total_floods\n",
    "\n",
    "print(\"Probability of rain more than 500 mm in July given it flooded that year:\", probability_july_gt_500_given_flood)\n"
   ]
  }
 ],
 "metadata": {
  "kernelspec": {
   "display_name": "Python 3",
   "language": "python",
   "name": "python3"
  },
  "language_info": {
   "codemirror_mode": {
    "name": "ipython",
    "version": 3
   },
   "file_extension": ".py",
   "mimetype": "text/x-python",
   "name": "python",
   "nbconvert_exporter": "python",
   "pygments_lexer": "ipython3",
   "version": "3.10.5"
  }
 },
 "nbformat": 4,
 "nbformat_minor": 2
}
