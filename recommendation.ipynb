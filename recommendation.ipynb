{
 "cells": [
  {
   "cell_type": "markdown",
   "metadata": {},
   "source": []
  },
  {
   "cell_type": "code",
   "execution_count": 15,
   "metadata": {},
   "outputs": [
    {
     "name": "stdout",
     "output_type": "stream",
     "text": [
      "Index(['movieId', 'title', 'genres'], dtype='object')\n",
      "Index(['userId', 'movieId', 'rating', 'timestamp'], dtype='object')\n"
     ]
    }
   ],
   "source": [
    "import numpy as np\n",
    "import pandas as pd\n",
    "\n",
    "# finding closest match\n",
    "import difflib \n",
    "\n",
    "# textual data into numerical values\n",
    "from sklearn.feature_extraction.text import TfidfVectorizer\n",
    "\n",
    "# finding similarity scores\n",
    "from sklearn.metrics.pairwise import cosine_similarity\n",
    "\n",
    "from ipywidgets import *\n",
    "\n",
    "# loading the movie data from csv file\n",
    "movies_data=pd.read_csv(\"C:\\\\Users\\\\alok\\\\Desktop\\\\Inzint\\\\datasets\\\\movies.csv\")\n",
    "ratings=pd.read_csv(\"C:\\\\Users\\\\alok\\\\Desktop\\\\Inzint\\\\datasets\\\\ratings.csv\")\n",
    "print(movies_data.columns)\n",
    "print(ratings.columns)\n",
    "\n"
   ]
  },
  {
   "cell_type": "code",
   "execution_count": 16,
   "metadata": {},
   "outputs": [
    {
     "data": {
      "text/html": [
       "<div>\n",
       "<style scoped>\n",
       "    .dataframe tbody tr th:only-of-type {\n",
       "        vertical-align: middle;\n",
       "    }\n",
       "\n",
       "    .dataframe tbody tr th {\n",
       "        vertical-align: top;\n",
       "    }\n",
       "\n",
       "    .dataframe thead th {\n",
       "        text-align: right;\n",
       "    }\n",
       "</style>\n",
       "<table border=\"1\" class=\"dataframe\">\n",
       "  <thead>\n",
       "    <tr style=\"text-align: right;\">\n",
       "      <th></th>\n",
       "      <th>movieId</th>\n",
       "      <th>title</th>\n",
       "      <th>genres</th>\n",
       "    </tr>\n",
       "  </thead>\n",
       "  <tbody>\n",
       "    <tr>\n",
       "      <th>0</th>\n",
       "      <td>1</td>\n",
       "      <td>Toy Story (1995)</td>\n",
       "      <td>Adventure|Animation|Children|Comedy|Fantasy</td>\n",
       "    </tr>\n",
       "    <tr>\n",
       "      <th>1</th>\n",
       "      <td>2</td>\n",
       "      <td>Jumanji (1995)</td>\n",
       "      <td>Adventure|Children|Fantasy</td>\n",
       "    </tr>\n",
       "    <tr>\n",
       "      <th>2</th>\n",
       "      <td>3</td>\n",
       "      <td>Grumpier Old Men (1995)</td>\n",
       "      <td>Comedy|Romance</td>\n",
       "    </tr>\n",
       "    <tr>\n",
       "      <th>3</th>\n",
       "      <td>4</td>\n",
       "      <td>Waiting to Exhale (1995)</td>\n",
       "      <td>Comedy|Drama|Romance</td>\n",
       "    </tr>\n",
       "    <tr>\n",
       "      <th>4</th>\n",
       "      <td>5</td>\n",
       "      <td>Father of the Bride Part II (1995)</td>\n",
       "      <td>Comedy</td>\n",
       "    </tr>\n",
       "  </tbody>\n",
       "</table>\n",
       "</div>"
      ],
      "text/plain": [
       "   movieId                               title  \\\n",
       "0        1                    Toy Story (1995)   \n",
       "1        2                      Jumanji (1995)   \n",
       "2        3             Grumpier Old Men (1995)   \n",
       "3        4            Waiting to Exhale (1995)   \n",
       "4        5  Father of the Bride Part II (1995)   \n",
       "\n",
       "                                        genres  \n",
       "0  Adventure|Animation|Children|Comedy|Fantasy  \n",
       "1                   Adventure|Children|Fantasy  \n",
       "2                               Comedy|Romance  \n",
       "3                         Comedy|Drama|Romance  \n",
       "4                                       Comedy  "
      ]
     },
     "execution_count": 16,
     "metadata": {},
     "output_type": "execute_result"
    }
   ],
   "source": [
    "movies_data.head()"
   ]
  },
  {
   "cell_type": "code",
   "execution_count": 17,
   "metadata": {},
   "outputs": [
    {
     "data": {
      "text/html": [
       "<div>\n",
       "<style scoped>\n",
       "    .dataframe tbody tr th:only-of-type {\n",
       "        vertical-align: middle;\n",
       "    }\n",
       "\n",
       "    .dataframe tbody tr th {\n",
       "        vertical-align: top;\n",
       "    }\n",
       "\n",
       "    .dataframe thead th {\n",
       "        text-align: right;\n",
       "    }\n",
       "</style>\n",
       "<table border=\"1\" class=\"dataframe\">\n",
       "  <thead>\n",
       "    <tr style=\"text-align: right;\">\n",
       "      <th></th>\n",
       "      <th>userId</th>\n",
       "      <th>movieId</th>\n",
       "      <th>rating</th>\n",
       "      <th>timestamp</th>\n",
       "    </tr>\n",
       "  </thead>\n",
       "  <tbody>\n",
       "    <tr>\n",
       "      <th>0</th>\n",
       "      <td>1</td>\n",
       "      <td>16</td>\n",
       "      <td>4.0</td>\n",
       "      <td>1217897793</td>\n",
       "    </tr>\n",
       "    <tr>\n",
       "      <th>1</th>\n",
       "      <td>1</td>\n",
       "      <td>24</td>\n",
       "      <td>1.5</td>\n",
       "      <td>1217895807</td>\n",
       "    </tr>\n",
       "    <tr>\n",
       "      <th>2</th>\n",
       "      <td>1</td>\n",
       "      <td>32</td>\n",
       "      <td>4.0</td>\n",
       "      <td>1217896246</td>\n",
       "    </tr>\n",
       "    <tr>\n",
       "      <th>3</th>\n",
       "      <td>1</td>\n",
       "      <td>47</td>\n",
       "      <td>4.0</td>\n",
       "      <td>1217896556</td>\n",
       "    </tr>\n",
       "    <tr>\n",
       "      <th>4</th>\n",
       "      <td>1</td>\n",
       "      <td>50</td>\n",
       "      <td>4.0</td>\n",
       "      <td>1217896523</td>\n",
       "    </tr>\n",
       "  </tbody>\n",
       "</table>\n",
       "</div>"
      ],
      "text/plain": [
       "   userId  movieId  rating   timestamp\n",
       "0       1       16     4.0  1217897793\n",
       "1       1       24     1.5  1217895807\n",
       "2       1       32     4.0  1217896246\n",
       "3       1       47     4.0  1217896556\n",
       "4       1       50     4.0  1217896523"
      ]
     },
     "execution_count": 17,
     "metadata": {},
     "output_type": "execute_result"
    }
   ],
   "source": [
    "ratings.head()"
   ]
  },
  {
   "cell_type": "code",
   "execution_count": 18,
   "metadata": {},
   "outputs": [
    {
     "data": {
      "text/html": [
       "<div>\n",
       "<style scoped>\n",
       "    .dataframe tbody tr th:only-of-type {\n",
       "        vertical-align: middle;\n",
       "    }\n",
       "\n",
       "    .dataframe tbody tr th {\n",
       "        vertical-align: top;\n",
       "    }\n",
       "\n",
       "    .dataframe thead th {\n",
       "        text-align: right;\n",
       "    }\n",
       "</style>\n",
       "<table border=\"1\" class=\"dataframe\">\n",
       "  <thead>\n",
       "    <tr style=\"text-align: right;\">\n",
       "      <th></th>\n",
       "      <th>userId</th>\n",
       "      <th>movieId</th>\n",
       "      <th>rating</th>\n",
       "      <th>timestamp</th>\n",
       "    </tr>\n",
       "  </thead>\n",
       "  <tbody>\n",
       "    <tr>\n",
       "      <th>count</th>\n",
       "      <td>105339.000000</td>\n",
       "      <td>105339.000000</td>\n",
       "      <td>105339.000000</td>\n",
       "      <td>1.053390e+05</td>\n",
       "    </tr>\n",
       "    <tr>\n",
       "      <th>mean</th>\n",
       "      <td>364.924539</td>\n",
       "      <td>13381.312477</td>\n",
       "      <td>3.516850</td>\n",
       "      <td>1.130424e+09</td>\n",
       "    </tr>\n",
       "    <tr>\n",
       "      <th>std</th>\n",
       "      <td>197.486905</td>\n",
       "      <td>26170.456869</td>\n",
       "      <td>1.044872</td>\n",
       "      <td>1.802660e+08</td>\n",
       "    </tr>\n",
       "    <tr>\n",
       "      <th>min</th>\n",
       "      <td>1.000000</td>\n",
       "      <td>1.000000</td>\n",
       "      <td>0.500000</td>\n",
       "      <td>8.285650e+08</td>\n",
       "    </tr>\n",
       "    <tr>\n",
       "      <th>25%</th>\n",
       "      <td>192.000000</td>\n",
       "      <td>1073.000000</td>\n",
       "      <td>3.000000</td>\n",
       "      <td>9.711008e+08</td>\n",
       "    </tr>\n",
       "    <tr>\n",
       "      <th>50%</th>\n",
       "      <td>383.000000</td>\n",
       "      <td>2497.000000</td>\n",
       "      <td>3.500000</td>\n",
       "      <td>1.115154e+09</td>\n",
       "    </tr>\n",
       "    <tr>\n",
       "      <th>75%</th>\n",
       "      <td>557.000000</td>\n",
       "      <td>5991.000000</td>\n",
       "      <td>4.000000</td>\n",
       "      <td>1.275496e+09</td>\n",
       "    </tr>\n",
       "    <tr>\n",
       "      <th>max</th>\n",
       "      <td>668.000000</td>\n",
       "      <td>149532.000000</td>\n",
       "      <td>5.000000</td>\n",
       "      <td>1.452405e+09</td>\n",
       "    </tr>\n",
       "  </tbody>\n",
       "</table>\n",
       "</div>"
      ],
      "text/plain": [
       "              userId        movieId         rating     timestamp\n",
       "count  105339.000000  105339.000000  105339.000000  1.053390e+05\n",
       "mean      364.924539   13381.312477       3.516850  1.130424e+09\n",
       "std       197.486905   26170.456869       1.044872  1.802660e+08\n",
       "min         1.000000       1.000000       0.500000  8.285650e+08\n",
       "25%       192.000000    1073.000000       3.000000  9.711008e+08\n",
       "50%       383.000000    2497.000000       3.500000  1.115154e+09\n",
       "75%       557.000000    5991.000000       4.000000  1.275496e+09\n",
       "max       668.000000  149532.000000       5.000000  1.452405e+09"
      ]
     },
     "execution_count": 18,
     "metadata": {},
     "output_type": "execute_result"
    }
   ],
   "source": [
    "ratings.describe()"
   ]
  },
  {
   "cell_type": "code",
   "execution_count": 19,
   "metadata": {},
   "outputs": [],
   "source": [
    "movies_data[\"genres\"] = movies_data[\"genres\"].str.split(\"|\")"
   ]
  },
  {
   "cell_type": "code",
   "execution_count": 20,
   "metadata": {},
   "outputs": [],
   "source": [
    "movies_explode = movies_data.explode(\"genres\")"
   ]
  },
  {
   "cell_type": "code",
   "execution_count": 21,
   "metadata": {},
   "outputs": [],
   "source": [
    "movies_explode = movies_explode[movies_explode[\"genres\"]!='(no genres listed)']"
   ]
  },
  {
   "cell_type": "code",
   "execution_count": 22,
   "metadata": {},
   "outputs": [
    {
     "data": {
      "text/plain": [
       "movieId    10322\n",
       "title      10320\n",
       "genres        19\n",
       "dtype: int64"
      ]
     },
     "execution_count": 22,
     "metadata": {},
     "output_type": "execute_result"
    }
   ],
   "source": [
    "movies_explode.nunique()"
   ]
  },
  {
   "cell_type": "code",
   "execution_count": 23,
   "metadata": {},
   "outputs": [],
   "source": [
    "movies_merged = pd.merge(ratings, movies_explode, on='movieId')"
   ]
  },
  {
   "cell_type": "code",
   "execution_count": 24,
   "metadata": {},
   "outputs": [],
   "source": [
    "# Group by movie title and genres and calculate average rating and rating count\n",
    "popularity_df = movies_merged.groupby(['title', 'genres']).agg({'rating': ['mean', 'count']}).reset_index()\n",
    "\n",
    "# Rename the columns for clarity\n",
    "popularity_df.columns = ['title', 'genres', 'avg_rating', 'rating_count']"
   ]
  },
  {
   "cell_type": "code",
   "execution_count": 25,
   "metadata": {},
   "outputs": [
    {
     "data": {
      "text/html": [
       "<div>\n",
       "<style scoped>\n",
       "    .dataframe tbody tr th:only-of-type {\n",
       "        vertical-align: middle;\n",
       "    }\n",
       "\n",
       "    .dataframe tbody tr th {\n",
       "        vertical-align: top;\n",
       "    }\n",
       "\n",
       "    .dataframe thead th {\n",
       "        text-align: right;\n",
       "    }\n",
       "</style>\n",
       "<table border=\"1\" class=\"dataframe\">\n",
       "  <thead>\n",
       "    <tr style=\"text-align: right;\">\n",
       "      <th></th>\n",
       "      <th>title</th>\n",
       "      <th>genres</th>\n",
       "      <th>avg_rating</th>\n",
       "      <th>rating_count</th>\n",
       "    </tr>\n",
       "  </thead>\n",
       "  <tbody>\n",
       "    <tr>\n",
       "      <th>0</th>\n",
       "      <td>'71 (2014)</td>\n",
       "      <td>Action</td>\n",
       "      <td>3.500000</td>\n",
       "      <td>1</td>\n",
       "    </tr>\n",
       "    <tr>\n",
       "      <th>1</th>\n",
       "      <td>'71 (2014)</td>\n",
       "      <td>Drama</td>\n",
       "      <td>3.500000</td>\n",
       "      <td>1</td>\n",
       "    </tr>\n",
       "    <tr>\n",
       "      <th>2</th>\n",
       "      <td>'71 (2014)</td>\n",
       "      <td>Thriller</td>\n",
       "      <td>3.500000</td>\n",
       "      <td>1</td>\n",
       "    </tr>\n",
       "    <tr>\n",
       "      <th>3</th>\n",
       "      <td>'71 (2014)</td>\n",
       "      <td>War</td>\n",
       "      <td>3.500000</td>\n",
       "      <td>1</td>\n",
       "    </tr>\n",
       "    <tr>\n",
       "      <th>4</th>\n",
       "      <td>'Hellboy': The Seeds of Creation (2004)</td>\n",
       "      <td>Action</td>\n",
       "      <td>3.000000</td>\n",
       "      <td>1</td>\n",
       "    </tr>\n",
       "    <tr>\n",
       "      <th>...</th>\n",
       "      <td>...</td>\n",
       "      <td>...</td>\n",
       "      <td>...</td>\n",
       "      <td>...</td>\n",
       "    </tr>\n",
       "    <tr>\n",
       "      <th>23093</th>\n",
       "      <td>xXx: State of the Union (2005)</td>\n",
       "      <td>Thriller</td>\n",
       "      <td>2.071429</td>\n",
       "      <td>7</td>\n",
       "    </tr>\n",
       "    <tr>\n",
       "      <th>23094</th>\n",
       "      <td>¡Three Amigos! (1986)</td>\n",
       "      <td>Comedy</td>\n",
       "      <td>3.012500</td>\n",
       "      <td>40</td>\n",
       "    </tr>\n",
       "    <tr>\n",
       "      <th>23095</th>\n",
       "      <td>¡Three Amigos! (1986)</td>\n",
       "      <td>Western</td>\n",
       "      <td>3.012500</td>\n",
       "      <td>40</td>\n",
       "    </tr>\n",
       "    <tr>\n",
       "      <th>23096</th>\n",
       "      <td>À nous la liberté (Freedom for Us) (1931)</td>\n",
       "      <td>Comedy</td>\n",
       "      <td>3.000000</td>\n",
       "      <td>1</td>\n",
       "    </tr>\n",
       "    <tr>\n",
       "      <th>23097</th>\n",
       "      <td>À nous la liberté (Freedom for Us) (1931)</td>\n",
       "      <td>Musical</td>\n",
       "      <td>3.000000</td>\n",
       "      <td>1</td>\n",
       "    </tr>\n",
       "  </tbody>\n",
       "</table>\n",
       "<p>23098 rows × 4 columns</p>\n",
       "</div>"
      ],
      "text/plain": [
       "                                           title    genres  avg_rating  \\\n",
       "0                                     '71 (2014)    Action    3.500000   \n",
       "1                                     '71 (2014)     Drama    3.500000   \n",
       "2                                     '71 (2014)  Thriller    3.500000   \n",
       "3                                     '71 (2014)       War    3.500000   \n",
       "4        'Hellboy': The Seeds of Creation (2004)    Action    3.000000   \n",
       "...                                          ...       ...         ...   \n",
       "23093             xXx: State of the Union (2005)  Thriller    2.071429   \n",
       "23094                      ¡Three Amigos! (1986)    Comedy    3.012500   \n",
       "23095                      ¡Three Amigos! (1986)   Western    3.012500   \n",
       "23096  À nous la liberté (Freedom for Us) (1931)    Comedy    3.000000   \n",
       "23097  À nous la liberté (Freedom for Us) (1931)   Musical    3.000000   \n",
       "\n",
       "       rating_count  \n",
       "0                 1  \n",
       "1                 1  \n",
       "2                 1  \n",
       "3                 1  \n",
       "4                 1  \n",
       "...             ...  \n",
       "23093             7  \n",
       "23094            40  \n",
       "23095            40  \n",
       "23096             1  \n",
       "23097             1  \n",
       "\n",
       "[23098 rows x 4 columns]"
      ]
     },
     "execution_count": 25,
     "metadata": {},
     "output_type": "execute_result"
    }
   ],
   "source": [
    "popularity_df\n"
   ]
  },
  {
   "cell_type": "code",
   "execution_count": 27,
   "metadata": {},
   "outputs": [],
   "source": [
    "def top_N_popular_movies_by_genre(df, genre, N):\n",
    "    # Filter DataFrame by genre\n",
    "    genre_df = df[df['genres'].str.contains(genre)]\n",
    "    \n",
    "    # Group by movie title and calculate rating count\n",
    "    rating_count = genre_df.groupby('title')['rating'].count().reset_index()\n",
    "    \n",
    "    # Sort movies based on rating count in descending order\n",
    "    top_movies = rating_count.sort_values(by='rating', ascending=False).head(N)\n",
    "    \n",
    "    return top_movies\n",
    "\n",
    "\n"
   ]
  },
  {
   "cell_type": "code",
   "execution_count": 28,
   "metadata": {},
   "outputs": [
    {
     "name": "stdout",
     "output_type": "stream",
     "text": [
      "                                  title  rating\n",
      "2523                Pulp Fiction (1994)     325\n",
      "1069                Forrest Gump (1994)     311\n",
      "3207                   Toy Story (1995)     232\n",
      "250           Back to the Future (1985)     213\n",
      "995                        Fargo (1996)     201\n",
      "102                      Aladdin (1992)     191\n",
      "3237                   True Lies (1994)     184\n",
      "57    Ace Ventura: Pet Detective (1994)     173\n",
      "2023   Men in Black (a.k.a. MIB) (1997)     172\n",
      "2498         Princess Bride, The (1987)     171\n"
     ]
    }
   ],
   "source": [
    "genre = 'Comedy'  # Specify the genre\n",
    "N = 10  # Number of top movies to return\n",
    "top_movies_by_genre = top_N_popular_movies_by_genre(movies_merged, genre, N)\n",
    "print(top_movies_by_genre)"
   ]
  },
  {
   "cell_type": "code",
   "execution_count": 29,
   "metadata": {},
   "outputs": [],
   "source": [
    "def TopPopularMovies(genre, num_threshold, topN):\n",
    "    # Create popularity DataFrame\n",
    "    popularity_df = movies_merged.groupby(['genres', 'title']).agg({'rating': ['mean', 'size']}).reset_index()\n",
    "    popularity_df.columns = ['genres', 'title', 'avg_ratings', 'no_of_ratings']\n",
    "\n",
    "    # Filter and sort data\n",
    "    filtered_df = popularity_df[(popularity_df[\"genres\"] == genre) & (popularity_df[\"no_of_ratings\"] > num_threshold)]\n",
    "    sorted_df = filtered_df.sort_values(by=\"avg_ratings\", ascending=False).head(topN)\n",
    "\n",
    "    # Select specific columns\n",
    "    selected_df = sorted_df[[\"title\", \"avg_ratings\", \"no_of_ratings\"]]\n",
    "\n",
    "    return selected_df\n"
   ]
  },
  {
   "cell_type": "code",
   "execution_count": 30,
   "metadata": {},
   "outputs": [
    {
     "data": {
      "text/html": [
       "<div>\n",
       "<style scoped>\n",
       "    .dataframe tbody tr th:only-of-type {\n",
       "        vertical-align: middle;\n",
       "    }\n",
       "\n",
       "    .dataframe tbody tr th {\n",
       "        vertical-align: top;\n",
       "    }\n",
       "\n",
       "    .dataframe thead th {\n",
       "        text-align: right;\n",
       "    }\n",
       "</style>\n",
       "<table border=\"1\" class=\"dataframe\">\n",
       "  <thead>\n",
       "    <tr style=\"text-align: right;\">\n",
       "      <th></th>\n",
       "      <th>title</th>\n",
       "      <th>avg_ratings</th>\n",
       "      <th>no_of_ratings</th>\n",
       "    </tr>\n",
       "  </thead>\n",
       "  <tbody>\n",
       "    <tr>\n",
       "      <th>5933</th>\n",
       "      <td>Monty Python and the Holy Grail (1975)</td>\n",
       "      <td>4.301948</td>\n",
       "      <td>154</td>\n",
       "    </tr>\n",
       "    <tr>\n",
       "      <th>4835</th>\n",
       "      <td>Fargo (1996)</td>\n",
       "      <td>4.271144</td>\n",
       "      <td>201</td>\n",
       "    </tr>\n",
       "    <tr>\n",
       "      <th>5647</th>\n",
       "      <td>Life Is Beautiful (La Vita è bella) (1997)</td>\n",
       "      <td>4.253425</td>\n",
       "      <td>73</td>\n",
       "    </tr>\n",
       "    <tr>\n",
       "      <th>6792</th>\n",
       "      <td>Sting, The (1973)</td>\n",
       "      <td>4.207792</td>\n",
       "      <td>77</td>\n",
       "    </tr>\n",
       "    <tr>\n",
       "      <th>4015</th>\n",
       "      <td>Annie Hall (1977)</td>\n",
       "      <td>4.205882</td>\n",
       "      <td>68</td>\n",
       "    </tr>\n",
       "    <tr>\n",
       "      <th>7182</th>\n",
       "      <td>Wallace &amp; Gromit: The Wrong Trousers (1993)</td>\n",
       "      <td>4.168831</td>\n",
       "      <td>77</td>\n",
       "    </tr>\n",
       "    <tr>\n",
       "      <th>6338</th>\n",
       "      <td>Princess Bride, The (1987)</td>\n",
       "      <td>4.163743</td>\n",
       "      <td>171</td>\n",
       "    </tr>\n",
       "    <tr>\n",
       "      <th>7180</th>\n",
       "      <td>Wallace &amp; Gromit: A Close Shave (1995)</td>\n",
       "      <td>4.163636</td>\n",
       "      <td>55</td>\n",
       "    </tr>\n",
       "    <tr>\n",
       "      <th>6363</th>\n",
       "      <td>Pulp Fiction (1994)</td>\n",
       "      <td>4.160000</td>\n",
       "      <td>325</td>\n",
       "    </tr>\n",
       "    <tr>\n",
       "      <th>4909</th>\n",
       "      <td>Forrest Gump (1994)</td>\n",
       "      <td>4.138264</td>\n",
       "      <td>311</td>\n",
       "    </tr>\n",
       "  </tbody>\n",
       "</table>\n",
       "</div>"
      ],
      "text/plain": [
       "                                            title  avg_ratings  no_of_ratings\n",
       "5933       Monty Python and the Holy Grail (1975)     4.301948            154\n",
       "4835                                 Fargo (1996)     4.271144            201\n",
       "5647   Life Is Beautiful (La Vita è bella) (1997)     4.253425             73\n",
       "6792                            Sting, The (1973)     4.207792             77\n",
       "4015                            Annie Hall (1977)     4.205882             68\n",
       "7182  Wallace & Gromit: The Wrong Trousers (1993)     4.168831             77\n",
       "6338                   Princess Bride, The (1987)     4.163743            171\n",
       "7180       Wallace & Gromit: A Close Shave (1995)     4.163636             55\n",
       "6363                          Pulp Fiction (1994)     4.160000            325\n",
       "4909                          Forrest Gump (1994)     4.138264            311"
      ]
     },
     "execution_count": 30,
     "metadata": {},
     "output_type": "execute_result"
    }
   ],
   "source": [
    "TopPopularMovies(\"Comedy\",50,10)"
   ]
  },
  {
   "cell_type": "code",
   "execution_count": 31,
   "metadata": {},
   "outputs": [],
   "source": [
    "def bayesian_average(avg_rating, num_ratings, global_avg_rating, min_ratings):\n",
    "    # Calculate the Bayesian average\n",
    "    bayesian_avg = (min_ratings * global_avg_rating + num_ratings * avg_rating) / (min_ratings + num_ratings)\n",
    "    return bayesian_avg\n",
    "\n",
    "def TopPopularMovies(genre, num_threshold, topN, global_avg_rating, min_ratings):\n",
    "    # Create popularity DataFrame\n",
    "    popularity_df = movies_merged.groupby(['genres', 'title']).agg({'rating': ['mean', 'size']}).reset_index()\n",
    "    popularity_df.columns = ['genres', 'title', 'avg_ratings', 'no_of_ratings']\n",
    "\n",
    "    # Filter data\n",
    "    filtered_df = popularity_df[(popularity_df[\"genres\"] == genre) & (popularity_df[\"no_of_ratings\"] > num_threshold)]\n",
    "\n",
    "    # Calculate Bayesian average\n",
    "    filtered_df['bayesian_avg'] = filtered_df.apply(lambda row: bayesian_average(row['avg_ratings'], row['no_of_ratings'], global_avg_rating, min_ratings), axis=1)\n",
    "\n",
    "    # Sort data by Bayesian average\n",
    "    sorted_df = filtered_df.sort_values(by=\"bayesian_avg\", ascending=False).head(topN)\n",
    "\n",
    "    # Select specific columns\n",
    "    selected_df = sorted_df[[\"title\", \"bayesian_avg\", \"no_of_ratings\"]]\n",
    "\n",
    "    return selected_df\n"
   ]
  },
  {
   "cell_type": "code",
   "execution_count": null,
   "metadata": {},
   "outputs": [
    {
     "name": "stderr",
     "output_type": "stream",
     "text": [
      "C:\\Users\\alok\\AppData\\Local\\Temp\\ipykernel_18036\\1482704223.py:15: SettingWithCopyWarning: \n",
      "A value is trying to be set on a copy of a slice from a DataFrame.\n",
      "Try using .loc[row_indexer,col_indexer] = value instead\n",
      "\n",
      "See the caveats in the documentation: https://pandas.pydata.org/pandas-docs/stable/user_guide/indexing.html#returning-a-view-versus-a-copy\n",
      "  filtered_df['bayesian_avg'] = filtered_df.apply(lambda row: bayesian_average(row['avg_ratings'], row['no_of_ratings'], global_avg_rating, min_ratings), axis=1)\n"
     ]
    },
    {
     "data": {
      "text/html": [
       "<div>\n",
       "<style scoped>\n",
       "    .dataframe tbody tr th:only-of-type {\n",
       "        vertical-align: middle;\n",
       "    }\n",
       "\n",
       "    .dataframe tbody tr th {\n",
       "        vertical-align: top;\n",
       "    }\n",
       "\n",
       "    .dataframe thead th {\n",
       "        text-align: right;\n",
       "    }\n",
       "</style>\n",
       "<table border=\"1\" class=\"dataframe\">\n",
       "  <thead>\n",
       "    <tr style=\"text-align: right;\">\n",
       "      <th></th>\n",
       "      <th>title</th>\n",
       "      <th>bayesian_avg</th>\n",
       "      <th>no_of_ratings</th>\n",
       "    </tr>\n",
       "  </thead>\n",
       "  <tbody>\n",
       "    <tr>\n",
       "      <th>5933</th>\n",
       "      <td>Monty Python and the Holy Grail (1975)</td>\n",
       "      <td>4.299407</td>\n",
       "      <td>154</td>\n",
       "    </tr>\n",
       "    <tr>\n",
       "      <th>4835</th>\n",
       "      <td>Fargo (1996)</td>\n",
       "      <td>4.269273</td>\n",
       "      <td>201</td>\n",
       "    </tr>\n",
       "    <tr>\n",
       "      <th>5647</th>\n",
       "      <td>Life Is Beautiful (La Vita è bella) (1997)</td>\n",
       "      <td>4.248414</td>\n",
       "      <td>73</td>\n",
       "    </tr>\n",
       "    <tr>\n",
       "      <th>6792</th>\n",
       "      <td>Sting, The (1973)</td>\n",
       "      <td>4.203335</td>\n",
       "      <td>77</td>\n",
       "    </tr>\n",
       "    <tr>\n",
       "      <th>4015</th>\n",
       "      <td>Annie Hall (1977)</td>\n",
       "      <td>4.200853</td>\n",
       "      <td>68</td>\n",
       "    </tr>\n",
       "    <tr>\n",
       "      <th>7182</th>\n",
       "      <td>Wallace &amp; Gromit: The Wrong Trousers (1993)</td>\n",
       "      <td>4.164625</td>\n",
       "      <td>77</td>\n",
       "    </tr>\n",
       "    <tr>\n",
       "      <th>6338</th>\n",
       "      <td>Princess Bride, The (1987)</td>\n",
       "      <td>4.161857</td>\n",
       "      <td>171</td>\n",
       "    </tr>\n",
       "    <tr>\n",
       "      <th>6363</th>\n",
       "      <td>Pulp Fiction (1994)</td>\n",
       "      <td>4.159012</td>\n",
       "      <td>325</td>\n",
       "    </tr>\n",
       "    <tr>\n",
       "      <th>7180</th>\n",
       "      <td>Wallace &amp; Gromit: A Close Shave (1995)</td>\n",
       "      <td>4.157809</td>\n",
       "      <td>55</td>\n",
       "    </tr>\n",
       "    <tr>\n",
       "      <th>4909</th>\n",
       "      <td>Forrest Gump (1994)</td>\n",
       "      <td>4.137266</td>\n",
       "      <td>311</td>\n",
       "    </tr>\n",
       "  </tbody>\n",
       "</table>\n",
       "</div>"
      ],
      "text/plain": [
       "                                            title  bayesian_avg  no_of_ratings\n",
       "5933       Monty Python and the Holy Grail (1975)      4.299407            154\n",
       "4835                                 Fargo (1996)      4.269273            201\n",
       "5647   Life Is Beautiful (La Vita è bella) (1997)      4.248414             73\n",
       "6792                            Sting, The (1973)      4.203335             77\n",
       "4015                            Annie Hall (1977)      4.200853             68\n",
       "7182  Wallace & Gromit: The Wrong Trousers (1993)      4.164625             77\n",
       "6338                   Princess Bride, The (1987)      4.161857            171\n",
       "6363                          Pulp Fiction (1994)      4.159012            325\n",
       "7180       Wallace & Gromit: A Close Shave (1995)      4.157809             55\n",
       "4909                          Forrest Gump (1994)      4.137266            311"
      ]
     },
     "execution_count": 99,
     "metadata": {},
     "output_type": "execute_result"
    }
   ],
   "source": [
    "TopPopularMovies(\"Comedy\", 50, 10, 3.516850, 0.5)\n"
   ]
  },
  {
   "cell_type": "markdown",
   "metadata": {},
   "source": [
    "# Content Based"
   ]
  },
  {
   "cell_type": "code",
   "execution_count": null,
   "metadata": {},
   "outputs": [],
   "source": []
  },
  {
   "cell_type": "markdown",
   "metadata": {},
   "source": [
    "# Take a Break"
   ]
  },
  {
   "cell_type": "code",
   "execution_count": null,
   "metadata": {},
   "outputs": [
    {
     "data": {
      "text/html": [
       "<div>\n",
       "<style scoped>\n",
       "    .dataframe tbody tr th:only-of-type {\n",
       "        vertical-align: middle;\n",
       "    }\n",
       "\n",
       "    .dataframe tbody tr th {\n",
       "        vertical-align: top;\n",
       "    }\n",
       "\n",
       "    .dataframe thead th {\n",
       "        text-align: right;\n",
       "    }\n",
       "</style>\n",
       "<table border=\"1\" class=\"dataframe\">\n",
       "  <thead>\n",
       "    <tr style=\"text-align: right;\">\n",
       "      <th></th>\n",
       "      <th>movieId</th>\n",
       "      <th>title</th>\n",
       "      <th>genres</th>\n",
       "    </tr>\n",
       "  </thead>\n",
       "  <tbody>\n",
       "    <tr>\n",
       "      <th>0</th>\n",
       "      <td>1</td>\n",
       "      <td>Toy Story (1995)</td>\n",
       "      <td>[Adventure, Animation, Children, Comedy, Fantasy]</td>\n",
       "    </tr>\n",
       "    <tr>\n",
       "      <th>1</th>\n",
       "      <td>2</td>\n",
       "      <td>Jumanji (1995)</td>\n",
       "      <td>[Adventure, Children, Fantasy]</td>\n",
       "    </tr>\n",
       "    <tr>\n",
       "      <th>2</th>\n",
       "      <td>3</td>\n",
       "      <td>Grumpier Old Men (1995)</td>\n",
       "      <td>[Comedy, Romance]</td>\n",
       "    </tr>\n",
       "    <tr>\n",
       "      <th>3</th>\n",
       "      <td>4</td>\n",
       "      <td>Waiting to Exhale (1995)</td>\n",
       "      <td>[Comedy, Drama, Romance]</td>\n",
       "    </tr>\n",
       "    <tr>\n",
       "      <th>4</th>\n",
       "      <td>5</td>\n",
       "      <td>Father of the Bride Part II (1995)</td>\n",
       "      <td>[Comedy]</td>\n",
       "    </tr>\n",
       "    <tr>\n",
       "      <th>...</th>\n",
       "      <td>...</td>\n",
       "      <td>...</td>\n",
       "      <td>...</td>\n",
       "    </tr>\n",
       "    <tr>\n",
       "      <th>10324</th>\n",
       "      <td>146684</td>\n",
       "      <td>Cosmic Scrat-tastrophe (2015)</td>\n",
       "      <td>[Animation, Children, Comedy]</td>\n",
       "    </tr>\n",
       "    <tr>\n",
       "      <th>10325</th>\n",
       "      <td>146878</td>\n",
       "      <td>Le Grand Restaurant (1966)</td>\n",
       "      <td>[Comedy]</td>\n",
       "    </tr>\n",
       "    <tr>\n",
       "      <th>10326</th>\n",
       "      <td>148238</td>\n",
       "      <td>A Very Murray Christmas (2015)</td>\n",
       "      <td>[Comedy]</td>\n",
       "    </tr>\n",
       "    <tr>\n",
       "      <th>10327</th>\n",
       "      <td>148626</td>\n",
       "      <td>The Big Short (2015)</td>\n",
       "      <td>[Drama]</td>\n",
       "    </tr>\n",
       "    <tr>\n",
       "      <th>10328</th>\n",
       "      <td>149532</td>\n",
       "      <td>Marco Polo: One Hundred Eyes (2015)</td>\n",
       "      <td>[(no genres listed)]</td>\n",
       "    </tr>\n",
       "  </tbody>\n",
       "</table>\n",
       "<p>10329 rows × 3 columns</p>\n",
       "</div>"
      ],
      "text/plain": [
       "       movieId                                title  \\\n",
       "0            1                     Toy Story (1995)   \n",
       "1            2                       Jumanji (1995)   \n",
       "2            3              Grumpier Old Men (1995)   \n",
       "3            4             Waiting to Exhale (1995)   \n",
       "4            5   Father of the Bride Part II (1995)   \n",
       "...        ...                                  ...   \n",
       "10324   146684        Cosmic Scrat-tastrophe (2015)   \n",
       "10325   146878           Le Grand Restaurant (1966)   \n",
       "10326   148238       A Very Murray Christmas (2015)   \n",
       "10327   148626                 The Big Short (2015)   \n",
       "10328   149532  Marco Polo: One Hundred Eyes (2015)   \n",
       "\n",
       "                                                  genres  \n",
       "0      [Adventure, Animation, Children, Comedy, Fantasy]  \n",
       "1                         [Adventure, Children, Fantasy]  \n",
       "2                                      [Comedy, Romance]  \n",
       "3                               [Comedy, Drama, Romance]  \n",
       "4                                               [Comedy]  \n",
       "...                                                  ...  \n",
       "10324                      [Animation, Children, Comedy]  \n",
       "10325                                           [Comedy]  \n",
       "10326                                           [Comedy]  \n",
       "10327                                            [Drama]  \n",
       "10328                               [(no genres listed)]  \n",
       "\n",
       "[10329 rows x 3 columns]"
      ]
     },
     "execution_count": 100,
     "metadata": {},
     "output_type": "execute_result"
    }
   ],
   "source": [
    "movies_data"
   ]
  },
  {
   "cell_type": "code",
   "execution_count": null,
   "metadata": {},
   "outputs": [],
   "source": []
  },
  {
   "cell_type": "code",
   "execution_count": 32,
   "metadata": {},
   "outputs": [
    {
     "data": {
      "text/html": [
       "<div>\n",
       "<style scoped>\n",
       "    .dataframe tbody tr th:only-of-type {\n",
       "        vertical-align: middle;\n",
       "    }\n",
       "\n",
       "    .dataframe tbody tr th {\n",
       "        vertical-align: top;\n",
       "    }\n",
       "\n",
       "    .dataframe thead th {\n",
       "        text-align: right;\n",
       "    }\n",
       "</style>\n",
       "<table border=\"1\" class=\"dataframe\">\n",
       "  <thead>\n",
       "    <tr style=\"text-align: right;\">\n",
       "      <th></th>\n",
       "      <th>title</th>\n",
       "      <th>genres</th>\n",
       "    </tr>\n",
       "  </thead>\n",
       "  <tbody>\n",
       "    <tr>\n",
       "      <th>0</th>\n",
       "      <td>'71 (2014)</td>\n",
       "      <td>Action Drama Thriller War</td>\n",
       "    </tr>\n",
       "    <tr>\n",
       "      <th>1</th>\n",
       "      <td>'Hellboy': The Seeds of Creation (2004)</td>\n",
       "      <td>Action Adventure Comedy Documentary Fantasy</td>\n",
       "    </tr>\n",
       "    <tr>\n",
       "      <th>2</th>\n",
       "      <td>'Round Midnight (1986)</td>\n",
       "      <td>Drama Musical</td>\n",
       "    </tr>\n",
       "    <tr>\n",
       "      <th>3</th>\n",
       "      <td>'Til There Was You (1997)</td>\n",
       "      <td>Drama Romance Drama Romance Drama Romance</td>\n",
       "    </tr>\n",
       "    <tr>\n",
       "      <th>4</th>\n",
       "      <td>'burbs, The (1989)</td>\n",
       "      <td>Comedy Comedy Comedy Comedy Comedy Comedy Come...</td>\n",
       "    </tr>\n",
       "  </tbody>\n",
       "</table>\n",
       "</div>"
      ],
      "text/plain": [
       "                                     title  \\\n",
       "0                               '71 (2014)   \n",
       "1  'Hellboy': The Seeds of Creation (2004)   \n",
       "2                   'Round Midnight (1986)   \n",
       "3                'Til There Was You (1997)   \n",
       "4                       'burbs, The (1989)   \n",
       "\n",
       "                                              genres  \n",
       "0                          Action Drama Thriller War  \n",
       "1        Action Adventure Comedy Documentary Fantasy  \n",
       "2                                      Drama Musical  \n",
       "3          Drama Romance Drama Romance Drama Romance  \n",
       "4  Comedy Comedy Comedy Comedy Comedy Comedy Come...  "
      ]
     },
     "execution_count": 32,
     "metadata": {},
     "output_type": "execute_result"
    }
   ],
   "source": [
    "\n",
    "# combining all the selected features into a single string for each movie\n",
    "combined_features = movies_merged.groupby(\"title\").agg({\"genres\": lambda x: \" \".join(list(x))}).reset_index()\n",
    "combined_features.head()\n",
    "\n",
    "\n"
   ]
  },
  {
   "cell_type": "code",
   "execution_count": 33,
   "metadata": {},
   "outputs": [],
   "source": [
    "vectorizer = TfidfVectorizer()\n",
    "feature_vector = vectorizer.fit_transform(combined_features[\"genres\"])\n",
    "\n",
    "similarity= cosine_similarity(feature_vector, feature_vector)"
   ]
  },
  {
   "cell_type": "code",
   "execution_count": 34,
   "metadata": {},
   "outputs": [],
   "source": [
    "indices = pd.Series(movies_data['title'].index,index = movies_data['title'])"
   ]
  },
  {
   "cell_type": "code",
   "execution_count": 35,
   "metadata": {},
   "outputs": [
    {
     "data": {
      "text/plain": [
       "title\n",
       "Toy Story (1995)                           0\n",
       "Jumanji (1995)                             1\n",
       "Grumpier Old Men (1995)                    2\n",
       "Waiting to Exhale (1995)                   3\n",
       "Father of the Bride Part II (1995)         4\n",
       "                                       ...  \n",
       "Cosmic Scrat-tastrophe (2015)          10324\n",
       "Le Grand Restaurant (1966)             10325\n",
       "A Very Murray Christmas (2015)         10326\n",
       "The Big Short (2015)                   10327\n",
       "Marco Polo: One Hundred Eyes (2015)    10328\n",
       "Length: 10329, dtype: int64"
      ]
     },
     "execution_count": 35,
     "metadata": {},
     "output_type": "execute_result"
    }
   ],
   "source": [
    "indices"
   ]
  },
  {
   "cell_type": "code",
   "execution_count": 36,
   "metadata": {},
   "outputs": [
    {
     "name": "stdout",
     "output_type": "stream",
     "text": [
      "[(0, 1.0000000000000002), (596, 1.0000000000000002), (858, 1.0000000000000002), (3837, 1.0000000000000002), (4405, 1.0000000000000002), (7421, 1.0000000000000002), (9242, 1.0000000000000002), (5470, 1.0), (210, 0.9564936958601954), (945, 0.9564936958601954), (6652, 0.9564936958601954), (6954, 0.9564936958601954), (9384, 0.9564936958601954), (9549, 0.9564936958601954), (357, 0.9407843734274323), (123, 0.8967502662971476), (155, 0.8967502662971476), (288, 0.8967502662971476), (315, 0.8967502662971476), (353, 0.8967502662971476), (793, 0.8967502662971476), (863, 0.8967502662971476), (866, 0.8967502662971476), (944, 0.8967502662971476), (1130, 0.8967502662971476), (1296, 0.8967502662971476), (1510, 0.8967502662971476), (2907, 0.8967502662971476), (3254, 0.8967502662971476), (3687, 0.8967502662971476), (3830, 0.8967502662971476), (3925, 0.8967502662971476), (4066, 0.8967502662971476), (4231, 0.8967502662971476), (4615, 0.8967502662971476), (4694, 0.8967502662971476), (4800, 0.8967502662971476), (4849, 0.8967502662971476), (5488, 0.8967502662971476), (5528, 0.8967502662971476), (6139, 0.8967502662971476), (7483, 0.8967502662971476), (7980, 0.8967502662971476), (8272, 0.8967502662971476), (9027, 0.8967502662971476), (9064, 0.8967502662971476), (9163, 0.8967502662971476), (9343, 0.8967502662971476), (9664, 0.8967502662971476), (9731, 0.8967502662971476), (9835, 0.8967502662971476), (9884, 0.8967502662971476), (561, 0.8967502662971474), (1370, 0.8967502662971474), (1414, 0.8967502662971474), (2245, 0.8967502662971474), (2555, 0.8967502662971474), (3188, 0.8967502662971474), (3336, 0.8967502662971474), (3500, 0.8967502662971474), (5883, 0.8967502662971474), (5946, 0.8967502662971474), (6938, 0.8967502662971474), (7485, 0.8967502662971474), (7847, 0.8967502662971474), (7909, 0.8967502662971474), (8863, 0.8967502662971474), (10082, 0.8967502662971474), (10305, 0.8967502662971474), (5511, 0.8890312733650256), (594, 0.8758501459039223), (746, 0.8758501459039223), (830, 0.8758501459039223), (919, 0.8758501459039223), (943, 0.8758501459039223), (1000, 0.8758501459039223), (1118, 0.8758501459039223), (2450, 0.8758501459039223), (3062, 0.8758501459039223), (5406, 0.8758501459039223), (5520, 0.8758501459039223), (7377, 0.8758501459039223), (7861, 0.8758501459039223), (8454, 0.8758501459039223), (9074, 0.8758501459039223), (9182, 0.8758501459039223), (9573, 0.8758501459039223), (9666, 0.8758501459039223), (1476, 0.8758501459039222), (2158, 0.8758501459039222), (1727, 0.8755194418832908), (6932, 0.8755194418832907), (213, 0.8479629887703239), (436, 0.8479629887703239), (1356, 0.8479629887703239), (1415, 0.8479629887703239), (2758, 0.8479629887703239), (3111, 0.8479629887703239), (3274, 0.8479629887703239), (4052, 0.8479629887703239), (4701, 0.8479629887703239), (4702, 0.8479629887703239), (4703, 0.8479629887703239), (6065, 0.8479629887703239), (6066, 0.8479629887703239), (7486, 0.8479629887703239), (7977, 0.8479629887703239), (9570, 0.8479629887703239), (3026, 0.8421798589444398), (2044, 0.8398574067685041), (481, 0.8320848535617845), (7422, 0.8284792650534102), (35, 0.8258290793500901), (98, 0.8258290793500901), (2095, 0.8258290793500901), (3249, 0.8258290793500901), (7981, 0.8258290793500901), (8533, 0.8258290793500901), (9914, 0.8258290793500901), (1202, 0.7981395759917361), (6956, 0.7915436539164369), (3300, 0.7915436539164368), (4103, 0.7915436539164368), (5078, 0.7915436539164368), (6916, 0.7915436539164368), (7678, 0.7915436539164368), (7879, 0.7915436539164368), (8472, 0.7915436539164368), (10085, 0.7915436539164368), (4283, 0.7804200574531261), (4986, 0.7804200574531261), (2102, 0.7776369043350073), (7512, 0.7776369043350073), (3667, 0.7690048704680863), (5623, 0.7690048704680863), (8161, 0.7690048704680863), (314, 0.7637114876156773), (892, 0.7637114876156773), (1072, 0.7637114876156773), (1622, 0.7637114876156773), (2345, 0.7637114876156773), (2885, 0.7637114876156773), (3266, 0.7637114876156773), (3298, 0.7637114876156773), (3807, 0.7637114876156773), (3891, 0.7637114876156773), (4614, 0.7637114876156773), (4996, 0.7637114876156773), (5049, 0.7637114876156773), (5235, 0.7637114876156773), (7107, 0.7637114876156773), (7482, 0.7637114876156773), (7508, 0.7637114876156773), (7553, 0.7637114876156773), (7853, 0.7637114876156773), (9097, 0.7637114876156773), (9458, 0.7637114876156773), (9765, 0.7637114876156773), (10044, 0.7637114876156773), (44, 0.7558270425063702), (130, 0.7558270425063702), (488, 0.7558270425063702), (579, 0.7558270425063702), (619, 0.7558270425063702), (661, 0.7558270425063702), (737, 0.7558270425063702), (836, 0.7558270425063702), (856, 0.7558270425063702), (861, 0.7558270425063702), (869, 0.7558270425063702), (884, 0.7558270425063702), (938, 0.7558270425063702), (949, 0.7558270425063702), (973, 0.7558270425063702), (979, 0.7558270425063702), (994, 0.7558270425063702), (1107, 0.7558270425063702), (1109, 0.7558270425063702), (1157, 0.7558270425063702), (1185, 0.7558270425063702), (1306, 0.7558270425063702), (1337, 0.7558270425063702), (1349, 0.7558270425063702), (1378, 0.7558270425063702), (1578, 0.7558270425063702), (1620, 0.7558270425063702), (1684, 0.7558270425063702), (1770, 0.7558270425063702), (1801, 0.7558270425063702), (1995, 0.7558270425063702), (2004, 0.7558270425063702), (2279, 0.7558270425063702), (2308, 0.7558270425063702), (2318, 0.7558270425063702), (2446, 0.7558270425063702), (2477, 0.7558270425063702), (2479, 0.7558270425063702), (2613, 0.7558270425063702), (2785, 0.7558270425063702), (2788, 0.7558270425063702), (2878, 0.7558270425063702), (2909, 0.7558270425063702), (2958, 0.7558270425063702), (3290, 0.7558270425063702), (3332, 0.7558270425063702), (3368, 0.7558270425063702), (3477, 0.7558270425063702), (3513, 0.7558270425063702), (3535, 0.7558270425063702), (3568, 0.7558270425063702), (3588, 0.7558270425063702), (3668, 0.7558270425063702), (3784, 0.7558270425063702), (3941, 0.7558270425063702), (4070, 0.7558270425063702), (4086, 0.7558270425063702), (4087, 0.7558270425063702), (4186, 0.7558270425063702), (4291, 0.7558270425063702), (4716, 0.7558270425063702), (4758, 0.7558270425063702), (4861, 0.7558270425063702), (4871, 0.7558270425063702), (4979, 0.7558270425063702), (5036, 0.7558270425063702), (5058, 0.7558270425063702), (5188, 0.7558270425063702), (5291, 0.7558270425063702), (5317, 0.7558270425063702), (5341, 0.7558270425063702), (5383, 0.7558270425063702), (5730, 0.7558270425063702), (5966, 0.7558270425063702), (5974, 0.7558270425063702), (6001, 0.7558270425063702), (6011, 0.7558270425063702), (6109, 0.7558270425063702), (6227, 0.7558270425063702), (6465, 0.7558270425063702), (6500, 0.7558270425063702), (6584, 0.7558270425063702), (6827, 0.7558270425063702), (6858, 0.7558270425063702), (6934, 0.7558270425063702), (6935, 0.7558270425063702), (6939, 0.7558270425063702), (7043, 0.7558270425063702), (7106, 0.7558270425063702), (7234, 0.7558270425063702), (7343, 0.7558270425063702), (7393, 0.7558270425063702), (7427, 0.7558270425063702), (7479, 0.7558270425063702), (7520, 0.7558270425063702), (7610, 0.7558270425063702), (7611, 0.7558270425063702), (7670, 0.7558270425063702), (7732, 0.7558270425063702), (7751, 0.7558270425063702), (7758, 0.7558270425063702), (7911, 0.7558270425063702), (7946, 0.7558270425063702), (8045, 0.7558270425063702), (8071, 0.7558270425063702), (8263, 0.7558270425063702), (8429, 0.7558270425063702), (8476, 0.7558270425063702), (8549, 0.7558270425063702), (8550, 0.7558270425063702), (8658, 0.7558270425063702), (8721, 0.7558270425063702), (8831, 0.7558270425063702), (8854, 0.7558270425063702), (8879, 0.7558270425063702), (9001, 0.7558270425063702), (9147, 0.7558270425063702), (9185, 0.7558270425063702), (9277, 0.7558270425063702), (9419, 0.7558270425063702), (9423, 0.7558270425063702), (9494, 0.7558270425063702), (9500, 0.7558270425063702), (9536, 0.7558270425063702), (9566, 0.7558270425063702), (9618, 0.7558270425063702), (9782, 0.7558270425063702), (9800, 0.7558270425063702), (9817, 0.7558270425063702), (9908, 0.7558270425063702), (9920, 0.7558270425063702), (10078, 0.7558270425063702), (10095, 0.7558270425063702), (10096, 0.7558270425063702), (10256, 0.7558270425063702), (2674, 0.7558270425063701), (3253, 0.7558270425063701), (4008, 0.7558270425063701), (4896, 0.7558270425063701), (4963, 0.7558270425063701), (5400, 0.7558270425063701), (5958, 0.7558270425063701), (6082, 0.7558270425063701), (6540, 0.7558270425063701), (7506, 0.7558270425063701), (9048, 0.7558270425063701), (24, 0.7550047505337509), (6889, 0.7550047505337509), (119, 0.7410128215713729), (9704, 0.7388825758083997), (9224, 0.7225713249480448), (298, 0.7168300297809644), (591, 0.7168300297809644), (623, 0.7168300297809644), (1150, 0.7168300297809644), (1267, 0.7168300297809644), (1302, 0.7168300297809644), (1473, 0.7168300297809644), (1540, 0.7168300297809644), (1695, 0.7168300297809644), (2429, 0.7168300297809644), (2515, 0.7168300297809644), (2792, 0.7168300297809644), (2931, 0.7168300297809644), (3183, 0.7168300297809644), (3214, 0.7168300297809644), (3278, 0.7168300297809644), (3399, 0.7168300297809644), (3486, 0.7168300297809644), (3573, 0.7168300297809644), (4340, 0.7168300297809644), (4397, 0.7168300297809644), (4547, 0.7168300297809644), (4761, 0.7168300297809644), (5021, 0.7168300297809644), (5027, 0.7168300297809644), (5152, 0.7168300297809644), (5353, 0.7168300297809644), (5483, 0.7168300297809644), (5641, 0.7168300297809644), (5818, 0.7168300297809644), (5911, 0.7168300297809644), (5961, 0.7168300297809644), (6752, 0.7168300297809644), (7280, 0.7168300297809644), (7874, 0.7168300297809644), (8021, 0.7168300297809644), (8180, 0.7168300297809644), (8354, 0.7168300297809644), (8478, 0.7168300297809644), (8953, 0.7168300297809644), (9484, 0.7168300297809644), (9574, 0.7168300297809644), (9625, 0.7168300297809644), (9687, 0.7168300297809644), (9761, 0.7168300297809644), (10292, 0.7168300297809644), (5079, 0.7168300297809643), (6410, 0.7106988627290017), (9969, 0.7106988627290017), (10000, 0.7047448319066391), (5779, 0.7007392565969464), (862, 0.6972479533166246), (2171, 0.6972479533166246), (2756, 0.6972479533166246), (6626, 0.6972479533166246), (7171, 0.6972479533166246), (7264, 0.6972479533166246), (7795, 0.6972479533166246), (8663, 0.6972479533166246), (9106, 0.6972479533166246), (9791, 0.6972479533166246), (597, 0.6955443329024515), (2846, 0.6955443329024515), (7684, 0.6955443329024515), (4552, 0.6942912231535829), (4282, 0.692905055785651), (6751, 0.6929050557856509), (447, 0.6822571019499325), (1584, 0.6822571019499325), (1630, 0.6822571019499325), (1756, 0.6822571019499325), (1925, 0.6822571019499325), (3732, 0.6822571019499325), (3806, 0.6822571019499325), (5067, 0.6822571019499325), (5411, 0.6822571019499325), (5629, 0.6822571019499325), (6080, 0.6822571019499325), (7272, 0.6822571019499325), (8008, 0.6822571019499325), (8947, 0.6822571019499325), (9290, 0.6822571019499325), (9306, 0.6822571019499325), (9587, 0.6822571019499325), (9295, 0.6728910114111588), (6750, 0.6695024861462467), (9449, 0.6695024861462467), (306, 0.6585278998176158), (1617, 0.6550105457101769), (10200, 0.6550105457101769), (27, 0.6547713202455296), (94, 0.6547713202455296), (289, 0.6547713202455296), (607, 0.6547713202455296), (624, 0.6547713202455296), (630, 0.6547713202455296), (632, 0.6547713202455296), (784, 0.6547713202455296), (1038, 0.6547713202455296), (1041, 0.6547713202455296), (1127, 0.6547713202455296), (1189, 0.6547713202455296), (1224, 0.6547713202455296), (1241, 0.6547713202455296), (1377, 0.6547713202455296), (1747, 0.6547713202455296), (1970, 0.6547713202455296), (2123, 0.6547713202455296), (2182, 0.6547713202455296), (2273, 0.6547713202455296), (2731, 0.6547713202455296), (2736, 0.6547713202455296), (2805, 0.6547713202455296), (2910, 0.6547713202455296), (3006, 0.6547713202455296), (3145, 0.6547713202455296), (3482, 0.6547713202455296), (3662, 0.6547713202455296), (3889, 0.6547713202455296), (4029, 0.6547713202455296), (4183, 0.6547713202455296), (4491, 0.6547713202455296), (4559, 0.6547713202455296), (4572, 0.6547713202455296), (4671, 0.6547713202455296), (4774, 0.6547713202455296), (4863, 0.6547713202455296), (5026, 0.6547713202455296), (5038, 0.6547713202455296), (5347, 0.6547713202455296), (5891, 0.6547713202455296), (5910, 0.6547713202455296), (6468, 0.6547713202455296), (6544, 0.6547713202455296), (6605, 0.6547713202455296), (6677, 0.6547713202455296), (6734, 0.6547713202455296), (6779, 0.6547713202455296), (6845, 0.6547713202455296), (6918, 0.6547713202455296), (6951, 0.6547713202455296), (7130, 0.6547713202455296), (7210, 0.6547713202455296), (7474, 0.6547713202455296), (7523, 0.6547713202455296), (7657, 0.6547713202455296), (7830, 0.6547713202455296), (7857, 0.6547713202455296), (8218, 0.6547713202455296), (8431, 0.6547713202455296), (8803, 0.6547713202455296), (8864, 0.6547713202455296), (8873, 0.6547713202455296), (9102, 0.6547713202455296), (9403, 0.6547713202455296), (9488, 0.6547713202455296), (9815, 0.6547713202455296), (9816, 0.6547713202455296), (9866, 0.6547713202455296), (207, 0.6427219487678205), (1751, 0.6427219487678205), (1461, 0.6404615696428596), (2358, 0.6404615696428596), (4670, 0.6404615696428596), (396, 0.6390047212290727), (581, 0.6390047212290727), (655, 0.6390047212290727), (783, 0.6390047212290727), (828, 0.6390047212290727), (1021, 0.6390047212290727), (1114, 0.6390047212290727), (1621, 0.6390047212290727), (1963, 0.6390047212290727), (1977, 0.6390047212290727), (2122, 0.6390047212290727), (2396, 0.6390047212290727), (2602, 0.6390047212290727), (2828, 0.6390047212290727), (2913, 0.6390047212290727), (3008, 0.6390047212290727), (3363, 0.6390047212290727), (3452, 0.6390047212290727), (3721, 0.6390047212290727), (4038, 0.6390047212290727), (4170, 0.6390047212290727), (4432, 0.6390047212290727), (4570, 0.6390047212290727), (5368, 0.6390047212290727), (5571, 0.6390047212290727), (5708, 0.6390047212290727), (5973, 0.6390047212290727), (7478, 0.6390047212290727), (7532, 0.6390047212290727), (7626, 0.6390047212290727), (7877, 0.6390047212290727), (9187, 0.6390047212290727), (9514, 0.6390047212290727), (9823, 0.6390047212290727), (9857, 0.6390047212290727), (10214, 0.6390047212290727), (4875, 0.6370425341050974), (95, 0.6315152293528075), (2096, 0.6246164212985245), (6821, 0.6246164212985243), (1520, 0.622426776460462), (2513, 0.6220856090596962), (45, 0.619417369113715), (2687, 0.619417369113715), (3549, 0.619417369113715), (4341, 0.619417369113715), (4563, 0.619417369113715), (5893, 0.619417369113715), (6186, 0.619417369113715), (6968, 0.619417369113715), (7823, 0.619417369113715), (8706, 0.619417369113715), (791, 0.6194173691137149), (1602, 0.6194173691137149), (1699, 0.6194173691137149), (1022, 0.6104225688781895), (1418, 0.6104225688781895), (5273, 0.6104225688781895), (5857, 0.6104225688781895), (8069, 0.6104225688781895), (1238, 0.6104225688781894), (5257, 0.6104225688781894), (5536, 0.6104225688781894), (5964, 0.6104225688781894), (6915, 0.6104225688781894), (9829, 0.6104225688781894), (6735, 0.6003799493199437), (8039, 0.6000902243096823), (5223, 0.598578730330017), (864, 0.5970336976010939), (8376, 0.5970336976010939), (1392, 0.596600295630786), (3241, 0.596600295630786), (8166, 0.596600295630786), (8984, 0.596600295630786), (2583, 0.592672368792322), (3349, 0.592672368792322), (4451, 0.592672368792322), (5364, 0.592672368792322), (9383, 0.592672368792322), (99, 0.5821642800675488), (708, 0.5821642800675488), (1293, 0.5821642800675488), (1318, 0.5821642800675488), (1517, 0.5821642800675488), (1731, 0.5821642800675488), (1744, 0.5821642800675488), (1884, 0.5821642800675488), (1905, 0.5821642800675488), (1969, 0.5821642800675488), (2054, 0.5821642800675488), (2087, 0.5821642800675488), (3053, 0.5821642800675488), (3118, 0.5821642800675488), (3185, 0.5821642800675488), (3409, 0.5821642800675488), (3933, 0.5821642800675488), (4270, 0.5821642800675488), (4608, 0.5821642800675488), (5010, 0.5821642800675488), (5044, 0.5821642800675488), (5161, 0.5821642800675488), (5225, 0.5821642800675488), (5627, 0.5821642800675488), (5684, 0.5821642800675488), (5713, 0.5821642800675488), (5945, 0.5821642800675488), (5970, 0.5821642800675488), (5989, 0.5821642800675488), (6526, 0.5821642800675488), (6801, 0.5821642800675488), (6937, 0.5821642800675488), (7332, 0.5821642800675488), (7351, 0.5821642800675488), (7406, 0.5821642800675488), (7458, 0.5821642800675488), (7791, 0.5821642800675488), (8345, 0.5821642800675488), (9046, 0.5821642800675488), (9241, 0.5821642800675488), (9300, 0.5821642800675488), (9621, 0.5821642800675488), (9743, 0.5821642800675488), (9801, 0.5821642800675488), (10042, 0.5821642800675488), (161, 0.5821642800675487), (631, 0.5821642800675487), (1294, 0.5821642800675487), (2072, 0.5821642800675487), (2119, 0.5821642800675487), (2175, 0.5821642800675487), (2278, 0.5821642800675487), (2655, 0.5821642800675487), (2862, 0.5821642800675487), (3126, 0.5821642800675487), (3572, 0.5821642800675487), (3583, 0.5821642800675487), (3584, 0.5821642800675487), (3982, 0.5821642800675487), (4175, 0.5821642800675487), (5033, 0.5821642800675487), (5884, 0.5821642800675487), (6253, 0.5821642800675487), (7127, 0.5821642800675487), (7426, 0.5821642800675487), (8101, 0.5821642800675487), (8525, 0.5821642800675487), (8874, 0.5821642800675487), (8875, 0.5821642800675487), (1500, 0.581138320507286), (3110, 0.575289437303404), (3331, 0.575289437303404), (4550, 0.575289437303404), (5609, 0.575289437303404), (1612, 0.5744457788584048), (4584, 0.5744457788584048), (7821, 0.5739623994788055), (9246, 0.5739623994788055), (165, 0.5736399033615065), (4869, 0.5736399033615065), (7184, 0.5736399033615065), (7742, 0.5736399033615065), (702, 0.5679952421479773), (1976, 0.5679952421479773), (2342, 0.5679952421479773), (2840, 0.5679952421479773), (3227, 0.5679952421479773), (4958, 0.5679952421479773), (5294, 0.5679952421479773), (6056, 0.5679952421479773), (6758, 0.5679952421479773), (7801, 0.5679952421479773), (9044, 0.5679952421479773), (9365, 0.5679952421479773), (9774, 0.5679952421479773), (1271, 0.5639205012231627), (2411, 0.5639205012231627), (2412, 0.5639205012231627), (2703, 0.5639205012231627), (3242, 0.5639205012231627), (6502, 0.5639205012231627), (6825, 0.5639205012231627), (7709, 0.5639205012231627), (7815, 0.5639205012231627), (7961, 0.5639205012231627), (8843, 0.5639205012231627), (745, 0.5639205012231626), (860, 0.5639205012231626), (1094, 0.5639205012231626), (1171, 0.5639205012231626), (1206, 0.5639205012231626), (1715, 0.5639205012231626), (1825, 0.5639205012231626), (2214, 0.5639205012231626), (2413, 0.5639205012231626), (2414, 0.5639205012231626), (2701, 0.5639205012231626), (3057, 0.5639205012231626), (3076, 0.5639205012231626), (3187, 0.5639205012231626), (3352, 0.5639205012231626), (3423, 0.5639205012231626), (3508, 0.5639205012231626), (3544, 0.5639205012231626), (3653, 0.5639205012231626), (3823, 0.5639205012231626), (3977, 0.5639205012231626), (4545, 0.5639205012231626), (4838, 0.5639205012231626), (5472, 0.5639205012231626), (5642, 0.5639205012231626), (5824, 0.5639205012231626), (5959, 0.5639205012231626), (6210, 0.5639205012231626), (6504, 0.5639205012231626), (7282, 0.5639205012231626), (7513, 0.5639205012231626), (7664, 0.5639205012231626), (7711, 0.5639205012231626), (7712, 0.5639205012231626), (7713, 0.5639205012231626), (7714, 0.5639205012231626), (7738, 0.5639205012231626), (7760, 0.5639205012231626), (7811, 0.5639205012231626), (7873, 0.5639205012231626), (8047, 0.5639205012231626), (8106, 0.5639205012231626), (8274, 0.5639205012231626), (8353, 0.5639205012231626), (8442, 0.5639205012231626), (8456, 0.5639205012231626), (9211, 0.5639205012231626), (9285, 0.5639205012231626), (9310, 0.5639205012231626), (9372, 0.5639205012231626), (9467, 0.5639205012231626), (9682, 0.5639205012231626), (10268, 0.5639205012231626), (10285, 0.5639205012231626), (3846, 0.5639205012231625), (5258, 0.5624964800236518), (1287, 0.5600619566412601), (857, 0.5580121023339577), (2320, 0.5580121023339576), (2340, 0.5580121023339576), (6083, 0.553705218917473), (2750, 0.5497585754358891), (5955, 0.5470230276168455), (1679, 0.5467150091304387), (2491, 0.5467150091304387), (3360, 0.5467150091304387), (3361, 0.5467150091304387), (3814, 0.5467150091304387), (3323, 0.543745288643366), (4147, 0.5437452886433659), (2204, 0.5434645782815443), (3795, 0.5411798636809291), (531, 0.5389784147155943), (749, 0.5389784147155943), (5203, 0.5389784147155943), (5980, 0.5389784147155943), (9841, 0.5389784147155943), (1541, 0.5389784147155942), (6107, 0.5389784147155942), (8597, 0.5382502375064451), (174, 0.5323863765610337), (8, 0.5300554401906463), (43, 0.5300554401906463), (152, 0.5300554401906463), (164, 0.5300554401906463), (365, 0.5300554401906463), (445, 0.5300554401906463), (459, 0.5300554401906463), (558, 0.5300554401906463), (576, 0.5300554401906463), (580, 0.5300554401906463), (583, 0.5300554401906463), (625, 0.5300554401906463), (644, 0.5300554401906463), (692, 0.5300554401906463), (714, 0.5300554401906463), (731, 0.5300554401906463), (755, 0.5300554401906463), (758, 0.5300554401906463), (767, 0.5300554401906463), (768, 0.5300554401906463), (829, 0.5300554401906463), (1001, 0.5300554401906463), (1003, 0.5300554401906463), (1091, 0.5300554401906463), (1151, 0.5300554401906463), (1165, 0.5300554401906463), (1190, 0.5300554401906463), (1266, 0.5300554401906463), (1330, 0.5300554401906463), (1372, 0.5300554401906463), (1417, 0.5300554401906463), (1434, 0.5300554401906463), (1530, 0.5300554401906463), (1547, 0.5300554401906463), (1590, 0.5300554401906463), (1646, 0.5300554401906463), (1694, 0.5300554401906463), (1697, 0.5300554401906463), (1707, 0.5300554401906463), (1742, 0.5300554401906463), (1816, 0.5300554401906463), (1822, 0.5300554401906463), (1830, 0.5300554401906463), (1868, 0.5300554401906463), (1885, 0.5300554401906463), (1890, 0.5300554401906463), (1906, 0.5300554401906463), (1960, 0.5300554401906463), (1962, 0.5300554401906463), (1967, 0.5300554401906463), (1980, 0.5300554401906463), (2014, 0.5300554401906463), (2047, 0.5300554401906463), (2052, 0.5300554401906463), (2080, 0.5300554401906463), (2125, 0.5300554401906463), (2222, 0.5300554401906463), (2269, 0.5300554401906463), (2297, 0.5300554401906463), (2310, 0.5300554401906463), (2374, 0.5300554401906463), (2406, 0.5300554401906463), (2415, 0.5300554401906463), (2423, 0.5300554401906463), (2469, 0.5300554401906463), (2473, 0.5300554401906463), (2498, 0.5300554401906463), (2519, 0.5300554401906463), (2566, 0.5300554401906463), (2567, 0.5300554401906463), (2578, 0.5300554401906463), (2619, 0.5300554401906463), (2631, 0.5300554401906463), (2747, 0.5300554401906463), (2780, 0.5300554401906463), (2826, 0.5300554401906463), (2833, 0.5300554401906463), (2893, 0.5300554401906463), (2917, 0.5300554401906463), (2945, 0.5300554401906463), (2957, 0.5300554401906463), (3020, 0.5300554401906463), (3031, 0.5300554401906463), (3035, 0.5300554401906463), (3036, 0.5300554401906463), (3066, 0.5300554401906463), (3087, 0.5300554401906463), (3133, 0.5300554401906463), (3198, 0.5300554401906463), (3226, 0.5300554401906463), (3235, 0.5300554401906463), (3289, 0.5300554401906463), (3415, 0.5300554401906463), (3494, 0.5300554401906463), (3539, 0.5300554401906463), (3625, 0.5300554401906463), (3642, 0.5300554401906463), (3664, 0.5300554401906463), (3665, 0.5300554401906463), (3716, 0.5300554401906463), (3719, 0.5300554401906463), (3738, 0.5300554401906463), (3739, 0.5300554401906463), (3766, 0.5300554401906463), (3899, 0.5300554401906463), (3910, 0.5300554401906463), (3934, 0.5300554401906463), (3972, 0.5300554401906463), (4014, 0.5300554401906463), (4131, 0.5300554401906463), (4164, 0.5300554401906463), (4420, 0.5300554401906463), (4531, 0.5300554401906463), (4616, 0.5300554401906463), (4637, 0.5300554401906463), (4646, 0.5300554401906463), (4649, 0.5300554401906463), (4654, 0.5300554401906463), (4657, 0.5300554401906463), (4714, 0.5300554401906463), (4882, 0.5300554401906463), (4911, 0.5300554401906463), (4937, 0.5300554401906463), (4964, 0.5300554401906463), (5047, 0.5300554401906463), (5170, 0.5300554401906463), (5183, 0.5300554401906463), (5220, 0.5300554401906463), (5244, 0.5300554401906463), (5266, 0.5300554401906463), (5322, 0.5300554401906463), (5362, 0.5300554401906463), (5452, 0.5300554401906463), (5480, 0.5300554401906463), (5726, 0.5300554401906463), (5770, 0.5300554401906463), (5803, 0.5300554401906463), (5812, 0.5300554401906463), (5836, 0.5300554401906463), (5901, 0.5300554401906463), (5991, 0.5300554401906463), (5992, 0.5300554401906463), (6015, 0.5300554401906463), (6264, 0.5300554401906463), (6463, 0.5300554401906463), (6475, 0.5300554401906463), (6496, 0.5300554401906463), (6583, 0.5300554401906463), (6718, 0.5300554401906463), (6739, 0.5300554401906463), (6746, 0.5300554401906463), (6747, 0.5300554401906463), (6807, 0.5300554401906463), (6848, 0.5300554401906463), (6875, 0.5300554401906463), (6987, 0.5300554401906463), (7041, 0.5300554401906463), (7109, 0.5300554401906463), (7132, 0.5300554401906463), (7133, 0.5300554401906463), (7134, 0.5300554401906463), (7416, 0.5300554401906463), (7475, 0.5300554401906463), (7539, 0.5300554401906463), (7550, 0.5300554401906463), (7556, 0.5300554401906463), (7634, 0.5300554401906463), (7648, 0.5300554401906463), (7748, 0.5300554401906463), (7784, 0.5300554401906463), (7800, 0.5300554401906463), (7820, 0.5300554401906463), (8129, 0.5300554401906463), (8192, 0.5300554401906463), (8227, 0.5300554401906463), (8269, 0.5300554401906463), (8311, 0.5300554401906463), (8339, 0.5300554401906463), (8385, 0.5300554401906463), (8531, 0.5300554401906463), (8606, 0.5300554401906463), (8608, 0.5300554401906463), (8638, 0.5300554401906463), (8652, 0.5300554401906463), (8690, 0.5300554401906463), (8735, 0.5300554401906463), (8852, 0.5300554401906463), (8865, 0.5300554401906463), (9067, 0.5300554401906463), (9153, 0.5300554401906463), (9271, 0.5300554401906463), (9283, 0.5300554401906463), (9313, 0.5300554401906463), (9361, 0.5300554401906463), (9432, 0.5300554401906463), (9474, 0.5300554401906463), (9553, 0.5300554401906463), (9597, 0.5300554401906463), (9629, 0.5300554401906463), (9685, 0.5300554401906463), (9775, 0.5300554401906463), (9783, 0.5300554401906463), (9787, 0.5300554401906463), (9792, 0.5300554401906463), (9822, 0.5300554401906463), (9882, 0.5300554401906463), (9978, 0.5300554401906463), (9990, 0.5300554401906463), (10007, 0.5300554401906463), (10097, 0.5300554401906463), (10108, 0.5300554401906463), (10281, 0.5300554401906463), (5092, 0.5291874475005474), (9291, 0.5291874475005474), (8485, 0.5290492749090577), (10217, 0.5290492749090577), (8484, 0.5290492749090576), (4400, 0.5276759901234035), (9718, 0.5178526332070608), (6627, 0.5159007197587463), (629, 0.514655638199758), (806, 0.514655638199758), (808, 0.514655638199758), (1199, 0.514655638199758), (1325, 0.514655638199758), (2437, 0.514655638199758), (2540, 0.514655638199758), (2927, 0.514655638199758), (3048, 0.514655638199758), (3410, 0.514655638199758), (3975, 0.514655638199758), (4233, 0.514655638199758), (5020, 0.514655638199758), (5239, 0.514655638199758), (6404, 0.514655638199758), (6462, 0.514655638199758), (6596, 0.514655638199758), (7807, 0.514655638199758), (8258, 0.514655638199758), (8394, 0.514655638199758), (8877, 0.514655638199758), (10312, 0.514655638199758), (10313, 0.514655638199758), (51, 0.5146556381997579), (840, 0.5146556381997579), (1326, 0.5146556381997579), (1466, 0.5146556381997579), (2371, 0.5146556381997579), (2538, 0.5146556381997579), (2556, 0.5146556381997579), (3125, 0.5146556381997579), (3498, 0.5146556381997579), (4062, 0.5146556381997579), (4187, 0.5146556381997579), (4189, 0.5146556381997579), (4767, 0.5146556381997579), (6425, 0.5146556381997579), (7129, 0.5146556381997579), (7331, 0.5146556381997579), (7542, 0.5146556381997579), (7740, 0.5146556381997579), (8102, 0.5146556381997579), (9104, 0.5146556381997579), (9397, 0.5146556381997579), (9550, 0.5146556381997579), (69, 0.5146556381997578), (138, 0.5146556381997578), (156, 0.5146556381997578), (496, 0.5146556381997578), (1957, 0.5146556381997578), (2156, 0.5146556381997578), (2196, 0.5146556381997578), (2551, 0.5146556381997578), (3049, 0.5146556381997578), (3527, 0.5146556381997578), (4041, 0.5146556381997578), (4188, 0.5146556381997578), (4906, 0.5146556381997578), (6265, 0.5146556381997578), (6541, 0.5146556381997578), (7128, 0.5146556381997578), (7223, 0.5146556381997578), (7514, 0.5146556381997578), (7566, 0.5146556381997578), (7621, 0.5146556381997578), (7840, 0.5146556381997578), (8080, 0.5146556381997578), (8312, 0.5146556381997578), (8410, 0.5146556381997578), (8649, 0.5146556381997578), (8876, 0.5146556381997578), (9090, 0.5146556381997578), (9267, 0.5146556381997578), (9417, 0.5146556381997578), (9698, 0.5146556381997578), (93, 0.5141563950986856), (2364, 0.512046448892729), (8147, 0.5092714849172151), (9028, 0.5092714849172151), (3888, 0.5066929396766235), (5059, 0.5023254736087467), (3458, 0.502051925309617), (12, 0.5006553736436973), (1452, 0.5006553736436973), (1730, 0.5006553736436973), (1913, 0.5006553736436973), (2016, 0.5006553736436973), (2537, 0.5006553736436973), (3003, 0.5006553736436973), (3017, 0.5006553736436973), (3222, 0.5006553736436973), (3325, 0.5006553736436973), (3714, 0.5006553736436973), (4394, 0.5006553736436973), (5445, 0.5006553736436973), (5448, 0.5006553736436973), (5772, 0.5006553736436973), (6072, 0.5006553736436973), (6686, 0.5006553736436973), (7408, 0.5006553736436973), (7423, 0.5006553736436973), (8532, 0.5006553736436973), (10168, 0.5006553736436973), (463, 0.5006553736436972), (1673, 0.5006553736436972), (2525, 0.5006553736436972), (2539, 0.5006553736436972), (2684, 0.5006553736436972), (3457, 0.5006553736436972), (3713, 0.5006553736436972), (5356, 0.5006553736436972), (5887, 0.5006553736436972), (6073, 0.5006553736436972), (6074, 0.5006553736436972), (6433, 0.5006553736436972), (6639, 0.5006553736436972), (7360, 0.5006553736436972), (7701, 0.5006553736436972), (8799, 0.5006553736436972), (9247, 0.5006553736436972), (9324, 0.5006553736436972), (9735, 0.5006553736436972), (870, 0.5005200261633821), (1878, 0.4936171815317986), (73, 0.49361718153179857), (5455, 0.49361718153179857), (1123, 0.490864148552953), (1168, 0.490864148552953), (1169, 0.490864148552953), (2109, 0.490864148552953), (4184, 0.490864148552953), (4895, 0.490864148552953), (5189, 0.490864148552953), (5792, 0.490864148552953), (6239, 0.490864148552953), (7075, 0.490864148552953), (8513, 0.490864148552953), (10189, 0.490864148552953), (3395, 0.49086414855295296), (5788, 0.48702239520872287), (4921, 0.483411650205518), (6337, 0.483411650205518), (8368, 0.483411650205518), (32, 0.48258317616767216), (203, 0.48258317616767216), (681, 0.48258317616767216), (998, 0.48258317616767216), (999, 0.48258317616767216), (1039, 0.48258317616767216), (1051, 0.48258317616767216), (1216, 0.48258317616767216), (1217, 0.48258317616767216), (2408, 0.48258317616767216), (2460, 0.48258317616767216), (2653, 0.48258317616767216), (2660, 0.48258317616767216), (3065, 0.48258317616767216), (3247, 0.48258317616767216), (3546, 0.48258317616767216), (4396, 0.48258317616767216), (4695, 0.48258317616767216), (4999, 0.48258317616767216), (5095, 0.48258317616767216), (5112, 0.48258317616767216), (5204, 0.48258317616767216), (5444, 0.48258317616767216), (5471, 0.48258317616767216), (5859, 0.48258317616767216), (5860, 0.48258317616767216), (6273, 0.48258317616767216), (6427, 0.48258317616767216), (6679, 0.48258317616767216), (6703, 0.48258317616767216), (6732, 0.48258317616767216), (6733, 0.48258317616767216), (6953, 0.48258317616767216), (7330, 0.48258317616767216), (7436, 0.48258317616767216), (7446, 0.48258317616767216), (7491, 0.48258317616767216), (7503, 0.48258317616767216), (7540, 0.48258317616767216), (7869, 0.48258317616767216), (8620, 0.48258317616767216), (8723, 0.48258317616767216), (9095, 0.48258317616767216), (9249, 0.48258317616767216), (9362, 0.48258317616767216), (9575, 0.48258317616767216), (9802, 0.48258317616767216), (10227, 0.48258317616767216), (3215, 0.4816716307197645), (2058, 0.48140220581039916), (8170, 0.48140220581039916), (654, 0.4814022058103991), (1887, 0.4814022058103991), (3304, 0.4814022058103991), (3531, 0.4814022058103991), (3890, 0.4814022058103991), (4057, 0.4814022058103991), (5800, 0.4814022058103991), (7568, 0.4814022058103991), (8436, 0.4814022058103991), (9750, 0.4814022058103991), (9819, 0.4814022058103991), (10289, 0.4814022058103991), (6658, 0.48053390137517193), (8302, 0.47729761562712913), (2580, 0.477189308402252), (2113, 0.47519038461855484), (5210, 0.47519038461855484), (5518, 0.47519038461855484), (5948, 0.47519038461855484), (6868, 0.47519038461855484), (7064, 0.47519038461855484), (8765, 0.47519038461855484), (8921, 0.47519038461855484), (8715, 0.4737885208241659), (212, 0.47235700741688624), (750, 0.47235700741688624), (1274, 0.47235700741688624), (3347, 0.47235700741688624), (4488, 0.47235700741688624), (4553, 0.47235700741688624), (5048, 0.47235700741688624), (5337, 0.47235700741688624), (6005, 0.47235700741688624), (6635, 0.47235700741688624), (6710, 0.47235700741688624), (7149, 0.47235700741688624), (7150, 0.47235700741688624), (7306, 0.47235700741688624), (7477, 0.47235700741688624), (7535, 0.47235700741688624), (7816, 0.47235700741688624), (7818, 0.47235700741688624), (8598, 0.47235700741688624), (8774, 0.47235700741688624), (8775, 0.47235700741688624), (8918, 0.47235700741688624), (9689, 0.47235700741688624), (1016, 0.4723570074168862), (1017, 0.47235700741688613), (1164, 0.4697050845869867), (1717, 0.4697050845869867), (2661, 0.4697050845869867), (4642, 0.4697050845869867), (6418, 0.4697050845869867), (10010, 0.4697050845869867), (3636, 0.4697050845869866), (5762, 0.46970508458698657), (4876, 0.4689004904274593), (3326, 0.4689004904274592), (5309, 0.46858956240159305), (1474, 0.4659948576242989), (2755, 0.4659948576242989), (4132, 0.4659948576242989), (6480, 0.4659948576242989), (128, 0.4659948576242988), (1323, 0.4659948576242988), (1348, 0.4659948576242988), (2811, 0.4659948576242988), (2944, 0.4659948576242988), (6557, 0.4659948576242988), (8985, 0.4659948576242988), (2729, 0.4655367967508945), (3593, 0.4655367967508945), (3592, 0.46553679675089443), (6482, 0.46350324228051487), (1322, 0.4621678637004334), (5524, 0.4621678637004334), (6400, 0.4621678637004334), (6017, 0.4618566385034918), (5054, 0.4618566385034917), (6244, 0.4614632965087635), (3236, 0.46146329650876344), (1814, 0.4614632965087634), (4496, 0.4608836997659506), (62, 0.46046777412540696), (871, 0.46046777412540696), (2079, 0.46046777412540696), (2644, 0.46046777412540696), (4533, 0.46046777412540696), (6680, 0.46046777412540696), (6811, 0.46046777412540696), (7651, 0.46046777412540696), (8576, 0.46046777412540696), (9614, 0.46046777412540696), (675, 0.4569621878067147), (8349, 0.4537624041158764), (3450, 0.45376240411587637), (255, 0.45362792480237846), (3136, 0.45362792480237846), (2749, 0.45267719093676256), (4591, 0.4515704601797733), (8152, 0.44962523124791526), (3585, 0.4486728310744579), (9394, 0.448317074654995), (3169, 0.4465118642356274), (7213, 0.4465118642356274), (7734, 0.44651186423562733), (4768, 0.44536123658672466), (9997, 0.44536123658672466), (9812, 0.44500662891003717), (31, 0.4425369587910092), (39, 0.4425369587910092), (136, 0.4425369587910092), (162, 0.4425369587910092), (588, 0.4425369587910092), (809, 0.4425369587910092), (854, 0.4425369587910092), (921, 0.4425369587910092), (992, 0.4425369587910092), (1186, 0.4425369587910092), (1195, 0.4425369587910092), (1239, 0.4425369587910092), (1276, 0.4425369587910092), (1295, 0.4425369587910092), (1614, 0.4425369587910092), (1815, 0.4425369587910092), (1987, 0.4425369587910092), (2011, 0.4425369587910092), (2043, 0.4425369587910092), (2070, 0.4425369587910092), (2071, 0.4425369587910092), (2152, 0.4425369587910092), (2190, 0.4425369587910092), (2221, 0.4425369587910092), (2291, 0.4425369587910092), (2355, 0.4425369587910092), (2378, 0.4425369587910092), (2426, 0.4425369587910092), (2449, 0.4425369587910092), (2564, 0.4425369587910092), (2621, 0.4425369587910092), (2635, 0.4425369587910092), (2713, 0.4425369587910092), (2951, 0.4425369587910092), (3037, 0.4425369587910092), (3039, 0.4425369587910092), (3041, 0.4425369587910092), (3046, 0.4425369587910092), (3108, 0.4425369587910092), (3146, 0.4425369587910092), (3159, 0.4425369587910092), (3230, 0.4425369587910092), (3346, 0.4425369587910092), (3348, 0.4425369587910092), (3371, 0.4425369587910092), (3414, 0.4425369587910092), (3474, 0.4425369587910092), (3523, 0.4425369587910092), (3616, 0.4425369587910092), (3656, 0.4425369587910092), (3873, 0.4425369587910092), (4136, 0.4425369587910092), (4141, 0.4425369587910092), (4332, 0.4425369587910092), (4398, 0.4425369587910092), (4424, 0.4425369587910092), (4447, 0.4425369587910092), (4541, 0.4425369587910092), (4544, 0.4425369587910092), (4648, 0.4425369587910092), (4696, 0.4425369587910092), (4785, 0.4425369587910092), (4914, 0.4425369587910092), (5087, 0.4425369587910092), (5704, 0.4425369587910092), (5780, 0.4425369587910092), (6444, 0.4425369587910092), (6476, 0.4425369587910092), (6537, 0.4425369587910092), (6575, 0.4425369587910092), (6646, 0.4425369587910092), (6873, 0.4425369587910092), (6880, 0.4425369587910092), (6890, 0.4425369587910092), (6955, 0.4425369587910092), (6985, 0.4425369587910092), (7502, 0.4425369587910092), (7772, 0.4425369587910092), (7833, 0.4425369587910092), (7839, 0.4425369587910092), (7991, 0.4425369587910092), (8018, 0.4425369587910092), (8063, 0.4425369587910092), (8294, 0.4425369587910092), (8307, 0.4425369587910092), (8327, 0.4425369587910092), (8473, 0.4425369587910092), (8501, 0.4425369587910092), (8504, 0.4425369587910092), (8517, 0.4425369587910092), (8535, 0.4425369587910092), (8610, 0.4425369587910092), (8691, 0.4425369587910092), (8827, 0.4425369587910092), (9036, 0.4425369587910092), (9254, 0.4425369587910092), (9258, 0.4425369587910092), (9338, 0.4425369587910092), (9346, 0.4425369587910092), (9517, 0.4425369587910092), (9524, 0.4425369587910092), (9695, 0.4425369587910092), (9901, 0.4425369587910092), (9989, 0.4425369587910092), (10011, 0.4425369587910092), (10037, 0.4425369587910092), (2662, 0.43835310510357517), (5864, 0.43835310510357517), (6798, 0.43835310510357517), (7165, 0.43835310510357517), (7787, 0.43835310510357517), (8111, 0.43835310510357517), (9293, 0.43835310510357517), (10052, 0.43835310510357517), (9519, 0.4372764983554019), (6688, 0.43727649835540183), (8450, 0.43456857423979733), (8667, 0.43456857423979733), (8123, 0.43390072045897976), (8506, 0.4335308615470159), (4311, 0.43037542483777563), (621, 0.4303754248377756), (962, 0.4303754248377756), (2179, 0.4303754248377756), (2347, 0.4303754248377756), (3233, 0.4303754248377756), (7261, 0.4303754248377756), (3976, 0.42904347961718253), (143, 0.4290434796171825), (2024, 0.4290434796171825), (2401, 0.4290434796171825), (3032, 0.4290434796171825), (3901, 0.4290434796171825), (4194, 0.4290434796171825), (4669, 0.4290434796171825), (5442, 0.4290434796171825), (6704, 0.4290434796171825), (9398, 0.4290434796171825), (9840, 0.4290434796171825), (9911, 0.4290434796171825), (6484, 0.42885703442888756), (9532, 0.42588702009336166), (3033, 0.424374316066665), (5791, 0.42283332869424883), (7507, 0.42283332869424883), (10088, 0.42049337463952235), (103, 0.4187909262333418), (6815, 0.4187909262333418), (7690, 0.41809249449386426), (7693, 0.4180924944938642), (9631, 0.41640634761656264), (81, 0.4164063476165626), (183, 0.4164063476165626), (206, 0.4164063476165626), (751, 0.4164063476165626), (778, 0.4164063476165626), (795, 0.4164063476165626), (1083, 0.4164063476165626), (1115, 0.4164063476165626), (1142, 0.4164063476165626), (1243, 0.4164063476165626), (1363, 0.4164063476165626), (1401, 0.4164063476165626), (1509, 0.4164063476165626), (1983, 0.4164063476165626), (2372, 0.4164063476165626), (2410, 0.4164063476165626), (2863, 0.4164063476165626), (3128, 0.4164063476165626), (3129, 0.4164063476165626), (3217, 0.4164063476165626), (3357, 0.4164063476165626), (3375, 0.4164063476165626), (3528, 0.4164063476165626), (3981, 0.4164063476165626), (3984, 0.4164063476165626), (3989, 0.4164063476165626), (4007, 0.4164063476165626), (4211, 0.4164063476165626), (5957, 0.4164063476165626), (6441, 0.4164063476165626), (6588, 0.4164063476165626), (6853, 0.4164063476165626), (7262, 0.4164063476165626), (7317, 0.4164063476165626), (7649, 0.4164063476165626), (7834, 0.4164063476165626), (7929, 0.4164063476165626), (8058, 0.4164063476165626), (8392, 0.4164063476165626), (8449, 0.4164063476165626), (8557, 0.4164063476165626), (8719, 0.4164063476165626), (8767, 0.4164063476165626), (9309, 0.4164063476165626), (9742, 0.4164063476165626), (10216, 0.4164063476165626), (8844, 0.41640634761656253), (7718, 0.41496564324516355), (1802, 0.41275031301854415), (2323, 0.41275031301854415), (4391, 0.41275031301854415), (4920, 0.41275031301854415), (8445, 0.41275031301854415), (5193, 0.41043381622715425), (9468, 0.41043381622715414), (2129, 0.40887141686273343), (4683, 0.40887141686273343), (3120, 0.40668696983631547), (377, 0.406624287290847), (3157, 0.406624287290847), (8348, 0.406624287290847), (9788, 0.406624287290847), (10204, 0.406624287290847), (7842, 0.40662428729084693), (8148, 0.40662428729084693), (2181, 0.40631983971031216), (7376, 0.40587456259032767), (1759, 0.4036029855464611), (5637, 0.4036029855464611), (266, 0.40360298554646107), (3869, 0.40303094369098424), (7880, 0.40303094369098424), (968, 0.4030309436909842), (3654, 0.4030309436909842), (4122, 0.4030309436909842), (4970, 0.4030309436909842), (5748, 0.4030309436909842), (7121, 0.4030309436909842), (8066, 0.4030309436909842), (8360, 0.4030309436909842), (9326, 0.4030309436909842), (10008, 0.4030309436909842), (349, 0.40303094369098413), (1288, 0.40303094369098413), (1623, 0.40303094369098413), (2874, 0.40303094369098413), (3009, 0.40303094369098413), (3101, 0.40303094369098413), (3277, 0.40303094369098413), (4673, 0.40303094369098413), (6701, 0.40303094369098413), (7180, 0.40303094369098413), (7181, 0.40303094369098413), (7463, 0.40303094369098413), (7813, 0.40303094369098413), (7870, 0.40303094369098413), (7871, 0.40303094369098413), (7872, 0.40303094369098413), (8403, 0.40303094369098413), (1324, 0.4017651170528442), (7876, 0.4017651170528441), (2743, 0.39991771467883347), (4263, 0.39991771467883347), (3945, 0.39961253899060345), (6070, 0.39961253899060334), (6252, 0.39932355979673884), (838, 0.3993235597967387), (4885, 0.3985808258098427), (5118, 0.3984622697820141), (8448, 0.39846226978201404), (134, 0.3980344949873993), (333, 0.3980344949873993), (1170, 0.3980344949873993), (1844, 0.3980344949873993), (2227, 0.3980344949873993), (2781, 0.3980344949873993), (2965, 0.3980344949873993), (3218, 0.3980344949873993), (3522, 0.3980344949873993), (3691, 0.3980344949873993), (4647, 0.3980344949873993), (4722, 0.3980344949873993), (5271, 0.3980344949873993), (5458, 0.3980344949873993), (5875, 0.3980344949873993), (6454, 0.3980344949873993), (6813, 0.3980344949873993), (7205, 0.3980344949873993), (7206, 0.3980344949873993), (7544, 0.3980344949873993), (7546, 0.3980344949873993), (7971, 0.3980344949873993), (8382, 0.3980344949873993), (9143, 0.3980344949873993), (9353, 0.3980344949873993), (9613, 0.3980344949873993), (9749, 0.3980344949873993), (10201, 0.3980344949873993), (602, 0.39803449498739923), (7495, 0.39803449498739923), (8991, 0.39803449498739923), (9272, 0.39803449498739923), (1848, 0.3980344949873992), (2928, 0.3980344949873992), (4873, 0.3980344949873992), (6729, 0.3980344949873992), (6952, 0.3980344949873992), (7204, 0.3980344949873992), (8793, 0.3980344949873992), (10198, 0.3980344949873992), (10310, 0.3980344949873992), (6777, 0.39644940053110445), (2354, 0.39597880453123563), (1964, 0.3945803034165666), (7652, 0.3945803034165666), (185, 0.3943020969318133), (1172, 0.3943020969318133), (2048, 0.3943020969318133), (5310, 0.3943020969318133), (9595, 0.3943020969318133), (2326, 0.39430209693181323), (1268, 0.3938334457849444), (1455, 0.3938334457849444), (2118, 0.3938334457849444), (2149, 0.3938334457849444), (2197, 0.3938334457849444), (2400, 0.3938334457849444), (3194, 0.3938334457849444), (4380, 0.3938334457849444), (5446, 0.3938334457849444), (6767, 0.3938334457849444), (7058, 0.3938334457849444), (7595, 0.3938334457849444), (8034, 0.3938334457849444), (10032, 0.3938334457849444), (10115, 0.3938334457849444), (2319, 0.3937950532179655), (6570, 0.39028184293553736), (5566, 0.3868280026961716), (4472, 0.3866786904542057), (4967, 0.3866786904542057), (5140, 0.3866786904542057), (5453, 0.3866786904542057), (6106, 0.3866786904542057), (6783, 0.3866786904542057), (8524, 0.3866786904542057), (8938, 0.3866786904542057), (233, 0.38667869045420566), (284, 0.38667869045420566), (777, 0.38667869045420566), (1128, 0.38667869045420566), (1611, 0.38667869045420566), (1758, 0.38667869045420566), (4116, 0.38667869045420566), (4435, 0.38667869045420566), (4709, 0.38667869045420566), (4997, 0.38667869045420566), (5034, 0.38667869045420566), (5135, 0.38667869045420566), (5606, 0.38667869045420566), (5633, 0.38667869045420566), (5949, 0.38667869045420566), (5986, 0.38667869045420566), (6212, 0.38667869045420566), (6378, 0.38667869045420566), (6399, 0.38667869045420566), (6629, 0.38667869045420566), (6844, 0.38667869045420566), (7476, 0.38667869045420566), (7806, 0.38667869045420566), (8200, 0.38667869045420566), (8342, 0.38667869045420566), (8343, 0.38667869045420566), (8657, 0.38667869045420566), (8910, 0.38667869045420566), (8940, 0.38667869045420566), (8941, 0.38667869045420566), (9076, 0.38667869045420566), (9197, 0.38667869045420566), (9511, 0.38667869045420566), (10190, 0.38667869045420566), (440, 0.3866786904542056), (1018, 0.3866786904542056), (1036, 0.3866786904542056), (1610, 0.3866786904542056), (2233, 0.3866786904542056), (2658, 0.3866786904542056), (2745, 0.3866786904542056), (3403, 0.3866786904542056), (3581, 0.3866786904542056), (3852, 0.3866786904542056), (3978, 0.3866786904542056), (4249, 0.3866786904542056), (4279, 0.3866786904542056), (4580, 0.3866786904542056), (5122, 0.3866786904542056), (5303, 0.3866786904542056), (5308, 0.3866786904542056), (5328, 0.3866786904542056), (5508, 0.3866786904542056), (5758, 0.3866786904542056), (6443, 0.3866786904542056), (7623, 0.3866786904542056), (7817, 0.3866786904542056), (7826, 0.3866786904542056), (8122, 0.3866786904542056), (8246, 0.3866786904542056), (8344, 0.3866786904542056), (8488, 0.3866786904542056), (8489, 0.3866786904542056), (8939, 0.3866786904542056), (8942, 0.3866786904542056), (9034, 0.3866786904542056), (9223, 0.3866786904542056), (9496, 0.3866786904542056), (9762, 0.3866786904542056), (847, 0.38547628427538105), (6104, 0.3845150569192478), (3601, 0.38424695784387397), (8756, 0.38413762302947624), (19, 0.38016780036736875), (342, 0.38016780036736875), (389, 0.38016780036736875), (410, 0.38016780036736875), (546, 0.38016780036736875), (627, 0.38016780036736875), (670, 0.38016780036736875), (748, 0.38016780036736875), (774, 0.38016780036736875), (1011, 0.38016780036736875), (1012, 0.38016780036736875), (1209, 0.38016780036736875), (1270, 0.38016780036736875), (1301, 0.38016780036736875), (1369, 0.38016780036736875), (1433, 0.38016780036736875), (1437, 0.38016780036736875), (1465, 0.38016780036736875), (1515, 0.38016780036736875), (1518, 0.38016780036736875), (1551, 0.38016780036736875), (1640, 0.38016780036736875), (1753, 0.38016780036736875), (1765, 0.38016780036736875), (1877, 0.38016780036736875), (2078, 0.38016780036736875), (2093, 0.38016780036736875), (2187, 0.38016780036736875), (2255, 0.38016780036736875), (2257, 0.38016780036736875), (2325, 0.38016780036736875), (2384, 0.38016780036736875), (2427, 0.38016780036736875), (2467, 0.38016780036736875), (2486, 0.38016780036736875), (2514, 0.38016780036736875), (2560, 0.38016780036736875), (2624, 0.38016780036736875), (2802, 0.38016780036736875), (2849, 0.38016780036736875), (2860, 0.38016780036736875), (3175, 0.38016780036736875), (3251, 0.38016780036736875), (3378, 0.38016780036736875), (3408, 0.38016780036736875), (3438, 0.38016780036736875), (3468, 0.38016780036736875), (3763, 0.38016780036736875), (3776, 0.38016780036736875), (3876, 0.38016780036736875), (3936, 0.38016780036736875), (3996, 0.38016780036736875), (4178, 0.38016780036736875), (4238, 0.38016780036736875), (4433, 0.38016780036736875), (4495, 0.38016780036736875), (4613, 0.38016780036736875), (4634, 0.38016780036736875), (4687, 0.38016780036736875), (4782, 0.38016780036736875), (4799, 0.38016780036736875), (4939, 0.38016780036736875), (4974, 0.38016780036736875), (5023, 0.38016780036736875), (5039, 0.38016780036736875), (5040, 0.38016780036736875), (5094, 0.38016780036736875), (5375, 0.38016780036736875), (5397, 0.38016780036736875), (5401, 0.38016780036736875), (5460, 0.38016780036736875), (5476, 0.38016780036736875), (5719, 0.38016780036736875), (6076, 0.38016780036736875), (6198, 0.38016780036736875), (6241, 0.38016780036736875), (6389, 0.38016780036736875), (6503, 0.38016780036736875), (6536, 0.38016780036736875), (6538, 0.38016780036736875), (6630, 0.38016780036736875), (6645, 0.38016780036736875), (6709, 0.38016780036736875), (6763, 0.38016780036736875), (6804, 0.38016780036736875), (6829, 0.38016780036736875), (6833, 0.38016780036736875), (6983, 0.38016780036736875), (6989, 0.38016780036736875), (6990, 0.38016780036736875), (6991, 0.38016780036736875), (7113, 0.38016780036736875), (7316, 0.38016780036736875), (7342, 0.38016780036736875), (7434, 0.38016780036736875), (7451, 0.38016780036736875), (7606, 0.38016780036736875), (7677, 0.38016780036736875), (7752, 0.38016780036736875), (7804, 0.38016780036736875), (7859, 0.38016780036736875), (7978, 0.38016780036736875), (7982, 0.38016780036736875), (8033, 0.38016780036736875), (8090, 0.38016780036736875), (8091, 0.38016780036736875), (8097, 0.38016780036736875), (8163, 0.38016780036736875), (8225, 0.38016780036736875), (8232, 0.38016780036736875), (8259, 0.38016780036736875), (8604, 0.38016780036736875), (8605, 0.38016780036736875), (8845, 0.38016780036736875), (8880, 0.38016780036736875), (8883, 0.38016780036736875), (8943, 0.38016780036736875), (8956, 0.38016780036736875), (8982, 0.38016780036736875), (9009, 0.38016780036736875), (9049, 0.38016780036736875), (9055, 0.38016780036736875), (9058, 0.38016780036736875), (9199, 0.38016780036736875), (9328, 0.38016780036736875), (9368, 0.38016780036736875), (9385, 0.38016780036736875), (9418, 0.38016780036736875), (9422, 0.38016780036736875), (9576, 0.38016780036736875), (9589, 0.38016780036736875), (9690, 0.38016780036736875), (9691, 0.38016780036736875), (9708, 0.38016780036736875), (10121, 0.38016780036736875), (10219, 0.38016780036736875), (10247, 0.38016780036736875), (1454, 0.3801678003673687), (1613, 0.3801678003673687), (1676, 0.3801678003673687), (3224, 0.3801678003673687), (4607, 0.3801678003673687), (5236, 0.3801678003673687), (7902, 0.3801678003673687), (8093, 0.3801678003673687), (8801, 0.3801678003673687), (9150, 0.3801678003673687), (9380, 0.3801678003673687), (9400, 0.3801678003673687), (9503, 0.3801678003673687), (937, 0.38016780036736864), (2894, 0.38016780036736864), (3417, 0.38016780036736864), (4860, 0.38016780036736864), (5276, 0.38016780036736864), (5503, 0.38016780036736864), (5807, 0.38016780036736864), (7217, 0.38016780036736864), (7867, 0.38016780036736864), (8252, 0.38016780036736864), (8698, 0.38016780036736864), (9388, 0.38016780036736864), (10295, 0.38016780036736864), (118, 0.3765898788645057), (991, 0.3765898788645057), (1015, 0.3765898788645057), (1192, 0.3765898788645057), (3134, 0.3765898788645057), (4144, 0.3765898788645057), (5117, 0.3765898788645057), (5334, 0.3765898788645057), (5335, 0.3765898788645057), (5336, 0.3765898788645057), (6995, 0.3765898788645057), (8416, 0.3765898788645057), (7646, 0.372235045630555), (2403, 0.371384132296817), (7653, 0.3707482749188176), (3658, 0.37074827491881757), (6670, 0.37074827491881757), (1052, 0.370413070247693), (1521, 0.3703290877515149), (2694, 0.3703290877515149), (4527, 0.3703290877515149), (7292, 0.3703290877515149), (8679, 0.37004534747509915), (1764, 0.36812486127012417), (29, 0.3671701209838534), (562, 0.3671701209838534), (2978, 0.3671701209838534), (5512, 0.3671701209838534), (7675, 0.3671701209838534), (2458, 0.3671701209838533), (6168, 0.3671701209838533), (5513, 0.36717012098385327), (6567, 0.3650894014959578), (5815, 0.3648244932156115), (7852, 0.36388485257239567), (589, 0.3638848525723956), (8963, 0.3615417389481225), (8790, 0.3596167974759001), (1138, 0.3590990974364294), (7692, 0.3590990974364294), (4973, 0.358426950427467), (1174, 0.3582429091239724), (5844, 0.3582429091239724), (37, 0.35824290912397233), (269, 0.35824290912397233), (709, 0.35824290912397233), (982, 0.35824290912397233), (1187, 0.35824290912397233), (1487, 0.35824290912397233), (1502, 0.35824290912397233), (1659, 0.35824290912397233), (1716, 0.35824290912397233), (1863, 0.35824290912397233), (1971, 0.35824290912397233), (2055, 0.35824290912397233), (2375, 0.35824290912397233), (2634, 0.35824290912397233), (2768, 0.35824290912397233), (2813, 0.35824290912397233), (3040, 0.35824290912397233), (3205, 0.35824290912397233), (3463, 0.35824290912397233), (3466, 0.35824290912397233), (3623, 0.35824290912397233), (3689, 0.35824290912397233), (3773, 0.35824290912397233), (3948, 0.35824290912397233), (4323, 0.35824290912397233), (4630, 0.35824290912397233), (5218, 0.35824290912397233), (5539, 0.35824290912397233), (5975, 0.35824290912397233), (6294, 0.35824290912397233), (6664, 0.35824290912397233), (7031, 0.35824290912397233), (7563, 0.35824290912397233), (7655, 0.35824290912397233), (7755, 0.35824290912397233), (9136, 0.35824290912397233), (9927, 0.35824290912397233), (10065, 0.35824290912397233), (10076, 0.35824290912397233), (10132, 0.35824290912397233), (10306, 0.35824290912397233), (1263, 0.3582429091239723), (2299, 0.3582429091239723), (3493, 0.3582429091239723), (4169, 0.3582429091239723), (6053, 0.3582429091239723), (6959, 0.3582429091239723), (6039, 0.3565564997946613), (5617, 0.354786580238357), (5618, 0.354786580238357), (2947, 0.35424223259699), (4934, 0.35424223259699), (190, 0.35424223259698995), (730, 0.35424223259698995), (1916, 0.35424223259698995), (2404, 0.35424223259698995), (2948, 0.35424223259698995), (3510, 0.35424223259698995), (4481, 0.35424223259698995), (4597, 0.35424223259698995), (4935, 0.35424223259698995), (4936, 0.35424223259698995), (5543, 0.35424223259698995), (5650, 0.35424223259698995), (6145, 0.35424223259698995), (8474, 0.35424223259698995), (8497, 0.35424223259698995), (8573, 0.35424223259698995), (8615, 0.35424223259698995), (8697, 0.35424223259698995), (8989, 0.35424223259698995), (8990, 0.35424223259698995), (9352, 0.35424223259698995), (9726, 0.35424223259698995), (10202, 0.35424223259698995), (10240, 0.35424223259698995), (8567, 0.3542422325969899), (2558, 0.3530790399877686), (7783, 0.3515337527916793), (9928, 0.3515337527916793), (10053, 0.3515337527916793), (8333, 0.351058672714898), (338, 0.35072258957130586), (375, 0.35072258957130586), (2302, 0.35072258957130586), (3694, 0.35072258957130586), (4208, 0.35072258957130586), (5272, 0.35072258957130586), (7237, 0.35072258957130586), (7560, 0.35072258957130586), (7561, 0.35072258957130586), (9002, 0.35072258957130586), (168, 0.3507225895713058), (2435, 0.3507225895713058), (7558, 0.3507225895713058), (9167, 0.3507225895713058), (9826, 0.3504534407832711), (2784, 0.34874297427826645), (3725, 0.34874297427826645), (3119, 0.3487429742782664), (1988, 0.34481416541886756), (2841, 0.34481416541886756), (6238, 0.34481416541886756), (6282, 0.34481416541886756), (7433, 0.34481416541886756), (8154, 0.3447968167257888), (6071, 0.3442891976019762), (7179, 0.3442891976019762), (8297, 0.3442891976019762), (537, 0.3431620672547644), (8950, 0.3431620672547644), (259, 0.34316206725476434), (1526, 0.34316206725476434), (1569, 0.34316206725476434), (1771, 0.34316206725476434), (2592, 0.34316206725476434), (3083, 0.34316206725476434), (3191, 0.34316206725476434), (3355, 0.34316206725476434), (4035, 0.34316206725476434), (4139, 0.34316206725476434), (4234, 0.34316206725476434), (5761, 0.34316206725476434), (5768, 0.34316206725476434), (6102, 0.34316206725476434), (7212, 0.34316206725476434), (8388, 0.34316206725476434), (9591, 0.34316206725476434), (5783, 0.34305190376532135), (6702, 0.34305190376532135), (8702, 0.34305190376532135), (9335, 0.34305190376532135), (10075, 0.34305190376532135), (2964, 0.3427073151650313), (4611, 0.34171255788502347), (3114, 0.3417125578850234), (3407, 0.3417125578850234), (4539, 0.3417125578850234), (2029, 0.34171255788502336), (2203, 0.34171255788502336), (3979, 0.34171255788502336), (5289, 0.34171255788502336), (5715, 0.34171255788502336), (6549, 0.34171255788502336), (7320, 0.34171255788502336), (1933, 0.3413054978330813), (7207, 0.3413054978330813), (9559, 0.34112540080696274), (10012, 0.3395129386293987), (1137, 0.33915797040472306), (2892, 0.3389435438435445), (2855, 0.3375036166589529), (1862, 0.33718775265455714), (6251, 0.3371877526545571), (102, 0.33612856500002675), (148, 0.33612856500002675), (348, 0.33612856500002675), (1245, 0.33612856500002675), (2239, 0.33612856500002675), (2512, 0.33612856500002675), (2616, 0.33612856500002675), (3042, 0.33612856500002675), (3521, 0.33612856500002675), (4130, 0.33612856500002675), (4622, 0.33612856500002675), (4641, 0.33612856500002675), (4762, 0.33612856500002675), (5191, 0.33612856500002675), (6546, 0.33612856500002675), (6604, 0.33612856500002675), (7265, 0.33612856500002675), (8648, 0.33612856500002675), (8828, 0.33612856500002675), (9087, 0.33612856500002675), (9617, 0.33612856500002675), (9740, 0.33612856500002675), (10116, 0.33612856500002675), (10277, 0.33612856500002675), (121, 0.3361285650000267), (170, 0.3361285650000267), (1508, 0.3361285650000267), (1710, 0.3361285650000267), (1912, 0.3361285650000267), (2359, 0.3361285650000267), (2711, 0.3361285650000267), (3074, 0.3361285650000267), (3597, 0.3361285650000267), (3637, 0.3361285650000267), (3727, 0.3361285650000267), (4043, 0.3361285650000267), (4475, 0.3361285650000267), (5162, 0.3361285650000267), (5311, 0.3361285650000267), (5421, 0.3361285650000267), (6063, 0.3361285650000267), (6095, 0.3361285650000267), (6920, 0.3361285650000267), (7096, 0.3361285650000267), (7493, 0.3361285650000267), (8207, 0.3361285650000267), (8319, 0.3361285650000267), (8893, 0.3361285650000267), (9404, 0.3361285650000267), (9616, 0.3361285650000267), (10137, 0.3361285650000267), (1555, 0.33572840457426645), (6869, 0.33572840457426645), (8073, 0.33572840457426645), (9252, 0.3357284045742664), (8722, 0.3322104889755625), (7321, 0.3305518622629958), (1944, 0.3299767948220167), (2382, 0.3299767948220167), (2596, 0.3299767948220167), (2850, 0.3299767948220167), (2920, 0.3299767948220167), (3720, 0.3299767948220167), (4753, 0.3299767948220167), (5024, 0.3299767948220167), (5473, 0.3299767948220167), (5638, 0.3299767948220167), (5971, 0.3299767948220167), (6089, 0.3299767948220167), (6724, 0.3299767948220167), (7707, 0.3299767948220167), (8103, 0.3299767948220167), (8197, 0.3299767948220167), (8653, 0.3299767948220167), (8705, 0.3299767948220167), (9157, 0.3299767948220167), (9347, 0.3299767948220167), (9399, 0.3299767948220167), (9867, 0.3299767948220167), (844, 0.32997679482201664), (2276, 0.32997679482201664), (2534, 0.32997679482201664), (3455, 0.32997679482201664), (7793, 0.32997679482201664), (8056, 0.32997679482201664), (8884, 0.32997679482201664), (9105, 0.32997679482201664), (2112, 0.32850891167854746), (9849, 0.3262699122331645), (1134, 0.32595858311857606), (3853, 0.32321021267120253), (1666, 0.3211693075414883), (64, 0.3193224827094306), (3929, 0.3193224827094306), (6461, 0.3193224827094306), (290, 0.31932248270943053), (543, 0.31932248270943053), (1317, 0.31932248270943053), (1627, 0.31932248270943053), (4010, 0.31932248270943053), (4884, 0.31932248270943053), (6435, 0.31932248270943053), (7588, 0.31932248270943053), (8178, 0.31932248270943053), (9201, 0.31932248270943053), (420, 0.31766651880956237), (421, 0.31766651880956237), (422, 0.31766651880956237), (686, 0.31766651880956237), (2007, 0.31766651880956237), (2238, 0.31766651880956237), (2522, 0.31766651880956237), (3016, 0.31766651880956237), (3213, 0.31766651880956237), (3265, 0.31766651880956237), (3276, 0.31766651880956237), (3599, 0.31766651880956237), (4133, 0.31766651880956237), (4602, 0.31766651880956237), (5131, 0.31766651880956237), (5194, 0.31766651880956237), (6401, 0.31766651880956237), (7030, 0.31766651880956237), (7374, 0.31766651880956237), (7407, 0.31766651880956237), (8175, 0.31766651880956237), (8179, 0.31766651880956237), (8930, 0.31766651880956237), (8931, 0.31766651880956237), (8932, 0.31766651880956237), (8933, 0.31766651880956237), (9053, 0.31766651880956237), (9230, 0.31766651880956237), (9358, 0.31766651880956237), (9712, 0.31766651880956237), (9736, 0.31766651880956237), (10231, 0.31766651880956237), (2594, 0.31720616004613295), (6706, 0.3172061600461329), (9320, 0.3172061600461329), (9665, 0.3169867270421621), (10195, 0.31579534443726465), (6042, 0.3157953444372646), (2303, 0.31565267093616844), (9921, 0.31544377126058454), (3260, 0.3152370807986068), (9065, 0.3152370807986068), (980, 0.3115373231806928), (1894, 0.3115373231806928), (2231, 0.3115373231806928), (5516, 0.3115373231806928), (6851, 0.31058255522354783), (7310, 0.31058255522354783), (6535, 0.31042535050754094), (7103, 0.31042535050754094), (7721, 0.31042535050754094), (8364, 0.31042535050754094), (8372, 0.3104253505075409), (9827, 0.31042535050754083), (4585, 0.3101109986545157), (7019, 0.3099182079081049), (2611, 0.3092792181902542), (3511, 0.3092792181902542), (4806, 0.3092792181902542), (6507, 0.3092792181902542), (6817, 0.3092792181902542), (9312, 0.3092792181902542), (4808, 0.30927921819025417), (9833, 0.30927921819025417), (8099, 0.30866743662897), (8239, 0.30866743662897), (8144, 0.3074512977467627), (1638, 0.30721211515220925), (1686, 0.3059959062467477), (5670, 0.3059959062467477), (10120, 0.30599590624674766), (842, 0.305577267742028), (7622, 0.30487427577185344), (9392, 0.30487427577185344), (9652, 0.30487427577185344), (868, 0.3048742757718534), (4418, 0.3048742757718534), (4708, 0.3048742757718534), (2451, 0.30460795133045837), (8908, 0.30460795133045837), (4971, 0.3043511425719367), (3411, 0.30301080857729135), (1102, 0.3030108085772913), (1320, 0.3030108085772913), (2641, 0.3030108085772913), (4177, 0.3030108085772913), (5108, 0.3030108085772913), (5854, 0.3030108085772913), (7844, 0.3030108085772913), (9198, 0.3030108085772913), (2312, 0.30301080857729124), (5109, 0.30301080857729124), (5367, 0.30082382587804063), (479, 0.3008238258780406), (491, 0.3008238258780406), (641, 0.3008238258780406), (2915, 0.3008238258780406), (3909, 0.3008238258780406), (4031, 0.3008238258780406), (4449, 0.3008238258780406), (10099, 0.3008238258780406), (10261, 0.30020014392873595), (544, 0.2994524700719269), (3010, 0.2994524700719269), (3631, 0.2994524700719269), (7676, 0.2994524700719269), (8014, 0.2994524700719269), (3832, 0.298669627311817), (3787, 0.29844942858719337), (6803, 0.29550071126766303), (6610, 0.295500711267663), (3480, 0.29454931935095197), (7812, 0.29454931935095197), (52, 0.29388713496590757), (66, 0.29388713496590757), (70, 0.29388713496590757), (92, 0.29388713496590757), (345, 0.29388713496590757), (752, 0.29388713496590757), (874, 0.29388713496590757), (1061, 0.29388713496590757), (1065, 0.29388713496590757), (1512, 0.29388713496590757), (2124, 0.29388713496590757), (2712, 0.29388713496590757), (3271, 0.29388713496590757), (4064, 0.29388713496590757), (4752, 0.29388713496590757), (4998, 0.29388713496590757), (5115, 0.29388713496590757), (5130, 0.29388713496590757), (5588, 0.29388713496590757), (5777, 0.29388713496590757), (6556, 0.29388713496590757), (6727, 0.29388713496590757), (6854, 0.29388713496590757), (6941, 0.29388713496590757), (6942, 0.29388713496590757), (7063, 0.29388713496590757), (8176, 0.29388713496590757), (8241, 0.29388713496590757), (8593, 0.29388713496590757), (9653, 0.29388713496590757), (9992, 0.29388713496590757), (10022, 0.29388713496590757), (2073, 0.2938871349659075), (3086, 0.2938871349659075), (4959, 0.2938871349659075), (9364, 0.2938871349659075), (2474, 0.2929753776415139), (1154, 0.2929753776415138), (1193, 0.2918672742082641), (1331, 0.2918672742082641), (5037, 0.2918672742082641), (5830, 0.2918672742082641), (7466, 0.2918672742082641), (9098, 0.2918672742082641), (9221, 0.2918672742082641), (2045, 0.291867274208264), (9714, 0.291867274208264), (5, 0.29175299446570285), (25, 0.29175299446570285), (28, 0.29175299446570285), (76, 0.29175299446570285), (88, 0.29175299446570285), (96, 0.29175299446570285), (101, 0.29175299446570285), (106, 0.29175299446570285), (111, 0.29175299446570285), (116, 0.29175299446570285), (117, 0.29175299446570285), (129, 0.29175299446570285), (133, 0.29175299446570285), (142, 0.29175299446570285), (144, 0.29175299446570285), (167, 0.29175299446570285), (175, 0.29175299446570285), (176, 0.29175299446570285), (178, 0.29175299446570285), (192, 0.29175299446570285), (193, 0.29175299446570285), (198, 0.29175299446570285), (201, 0.29175299446570285), (225, 0.29175299446570285), (247, 0.29175299446570285), (250, 0.29175299446570285), (253, 0.29175299446570285), (268, 0.29175299446570285), (271, 0.29175299446570285), (275, 0.29175299446570285), (282, 0.29175299446570285), (287, 0.29175299446570285), (296, 0.29175299446570285), (297, 0.29175299446570285), (300, 0.29175299446570285), (310, 0.29175299446570285), (316, 0.29175299446570285), (320, 0.29175299446570285), (339, 0.29175299446570285), (340, 0.29175299446570285), (341, 0.29175299446570285), (343, 0.29175299446570285), (351, 0.29175299446570285), (360, 0.29175299446570285), (362, 0.29175299446570285), (363, 0.29175299446570285), (373, 0.29175299446570285), (386, 0.29175299446570285), (392, 0.29175299446570285), (397, 0.29175299446570285), (399, 0.29175299446570285), (408, 0.29175299446570285), (411, 0.29175299446570285), (418, 0.29175299446570285), (435, 0.29175299446570285), (468, 0.29175299446570285), (471, 0.29175299446570285), (477, 0.29175299446570285), (483, 0.29175299446570285), (485, 0.29175299446570285), (490, 0.29175299446570285), (495, 0.29175299446570285), (499, 0.29175299446570285), (501, 0.29175299446570285), (519, 0.29175299446570285), (522, 0.29175299446570285), (525, 0.29175299446570285), (529, 0.29175299446570285), (530, 0.29175299446570285), (533, 0.29175299446570285), (535, 0.29175299446570285), (539, 0.29175299446570285), (540, 0.29175299446570285), (547, 0.29175299446570285), (549, 0.29175299446570285), (552, 0.29175299446570285), (566, 0.29175299446570285), (598, 0.29175299446570285), (610, 0.29175299446570285), (620, 0.29175299446570285), (639, 0.29175299446570285), (646, 0.29175299446570285), (648, 0.29175299446570285), (662, 0.29175299446570285), (664, 0.29175299446570285), (666, 0.29175299446570285), (677, 0.29175299446570285), (682, 0.29175299446570285), (690, 0.29175299446570285), (696, 0.29175299446570285), (707, 0.29175299446570285), (711, 0.29175299446570285), (712, 0.29175299446570285), (717, 0.29175299446570285), (720, 0.29175299446570285), (747, 0.29175299446570285), (757, 0.29175299446570285), (771, 0.29175299446570285), (772, 0.29175299446570285), (781, 0.29175299446570285), (782, 0.29175299446570285), (788, 0.29175299446570285), (798, 0.29175299446570285), (799, 0.29175299446570285), (802, 0.29175299446570285), (803, 0.29175299446570285), (813, 0.29175299446570285), (816, 0.29175299446570285), (820, 0.29175299446570285), (827, 0.29175299446570285), (833, 0.29175299446570285), (834, 0.29175299446570285), (835, 0.29175299446570285), (881, 0.29175299446570285), (890, 0.29175299446570285), (893, 0.29175299446570285), (895, 0.29175299446570285), (896, 0.29175299446570285), (902, 0.29175299446570285), (907, 0.29175299446570285), (908, 0.29175299446570285), (913, 0.29175299446570285), (925, 0.29175299446570285), (932, 0.29175299446570285), (940, 0.29175299446570285), (947, 0.29175299446570285), (950, 0.29175299446570285), (952, 0.29175299446570285), (957, 0.29175299446570285), (960, 0.29175299446570285), (963, 0.29175299446570285), (964, 0.29175299446570285), (965, 0.29175299446570285), (986, 0.29175299446570285), (1006, 0.29175299446570285), (1023, 0.29175299446570285), (1026, 0.29175299446570285), (1034, 0.29175299446570285), (1054, 0.29175299446570285), (1071, 0.29175299446570285), (1093, 0.29175299446570285), (1095, 0.29175299446570285), (1104, 0.29175299446570285), (1113, 0.29175299446570285), (1116, 0.29175299446570285), (1139, 0.29175299446570285), (1140, 0.29175299446570285), (1148, 0.29175299446570285), (1161, 0.29175299446570285), (1162, 0.29175299446570285), (1175, 0.29175299446570285), (1178, 0.29175299446570285), (1191, 0.29175299446570285), (1208, 0.29175299446570285), (1218, 0.29175299446570285), (1222, 0.29175299446570285), (1225, 0.29175299446570285), (1227, 0.29175299446570285), (1235, 0.29175299446570285), (1257, 0.29175299446570285), (1258, 0.29175299446570285), (1262, 0.29175299446570285), (1281, 0.29175299446570285), (1282, 0.29175299446570285), (1285, 0.29175299446570285), (1300, 0.29175299446570285), (1314, 0.29175299446570285), (1319, 0.29175299446570285), (1338, 0.29175299446570285), (1340, 0.29175299446570285), (1342, 0.29175299446570285), (1343, 0.29175299446570285), (1344, 0.29175299446570285), (1346, 0.29175299446570285), (1350, 0.29175299446570285), (1351, 0.29175299446570285), (1353, 0.29175299446570285), (1374, 0.29175299446570285), (1388, 0.29175299446570285), (1391, 0.29175299446570285), (1400, 0.29175299446570285), (1404, 0.29175299446570285), (1412, 0.29175299446570285), (1416, 0.29175299446570285), (1428, 0.29175299446570285), (1440, 0.29175299446570285), (1449, 0.29175299446570285), (1456, 0.29175299446570285), (1458, 0.29175299446570285), (1459, 0.29175299446570285), (1462, 0.29175299446570285), (1471, 0.29175299446570285), (1479, 0.29175299446570285), (1481, 0.29175299446570285), (1483, 0.29175299446570285), (1496, 0.29175299446570285), (1532, 0.29175299446570285), (1533, 0.29175299446570285), (1539, 0.29175299446570285), (1548, 0.29175299446570285), (1549, 0.29175299446570285), (1556, 0.29175299446570285), (1560, 0.29175299446570285), (1562, 0.29175299446570285), (1575, 0.29175299446570285), (1587, 0.29175299446570285), (1595, 0.29175299446570285), (1603, 0.29175299446570285), (1635, 0.29175299446570285), (1641, 0.29175299446570285), (1644, 0.29175299446570285), (1678, 0.29175299446570285), (1692, 0.29175299446570285), (1713, 0.29175299446570285), (1720, 0.29175299446570285), (1725, 0.29175299446570285), (1726, 0.29175299446570285), (1729, 0.29175299446570285), (1732, 0.29175299446570285), (1734, 0.29175299446570285), (1735, 0.29175299446570285), (1743, 0.29175299446570285), (1746, 0.29175299446570285), (1749, 0.29175299446570285), (1752, 0.29175299446570285), (1789, 0.29175299446570285), (1792, 0.29175299446570285), (1796, 0.29175299446570285), (1798, 0.29175299446570285), (1804, 0.29175299446570285), (1812, 0.29175299446570285), (1823, 0.29175299446570285), (1826, 0.29175299446570285), (1829, 0.29175299446570285), (1833, 0.29175299446570285), (1834, 0.29175299446570285), (1852, 0.29175299446570285), (1853, 0.29175299446570285), (1854, 0.29175299446570285), (1858, 0.29175299446570285), (1859, 0.29175299446570285), (1879, 0.29175299446570285), (1882, 0.29175299446570285), (1883, 0.29175299446570285), (1886, 0.29175299446570285), (1895, 0.29175299446570285), (1898, 0.29175299446570285), (1902, 0.29175299446570285), (1907, 0.29175299446570285), (1930, 0.29175299446570285), (1939, 0.29175299446570285), (1940, 0.29175299446570285), (1941, 0.29175299446570285), (1942, 0.29175299446570285), (1943, 0.29175299446570285), (1946, 0.29175299446570285), (1950, 0.29175299446570285), (1966, 0.29175299446570285), (1973, 0.29175299446570285), (1978, 0.29175299446570285), (1979, 0.29175299446570285), (1981, 0.29175299446570285), (1989, 0.29175299446570285), (1991, 0.29175299446570285), (1994, 0.29175299446570285), (1996, 0.29175299446570285), (2001, 0.29175299446570285), (2010, 0.29175299446570285), (2023, 0.29175299446570285), (2027, 0.29175299446570285), (2030, 0.29175299446570285), (2038, 0.29175299446570285), (2046, 0.29175299446570285), (2051, 0.29175299446570285), (2056, 0.29175299446570285), (2059, 0.29175299446570285), (2061, 0.29175299446570285), (2065, 0.29175299446570285), (2068, 0.29175299446570285), (2090, 0.29175299446570285), (2097, 0.29175299446570285), (2099, 0.29175299446570285), (2120, 0.29175299446570285), (2139, 0.29175299446570285), (2143, 0.29175299446570285), (2145, 0.29175299446570285), (2161, 0.29175299446570285), (2166, 0.29175299446570285), (2176, 0.29175299446570285), (2177, 0.29175299446570285), (2183, 0.29175299446570285), (2184, 0.29175299446570285), (2185, 0.29175299446570285), (2191, 0.29175299446570285), (2192, 0.29175299446570285), (2193, 0.29175299446570285), (2207, 0.29175299446570285), (2212, 0.29175299446570285), (2240, 0.29175299446570285), (2242, 0.29175299446570285), (2244, 0.29175299446570285), (2246, 0.29175299446570285), (2250, 0.29175299446570285), (2261, 0.29175299446570285), (2262, 0.29175299446570285), (2263, 0.29175299446570285), (2264, 0.29175299446570285), (2265, 0.29175299446570285), (2266, 0.29175299446570285), (2268, 0.29175299446570285), (2270, 0.29175299446570285), (2274, 0.29175299446570285), (2290, 0.29175299446570285), (2307, 0.29175299446570285), (2314, 0.29175299446570285), (2329, 0.29175299446570285), (2334, 0.29175299446570285), (2336, 0.29175299446570285), (2346, 0.29175299446570285), (2348, 0.29175299446570285), (2370, 0.29175299446570285), (2383, 0.29175299446570285), (2389, 0.29175299446570285), (2390, 0.29175299446570285), (2438, 0.29175299446570285), (2439, 0.29175299446570285), (2461, 0.29175299446570285), (2468, 0.29175299446570285), (2475, 0.29175299446570285), (2476, 0.29175299446570285), (2478, 0.29175299446570285), (2481, 0.29175299446570285), (2503, 0.29175299446570285), (2523, 0.29175299446570285), (2528, 0.29175299446570285), (2547, 0.29175299446570285), (2568, 0.29175299446570285), (2570, 0.29175299446570285), (2573, 0.29175299446570285), (2586, 0.29175299446570285), (2587, 0.29175299446570285), (2595, 0.29175299446570285), (2603, 0.29175299446570285), (2610, 0.29175299446570285), (2614, 0.29175299446570285), (2617, 0.29175299446570285), (2622, 0.29175299446570285), (2645, 0.29175299446570285), (2646, 0.29175299446570285), (2651, 0.29175299446570285), (2669, 0.29175299446570285), (2675, 0.29175299446570285), (2698, 0.29175299446570285), (2708, 0.29175299446570285), (2720, 0.29175299446570285), (2722, 0.29175299446570285), (2726, 0.29175299446570285), (2733, 0.29175299446570285), (2746, 0.29175299446570285), (2794, 0.29175299446570285), (2797, 0.29175299446570285), (2798, 0.29175299446570285), (2801, 0.29175299446570285), (2814, 0.29175299446570285), (2827, 0.29175299446570285), (2839, 0.29175299446570285), (2844, 0.29175299446570285), (2845, 0.29175299446570285), (2853, 0.29175299446570285), (2856, 0.29175299446570285), (2858, 0.29175299446570285), (2859, 0.29175299446570285), (2864, 0.29175299446570285), (2865, 0.29175299446570285), (2866, 0.29175299446570285), (2870, 0.29175299446570285), (2875, 0.29175299446570285), (2879, 0.29175299446570285), (2895, 0.29175299446570285), (2896, 0.29175299446570285), (2897, 0.29175299446570285), (2904, 0.29175299446570285), (2905, 0.29175299446570285), (2921, 0.29175299446570285), (2934, 0.29175299446570285), (2942, 0.29175299446570285), (2954, 0.29175299446570285), (2955, 0.29175299446570285), (2966, 0.29175299446570285), (2967, 0.29175299446570285), (2971, 0.29175299446570285), (2985, 0.29175299446570285), (2991, 0.29175299446570285), (3004, 0.29175299446570285), (3015, 0.29175299446570285), (3018, 0.29175299446570285), (3024, 0.29175299446570285), (3030, 0.29175299446570285), (3034, 0.29175299446570285), (3047, 0.29175299446570285), (3052, 0.29175299446570285), (3054, 0.29175299446570285), (3069, 0.29175299446570285), (3107, 0.29175299446570285), (3121, 0.29175299446570285), (3130, 0.29175299446570285), (3131, 0.29175299446570285), (3132, 0.29175299446570285), (3147, 0.29175299446570285), (3152, 0.29175299446570285), (3162, 0.29175299446570285), (3166, 0.29175299446570285), (3180, 0.29175299446570285), (3186, 0.29175299446570285), (3190, 0.29175299446570285), (3207, 0.29175299446570285), (3209, 0.29175299446570285), (3211, 0.29175299446570285), (3212, 0.29175299446570285), (3219, 0.29175299446570285), (3231, 0.29175299446570285), (3239, 0.29175299446570285), (3244, 0.29175299446570285), (3246, 0.29175299446570285), (3248, 0.29175299446570285), (3259, 0.29175299446570285), (3263, 0.29175299446570285), (3272, 0.29175299446570285), (3282, 0.29175299446570285), (3283, 0.29175299446570285), (3285, 0.29175299446570285), (3287, 0.29175299446570285), (3299, 0.29175299446570285), (3302, 0.29175299446570285), (3314, 0.29175299446570285), (3316, 0.29175299446570285), (3337, 0.29175299446570285), (3359, 0.29175299446570285), (3373, 0.29175299446570285), (3374, 0.29175299446570285), (3379, 0.29175299446570285), (3404, 0.29175299446570285), (3412, 0.29175299446570285), (3418, 0.29175299446570285), (3436, 0.29175299446570285), (3459, 0.29175299446570285), (3464, 0.29175299446570285), (3469, 0.29175299446570285), (3470, 0.29175299446570285), (3471, 0.29175299446570285), (3475, 0.29175299446570285), (3515, 0.29175299446570285), (3516, 0.29175299446570285), (3518, 0.29175299446570285), (3524, 0.29175299446570285), (3534, 0.29175299446570285), (3553, 0.29175299446570285), (3562, 0.29175299446570285), (3565, 0.29175299446570285), (3582, 0.29175299446570285), (3608, 0.29175299446570285), (3640, 0.29175299446570285), (3644, 0.29175299446570285), (3645, 0.29175299446570285), (3646, 0.29175299446570285), (3647, 0.29175299446570285), (3648, 0.29175299446570285), (3660, 0.29175299446570285), (3661, 0.29175299446570285), (3669, 0.29175299446570285), (3670, 0.29175299446570285), (3688, 0.29175299446570285), (3708, 0.29175299446570285), (3709, 0.29175299446570285), (3726, 0.29175299446570285), (3730, 0.29175299446570285), (3733, 0.29175299446570285), (3743, 0.29175299446570285), (3750, 0.29175299446570285), (3752, 0.29175299446570285), (3761, 0.29175299446570285), (3762, 0.29175299446570285), (3765, 0.29175299446570285), (3770, 0.29175299446570285), (3771, 0.29175299446570285), (3774, 0.29175299446570285), (3777, 0.29175299446570285), (3788, 0.29175299446570285), (3801, 0.29175299446570285), (3805, 0.29175299446570285), (3808, 0.29175299446570285), (3810, 0.29175299446570285), (3811, 0.29175299446570285), (3812, 0.29175299446570285), (3813, 0.29175299446570285), (3820, 0.29175299446570285), (3821, 0.29175299446570285), (3825, 0.29175299446570285), (3827, 0.29175299446570285), (3828, 0.29175299446570285), (3829, 0.29175299446570285), (3844, 0.29175299446570285), (3845, 0.29175299446570285), (3848, 0.29175299446570285), (3855, 0.29175299446570285), (3861, 0.29175299446570285), (3872, 0.29175299446570285), (3877, 0.29175299446570285), (3881, 0.29175299446570285), (3895, 0.29175299446570285), (3900, 0.29175299446570285), (3902, 0.29175299446570285), (3911, 0.29175299446570285), (3926, 0.29175299446570285), (3927, 0.29175299446570285), (3970, 0.29175299446570285), (3971, 0.29175299446570285), (3983, 0.29175299446570285), (3986, 0.29175299446570285), (3995, 0.29175299446570285), (4024, 0.29175299446570285), (4025, 0.29175299446570285), (4028, 0.29175299446570285), (4030, 0.29175299446570285), (4036, 0.29175299446570285), (4042, 0.29175299446570285), (4058, 0.29175299446570285), (4059, 0.29175299446570285), (4063, 0.29175299446570285), (4067, 0.29175299446570285), (4099, 0.29175299446570285), (4101, 0.29175299446570285), (4124, 0.29175299446570285), (4125, 0.29175299446570285), (4137, 0.29175299446570285), (4138, 0.29175299446570285), (4157, 0.29175299446570285), (4158, 0.29175299446570285), (4159, 0.29175299446570285), (4165, 0.29175299446570285), (4182, 0.29175299446570285), (4206, 0.29175299446570285), (4209, 0.29175299446570285), (4215, 0.29175299446570285), (4218, 0.29175299446570285), (4229, 0.29175299446570285), (4230, 0.29175299446570285), (4242, 0.29175299446570285), (4254, 0.29175299446570285), (4289, 0.29175299446570285), (4290, 0.29175299446570285), (4310, 0.29175299446570285), (4315, 0.29175299446570285), (4316, 0.29175299446570285), (4338, 0.29175299446570285), (4363, 0.29175299446570285), (4369, 0.29175299446570285), (4379, 0.29175299446570285), (4387, 0.29175299446570285), (4389, 0.29175299446570285), (4390, 0.29175299446570285), (4395, 0.29175299446570285), (4399, 0.29175299446570285), (4402, 0.29175299446570285), (4403, 0.29175299446570285), (4404, 0.29175299446570285), (4407, 0.29175299446570285), (4411, 0.29175299446570285), (4413, 0.29175299446570285), (4415, 0.29175299446570285), (4419, 0.29175299446570285), (4434, 0.29175299446570285), (4443, 0.29175299446570285), (4444, 0.29175299446570285), (4452, 0.29175299446570285), (4462, 0.29175299446570285), (4476, 0.29175299446570285), (4492, 0.29175299446570285), (4497, 0.29175299446570285), (4501, 0.29175299446570285), (4509, 0.29175299446570285), (4512, 0.29175299446570285), (4524, 0.29175299446570285), (4538, 0.29175299446570285), (4542, 0.29175299446570285), (4551, 0.29175299446570285), (4556, 0.29175299446570285), (4560, 0.29175299446570285), (4564, 0.29175299446570285), (4576, 0.29175299446570285), (4578, 0.29175299446570285), (4598, 0.29175299446570285), (4610, 0.29175299446570285), (4618, 0.29175299446570285), (4626, 0.29175299446570285), (4633, 0.29175299446570285), (4635, 0.29175299446570285), (4650, 0.29175299446570285), (4661, 0.29175299446570285), (4662, 0.29175299446570285), (4665, 0.29175299446570285), (4667, 0.29175299446570285), (4688, 0.29175299446570285), (4689, 0.29175299446570285), (4698, 0.29175299446570285), (4705, 0.29175299446570285), (4713, 0.29175299446570285), (4718, 0.29175299446570285), (4724, 0.29175299446570285), (4743, 0.29175299446570285), (4747, 0.29175299446570285), (4755, 0.29175299446570285), (4760, 0.29175299446570285), (4783, 0.29175299446570285), (4788, 0.29175299446570285), (4790, 0.29175299446570285), (4798, 0.29175299446570285), (4816, 0.29175299446570285), (4821, 0.29175299446570285), (4835, 0.29175299446570285), (4836, 0.29175299446570285), (4841, 0.29175299446570285), (4851, 0.29175299446570285), (4857, 0.29175299446570285), (4866, 0.29175299446570285), (4874, 0.29175299446570285), (4886, 0.29175299446570285), (4887, 0.29175299446570285), (4897, 0.29175299446570285), (4901, 0.29175299446570285), (4902, 0.29175299446570285), (4905, 0.29175299446570285), (4907, 0.29175299446570285), (4910, 0.29175299446570285), (4915, 0.29175299446570285), (4917, 0.29175299446570285), (4966, 0.29175299446570285), (4972, 0.29175299446570285), (4977, 0.29175299446570285), (4980, 0.29175299446570285), (4987, 0.29175299446570285), (4990, 0.29175299446570285), (4994, 0.29175299446570285), (5003, 0.29175299446570285), (5005, 0.29175299446570285), (5011, 0.29175299446570285), (5013, 0.29175299446570285), (5016, 0.29175299446570285), (5041, 0.29175299446570285), (5051, 0.29175299446570285), (5068, 0.29175299446570285), (5071, 0.29175299446570285), (5074, 0.29175299446570285), (5075, 0.29175299446570285), (5076, 0.29175299446570285), (5085, 0.29175299446570285), (5096, 0.29175299446570285), (5101, 0.29175299446570285), (5103, 0.29175299446570285), (5106, 0.29175299446570285), (5124, 0.29175299446570285), (5126, 0.29175299446570285), (5134, 0.29175299446570285), (5147, 0.29175299446570285), (5151, 0.29175299446570285), (5174, 0.29175299446570285), (5206, 0.29175299446570285), (5207, 0.29175299446570285), (5211, 0.29175299446570285), (5212, 0.29175299446570285), (5219, 0.29175299446570285), (5222, 0.29175299446570285), (5229, 0.29175299446570285), (5230, 0.29175299446570285), (5233, 0.29175299446570285), (5234, 0.29175299446570285), (5241, 0.29175299446570285), (5242, 0.29175299446570285), (5246, 0.29175299446570285), (5247, 0.29175299446570285), (5260, 0.29175299446570285), (5264, 0.29175299446570285), (5270, 0.29175299446570285), (5275, 0.29175299446570285), (5281, 0.29175299446570285), (5283, 0.29175299446570285), (5292, 0.29175299446570285), (5293, 0.29175299446570285), (5295, 0.29175299446570285), (5301, 0.29175299446570285), (5313, 0.29175299446570285), (5324, 0.29175299446570285), (5344, 0.29175299446570285), (5345, 0.29175299446570285), (5348, 0.29175299446570285), (5351, 0.29175299446570285), (5352, 0.29175299446570285), (5358, 0.29175299446570285), (5373, 0.29175299446570285), (5376, 0.29175299446570285), (5377, 0.29175299446570285), (5382, 0.29175299446570285), (5389, 0.29175299446570285), (5392, 0.29175299446570285), (5395, 0.29175299446570285), (5405, 0.29175299446570285), (5407, 0.29175299446570285), (5412, 0.29175299446570285), (5413, 0.29175299446570285), (5416, 0.29175299446570285), (5419, 0.29175299446570285), (5422, 0.29175299446570285), (5423, 0.29175299446570285), (5438, 0.29175299446570285), (5439, 0.29175299446570285), (5457, 0.29175299446570285), (5463, 0.29175299446570285), (5466, 0.29175299446570285), (5479, 0.29175299446570285), (5482, 0.29175299446570285), (5485, 0.29175299446570285), (5487, 0.29175299446570285), (5492, 0.29175299446570285), (5493, 0.29175299446570285), (5494, 0.29175299446570285), (5501, 0.29175299446570285), (5521, 0.29175299446570285), (5522, 0.29175299446570285), (5525, 0.29175299446570285), (5532, 0.29175299446570285), (5534, 0.29175299446570285), (5535, 0.29175299446570285), (5537, 0.29175299446570285), (5540, 0.29175299446570285), (5544, 0.29175299446570285), (5559, 0.29175299446570285), (5570, 0.29175299446570285), (5574, 0.29175299446570285), (5579, 0.29175299446570285), (5612, 0.29175299446570285), (5616, 0.29175299446570285), (5622, 0.29175299446570285), (5624, 0.29175299446570285), (5626, 0.29175299446570285), (5632, 0.29175299446570285), (5635, 0.29175299446570285), (5636, 0.29175299446570285), (5647, 0.29175299446570285), (5657, 0.29175299446570285), (5658, 0.29175299446570285), (5669, 0.29175299446570285), (5683, 0.29175299446570285), (5687, 0.29175299446570285), (5690, 0.29175299446570285), (5698, 0.29175299446570285), (5699, 0.29175299446570285), (5701, 0.29175299446570285), (5712, 0.29175299446570285), (5723, 0.29175299446570285), (5736, 0.29175299446570285), (5739, 0.29175299446570285), (5745, 0.29175299446570285), (5746, 0.29175299446570285), (5753, 0.29175299446570285), (5754, 0.29175299446570285), (5771, 0.29175299446570285), (5781, 0.29175299446570285), (5782, 0.29175299446570285), (5793, 0.29175299446570285), (5796, 0.29175299446570285), (5797, 0.29175299446570285), (5804, 0.29175299446570285), (5805, 0.29175299446570285), (5810, 0.29175299446570285), (5811, 0.29175299446570285), (5813, 0.29175299446570285), (5817, 0.29175299446570285), (5820, 0.29175299446570285), (5842, 0.29175299446570285), (5846, 0.29175299446570285), (5848, 0.29175299446570285), (5849, 0.29175299446570285), (5850, 0.29175299446570285), (5851, 0.29175299446570285), (5861, 0.29175299446570285), (5870, 0.29175299446570285), (5880, 0.29175299446570285), (5897, 0.29175299446570285), (5898, 0.29175299446570285), (5913, 0.29175299446570285), (5914, 0.29175299446570285), (5937, 0.29175299446570285), (5947, 0.29175299446570285), (5953, 0.29175299446570285), (5956, 0.29175299446570285), (5960, 0.29175299446570285), (5967, 0.29175299446570285), (5993, 0.29175299446570285), (6002, 0.29175299446570285), (6003, 0.29175299446570285), (6008, 0.29175299446570285), (6021, 0.29175299446570285), (6025, 0.29175299446570285), (6026, 0.29175299446570285), (6028, 0.29175299446570285), (6032, 0.29175299446570285), (6044, 0.29175299446570285), (6047, 0.29175299446570285), (6050, 0.29175299446570285), (6055, 0.29175299446570285), (6060, 0.29175299446570285), (6062, 0.29175299446570285), (6069, 0.29175299446570285), (6088, 0.29175299446570285), (6093, 0.29175299446570285), (6097, 0.29175299446570285), (6099, 0.29175299446570285), (6101, 0.29175299446570285), (6108, 0.29175299446570285), (6116, 0.29175299446570285), (6133, 0.29175299446570285), (6144, 0.29175299446570285), (6149, 0.29175299446570285), (6162, 0.29175299446570285), (6165, 0.29175299446570285), (6174, 0.29175299446570285), (6181, 0.29175299446570285), (6182, 0.29175299446570285), (6190, 0.29175299446570285), (6204, 0.29175299446570285), (6217, 0.29175299446570285), (6218, 0.29175299446570285), (6229, 0.29175299446570285), (6236, 0.29175299446570285), (6272, 0.29175299446570285), (6276, 0.29175299446570285), (6277, 0.29175299446570285), (6281, 0.29175299446570285), (6298, 0.29175299446570285), (6305, 0.29175299446570285), (6309, 0.29175299446570285), (6313, 0.29175299446570285), (6318, 0.29175299446570285), (6323, 0.29175299446570285), (6328, 0.29175299446570285), (6329, 0.29175299446570285), (6330, 0.29175299446570285), (6350, 0.29175299446570285), (6356, 0.29175299446570285), (6358, 0.29175299446570285), (6374, 0.29175299446570285), (6375, 0.29175299446570285), (6380, 0.29175299446570285), (6394, 0.29175299446570285), (6403, 0.29175299446570285), (6405, 0.29175299446570285), (6415, 0.29175299446570285), (6422, 0.29175299446570285), (6423, 0.29175299446570285), (6514, 0.29175299446570285), (6518, 0.29175299446570285), (6530, 0.29175299446570285), (6532, 0.29175299446570285), (6550, 0.29175299446570285), (6551, 0.29175299446570285), (6553, 0.29175299446570285), (6560, 0.29175299446570285), (6564, 0.29175299446570285), (6576, 0.29175299446570285), (6577, 0.29175299446570285), (6578, 0.29175299446570285), (6580, 0.29175299446570285), (6585, 0.29175299446570285), (6592, 0.29175299446570285), (6602, 0.29175299446570285), (6603, 0.29175299446570285), (6607, 0.29175299446570285), (6614, 0.29175299446570285), (6616, 0.29175299446570285), (6637, 0.29175299446570285), (6638, 0.29175299446570285), (6647, 0.29175299446570285), (6648, 0.29175299446570285), (6649, 0.29175299446570285), (6650, 0.29175299446570285), (6656, 0.29175299446570285), (6666, 0.29175299446570285), (6671, 0.29175299446570285), (6674, 0.29175299446570285), (6676, 0.29175299446570285), (6687, 0.29175299446570285), (6689, 0.29175299446570285), (6690, 0.29175299446570285), (6696, 0.29175299446570285), (6700, 0.29175299446570285), (6705, 0.29175299446570285), (6717, 0.29175299446570285), (6725, 0.29175299446570285), (6726, 0.29175299446570285), (6736, 0.29175299446570285), (6755, 0.29175299446570285), (6760, 0.29175299446570285), (6762, 0.29175299446570285), (6771, 0.29175299446570285), (6773, 0.29175299446570285), (6776, 0.29175299446570285), (6778, 0.29175299446570285), (6780, 0.29175299446570285), (6781, 0.29175299446570285), (6784, 0.29175299446570285), (6789, 0.29175299446570285), (6790, 0.29175299446570285), (6799, 0.29175299446570285), (6822, 0.29175299446570285), (6867, 0.29175299446570285), (6870, 0.29175299446570285), (6872, 0.29175299446570285), (6876, 0.29175299446570285), (6886, 0.29175299446570285), (6899, 0.29175299446570285), (6912, 0.29175299446570285), (6913, 0.29175299446570285), (6919, 0.29175299446570285), (6921, 0.29175299446570285), (6923, 0.29175299446570285), (6925, 0.29175299446570285), (6948, 0.29175299446570285), (6949, 0.29175299446570285), (6950, 0.29175299446570285), (6971, 0.29175299446570285), (6993, 0.29175299446570285), (6994, 0.29175299446570285), (6997, 0.29175299446570285), (6998, 0.29175299446570285), (7001, 0.29175299446570285), (7016, 0.29175299446570285), (7036, 0.29175299446570285), (7037, 0.29175299446570285), (7044, 0.29175299446570285), (7048, 0.29175299446570285), (7073, 0.29175299446570285), (7092, 0.29175299446570285), (7097, 0.29175299446570285), (7120, 0.29175299446570285), (7125, 0.29175299446570285), (7126, 0.29175299446570285), (7154, 0.29175299446570285), (7162, 0.29175299446570285), (7167, 0.29175299446570285), (7176, 0.29175299446570285), (7178, 0.29175299446570285), (7190, 0.29175299446570285), (7195, 0.29175299446570285), (7196, 0.29175299446570285), (7201, 0.29175299446570285), (7203, 0.29175299446570285), (7208, 0.29175299446570285), (7214, 0.29175299446570285), (7224, 0.29175299446570285), (7235, 0.29175299446570285), (7236, 0.29175299446570285), (7241, 0.29175299446570285), (7251, 0.29175299446570285), (7254, 0.29175299446570285), (7274, 0.29175299446570285), (7290, 0.29175299446570285), (7293, 0.29175299446570285), (7297, 0.29175299446570285), (7298, 0.29175299446570285), (7309, 0.29175299446570285), (7347, 0.29175299446570285), (7352, 0.29175299446570285), (7365, 0.29175299446570285), (7371, 0.29175299446570285), (7379, 0.29175299446570285), (7383, 0.29175299446570285), (7386, 0.29175299446570285), (7388, 0.29175299446570285), (7395, 0.29175299446570285), (7397, 0.29175299446570285), (7403, 0.29175299446570285), (7404, 0.29175299446570285), (7405, 0.29175299446570285), (7410, 0.29175299446570285), (7412, 0.29175299446570285), (7413, 0.29175299446570285), (7414, 0.29175299446570285), (7415, 0.29175299446570285), (7417, 0.29175299446570285), (7420, 0.29175299446570285), (7437, 0.29175299446570285), (7448, 0.29175299446570285), (7449, 0.29175299446570285), (7467, 0.29175299446570285), (7473, 0.29175299446570285), (7481, 0.29175299446570285), (7488, 0.29175299446570285), (7490, 0.29175299446570285), (7494, 0.29175299446570285), (7501, 0.29175299446570285), (7518, 0.29175299446570285), (7519, 0.29175299446570285), (7521, 0.29175299446570285), (7534, 0.29175299446570285), (7551, 0.29175299446570285), (7552, 0.29175299446570285), (7567, 0.29175299446570285), (7575, 0.29175299446570285), (7584, 0.29175299446570285), (7591, 0.29175299446570285), (7602, 0.29175299446570285), (7627, 0.29175299446570285), (7633, 0.29175299446570285), (7647, 0.29175299446570285), (7656, 0.29175299446570285), (7661, 0.29175299446570285), (7681, 0.29175299446570285), (7708, 0.29175299446570285), (7723, 0.29175299446570285), (7726, 0.29175299446570285), (7737, 0.29175299446570285), (7743, 0.29175299446570285), (7745, 0.29175299446570285), (7754, 0.29175299446570285), (7759, 0.29175299446570285), (7761, 0.29175299446570285), (7774, 0.29175299446570285), (7777, 0.29175299446570285), (7788, 0.29175299446570285), (7797, 0.29175299446570285), (7809, 0.29175299446570285), (7810, 0.29175299446570285), (7828, 0.29175299446570285), (7843, 0.29175299446570285), (7849, 0.29175299446570285), (7851, 0.29175299446570285), (7854, 0.29175299446570285), (7858, 0.29175299446570285), (7864, 0.29175299446570285), (7892, 0.29175299446570285), (7898, 0.29175299446570285), (7901, 0.29175299446570285), (7905, 0.29175299446570285), (7921, 0.29175299446570285), (7922, 0.29175299446570285), (7925, 0.29175299446570285), (7927, 0.29175299446570285), (7930, 0.29175299446570285), (7940, 0.29175299446570285), (7944, 0.29175299446570285), (7945, 0.29175299446570285), (7948, 0.29175299446570285), (7950, 0.29175299446570285), (7975, 0.29175299446570285), (7979, 0.29175299446570285), (7984, 0.29175299446570285), (7992, 0.29175299446570285), (7994, 0.29175299446570285), (7997, 0.29175299446570285), (8009, 0.29175299446570285), (8012, 0.29175299446570285), (8025, 0.29175299446570285), (8026, 0.29175299446570285), (8035, 0.29175299446570285), (8036, 0.29175299446570285), (8037, 0.29175299446570285), (8041, 0.29175299446570285), (8052, 0.29175299446570285), (8055, 0.29175299446570285), (8064, 0.29175299446570285), (8072, 0.29175299446570285), (8074, 0.29175299446570285), (8084, 0.29175299446570285), (8100, 0.29175299446570285), (8113, 0.29175299446570285), (8146, 0.29175299446570285), (8164, 0.29175299446570285), (8165, 0.29175299446570285), (8171, 0.29175299446570285), (8177, 0.29175299446570285), (8187, 0.29175299446570285), (8189, 0.29175299446570285), (8199, 0.29175299446570285), (8205, 0.29175299446570285), (8208, 0.29175299446570285), (8214, 0.29175299446570285), (8222, 0.29175299446570285), (8226, 0.29175299446570285), (8237, 0.29175299446570285), (8244, 0.29175299446570285), (8247, 0.29175299446570285), (8250, 0.29175299446570285), (8253, 0.29175299446570285), (8266, 0.29175299446570285), (8267, 0.29175299446570285), (8273, 0.29175299446570285), (8280, 0.29175299446570285), (8283, 0.29175299446570285), (8292, 0.29175299446570285), (8299, 0.29175299446570285), (8303, 0.29175299446570285), (8309, 0.29175299446570285), (8322, 0.29175299446570285), (8332, 0.29175299446570285), (8355, 0.29175299446570285), (8356, 0.29175299446570285), (8359, 0.29175299446570285), (8367, 0.29175299446570285), (8371, 0.29175299446570285), (8375, 0.29175299446570285), (8378, 0.29175299446570285), (8379, 0.29175299446570285), (8391, 0.29175299446570285), (8395, 0.29175299446570285), (8400, 0.29175299446570285), (8404, 0.29175299446570285), (8414, 0.29175299446570285), (8415, 0.29175299446570285), (8418, 0.29175299446570285), (8419, 0.29175299446570285), (8420, 0.29175299446570285), (8424, 0.29175299446570285), (8425, 0.29175299446570285), (8426, 0.29175299446570285), (8430, 0.29175299446570285), (8438, 0.29175299446570285), (8446, 0.29175299446570285), (8447, 0.29175299446570285), (8468, 0.29175299446570285), (8475, 0.29175299446570285), (8477, 0.29175299446570285), (8508, 0.29175299446570285), (8522, 0.29175299446570285), (8542, 0.29175299446570285), (8543, 0.29175299446570285), (8561, 0.29175299446570285), (8562, 0.29175299446570285), (8565, 0.29175299446570285), (8595, 0.29175299446570285), (8614, 0.29175299446570285), (8621, 0.29175299446570285), (8623, 0.29175299446570285), (8635, 0.29175299446570285), (8636, 0.29175299446570285), (8639, 0.29175299446570285), (8643, 0.29175299446570285), (8654, 0.29175299446570285), (8655, 0.29175299446570285), (8660, 0.29175299446570285), (8662, 0.29175299446570285), (8668, 0.29175299446570285), (8671, 0.29175299446570285), (8672, 0.29175299446570285), (8678, 0.29175299446570285), (8692, 0.29175299446570285), (8701, 0.29175299446570285), (8720, 0.29175299446570285), (8727, 0.29175299446570285), (8729, 0.29175299446570285), (8731, 0.29175299446570285), (8738, 0.29175299446570285), (8741, 0.29175299446570285), (8745, 0.29175299446570285), (8746, 0.29175299446570285), (8750, 0.29175299446570285), (8751, 0.29175299446570285), (8752, 0.29175299446570285), (8753, 0.29175299446570285), (8758, 0.29175299446570285), (8759, 0.29175299446570285), (8760, 0.29175299446570285), (8764, 0.29175299446570285), (8798, 0.29175299446570285), (8807, 0.29175299446570285), (8814, 0.29175299446570285), (8815, 0.29175299446570285), (8819, 0.29175299446570285), (8820, 0.29175299446570285), (8829, 0.29175299446570285), (8832, 0.29175299446570285), (8850, 0.29175299446570285), (8868, 0.29175299446570285), (8871, 0.29175299446570285), (8889, 0.29175299446570285), (8892, 0.29175299446570285), (8899, 0.29175299446570285), (8902, 0.29175299446570285), (8924, 0.29175299446570285), (8925, 0.29175299446570285), (8926, 0.29175299446570285), (8934, 0.29175299446570285), (8935, 0.29175299446570285), (8949, 0.29175299446570285), (8969, 0.29175299446570285), (8972, 0.29175299446570285), (8983, 0.29175299446570285), (8999, 0.29175299446570285), (9003, 0.29175299446570285), (9011, 0.29175299446570285), (9016, 0.29175299446570285), (9017, 0.29175299446570285), (9018, 0.29175299446570285), (9035, 0.29175299446570285), (9047, 0.29175299446570285), (9050, 0.29175299446570285), (9051, 0.29175299446570285), (9054, 0.29175299446570285), (9057, 0.29175299446570285), (9063, 0.29175299446570285), (9085, 0.29175299446570285), (9092, 0.29175299446570285), (9103, 0.29175299446570285), (9111, 0.29175299446570285), (9116, 0.29175299446570285), (9119, 0.29175299446570285), (9128, 0.29175299446570285), (9142, 0.29175299446570285), (9146, 0.29175299446570285), (9177, 0.29175299446570285), (9179, 0.29175299446570285), (9180, 0.29175299446570285), (9181, 0.29175299446570285), (9188, 0.29175299446570285), (9192, 0.29175299446570285), (9193, 0.29175299446570285), (9200, 0.29175299446570285), (9208, 0.29175299446570285), (9217, 0.29175299446570285), (9218, 0.29175299446570285), (9220, 0.29175299446570285), (9222, 0.29175299446570285), (9232, 0.29175299446570285), (9256, 0.29175299446570285), (9260, 0.29175299446570285), (9268, 0.29175299446570285), (9270, 0.29175299446570285), (9287, 0.29175299446570285), (9288, 0.29175299446570285), (9296, 0.29175299446570285), (9297, 0.29175299446570285), (9298, 0.29175299446570285), (9299, 0.29175299446570285), (9302, 0.29175299446570285), (9307, 0.29175299446570285), (9314, 0.29175299446570285), (9315, 0.29175299446570285), (9316, 0.29175299446570285), (9319, 0.29175299446570285), (9330, 0.29175299446570285), (9357, 0.29175299446570285), (9363, 0.29175299446570285), (9367, 0.29175299446570285), (9402, 0.29175299446570285), (9405, 0.29175299446570285), (9410, 0.29175299446570285), (9411, 0.29175299446570285), (9412, 0.29175299446570285), (9420, 0.29175299446570285), (9424, 0.29175299446570285), (9426, 0.29175299446570285), (9433, 0.29175299446570285), (9439, 0.29175299446570285), (9457, 0.29175299446570285), (9459, 0.29175299446570285), (9461, 0.29175299446570285), (9481, 0.29175299446570285), (9482, 0.29175299446570285), (9483, 0.29175299446570285), (9512, 0.29175299446570285), (9521, 0.29175299446570285), (9527, 0.29175299446570285), (9537, 0.29175299446570285), (9546, 0.29175299446570285), (9554, 0.29175299446570285), (9557, 0.29175299446570285), (9558, 0.29175299446570285), (9560, 0.29175299446570285), (9562, 0.29175299446570285), (9572, 0.29175299446570285), (9579, 0.29175299446570285), (9582, 0.29175299446570285), (9596, 0.29175299446570285), (9601, 0.29175299446570285), (9606, 0.29175299446570285), (9633, 0.29175299446570285), (9637, 0.29175299446570285), (9639, 0.29175299446570285), (9647, 0.29175299446570285), (9650, 0.29175299446570285), (9688, 0.29175299446570285), (9693, 0.29175299446570285), (9697, 0.29175299446570285), (9703, 0.29175299446570285), (9713, 0.29175299446570285), (9724, 0.29175299446570285), (9754, 0.29175299446570285), (9755, 0.29175299446570285), (9756, 0.29175299446570285), (9758, 0.29175299446570285), (9768, 0.29175299446570285), (9769, 0.29175299446570285), (9804, 0.29175299446570285), (9805, 0.29175299446570285), (9813, 0.29175299446570285), (9818, 0.29175299446570285), (9824, 0.29175299446570285), (9837, 0.29175299446570285), (9842, 0.29175299446570285), (9844, 0.29175299446570285), (9853, 0.29175299446570285), (9860, 0.29175299446570285), (9862, 0.29175299446570285), (9863, 0.29175299446570285), (9874, 0.29175299446570285), (9879, 0.29175299446570285), (9880, 0.29175299446570285), (9881, 0.29175299446570285), (9885, 0.29175299446570285), (9898, 0.29175299446570285), (9913, 0.29175299446570285), (9915, 0.29175299446570285), (9923, 0.29175299446570285), (9933, 0.29175299446570285), (9935, 0.29175299446570285), (9942, 0.29175299446570285), (9943, 0.29175299446570285), (9950, 0.29175299446570285), (9959, 0.29175299446570285), (9966, 0.29175299446570285), (9967, 0.29175299446570285), (9973, 0.29175299446570285), (9985, 0.29175299446570285), (9994, 0.29175299446570285), (9999, 0.29175299446570285), (10002, 0.29175299446570285), (10004, 0.29175299446570285), (10005, 0.29175299446570285), (10016, 0.29175299446570285), (10024, 0.29175299446570285), (10025, 0.29175299446570285), (10026, 0.29175299446570285), (10034, 0.29175299446570285), (10038, 0.29175299446570285), (10043, 0.29175299446570285), (10050, 0.29175299446570285), (10051, 0.29175299446570285), (10055, 0.29175299446570285), (10058, 0.29175299446570285), (10062, 0.29175299446570285), (10070, 0.29175299446570285), (10093, 0.29175299446570285), (10094, 0.29175299446570285), (10110, 0.29175299446570285), (10131, 0.29175299446570285), (10133, 0.29175299446570285), (10136, 0.29175299446570285), (10139, 0.29175299446570285), (10142, 0.29175299446570285), (10154, 0.29175299446570285), (10157, 0.29175299446570285), (10159, 0.29175299446570285), (10167, 0.29175299446570285), (10169, 0.29175299446570285), (10171, 0.29175299446570285), (10174, 0.29175299446570285), (10177, 0.29175299446570285), (10180, 0.29175299446570285), (10183, 0.29175299446570285), (10186, 0.29175299446570285), (10192, 0.29175299446570285), (10193, 0.29175299446570285), (10207, 0.29175299446570285), (10208, 0.29175299446570285), (10212, 0.29175299446570285), (10223, 0.29175299446570285), (10229, 0.29175299446570285), (10236, 0.29175299446570285), (10249, 0.29175299446570285), (10257, 0.29175299446570285), (10259, 0.29175299446570285), (10293, 0.29175299446570285), (10303, 0.29175299446570285), (9504, 0.2916051755169392), (9202, 0.2887266483406946), (311, 0.2884171177995154), (2335, 0.2884171177995154), (2923, 0.2884171177995154), (4653, 0.2884171177995154), (5030, 0.2884171177995154), (5072, 0.2884171177995154), (7187, 0.2884171177995154), (7733, 0.2884171177995154), (9389, 0.2884171177995154), (9577, 0.2884171177995154), (40, 0.28841711779951534), (467, 0.28841711779951534), (1260, 0.28841711779951534), (1362, 0.28841711779951534), (1728, 0.28841711779951534), (1791, 0.28841711779951534), (1880, 0.28841711779951534), (1903, 0.28841711779951534), (1923, 0.28841711779951534), (2035, 0.28841711779951534), (2368, 0.28841711779951534), (2664, 0.28841711779951534), (2952, 0.28841711779951534), (3019, 0.28841711779951534), (3168, 0.28841711779951534), (3734, 0.28841711779951534), (4072, 0.28841711779951534), (4448, 0.28841711779951534), (4586, 0.28841711779951534), (5300, 0.28841711779951534), (5764, 0.28841711779951534), (5904, 0.28841711779951534), (6263, 0.28841711779951534), (6390, 0.28841711779951534), (6474, 0.28841711779951534), (6523, 0.28841711779951534), (6632, 0.28841711779951534), (6634, 0.28841711779951534), (6907, 0.28841711779951534), (6947, 0.28841711779951534), (7349, 0.28841711779951534), (7432, 0.28841711779951534), (7484, 0.28841711779951534), (8725, 0.28841711779951534), (8802, 0.28841711779951534), (9464, 0.28841711779951534), (9469, 0.28841711779951534), (9620, 0.28841711779951534), (9632, 0.28841711779951534), (9847, 0.28841711779951534), (9868, 0.28841711779951534), (9951, 0.28841711779951534), (10263, 0.28841711779951534), (4162, 0.28835757074814666), (1214, 0.2883575707481466), (1709, 0.2879645770919049), (9567, 0.2866689752854329), (8546, 0.28638471025227713), (832, 0.28617264864349246), (6173, 0.28617264864349246), (8469, 0.28617264864349246), (9513, 0.28617264864349246), (147, 0.2861726486434924), (409, 0.2861726486434924), (500, 0.2861726486434924), (773, 0.2861726486434924), (1004, 0.2861726486434924), (1124, 0.2861726486434924), (1125, 0.2861726486434924), (1156, 0.2861726486434924), (1205, 0.2861726486434924), (1310, 0.2861726486434924), (2036, 0.2861726486434924), (2157, 0.2861726486434924), (3376, 0.2861726486434924), (3548, 0.2861726486434924), (3643, 0.2861726486434924), (3684, 0.2861726486434924), (4214, 0.2861726486434924), (4410, 0.2861726486434924), (4664, 0.2861726486434924), (4715, 0.2861726486434924), (4845, 0.2861726486434924), (5025, 0.2861726486434924), (5097, 0.2861726486434924), (5148, 0.2861726486434924), (5163, 0.2861726486434924), (5459, 0.2861726486434924), (5944, 0.2861726486434924), (6260, 0.2861726486434924), (6384, 0.2861726486434924), (6477, 0.2861726486434924), (6988, 0.2861726486434924), (7119, 0.2861726486434924), (7238, 0.2861726486434924), (7380, 0.2861726486434924), (7497, 0.2861726486434924), (8215, 0.2861726486434924), (8650, 0.2861726486434924), (8967, 0.2861726486434924), (10054, 0.2861726486434924), (10155, 0.2861726486434924), (3071, 0.2859255811471658), (753, 0.28556437964775017), (2812, 0.28556437964775017), (593, 0.28508968179020644), (839, 0.28508968179020644), (1672, 0.28508968179020644), (2164, 0.28508968179020644), (2760, 0.28508968179020644), (4371, 0.28508968179020644), (7803, 0.28508968179020644), (370, 0.2850896817902064), (592, 0.2850896817902064), (673, 0.2850896817902064), (674, 0.2850896817902064), (2459, 0.2850896817902064), (3434, 0.2850896817902064), (4549, 0.2850896817902064), (5620, 0.2850896817902064), (5744, 0.2850896817902064), (6447, 0.2850896817902064), (7848, 0.2850896817902064), (8118, 0.2850896817902064), (8960, 0.2850896817902064), (9207, 0.2850896817902064), (9228, 0.2850896817902064), (9348, 0.2850896817902064), (10221, 0.2850896817902064), (8499, 0.28380124098703396), (3509, 0.2838012409870339), (4707, 0.2838012409870339), (5873, 0.2838012409870339), (5874, 0.2838012409870339), (104, 0.2821548729110906), (4416, 0.28198171389696924), (7559, 0.28198171389696924), (8575, 0.2813650795730551), (6483, 0.2807846717006022), (5727, 0.2805037843732193), (3951, 0.27923404913603234), (2009, 0.2792340491360323), (2338, 0.2792340491360323), (2440, 0.2792340491360323), (2997, 0.2792340491360323), (3545, 0.2792340491360323), (6029, 0.2792340491360323), (7042, 0.2792340491360323), (9039, 0.2792340491360323), (9184, 0.2792340491360323), (9748, 0.2792340491360323), (9830, 0.2792340491360323), (5323, 0.27898046865307125), (1501, 0.2789804686530712), (10297, 0.2789804686530712), (86, 0.2779452965451419), (6018, 0.2779452965451419), (5305, 0.2778832450411415), (9409, 0.2778832450411415), (4894, 0.2768440671506253), (5196, 0.2768440671506253), (452, 0.27646238238988874), (6769, 0.27646238238988874), (6793, 0.27646238238988874), (8891, 0.27646238238988874), (9070, 0.27646238238988874), (9427, 0.27646238238988874), (10030, 0.27646238238988874), (413, 0.2764623823898887), (1284, 0.2764623823898887), (2195, 0.2764623823898887), (2300, 0.2764623823898887), (3448, 0.2764623823898887), (5316, 0.2764623823898887), (6770, 0.2764623823898887), (6792, 0.2764623823898887), (7361, 0.2764623823898887), (7636, 0.2764623823898887), (7855, 0.2764623823898887), (7888, 0.2764623823898887), (8032, 0.2764623823898887), (8289, 0.2764623823898887), (8980, 0.2764623823898887), (9607, 0.2764623823898887), (9875, 0.2764623823898887), (9917, 0.2764623823898887), (1656, 0.27623960203320386), (2121, 0.27623960203320386), (805, 0.2733079208624328), (9477, 0.2733079208624328), (872, 0.2732904831355395), (7104, 0.2732904831355395), (7188, 0.2732904831355395), (8857, 0.2732904831355395), (3589, 0.2731282986723448), (7400, 0.27051242847546175), (4968, 0.2699089013485012), (21, 0.26901618792869525), (90, 0.26901618792869525), (91, 0.26901618792869525), (252, 0.26901618792869525), (417, 0.26901618792869525), (453, 0.26901618792869525), (480, 0.26901618792869525), (557, 0.26901618792869525), (568, 0.26901618792869525), (569, 0.26901618792869525), (642, 0.26901618792869525), (643, 0.26901618792869525), (693, 0.26901618792869525), (754, 0.26901618792869525), (855, 0.26901618792869525), (958, 0.26901618792869525), (967, 0.26901618792869525), (1106, 0.26901618792869525), (1261, 0.26901618792869525), (1450, 0.26901618792869525), (1564, 0.26901618792869525), (1565, 0.26901618792869525), (1589, 0.26901618792869525), (1606, 0.26901618792869525), (1648, 0.26901618792869525), (1667, 0.26901618792869525), (1793, 0.26901618792869525), (1794, 0.26901618792869525), (1809, 0.26901618792869525), (1839, 0.26901618792869525), (2040, 0.26901618792869525), (2140, 0.26901618792869525), (2202, 0.26901618792869525), (2210, 0.26901618792869525), (2220, 0.26901618792869525), (2306, 0.26901618792869525), (2343, 0.26901618792869525), (2381, 0.26901618792869525), (2466, 0.26901618792869525), (2506, 0.26901618792869525), (2579, 0.26901618792869525), (2601, 0.26901618792869525), (2623, 0.26901618792869525), (2628, 0.26901618792869525), (2648, 0.26901618792869525), (2824, 0.26901618792869525), (3014, 0.26901618792869525), (3195, 0.26901618792869525), (3199, 0.26901618792869525), (3202, 0.26901618792869525), (3221, 0.26901618792869525), (3377, 0.26901618792869525), (3624, 0.26901618792869525), (3768, 0.26901618792869525), (3796, 0.26901618792869525), (3920, 0.26901618792869525), (3922, 0.26901618792869525), (3923, 0.26901618792869525), (4021, 0.26901618792869525), (4022, 0.26901618792869525), (4023, 0.26901618792869525), (4117, 0.26901618792869525), (4154, 0.26901618792869525), (4166, 0.26901618792869525), (4199, 0.26901618792869525), (4259, 0.26901618792869525), (4318, 0.26901618792869525), (4320, 0.26901618792869525), (4324, 0.26901618792869525), (4408, 0.26901618792869525), (4455, 0.26901618792869525), (4543, 0.26901618792869525), (4575, 0.26901618792869525), (4625, 0.26901618792869525), (4639, 0.26901618792869525), (4678, 0.26901618792869525), (4723, 0.26901618792869525), (4807, 0.26901618792869525), (4809, 0.26901618792869525), (4814, 0.26901618792869525), (4912, 0.26901618792869525), (5111, 0.26901618792869525), (5180, 0.26901618792869525), (5213, 0.26901618792869525), (5214, 0.26901618792869525), (5304, 0.26901618792869525), (5530, 0.26901618792869525), (5790, 0.26901618792869525), (6295, 0.26901618792869525), (6352, 0.26901618792869525), (6509, 0.26901618792869525), (6510, 0.26901618792869525), (6512, 0.26901618792869525), (6515, 0.26901618792869525), (6516, 0.26901618792869525), (6609, 0.26901618792869525), (6838, 0.26901618792869525), (6893, 0.26901618792869525), (6981, 0.26901618792869525), (7156, 0.26901618792869525), (7157, 0.26901618792869525), (7158, 0.26901618792869525), (7163, 0.26901618792869525), (7243, 0.26901618792869525), (7299, 0.26901618792869525), (7315, 0.26901618792869525), (7419, 0.26901618792869525), (7447, 0.26901618792869525), (7464, 0.26901618792869525), (7489, 0.26901618792869525), (7525, 0.26901618792869525), (7564, 0.26901618792869525), (7756, 0.26901618792869525), (7782, 0.26901618792869525), (7913, 0.26901618792869525), (8040, 0.26901618792869525), (8054, 0.26901618792869525), (8168, 0.26901618792869525), (8230, 0.26901618792869525), (8271, 0.26901618792869525), (8279, 0.26901618792869525), (8435, 0.26901618792869525), (8545, 0.26901618792869525), (8630, 0.26901618792869525), (8631, 0.26901618792869525), (8632, 0.26901618792869525), (8676, 0.26901618792869525), (8689, 0.26901618792869525), (8895, 0.26901618792869525), (9007, 0.26901618792869525), (9066, 0.26901618792869525), (9137, 0.26901618792869525), (9175, 0.26901618792869525), (9183, 0.26901618792869525), (9648, 0.26901618792869525), (9654, 0.26901618792869525), (9655, 0.26901618792869525), (9656, 0.26901618792869525), (9831, 0.26901618792869525), (9962, 0.26901618792869525), (9963, 0.26901618792869525), (10179, 0.26901618792869525), (10188, 0.26901618792869525), (10244, 0.26901618792869525), (10307, 0.26901618792869525), (10308, 0.26901618792869525), (1805, 0.2690161879286952), (3918, 0.2690161879286952), (3947, 0.2690161879286952), (6682, 0.2690161879286952), (7444, 0.2690161879286952), (10127, 0.2690161879286952), (2289, 0.26870967635294457), (6416, 0.2687096763529445), (22, 0.26864910985713625), (6261, 0.26864910985713625), (8732, 0.26864910985713625), (9255, 0.26864910985713625), (1619, 0.2661893860331706), (3255, 0.2661893860331706), (5060, 0.2661893860331706), (7263, 0.2661893860331706), (7974, 0.2661893860331706), (241, 0.26618938603317055), (2223, 0.26618938603317055), (8257, 0.26615810576823035), (6644, 0.26571190535268013), (7211, 0.26571190535268013), (6159, 0.26501229087337924), (8352, 0.2645916219918318), (851, 0.2643839091217116), (852, 0.2643839091217116), (4952, 0.2643839091217116), (4955, 0.2643839091217116), (8696, 0.2643839091217116), (8783, 0.2643839091217116), (4114, 0.26333522443092017), (7385, 0.26333522443092017), (9670, 0.26333522443092017), (10211, 0.26333522443092017), (6362, 0.2633352244309201), (6315, 0.2631949502553039), (7995, 0.2631949502553039), (8900, 0.2631949502553039), (8369, 0.26319495025530387), (8455, 0.2628839873282114), (2114, 0.2626440430801229), (1677, 0.2623925103835424), (10170, 0.2623345312162683), (8812, 0.26171633342675726), (8482, 0.25994013582738756), (5321, 0.2599401358273875), (5774, 0.2599401358273875), (6936, 0.2584049259630064), (2652, 0.25735270609081856), (4567, 0.25735270609081856), (6961, 0.25735270609081856), (8003, 0.25735270609081856), (10057, 0.25735270609081856), (65, 0.2573527060908185), (6866, 0.2573527060908185), (8905, 0.25645688044523834), (84, 0.2553339778542172), (85, 0.2553339778542172), (87, 0.2553339778542172), (8530, 0.2553339778542172), (2304, 0.25528421043748467), (2517, 0.25528421043748467), (8897, 0.2552842104374846), (1042, 0.25476506665999243), (1068, 0.25476506665999243), (2369, 0.25476506665999243), (3749, 0.25476506665999243), (5456, 0.25476506665999243), (5651, 0.25476506665999243), (5725, 0.25476506665999243), (7218, 0.25476506665999243), (8173, 0.25476506665999243), (8325, 0.25476506665999243), (8351, 0.25476506665999243), (9117, 0.25476506665999243), (9526, 0.25476506665999243), (9828, 0.25476506665999243), (10239, 0.25476506665999243), (3580, 0.2547650666599924), (5028, 0.2530006788125398), (7770, 0.2526829174208531), (2943, 0.25259311019867114), (7257, 0.25259311019867114), (4739, 0.25227130950291027), (6748, 0.25227130950291027), (8619, 0.2519993310479234), (2963, 0.2519993310479233), (516, 0.25199933104792327), (6379, 0.2517247758831071), (665, 0.2502219130805281), (9508, 0.2500567018043413), (189, 0.2500188581033208), (1221, 0.2500188581033208), (1259, 0.2500188581033208), (1525, 0.2500188581033208), (2725, 0.2500188581033208), (2738, 0.2500188581033208), (2777, 0.2500188581033208), (2906, 0.2500188581033208), (2999, 0.2500188581033208), (3044, 0.2500188581033208), (3148, 0.2500188581033208), (3170, 0.2500188581033208), (3538, 0.2500188581033208), (4818, 0.2500188581033208), (4941, 0.2500188581033208), (4982, 0.2500188581033208), (5107, 0.2500188581033208), (5938, 0.2500188581033208), (6048, 0.2500188581033208), (6163, 0.2500188581033208), (6631, 0.2500188581033208), (6842, 0.2500188581033208), (7443, 0.2500188581033208), (7465, 0.2500188581033208), (7835, 0.2500188581033208), (8001, 0.2500188581033208), (8059, 0.2500188581033208), (8127, 0.2500188581033208), (8644, 0.2500188581033208), (9463, 0.2500188581033208), (9588, 0.2500188581033208), (9684, 0.2500188581033208), (10135, 0.2500188581033208), (6663, 0.25001885810332075), (761, 0.2494543575462617), (332, 0.24856688474435146), (1919, 0.24856688474435146), (2330, 0.2466831007316263), (4870, 0.2466831007316263), (9339, 0.2466831007316263), (2075, 0.24660575604588952), (4266, 0.2466057560458895), (5599, 0.24644760006029195), (9229, 0.24613012895825598), (3311, 0.24613012895825592), (3365, 0.24613012895825592), (4840, 0.24613012895825592), (6194, 0.24613012895825592), (7730, 0.24613012895825587), (4777, 0.24597349391152604), (4780, 0.24597349391152604), (1250, 0.2454689356029831), (1251, 0.24546893560298305), (8761, 0.24482488906523237), (1060, 0.24470072808932256), (3634, 0.24335431743416777), (2494, 0.24335431743416772), (1706, 0.24313320387533854), (8238, 0.24295034264515442), (9489, 0.24295034264515442), (1543, 0.2428099998930788), (3243, 0.2428099998930788), (3886, 0.2428099998930788), (8242, 0.2428099998930788), (8733, 0.2428099998930788), (9821, 0.2428099998930788), (10254, 0.2428099998930788), (2705, 0.24216728233153506), (2718, 0.24212395100893713), (3297, 0.24212395100893713), (5498, 0.24212395100893713), (8968, 0.24212395100893713), (6458, 0.2414886003364394), (843, 0.24116469008972727), (5083, 0.24116469008972727), (7789, 0.24116469008972727), (4457, 0.24116469008972724), (6589, 0.24116469008972724), (442, 0.2410966533717083), (948, 0.2410966533717083), (1663, 0.2410966533717083), (1795, 0.2410966533717083), (3178, 0.2410966533717083), (3442, 0.2410966533717083), (3445, 0.2410966533717083), (4328, 0.2410966533717083), (5285, 0.2410966533717083), (5531, 0.2410966533717083), (6286, 0.2410966533717083), (7313, 0.2410966533717083), (8076, 0.2410966533717083), (9430, 0.2410966533717083), (1407, 0.24109665337170827), (5529, 0.24109665337170827), (7536, 0.2401837683175435), (4693, 0.23888473015979894), (4160, 0.23808085676099108), (36, 0.23808085676099106), (139, 0.23808085676099106), (887, 0.23808085676099106), (2018, 0.23808085676099106), (2020, 0.23808085676099106), (2707, 0.23808085676099106), (4163, 0.23808085676099106), (4603, 0.23808085676099106), (6161, 0.23808085676099106), (7962, 0.23808085676099106), (8776, 0.23808085676099106), (10068, 0.23808085676099106), (115, 0.23808085676099103), (324, 0.23808085676099103), (2019, 0.23808085676099103), (2706, 0.23808085676099103), (2930, 0.23808085676099103), (4577, 0.23808085676099103), (4802, 0.23808085676099103), (5202, 0.23808085676099103), (5355, 0.23808085676099103), (6160, 0.23808085676099103), (7082, 0.23808085676099103), (7505, 0.23808085676099103), (7522, 0.23808085676099103), (8145, 0.23808085676099103), (8841, 0.23808085676099103), (9062, 0.23808085676099103), (9082, 0.23808085676099103), (9151, 0.23808085676099103), (8695, 0.238080856760991), (8070, 0.23759662894048503), (1624, 0.23720995831617175), (8571, 0.23715591673042508), (248, 0.23715591673042505), (812, 0.23715591673042505), (2042, 0.23715591673042505), (3406, 0.23715591673042505), (4589, 0.23715591673042505), (7805, 0.23715591673042505), (859, 0.23715591673042502), (865, 0.23715591673042502), (974, 0.23715591673042502), (1211, 0.23715591673042502), (2225, 0.23715591673042502), (2405, 0.23715591673042502), (2576, 0.23715591673042502), (2724, 0.23715591673042502), (2949, 0.23715591673042502), (3196, 0.23715591673042502), (3353, 0.23715591673042502), (4161, 0.23715591673042502), (5056, 0.23715591673042502), (5614, 0.23715591673042502), (5932, 0.23715591673042502), (7252, 0.23715591673042502), (7722, 0.23715591673042502), (8233, 0.23715591673042502), (8965, 0.23715591673042502), (8987, 0.23715591673042502), (9248, 0.23715591673042502), (9612, 0.23715591673042502), (9615, 0.23715591673042502), (10083, 0.23715591673042502), (8596, 0.237155916730425), (8779, 0.237155916730425), (2774, 0.23592793470920412), (704, 0.23592793470920406), (4786, 0.23592793470920406), (6115, 0.23592793470920406), (7215, 0.2349408007737486), (1958, 0.23494080077374857), (2640, 0.23494080077374857), (8457, 0.23494080077374857), (10196, 0.23494080077374857), (3345, 0.23494080077374851), (4781, 0.23494080077374851), (6140, 0.23494080077374851), (9041, 0.23480403106477976), (2379, 0.23448805664110126), (9592, 0.23448805664110126), (9594, 0.23448805664110126), (9204, 0.23321712285134913), (6178, 0.23314885076821343), (4726, 0.2331488507682134), (7460, 0.23274953032241716), (2872, 0.23274953032241713), (2377, 0.2327206542666992), (8529, 0.23211874508325633), (9487, 0.23211874508325628), (4269, 0.23123138901941087), (13, 0.2294660478285217), (848, 0.22823866710880306), (853, 0.22823866710880306), (5621, 0.22823866710880306), (4275, 0.22774421399007896), (5855, 0.22756294907562322), (5912, 0.22756294907562322), (4277, 0.2272978819455037), (423, 0.22729788194550368), (10253, 0.22729788194550368), (5756, 0.22724898994342382), (603, 0.22713677185662498), (6269, 0.22713677185662498), (8318, 0.22713677185662498), (10294, 0.22713677185662498), (1365, 0.2268826079585405), (8634, 0.2268826079585405), (9040, 0.2260409223450341), (9086, 0.2251417159714369), (3632, 0.22494904107661873), (6424, 0.22420083646563269), (845, 0.22404370290826545), (3481, 0.22404370290826545), (4361, 0.22404370290826545), (7084, 0.2234044595127738), (2771, 0.22340445951277377), (3333, 0.22340445951277377), (5201, 0.22340445951277377), (7081, 0.22340445951277377), (10270, 0.22340445951277377), (1079, 0.22340445951277374), (8398, 0.22300972220749432), (3604, 0.22263971247333333), (659, 0.2226397124733333), (4710, 0.2226397124733333), (5834, 0.2226397124733333), (5950, 0.2226397124733333), (5951, 0.2226397124733333), (8586, 0.2226397124733333), (8777, 0.2226397124733333), (8922, 0.2226397124733333), (10173, 0.2226397124733333), (1213, 0.22104192187170277), (2993, 0.22042796000628984), (9711, 0.22042796000628984), (8961, 0.21991627885970852), (1144, 0.21961755210689066), (1972, 0.21961755210689066), (2206, 0.21961755210689066), (2457, 0.21961755210689066), (3151, 0.21961755210689066), (3441, 0.21961755210689066), (4105, 0.21961755210689066), (4272, 0.21961755210689066), (4454, 0.21961755210689066), (4456, 0.21961755210689066), (5217, 0.21961755210689066), (6933, 0.21961755210689066), (7312, 0.21961755210689066), (7341, 0.21961755210689066), (7914, 0.21961755210689066), (7915, 0.21961755210689066), (7916, 0.21961755210689066), (8224, 0.21961755210689066), (10123, 0.21961755210689066), (464, 0.21865433394562717), (277, 0.21845633658150354), (2025, 0.21845633658150354), (4644, 0.21845633658150354), (8296, 0.21845633658150354), (8527, 0.21845633658150354), (379, 0.21819253491534768), (2483, 0.21736586659899654), (10028, 0.21736586659899654), (7220, 0.2164158579450159), (8548, 0.21641585794501586), (6488, 0.21438230490888122), (1893, 0.21395339463837532), (6414, 0.21392298727204287), (2352, 0.2134838303826618), (5856, 0.2134838303826618), (6481, 0.2134838303826618), (8490, 0.2134838303826618), (8544, 0.2134838303826618), (4951, 0.21301249961181554), (8784, 0.21301249961181554), (8951, 0.21168496580294927), (211, 0.21154331072683785), (1025, 0.21154331072683785), (1398, 0.21154331072683785), (1486, 0.21154331072683785), (2428, 0.21154331072683785), (2484, 0.21154331072683785), (4464, 0.21154331072683785), (6041, 0.21154331072683785), (6495, 0.21154331072683785), (7308, 0.21154331072683785), (8437, 0.21154331072683785), (8686, 0.21154331072683785), (8693, 0.21154331072683785), (9282, 0.21154331072683785), (9627, 0.21154331072683785), (10081, 0.21154331072683785), (10187, 0.21154331072683785), (1329, 0.21152689207222664), (10003, 0.21152689207222664), (1819, 0.21133458338461727), (3999, 0.2107426063606388), (7500, 0.21045735985377892), (3746, 0.2104573598537789), (2575, 0.21002608758708238), (4903, 0.21002608758708236), (5507, 0.21002608758708236), (8839, 0.20891067526595555), (9250, 0.20891067526595555), (245, 0.20891067526595553), (831, 0.20891067526595553), (2521, 0.20891067526595553), (3112, 0.20891067526595553), (3389, 0.20891067526595553), (5255, 0.20891067526595553), (5565, 0.20891067526595553), (5742, 0.20891067526595553), (5962, 0.20891067526595553), (6266, 0.20891067526595553), (6598, 0.20891067526595553), (7487, 0.20891067526595553), (7557, 0.20891067526595553), (8151, 0.20891067526595553), (8155, 0.20891067526595553), (8540, 0.20891067526595553), (8794, 0.20891067526595553), (9029, 0.20891067526595553), (3308, 0.2089106752659555), (4295, 0.2089106752659555), (7635, 0.2089106752659555), (9651, 0.2089106752659555), (8917, 0.20871036450194705), (443, 0.207848406111999), (2339, 0.20770569610831519), (9947, 0.20695282633399645), (2462, 0.20674356009342115), (2650, 0.20674356009342115), (3093, 0.20674356009342115), (3095, 0.20674356009342115), (3117, 0.20674356009342115), (3258, 0.20674356009342115), (3695, 0.20674356009342115), (3833, 0.20674356009342115), (4374, 0.20674356009342115), (5461, 0.20674356009342115), (5547, 0.20674356009342115), (5648, 0.20674356009342115), (5838, 0.20674356009342115), (5978, 0.20674356009342115), (6285, 0.20674356009342115), (7592, 0.20674356009342115), (7667, 0.20674356009342115), (7695, 0.20674356009342115), (7705, 0.20674356009342115), (8286, 0.20674356009342115), (8295, 0.20674356009342115), (8465, 0.20674356009342115), (8578, 0.20674356009342115), (8581, 0.20674356009342115), (8589, 0.20674356009342115), (8780, 0.20674356009342115), (8781, 0.20674356009342115), (9274, 0.20674356009342115), (9859, 0.20674356009342115), (10146, 0.20674356009342115), (542, 0.20674356009342112), (688, 0.20674356009342112), (1513, 0.20674356009342112), (3870, 0.20674356009342112), (4706, 0.20674356009342112), (4890, 0.20674356009342112), (4933, 0.20674356009342112), (5649, 0.20674356009342112), (6814, 0.20674356009342112), (8043, 0.20674356009342112), (8568, 0.20674356009342112), (8580, 0.20674356009342112), (8582, 0.20674356009342112), (8583, 0.20674356009342112), (8778, 0.20674356009342112), (8988, 0.20674356009342112), (9264, 0.20674356009342112), (9265, 0.20674356009342112), (9393, 0.20674356009342112), (9446, 0.20674356009342112), (10197, 0.20674356009342112), (10199, 0.20674356009342112), (8952, 0.20602549346646307), (1215, 0.20496890530846773), (4089, 0.20496890530846773), (5052, 0.20496890530846773), (8384, 0.20496890530846773), (9679, 0.20496890530846773), (10304, 0.20496890530846773), (1145, 0.20438439925753898), (6169, 0.20438439925753898), (77, 0.2043778081624047), (2442, 0.2043778081624047), (4134, 0.2043778081624047), (7102, 0.2043778081624047), (169, 0.20437780816240467), (335, 0.20437780816240467), (372, 0.20437780816240467), (1831, 0.20437780816240467), (2642, 0.20437780816240467), (4095, 0.20437780816240467), (4378, 0.20437780816240467), (283, 0.20337408995142953), (2272, 0.20337408995142953), (2959, 0.20337408995142953), (3506, 0.20337408995142953), (3864, 0.20337408995142953), (4721, 0.20337408995142953), (5398, 0.20337408995142953), (7283, 0.20337408995142953), (7571, 0.20337408995142953), (7590, 0.20337408995142953), (7798, 0.20337408995142953), (8221, 0.20337408995142953), (8298, 0.20337408995142953), (8486, 0.20337408995142953), (9261, 0.20337408995142953), (9273, 0.20337408995142953), (680, 0.2033740899514295), (1361, 0.2033740899514295), (3197, 0.2033740899514295), (4592, 0.2033740899514295), (5639, 0.2033740899514295), (7348, 0.2033740899514295), (8494, 0.2033740899514295), (7253, 0.2031128099221566), (5354, 0.20311280992215658), (797, 0.2030867938128289), (841, 0.2030519179495952), (9838, 0.20123490237919087), (4458, 0.2011730970636265), (7640, 0.2011730970636265), (8647, 0.2011730970636265), (132, 0.20117309706362646), (171, 0.20117309706362646), (361, 0.20117309706362646), (1122, 0.20117309706362646), (1741, 0.20117309706362646), (2301, 0.20117309706362646), (2376, 0.20117309706362646), (2441, 0.20117309706362646), (2520, 0.20117309706362646), (2775, 0.20117309706362646), (3200, 0.20117309706362646), (3543, 0.20117309706362646), (3865, 0.20117309706362646), (4135, 0.20117309706362646), (4326, 0.20117309706362646), (4431, 0.20117309706362646), (4561, 0.20117309706362646), (5022, 0.20117309706362646), (5169, 0.20117309706362646), (6004, 0.20117309706362646), (6052, 0.20117309706362646), (6456, 0.20117309706362646), (6681, 0.20117309706362646), (6721, 0.20117309706362646), (6759, 0.20117309706362646), (6846, 0.20117309706362646), (7033, 0.20117309706362646), (7192, 0.20117309706362646), (7288, 0.20117309706362646), (7314, 0.20117309706362646), (7322, 0.20117309706362646), (7637, 0.20117309706362646), (7912, 0.20117309706362646), (7918, 0.20117309706362646), (8229, 0.20117309706362646), (9564, 0.20117309706362646), (9683, 0.20117309706362646), (10031, 0.20117309706362646), (2504, 0.20117309706362643), (3424, 0.20117309706362643), (2994, 0.2009964451590092), (6513, 0.2009964451590092), (6881, 0.2009964451590092), (8228, 0.2009964451590092), (8896, 0.2009964451590092), (4638, 0.20099644515900913), (3932, 0.20029530953461094), (3747, 0.20011449452432048), (8119, 0.20011449452432048), (7923, 0.20001535450808713), (5714, 0.1990701401753825), (9968, 0.1990701401753825), (8096, 0.19863838129026026), (7197, 0.19861082491061657), (5138, 0.19861082491061655), (5890, 0.19810023719190004), (8572, 0.1981002371919), (4619, 0.19798090630673018), (5278, 0.19798090630673018), (8592, 0.19798090630673018), (4156, 0.1972346781622118), (6031, 0.1972346781622118), (7186, 0.1972346781622118), (984, 0.19723467816221177), (1232, 0.19723467816221177), (2728, 0.19723467816221177), (4128, 0.19723467816221177), (4993, 0.19723467816221177), (6643, 0.19723467816221177), (6715, 0.19723467816221177), (6874, 0.19723467816221177), (8268, 0.19723467816221177), (8687, 0.19723467816221177), (8700, 0.19723467816221177), (8995, 0.19723467816221177), (9530, 0.19723467816221177), (4151, 0.19723467816221174), (4601, 0.19691369037511303), (239, 0.19691369037511297), (3182, 0.19691369037511297), (4489, 0.19691369037511297), (4624, 0.19691369037511297), (5190, 0.19691369037511297), (5240, 0.19691369037511297), (8458, 0.19691369037511297), (9850, 0.19580564711708506), (595, 0.19537849503921628), (1074, 0.19534948510609104), (244, 0.19502191772315242), (276, 0.19502191772315242), (7013, 0.19502191772315242), (10284, 0.19502191772315242), (2422, 0.1950002259556489), (4356, 0.1950002259556489), (4797, 0.1950002259556489), (6262, 0.1950002259556489), (6597, 0.1950002259556489), (1936, 0.19500022595564886), (5088, 0.19500022595564886), (2360, 0.1948663455266103), (2843, 0.1948663455266103), (9571, 0.1948663455266103), (5252, 0.1926915024228371), (6473, 0.1926915024228371), (4172, 0.19121168209286532), (2295, 0.1904746355677703), (5787, 0.19047463556777028), (3341, 0.1902166138265242), (4325, 0.1902166138265242), (6527, 0.19015881295054385), (10275, 0.19015881295054382), (3710, 0.18987256761909355), (850, 0.1896865261453975), (2962, 0.1896865261453975), (3924, 0.1896865261453975), (4950, 0.1896865261453975), (8519, 0.1896865261453975), (7025, 0.18956096924080656), (837, 0.1895009478372396), (3816, 0.1895009478372396), (5139, 0.18929810423813745), (7966, 0.1886628486076908), (2357, 0.18866284860769078), (7967, 0.18866284860769078), (7968, 0.18866284860769078), (7969, 0.18866284860769078), (10103, 0.18851712272275165), (1478, 0.18851712272275162), (7964, 0.18721211227499718), (1367, 0.1870793015802483), (2292, 0.18700917590645763), (1899, 0.1870091759064576), (7956, 0.18680671921969697), (1119, 0.18674629347987537), (3759, 0.18670664578263343), (8432, 0.18670664578263343), (8962, 0.18670664578263343), (6832, 0.18615509525460885), (9292, 0.18615509525460885), (4658, 0.1859102263597519), (6487, 0.18414405582961077), (336, 0.18393995930867818), (71, 0.18358808175341423), (240, 0.18358808175341423), (437, 0.18358808175341423), (668, 0.18358808175341423), (988, 0.18358808175341423), (1385, 0.18358808175341423), (1457, 0.18358808175341423), (1800, 0.18358808175341423), (1866, 0.18358808175341423), (1965, 0.18358808175341423), (2209, 0.18358808175341423), (2432, 0.18358808175341423), (2543, 0.18358808175341423), (2647, 0.18358808175341423), (2834, 0.18358808175341423), (3256, 0.18358808175341423), (3367, 0.18358808175341423), (3380, 0.18358808175341423), (3462, 0.18358808175341423), (3626, 0.18358808175341423), (3745, 0.18358808175341423), (3790, 0.18358808175341423), (3802, 0.18358808175341423), (3857, 0.18358808175341423), (3968, 0.18358808175341423), (4173, 0.18358808175341423), (4220, 0.18358808175341423), (4565, 0.18358808175341423), (4677, 0.18358808175341423), (4742, 0.18358808175341423), (5007, 0.18358808175341423), (5012, 0.18358808175341423), (5019, 0.18358808175341423), (5046, 0.18358808175341423), (5208, 0.18358808175341423), (5209, 0.18358808175341423), (5221, 0.18358808175341423), (5243, 0.18358808175341423), (5280, 0.18358808175341423), (5558, 0.18358808175341423), (5611, 0.18358808175341423), (5826, 0.18358808175341423), (5981, 0.18358808175341423), (6226, 0.18358808175341423), (6368, 0.18358808175341423), (6565, 0.18358808175341423), (6957, 0.18358808175341423), (6974, 0.18358808175341423), (7185, 0.18358808175341423), (7228, 0.18358808175341423), (7323, 0.18358808175341423), (7396, 0.18358808175341423), (7749, 0.18358808175341423), (7903, 0.18358808175341423), (7965, 0.18358808175341423), (8240, 0.18358808175341423), (8330, 0.18358808175341423), (8350, 0.18358808175341423), (8470, 0.18358808175341423), (8588, 0.18358808175341423), (8736, 0.18358808175341423), (8825, 0.18358808175341423), (8866, 0.18358808175341423), (8992, 0.18358808175341423), (9279, 0.18358808175341423), (9680, 0.18358808175341423), (9764, 0.18358808175341423), (9869, 0.18358808175341423), (9931, 0.18358808175341423), (10151, 0.18358808175341423), (10248, 0.18358808175341423), (10269, 0.18358808175341423), (41, 0.1835880817534142), (57, 0.1835880817534142), (127, 0.1835880817534142), (180, 0.1835880817534142), (205, 0.1835880817534142), (214, 0.1835880817534142), (226, 0.1835880817534142), (227, 0.1835880817534142), (243, 0.1835880817534142), (273, 0.1835880817534142), (329, 0.1835880817534142), (350, 0.1835880817534142), (358, 0.1835880817534142), (388, 0.1835880817534142), (407, 0.1835880817534142), (412, 0.1835880817534142), (478, 0.1835880817534142), (506, 0.1835880817534142), (548, 0.1835880817534142), (555, 0.1835880817534142), (574, 0.1835880817534142), (584, 0.1835880817534142), (605, 0.1835880817534142), (606, 0.1835880817534142), (618, 0.1835880817534142), (669, 0.1835880817534142), (684, 0.1835880817534142), (775, 0.1835880817534142), (796, 0.1835880817534142), (804, 0.1835880817534142), (927, 0.1835880817534142), (951, 0.1835880817534142), (954, 0.1835880817534142), (955, 0.1835880817534142), (983, 0.1835880817534142), (989, 0.1835880817534142), (990, 0.1835880817534142), (997, 0.1835880817534142), (1007, 0.1835880817534142), (1031, 0.1835880817534142), (1043, 0.1835880817534142), (1045, 0.1835880817534142), (1062, 0.1835880817534142), (1067, 0.1835880817534142), (1070, 0.1835880817534142), (1098, 0.1835880817534142), (1105, 0.1835880817534142), (1182, 0.1835880817534142), (1236, 0.1835880817534142), (1246, 0.1835880817534142), (1254, 0.1835880817534142), (1275, 0.1835880817534142), (1286, 0.1835880817534142), (1297, 0.1835880817534142), (1333, 0.1835880817534142), (1339, 0.1835880817534142), (1341, 0.1835880817534142), (1352, 0.1835880817534142), (1373, 0.1835880817534142), (1379, 0.1835880817534142), (1390, 0.1835880817534142), (1427, 0.1835880817534142), (1430, 0.1835880817534142), (1443, 0.1835880817534142), (1494, 0.1835880817534142), (1495, 0.1835880817534142), (1545, 0.1835880817534142), (1550, 0.1835880817534142), (1557, 0.1835880817534142), (1582, 0.1835880817534142), (1585, 0.1835880817534142), (1591, 0.1835880817534142), (1643, 0.1835880817534142), (1645, 0.1835880817534142), (1668, 0.1835880817534142), (1754, 0.1835880817534142), (1772, 0.1835880817534142), (1827, 0.1835880817534142), (1869, 0.1835880817534142), (1956, 0.1835880817534142), (1961, 0.1835880817534142), (1984, 0.1835880817534142), (2022, 0.1835880817534142), (2063, 0.1835880817534142), (2064, 0.1835880817534142), (2133, 0.1835880817534142), (2150, 0.1835880817534142), (2151, 0.1835880817534142), (2165, 0.1835880817534142), (2169, 0.1835880817534142), (2256, 0.1835880817534142), (2259, 0.1835880817534142), (2392, 0.1835880817534142), (2393, 0.1835880817534142), (2397, 0.1835880817534142), (2431, 0.1835880817534142), (2455, 0.1835880817534142), (2472, 0.1835880817534142), (2507, 0.1835880817534142), (2526, 0.1835880817534142), (2545, 0.1835880817534142), (2582, 0.1835880817534142), (2585, 0.1835880817534142), (2739, 0.1835880817534142), (2759, 0.1835880817534142), (2816, 0.1835880817534142), (2869, 0.1835880817534142), (2873, 0.1835880817534142), (2883, 0.1835880817534142), (2886, 0.1835880817534142), (2972, 0.1835880817534142), (2980, 0.1835880817534142), (2987, 0.1835880817534142), (2988, 0.1835880817534142), (2998, 0.1835880817534142), (3085, 0.1835880817534142), (3220, 0.1835880817534142), (3288, 0.1835880817534142), (3319, 0.1835880817534142), (3364, 0.1835880817534142), (3435, 0.1835880817534142), (3478, 0.1835880817534142), (3490, 0.1835880817534142), (3496, 0.1835880817534142), (3517, 0.1835880817534142), (3596, 0.1835880817534142), (3628, 0.1835880817534142), (3666, 0.1835880817534142), (3671, 0.1835880817534142), (3677, 0.1835880817534142), (3702, 0.1835880817534142), (3728, 0.1835880817534142), (3751, 0.1835880817534142), (3758, 0.1835880817534142), (3775, 0.1835880817534142), (3780, 0.1835880817534142), (3839, 0.1835880817534142), (3871, 0.1835880817534142), (3887, 0.1835880817534142), (3906, 0.1835880817534142), (3952, 0.1835880817534142), (3955, 0.1835880817534142), (3961, 0.1835880817534142), (3962, 0.1835880817534142), (3969, 0.1835880817534142), (3973, 0.1835880817534142), (4005, 0.1835880817534142), (4027, 0.1835880817534142), (4055, 0.1835880817534142), (4102, 0.1835880817534142), (4118, 0.1835880817534142), (4121, 0.1835880817534142), (4143, 0.1835880817534142), (4210, 0.1835880817534142), (4253, 0.1835880817534142), (4268, 0.1835880817534142), (4319, 0.1835880817534142), (4330, 0.1835880817534142), (4334, 0.1835880817534142), (4351, 0.1835880817534142), (4383, 0.1835880817534142), (4406, 0.1835880817534142), (4429, 0.1835880817534142), (4436, 0.1835880817534142), (4469, 0.1835880817534142), (4470, 0.1835880817534142), (4477, 0.1835880817534142), (4505, 0.1835880817534142), (4510, 0.1835880817534142), (4546, 0.1835880817534142), (4548, 0.1835880817534142), (4566, 0.1835880817534142), (4599, 0.1835880817534142), (4621, 0.1835880817534142), (4640, 0.1835880817534142), (4686, 0.1835880817534142), (4699, 0.1835880817534142), (4746, 0.1835880817534142), (4764, 0.1835880817534142), (4815, 0.1835880817534142), (4817, 0.1835880817534142), (4825, 0.1835880817534142), (4879, 0.1835880817534142), (4923, 0.1835880817534142), (4940, 0.1835880817534142), (4978, 0.1835880817534142), (5002, 0.1835880817534142), (5017, 0.1835880817534142), (5064, 0.1835880817534142), (5066, 0.1835880817534142), (5084, 0.1835880817534142), (5100, 0.1835880817534142), (5119, 0.1835880817534142), (5199, 0.1835880817534142), (5268, 0.1835880817534142), (5284, 0.1835880817534142), (5339, 0.1835880817534142), (5363, 0.1835880817534142), (5365, 0.1835880817534142), (5369, 0.1835880817534142), (5402, 0.1835880817534142), (5408, 0.1835880817534142), (5486, 0.1835880817534142), (5490, 0.1835880817534142), (5519, 0.1835880817534142), (5549, 0.1835880817534142), (5585, 0.1835880817534142), (5607, 0.1835880817534142), (5613, 0.1835880817534142), (5625, 0.1835880817534142), (5661, 0.1835880817534142), (5666, 0.1835880817534142), (5677, 0.1835880817534142), (5766, 0.1835880817534142), (5767, 0.1835880817534142), (5837, 0.1835880817534142), (5865, 0.1835880817534142), (5872, 0.1835880817534142), (5877, 0.1835880817534142), (5896, 0.1835880817534142), (5899, 0.1835880817534142), (5903, 0.1835880817534142), (5916, 0.1835880817534142), (5919, 0.1835880817534142), (5922, 0.1835880817534142), (5935, 0.1835880817534142), (5943, 0.1835880817534142), (5998, 0.1835880817534142), (6046, 0.1835880817534142), (6130, 0.1835880817534142), (6167, 0.1835880817534142), (6211, 0.1835880817534142), (6215, 0.1835880817534142), (6225, 0.1835880817534142), (6228, 0.1835880817534142), (6243, 0.1835880817534142), (6322, 0.1835880817534142), (6331, 0.1835880817534142), (6332, 0.1835880817534142), (6338, 0.1835880817534142), (6345, 0.1835880817534142), (6366, 0.1835880817534142), (6371, 0.1835880817534142), (6393, 0.1835880817534142), (6409, 0.1835880817534142), (6426, 0.1835880817534142), (6436, 0.1835880817534142), (6448, 0.1835880817534142), (6455, 0.1835880817534142), (6501, 0.1835880817534142), (6554, 0.1835880817534142), (6558, 0.1835880817534142), (6601, 0.1835880817534142), (6619, 0.1835880817534142), (6623, 0.1835880817534142), (6653, 0.1835880817534142), (6657, 0.1835880817534142), (6831, 0.1835880817534142), (6879, 0.1835880817534142), (6898, 0.1835880817534142), (6930, 0.1835880817534142), (6944, 0.1835880817534142), (6960, 0.1835880817534142), (7014, 0.1835880817534142), (7024, 0.1835880817534142), (7040, 0.1835880817534142), (7054, 0.1835880817534142), (7078, 0.1835880817534142), (7118, 0.1835880817534142), (7124, 0.1835880817534142), (7169, 0.1835880817534142), (7202, 0.1835880817534142), (7219, 0.1835880817534142), (7225, 0.1835880817534142), (7230, 0.1835880817534142), (7239, 0.1835880817534142), (7258, 0.1835880817534142), (7269, 0.1835880817534142), (7271, 0.1835880817534142), (7285, 0.1835880817534142), (7329, 0.1835880817534142), (7355, 0.1835880817534142), (7363, 0.1835880817534142), (7461, 0.1835880817534142), (7516, 0.1835880817534142), (7527, 0.1835880817534142), (7537, 0.1835880817534142), (7596, 0.1835880817534142), (7629, 0.1835880817534142), (7630, 0.1835880817534142), (7703, 0.1835880817534142), (7717, 0.1835880817534142), (7757, 0.1835880817534142), (7768, 0.1835880817534142), (7771, 0.1835880817534142), (7775, 0.1835880817534142), (7785, 0.1835880817534142), (7786, 0.1835880817534142), (7808, 0.1835880817534142), (7819, 0.1835880817534142), (7831, 0.1835880817534142), (7845, 0.1835880817534142), (7850, 0.1835880817534142), (7856, 0.1835880817534142), (7866, 0.1835880817534142), (7906, 0.1835880817534142), (7908, 0.1835880817534142), (8048, 0.1835880817534142), (8060, 0.1835880817534142), (8079, 0.1835880817534142), (8249, 0.1835880817534142), (8251, 0.1835880817534142), (8284, 0.1835880817534142), (8315, 0.1835880817534142), (8323, 0.1835880817534142), (8331, 0.1835880817534142), (8340, 0.1835880817534142), (8341, 0.1835880817534142), (8381, 0.1835880817534142), (8386, 0.1835880817534142), (8492, 0.1835880817534142), (8493, 0.1835880817534142), (8537, 0.1835880817534142), (8554, 0.1835880817534142), (8603, 0.1835880817534142), (8607, 0.1835880817534142), (8609, 0.1835880817534142), (8665, 0.1835880817534142), (8666, 0.1835880817534142), (8670, 0.1835880817534142), (8682, 0.1835880817534142), (8704, 0.1835880817534142), (8708, 0.1835880817534142), (8717, 0.1835880817534142), (8763, 0.1835880817534142), (8822, 0.1835880817534142), (8830, 0.1835880817534142), (8834, 0.1835880817534142), (8835, 0.1835880817534142), (8851, 0.1835880817534142), (8853, 0.1835880817534142), (8860, 0.1835880817534142), (8878, 0.1835880817534142), (8881, 0.1835880817534142), (8903, 0.1835880817534142), (8915, 0.1835880817534142), (8937, 0.1835880817534142), (8970, 0.1835880817534142), (9012, 0.1835880817534142), (9020, 0.1835880817534142), (9043, 0.1835880817534142), (9071, 0.1835880817534142), (9101, 0.1835880817534142), (9108, 0.1835880817534142), (9110, 0.1835880817534142), (9196, 0.1835880817534142), (9210, 0.1835880817534142), (9219, 0.1835880817534142), (9245, 0.1835880817534142), (9263, 0.1835880817534142), (9305, 0.1835880817534142), (9325, 0.1835880817534142), (9434, 0.1835880817534142), (9436, 0.1835880817534142), (9440, 0.1835880817534142), (9520, 0.1835880817534142), (9525, 0.1835880817534142), (9541, 0.1835880817534142), (9556, 0.1835880817534142), (9563, 0.1835880817534142), (9626, 0.1835880817534142), (9692, 0.1835880817534142), (9747, 0.1835880817534142), (9825, 0.1835880817534142), (9872, 0.1835880817534142), (9878, 0.1835880817534142), (9890, 0.1835880817534142), (9897, 0.1835880817534142), (9906, 0.1835880817534142), (9910, 0.1835880817534142), (9941, 0.1835880817534142), (9974, 0.1835880817534142), (9975, 0.1835880817534142), (9981, 0.1835880817534142), (9984, 0.1835880817534142), (10001, 0.1835880817534142), (10072, 0.1835880817534142), (10100, 0.1835880817534142), (10106, 0.1835880817534142), (10144, 0.1835880817534142), (10148, 0.1835880817534142), (10150, 0.1835880817534142), (10175, 0.1835880817534142), (2288, 0.1829715994953778), (1, 0.18295172596833037), (7492, 0.18277152129328553), (223, 0.18220573043222427), (9644, 0.18220573043222427), (3504, 0.18200908689975653), (2077, 0.18196868227335394), (4844, 0.18196868227335394), (5504, 0.18051205784285815), (2692, 0.18049001038533616), (6067, 0.1797173945139009), (1273, 0.1797020433162869), (4594, 0.1797020433162869), (1231, 0.17961216337264835), (6240, 0.17961216337264835), (9705, 0.17961216337264835), (4558, 0.1793376614421198), (2039, 0.17932357960920595), (2704, 0.179235051552661), (3094, 0.179235051552661), (3696, 0.179235051552661), (5129, 0.179235051552661), (5862, 0.179235051552661), (8584, 0.179235051552661), (9435, 0.179235051552661), (10128, 0.179235051552661), (4090, 0.17923505155266098), (3451, 0.17782301219891697), (432, 0.17782301219891694), (1289, 0.17782301219891694), (4317, 0.17782301219891694), (7917, 0.17782301219891694), (9000, 0.17782301219891694), (4499, 0.1778230121989169), (1534, 0.17752244168757642), (8785, 0.17644978140042422), (9072, 0.17644978140042422), (7899, 0.17644978140042417), (8590, 0.17644978140042417), (1750, 0.17611058385579761), (8966, 0.17529117333748354), (2444, 0.17500654904393842), (3602, 0.1749210217854187), (6834, 0.1748416369934022), (7083, 0.1748416369934022), (9205, 0.1748416369934022), (10181, 0.1748416369934022), (3998, 0.17484163699340216), (10056, 0.1744964442328766), (2830, 0.1744743199633037), (3797, 0.1744743199633037), (9031, 0.1744743199633037), (8796, 0.1744043361842817), (1264, 0.174371023739582), (640, 0.17437102373958197), (79, 0.17437102373958194), (380, 0.17437102373958194), (565, 0.17437102373958194), (873, 0.17437102373958194), (1810, 0.17437102373958194), (2217, 0.17437102373958194), (2294, 0.17437102373958194), (2331, 0.17437102373958194), (2445, 0.17437102373958194), (2463, 0.17437102373958194), (2975, 0.17437102373958194), (3607, 0.17437102373958194), (4207, 0.17437102373958194), (4681, 0.17437102373958194), (4736, 0.17437102373958194), (4801, 0.17437102373958194), (5343, 0.17437102373958194), (6036, 0.17437102373958194), (6037, 0.17437102373958194), (6038, 0.17437102373958194), (6497, 0.17437102373958194), (6498, 0.17437102373958194), (6871, 0.17437102373958194), (7087, 0.17437102373958194), (7333, 0.17437102373958194), (7334, 0.17437102373958194), (7335, 0.17437102373958194), (7336, 0.17437102373958194), (7337, 0.17437102373958194), (7924, 0.17437102373958194), (8220, 0.17437102373958194), (8223, 0.17437102373958194), (8611, 0.17437102373958194), (9026, 0.17437102373958194), (9580, 0.17437102373958194), (9737, 0.17437102373958194), (2723, 0.1743710237395819), (3262, 0.1743710237395819), (8512, 0.1743710237395819), (9122, 0.1743710237395819), (9593, 0.17340373571371026), (3950, 0.17340373571371023), (301, 0.17301103152954353), (369, 0.1730110315295435), (8585, 0.1730110315295435), (30, 0.17275550508408896), (5941, 0.17275550508408896), (5702, 0.172438973054443), (3505, 0.1705235521381319), (5619, 0.16925330228184732), (433, 0.16900640364419192), (334, 0.16886519497841682), (2577, 0.16886519497841682), (7989, 0.16886519497841682), (8633, 0.16886519497841682), (9499, 0.16886519497841682), (9602, 0.16886519497841682), (3201, 0.16872000366527215), (4487, 0.16862187793657016), (5952, 0.16844416081159777), (4502, 0.16782615177799692), (572, 0.16777727294143174), (2243, 0.16749669601122844), (4056, 0.16749669601122844), (6529, 0.16749669601122844), (7496, 0.16749669601122844), (8206, 0.16749669601122844), (2361, 0.16712628778957916), (9030, 0.16712628778957916), (1360, 0.16603451856022394), (1567, 0.16603451856022394), (4819, 0.16603451856022394), (6494, 0.16603451856022394), (6852, 0.16596504123385622), (638, 0.1656507793609887), (1511, 0.1654593445693771), (2732, 0.1654593445693771), (8959, 0.16539190366212717), (7249, 0.1645868342050412), (9846, 0.16452760390841661), (246, 0.16422536355062262), (5468, 0.1629793314101293), (7691, 0.16277879594828676), (2111, 0.1615885532156765), (258, 0.16123620887817233), (394, 0.16123620887817233), (685, 0.16123620887817233), (687, 0.16123620887817233), (1618, 0.16123620887817233), (2899, 0.16123620887817233), (3692, 0.16123620887817233), (4392, 0.16123620887817233), (4858, 0.16123620887817233), (6628, 0.16123620887817233), (8498, 0.16123620887817233), (8566, 0.16123620887817233), (8579, 0.16123620887817233), (8782, 0.16123620887817233), (9395, 0.16123620887817233), (9447, 0.16123620887817233), (6843, 0.1612362088781723), (8570, 0.1612362088781723), (8858, 0.16074939276588351), (9084, 0.16074939276588351), (6979, 0.16039935408073056), (7289, 0.16010645910065413), (7562, 0.16010645910065413), (4075, 0.15897347615304375), (5136, 0.15728821491627318), (9681, 0.15614938067232445), (2702, 0.15590655931947647), (3834, 0.15590655931947647), (4528, 0.15590655931947647), (4953, 0.15590655931947647), (4954, 0.15590655931947647), (4956, 0.15590655931947647), (3203, 0.15590655931947645), (4076, 0.15590655931947645), (8487, 0.15522904531461187), (7827, 0.15433284690317514), (4962, 0.15419582766059559), (9284, 0.15419582766059556), (7029, 0.15402910841313833), (8769, 0.15398696318104638), (981, 0.1529891193223747), (1856, 0.15212260230857796), (2267, 0.15212260230857796), (4824, 0.15212260230857796), (6579, 0.15212260230857796), (8098, 0.15212260230857796), (3, 0.15212260230857794), (89, 0.15212260230857794), (100, 0.15212260230857794), (146, 0.15212260230857794), (150, 0.15212260230857794), (151, 0.15212260230857794), (157, 0.15212260230857794), (159, 0.15212260230857794), (186, 0.15212260230857794), (215, 0.15212260230857794), (249, 0.15212260230857794), (251, 0.15212260230857794), (270, 0.15212260230857794), (319, 0.15212260230857794), (322, 0.15212260230857794), (325, 0.15212260230857794), (354, 0.15212260230857794), (356, 0.15212260230857794), (364, 0.15212260230857794), (367, 0.15212260230857794), (391, 0.15212260230857794), (402, 0.15212260230857794), (461, 0.15212260230857794), (484, 0.15212260230857794), (502, 0.15212260230857794), (517, 0.15212260230857794), (518, 0.15212260230857794), (520, 0.15212260230857794), (532, 0.15212260230857794), (679, 0.15212260230857794), (787, 0.15212260230857794), (899, 0.15212260230857794), (901, 0.15212260230857794), (914, 0.15212260230857794), (915, 0.15212260230857794), (931, 0.15212260230857794), (933, 0.15212260230857794), (934, 0.15212260230857794), (956, 0.15212260230857794), (996, 0.15212260230857794), (1110, 0.15212260230857794), (1141, 0.15212260230857794), (1197, 0.15212260230857794), (1198, 0.15212260230857794), (1234, 0.15212260230857794), (1240, 0.15212260230857794), (1244, 0.15212260230857794), (1311, 0.15212260230857794), (1315, 0.15212260230857794), (1380, 0.15212260230857794), (1395, 0.15212260230857794), (1421, 0.15212260230857794), (1424, 0.15212260230857794), (1429, 0.15212260230857794), (1448, 0.15212260230857794), (1453, 0.15212260230857794), (1498, 0.15212260230857794), (1531, 0.15212260230857794), (1580, 0.15212260230857794), (1594, 0.15212260230857794), (1655, 0.15212260230857794), (1658, 0.15212260230857794), (1660, 0.15212260230857794), (1665, 0.15212260230857794), (1803, 0.15212260230857794), (1818, 0.15212260230857794), (1824, 0.15212260230857794), (1861, 0.15212260230857794), (1908, 0.15212260230857794), (1926, 0.15212260230857794), (1928, 0.15212260230857794), (1949, 0.15212260230857794), (1951, 0.15212260230857794), (1992, 0.15212260230857794), (2107, 0.15212260230857794), (2130, 0.15212260230857794), (2135, 0.15212260230857794), (2146, 0.15212260230857794), (2228, 0.15212260230857794), (2254, 0.15212260230857794), (2298, 0.15212260230857794), (2341, 0.15212260230857794), (2344, 0.15212260230857794), (2394, 0.15212260230857794), (2419, 0.15212260230857794), (2436, 0.15212260230857794), (2591, 0.15212260230857794), (2607, 0.15212260230857794), (2618, 0.15212260230857794), (2670, 0.15212260230857794), (2716, 0.15212260230857794), (2748, 0.15212260230857794), (2778, 0.15212260230857794), (2779, 0.15212260230857794), (2799, 0.15212260230857794), (2809, 0.15212260230857794), (2835, 0.15212260230857794), (2838, 0.15212260230857794), (2854, 0.15212260230857794), (2877, 0.15212260230857794), (2882, 0.15212260230857794), (2884, 0.15212260230857794), (2889, 0.15212260230857794), (2900, 0.15212260230857794), (3051, 0.15212260230857794), (3063, 0.15212260230857794), (3073, 0.15212260230857794), (3077, 0.15212260230857794), (3105, 0.15212260230857794), (3106, 0.15212260230857794), (3109, 0.15212260230857794), (3113, 0.15212260230857794), (3155, 0.15212260230857794), (3158, 0.15212260230857794), (3161, 0.15212260230857794), (3184, 0.15212260230857794), (3257, 0.15212260230857794), (3261, 0.15212260230857794), (3268, 0.15212260230857794), (3318, 0.15212260230857794), (3386, 0.15212260230857794), (3420, 0.15212260230857794), (3569, 0.15212260230857794), (3579, 0.15212260230857794), (3612, 0.15212260230857794), (3638, 0.15212260230857794), (3639, 0.15212260230857794), (3641, 0.15212260230857794), (3674, 0.15212260230857794), (3676, 0.15212260230857794), (3741, 0.15212260230857794), (3754, 0.15212260230857794), (3769, 0.15212260230857794), (3783, 0.15212260230857794), (3809, 0.15212260230857794), (3822, 0.15212260230857794), (3878, 0.15212260230857794), (3896, 0.15212260230857794), (3912, 0.15212260230857794), (3940, 0.15212260230857794), (3966, 0.15212260230857794), (4040, 0.15212260230857794), (4047, 0.15212260230857794), (4074, 0.15212260230857794), (4083, 0.15212260230857794), (4119, 0.15212260230857794), (4140, 0.15212260230857794), (4174, 0.15212260230857794), (4244, 0.15212260230857794), (4250, 0.15212260230857794), (4264, 0.15212260230857794), (4265, 0.15212260230857794), (4300, 0.15212260230857794), (4321, 0.15212260230857794), (4342, 0.15212260230857794), (4354, 0.15212260230857794), (4384, 0.15212260230857794), (4401, 0.15212260230857794), (4417, 0.15212260230857794), (4423, 0.15212260230857794), (4522, 0.15212260230857794), (4525, 0.15212260230857794), (4526, 0.15212260230857794), (4537, 0.15212260230857794), (4574, 0.15212260230857794), (4596, 0.15212260230857794), (4606, 0.15212260230857794), (4629, 0.15212260230857794), (4684, 0.15212260230857794), (4692, 0.15212260230857794), (4793, 0.15212260230857794), (4794, 0.15212260230857794), (4795, 0.15212260230857794), (4892, 0.15212260230857794), (4893, 0.15212260230857794), (4900, 0.15212260230857794), (4909, 0.15212260230857794), (4928, 0.15212260230857794), (5082, 0.15212260230857794), (5102, 0.15212260230857794), (5149, 0.15212260230857794), (5156, 0.15212260230857794), (5158, 0.15212260230857794), (5165, 0.15212260230857794), (5205, 0.15212260230857794), (5224, 0.15212260230857794), (5228, 0.15212260230857794), (5238, 0.15212260230857794), (5245, 0.15212260230857794), (5290, 0.15212260230857794), (5302, 0.15212260230857794), (5338, 0.15212260230857794), (5342, 0.15212260230857794), (5387, 0.15212260230857794), (5415, 0.15212260230857794), (5437, 0.15212260230857794), (5440, 0.15212260230857794), (5462, 0.15212260230857794), (5464, 0.15212260230857794), (5465, 0.15212260230857794), (5478, 0.15212260230857794), (5562, 0.15212260230857794), (5575, 0.15212260230857794), (5581, 0.15212260230857794), (5583, 0.15212260230857794), (5590, 0.15212260230857794), (5591, 0.15212260230857794), (5592, 0.15212260230857794), (5600, 0.15212260230857794), (5602, 0.15212260230857794), (5604, 0.15212260230857794), (5608, 0.15212260230857794), (5630, 0.15212260230857794), (5646, 0.15212260230857794), (5655, 0.15212260230857794), (5672, 0.15212260230857794), (5680, 0.15212260230857794), (5681, 0.15212260230857794), (5738, 0.15212260230857794), (5751, 0.15212260230857794), (5802, 0.15212260230857794), (5816, 0.15212260230857794), (5840, 0.15212260230857794), (5863, 0.15212260230857794), (5878, 0.15212260230857794), (5917, 0.15212260230857794), (5940, 0.15212260230857794), (6077, 0.15212260230857794), (6081, 0.15212260230857794), (6103, 0.15212260230857794), (6122, 0.15212260230857794), (6142, 0.15212260230857794), (6143, 0.15212260230857794), (6156, 0.15212260230857794), (6158, 0.15212260230857794), (6166, 0.15212260230857794), (6175, 0.15212260230857794), (6192, 0.15212260230857794), (6207, 0.15212260230857794), (6216, 0.15212260230857794), (6223, 0.15212260230857794), (6224, 0.15212260230857794), (6230, 0.15212260230857794), (6278, 0.15212260230857794), (6290, 0.15212260230857794), (6297, 0.15212260230857794), (6301, 0.15212260230857794), (6340, 0.15212260230857794), (6346, 0.15212260230857794), (6354, 0.15212260230857794), (6385, 0.15212260230857794), (6449, 0.15212260230857794), (6464, 0.15212260230857794), (6470, 0.15212260230857794), (6571, 0.15212260230857794), (6600, 0.15212260230857794), (6655, 0.15212260230857794), (6678, 0.15212260230857794), (6707, 0.15212260230857794), (6713, 0.15212260230857794), (6716, 0.15212260230857794), (6728, 0.15212260230857794), (6775, 0.15212260230857794), (6782, 0.15212260230857794), (6802, 0.15212260230857794), (6856, 0.15212260230857794), (6857, 0.15212260230857794), (6902, 0.15212260230857794), (6906, 0.15212260230857794), (6931, 0.15212260230857794), (6967, 0.15212260230857794), (6978, 0.15212260230857794), (6992, 0.15212260230857794), (7002, 0.15212260230857794), (7003, 0.15212260230857794), (7017, 0.15212260230857794), (7034, 0.15212260230857794), (7045, 0.15212260230857794), (7050, 0.15212260230857794), (7059, 0.15212260230857794), (7095, 0.15212260230857794), (7111, 0.15212260230857794), (7114, 0.15212260230857794), (7140, 0.15212260230857794), (7183, 0.15212260230857794), (7229, 0.15212260230857794), (7233, 0.15212260230857794), (7250, 0.15212260230857794), (7260, 0.15212260230857794), (7291, 0.15212260230857794), (7366, 0.15212260230857794), (7367, 0.15212260230857794), (7378, 0.15212260230857794), (7382, 0.15212260230857794), (7384, 0.15212260230857794), (7391, 0.15212260230857794), (7392, 0.15212260230857794), (7429, 0.15212260230857794), (7430, 0.15212260230857794), (7452, 0.15212260230857794), (7472, 0.15212260230857794), (7515, 0.15212260230857794), (7528, 0.15212260230857794), (7530, 0.15212260230857794), (7565, 0.15212260230857794), (7586, 0.15212260230857794), (7605, 0.15212260230857794), (7660, 0.15212260230857794), (7663, 0.15212260230857794), (7728, 0.15212260230857794), (7729, 0.15212260230857794), (7735, 0.15212260230857794), (7736, 0.15212260230857794), (7746, 0.15212260230857794), (7747, 0.15212260230857794), (7753, 0.15212260230857794), (7764, 0.15212260230857794), (7767, 0.15212260230857794), (7824, 0.15212260230857794), (7846, 0.15212260230857794), (7904, 0.15212260230857794), (7931, 0.15212260230857794), (7952, 0.15212260230857794), (8031, 0.15212260230857794), (8081, 0.15212260230857794), (8092, 0.15212260230857794), (8140, 0.15212260230857794), (8159, 0.15212260230857794), (8196, 0.15212260230857794), (8293, 0.15212260230857794), (8310, 0.15212260230857794), (8320, 0.15212260230857794), (8346, 0.15212260230857794), (8389, 0.15212260230857794), (8405, 0.15212260230857794), (8511, 0.15212260230857794), (8518, 0.15212260230857794), (8539, 0.15212260230857794), (8559, 0.15212260230857794), (8626, 0.15212260230857794), (8628, 0.15212260230857794), (8664, 0.15212260230857794), (8683, 0.15212260230857794), (8748, 0.15212260230857794), (8755, 0.15212260230857794), (8818, 0.15212260230857794), (8826, 0.15212260230857794), (8846, 0.15212260230857794), (8870, 0.15212260230857794), (8888, 0.15212260230857794), (8890, 0.15212260230857794), (8901, 0.15212260230857794), (8974, 0.15212260230857794), (8977, 0.15212260230857794), (8998, 0.15212260230857794), (9056, 0.15212260230857794), (9060, 0.15212260230857794), (9091, 0.15212260230857794), (9115, 0.15212260230857794), (9135, 0.15212260230857794), (9170, 0.15212260230857794), (9171, 0.15212260230857794), (9194, 0.15212260230857794), (9216, 0.15212260230857794), (9235, 0.15212260230857794), (9286, 0.15212260230857794), (9294, 0.15212260230857794), (9304, 0.15212260230857794), (9351, 0.15212260230857794), (9438, 0.15212260230857794), (9471, 0.15212260230857794), (9492, 0.15212260230857794), (9509, 0.15212260230857794), (9522, 0.15212260230857794), (9528, 0.15212260230857794), (9529, 0.15212260230857794), (9539, 0.15212260230857794), (9590, 0.15212260230857794), (9628, 0.15212260230857794), (9636, 0.15212260230857794), (9638, 0.15212260230857794), (9658, 0.15212260230857794), (9668, 0.15212260230857794), (9686, 0.15212260230857794), (9700, 0.15212260230857794), (9710, 0.15212260230857794), (9741, 0.15212260230857794), (9744, 0.15212260230857794), (9746, 0.15212260230857794), (9752, 0.15212260230857794), (9766, 0.15212260230857794), (9790, 0.15212260230857794), (9793, 0.15212260230857794), (9795, 0.15212260230857794), (9851, 0.15212260230857794), (9854, 0.15212260230857794), (9865, 0.15212260230857794), (9894, 0.15212260230857794), (9957, 0.15212260230857794), (9961, 0.15212260230857794), (10033, 0.15212260230857794), (10045, 0.15212260230857794), (10048, 0.15212260230857794), (10067, 0.15212260230857794), (10089, 0.15212260230857794), (10130, 0.15212260230857794), (10145, 0.15212260230857794), (10164, 0.15212260230857794), (10184, 0.15212260230857794), (10191, 0.15212260230857794), (10205, 0.15212260230857794), (10234, 0.15212260230857794), (10262, 0.15212260230857794), (10276, 0.15212260230857794), (10278, 0.15212260230857794), (10290, 0.15212260230857794), (9507, 0.15197587754243774), (3503, 0.15155904835606862), (7431, 0.15138610306553496), (2083, 0.15114561094345624), (3075, 0.15114561094345624), (6485, 0.15114561094345624), (8806, 0.15114561094345624), (9586, 0.15114561094345624), (2199, 0.1511332852679235), (2201, 0.1511332852679235), (2825, 0.1511332852679235), (3370, 0.1511332852679235), (4682, 0.1511332852679235), (7573, 0.1511332852679235), (9118, 0.1511332852679235), (9168, 0.1511332852679235), (7247, 0.1510583410406956), (9510, 0.1510583410406956), (9732, 0.15105834104069557), (1787, 0.14998605743414986), (3397, 0.14998605743414986), (5930, 0.14998605743414986), (4000, 0.14858739325969814), (2050, 0.14826859663145806), (5137, 0.14738311129241072), (5654, 0.14738311129241072), (5755, 0.14712515420873437), (109, 0.14380901959062023), (514, 0.14380901959062023), (676, 0.14380901959062023), (759, 0.14380901959062023), (760, 0.14380901959062023), (1008, 0.14380901959062023), (1092, 0.14380901959062023), (1194, 0.14380901959062023), (1355, 0.14380901959062023), (1670, 0.14380901959062023), (1874, 0.14380901959062023), (2180, 0.14380901959062023), (2608, 0.14380901959062023), (2741, 0.14380901959062023), (3264, 0.14380901959062023), (3526, 0.14380901959062023), (3591, 0.14380901959062023), (3715, 0.14380901959062023), (3736, 0.14380901959062023), (3874, 0.14380901959062023), (4013, 0.14380901959062023), (4471, 0.14380901959062023), (4540, 0.14380901959062023), (5429, 0.14380901959062023), (5814, 0.14380901959062023), (6119, 0.14380901959062023), (6471, 0.14380901959062023), (6883, 0.14380901959062023), (6970, 0.14380901959062023), (7357, 0.14380901959062023), (7471, 0.14380901959062023), (7672, 0.14380901959062023), (8849, 0.14380901959062023), (26, 0.1438090195906202), (74, 0.1438090195906202), (114, 0.1438090195906202), (184, 0.1438090195906202), (195, 0.1438090195906202), (299, 0.1438090195906202), (303, 0.1438090195906202), (378, 0.1438090195906202), (403, 0.1438090195906202), (414, 0.1438090195906202), (415, 0.1438090195906202), (416, 0.1438090195906202), (497, 0.1438090195906202), (505, 0.1438090195906202), (536, 0.1438090195906202), (617, 0.1438090195906202), (645, 0.1438090195906202), (663, 0.1438090195906202), (719, 0.1438090195906202), (867, 0.1438090195906202), (1133, 0.1438090195906202), (1135, 0.1438090195906202), (1219, 0.1438090195906202), (1226, 0.1438090195906202), (1228, 0.1438090195906202), (1252, 0.1438090195906202), (1256, 0.1438090195906202), (1283, 0.1438090195906202), (1334, 0.1438090195906202), (1345, 0.1438090195906202), (1393, 0.1438090195906202), (1406, 0.1438090195906202), (1467, 0.1438090195906202), (1468, 0.1438090195906202), (1475, 0.1438090195906202), (1484, 0.1438090195906202), (1505, 0.1438090195906202), (1579, 0.1438090195906202), (1616, 0.1438090195906202), (1639, 0.1438090195906202), (1696, 0.1438090195906202), (1797, 0.1438090195906202), (1864, 0.1438090195906202), (2126, 0.1438090195906202), (2226, 0.1438090195906202), (2356, 0.1438090195906202), (2365, 0.1438090195906202), (2386, 0.1438090195906202), (2496, 0.1438090195906202), (2559, 0.1438090195906202), (2639, 0.1438090195906202), (2916, 0.1438090195906202), (2970, 0.1438090195906202), (3002, 0.1438090195906202), (3164, 0.1438090195906202), (3225, 0.1438090195906202), (3405, 0.1438090195906202), (3487, 0.1438090195906202), (3507, 0.1438090195906202), (3682, 0.1438090195906202), (3683, 0.1438090195906202), (3740, 0.1438090195906202), (3755, 0.1438090195906202), (3779, 0.1438090195906202), (3781, 0.1438090195906202), (3835, 0.1438090195906202), (3836, 0.1438090195906202), (3938, 0.1438090195906202), (4073, 0.1438090195906202), (4084, 0.1438090195906202), (4155, 0.1438090195906202), (4190, 0.1438090195906202), (4197, 0.1438090195906202), (4219, 0.1438090195906202), (4409, 0.1438090195906202), (4422, 0.1438090195906202), (4463, 0.1438090195906202), (4503, 0.1438090195906202), (4529, 0.1438090195906202), (4612, 0.1438090195906202), (4628, 0.1438090195906202), (4643, 0.1438090195906202), (4803, 0.1438090195906202), (4831, 0.1438090195906202), (5070, 0.1438090195906202), (5267, 0.1438090195906202), (5325, 0.1438090195906202), (5385, 0.1438090195906202), (5394, 0.1438090195906202), (5414, 0.1438090195906202), (5491, 0.1438090195906202), (5734, 0.1438090195906202), (5905, 0.1438090195906202), (6232, 0.1438090195906202), (6442, 0.1438090195906202), (6453, 0.1438090195906202), (6486, 0.1438090195906202), (6533, 0.1438090195906202), (6539, 0.1438090195906202), (6694, 0.1438090195906202), (6699, 0.1438090195906202), (6708, 0.1438090195906202), (6818, 0.1438090195906202), (6841, 0.1438090195906202), (6892, 0.1438090195906202), (7046, 0.1438090195906202), (7056, 0.1438090195906202), (7093, 0.1438090195906202), (7094, 0.1438090195906202), (7153, 0.1438090195906202), (7160, 0.1438090195906202), (7231, 0.1438090195906202), (7302, 0.1438090195906202), (7350, 0.1438090195906202), (7359, 0.1438090195906202), (7631, 0.1438090195906202), (7659, 0.1438090195906202), (7679, 0.1438090195906202), (7680, 0.1438090195906202), (7697, 0.1438090195906202), (7719, 0.1438090195906202), (7763, 0.1438090195906202), (7814, 0.1438090195906202), (7928, 0.1438090195906202), (8051, 0.1438090195906202), (8086, 0.1438090195906202), (8121, 0.1438090195906202), (8128, 0.1438090195906202), (8132, 0.1438090195906202), (8188, 0.1438090195906202), (8211, 0.1438090195906202), (8212, 0.1438090195906202), (8514, 0.1438090195906202), (8622, 0.1438090195906202), (8661, 0.1438090195906202), (8675, 0.1438090195906202), (8699, 0.1438090195906202), (9052, 0.1438090195906202), (9061, 0.1438090195906202), (9234, 0.1438090195906202), (9428, 0.1438090195906202), (9453, 0.1438090195906202), (9462, 0.1438090195906202), (9478, 0.1438090195906202), (9610, 0.1438090195906202), (9611, 0.1438090195906202), (9729, 0.1438090195906202), (9745, 0.1438090195906202), (9883, 0.1438090195906202), (9925, 0.1438090195906202), (10015, 0.1438090195906202), (10210, 0.1438090195906202), (10255, 0.1438090195906202), (10260, 0.1438090195906202), (10265, 0.1438090195906202), (5053, 0.14286065897449177), (5942, 0.14246358565779277), (6590, 0.14182276661746948), (846, 0.14171771001827144), (5192, 0.14171771001827144), (1046, 0.1404576030528985), (4033, 0.1404576030528985), (5628, 0.1404576030528985), (6267, 0.1404576030528985), (7632, 0.1404576030528985), (9191, 0.1404576030528985), (9356, 0.1404576030528985), (10138, 0.1404576030528985), (577, 0.13970438925229764), (8724, 0.1380328817938184), (3245, 0.1363544783311875), (6287, 0.1363544783311875), (38, 0.13635447833118747), (280, 0.13635447833118747), (810, 0.13635447833118747), (878, 0.13635447833118747), (1143, 0.13635447833118747), (1321, 0.13635447833118747), (1626, 0.13635447833118747), (1945, 0.13635447833118747), (2249, 0.13635447833118747), (2471, 0.13635447833118747), (2762, 0.13635447833118747), (2787, 0.13635447833118747), (2806, 0.13635447833118747), (2832, 0.13635447833118747), (4129, 0.13635447833118747), (4557, 0.13635447833118747), (4623, 0.13635447833118747), (4961, 0.13635447833118747), (5110, 0.13635447833118747), (5184, 0.13635447833118747), (5447, 0.13635447833118747), (5509, 0.13635447833118747), (5717, 0.13635447833118747), (5735, 0.13635447833118747), (6180, 0.13635447833118747), (6314, 0.13635447833118747), (6412, 0.13635447833118747), (6429, 0.13635447833118747), (6562, 0.13635447833118747), (6566, 0.13635447833118747), (6667, 0.13635447833118747), (6692, 0.13635447833118747), (6786, 0.13635447833118747), (6922, 0.13635447833118747), (7245, 0.13635447833118747), (7389, 0.13635447833118747), (7686, 0.13635447833118747), (7688, 0.13635447833118747), (7976, 0.13635447833118747), (8010, 0.13635447833118747), (8534, 0.13635447833118747), (8555, 0.13635447833118747), (8560, 0.13635447833118747), (8673, 0.13635447833118747), (8975, 0.13635447833118747), (9107, 0.13635447833118747), (9839, 0.13635447833118747), (9998, 0.13635447833118747), (10301, 0.13635447833118747), (969, 0.13635447833118744), (6914, 0.13635447833118744), (7373, 0.13635447833118744), (9797, 0.13635447833118744), (5933, 0.13619993317811566), (8804, 0.13525298583656117), (9176, 0.13525298583656117), (1249, 0.13525298583656115), (2235, 0.13525298583656115), (7390, 0.13449029348706448), (8766, 0.13317969906008978), (4720, 0.13163674759670707), (222, 0.13146191151635142), (942, 0.13146191151635142), (1657, 0.13146191151635142), (2167, 0.13146191151635142), (2682, 0.13146191151635142), (2683, 0.13146191151635142), (2932, 0.13146191151635142), (2969, 0.13146191151635142), (3609, 0.13146191151635142), (3767, 0.13146191151635142), (4299, 0.13146191151635142), (4386, 0.13146191151635142), (4460, 0.13146191151635142), (5839, 0.13146191151635142), (5888, 0.13146191151635142), (6757, 0.13146191151635142), (7026, 0.13146191151635142), (7182, 0.13146191151635142), (7425, 0.13146191151635142), (7549, 0.13146191151635142), (8193, 0.13146191151635142), (8808, 0.13146191151635142), (9059, 0.13146191151635142), (9178, 0.13146191151635142), (9502, 0.13146191151635142), (9876, 0.13146191151635142), (9912, 0.13146191151635142), (4663, 0.1314619115163514), (6417, 0.1314619115163514), (8095, 0.1314619115163514), (5835, 0.12961589591117562), (6, 0.1278962521217471), (217, 0.1278962521217471), (1444, 0.1278962521217471), (2626, 0.1278962521217471), (5116, 0.1278962521217471), (6013, 0.1278962521217471), (10, 0.12789625212174707), (17, 0.12789625212174707), (49, 0.12789625212174707), (83, 0.12789625212174707), (179, 0.12789625212174707), (182, 0.12789625212174707), (197, 0.12789625212174707), (264, 0.12789625212174707), (313, 0.12789625212174707), (317, 0.12789625212174707), (318, 0.12789625212174707), (368, 0.12789625212174707), (390, 0.12789625212174707), (457, 0.12789625212174707), (476, 0.12789625212174707), (554, 0.12789625212174707), (559, 0.12789625212174707), (615, 0.12789625212174707), (651, 0.12789625212174707), (689, 0.12789625212174707), (695, 0.12789625212174707), (824, 0.12789625212174707), (898, 0.12789625212174707), (911, 0.12789625212174707), (971, 0.12789625212174707), (1111, 0.12789625212174707), (1253, 0.12789625212174707), (1309, 0.12789625212174707), (1366, 0.12789625212174707), (1375, 0.12789625212174707), (1376, 0.12789625212174707), (1422, 0.12789625212174707), (1423, 0.12789625212174707), (1464, 0.12789625212174707), (1507, 0.12789625212174707), (1519, 0.12789625212174707), (1536, 0.12789625212174707), (1593, 0.12789625212174707), (1599, 0.12789625212174707), (1669, 0.12789625212174707), (1680, 0.12789625212174707), (1698, 0.12789625212174707), (1701, 0.12789625212174707), (1721, 0.12789625212174707), (1722, 0.12789625212174707), (1745, 0.12789625212174707), (1748, 0.12789625212174707), (1766, 0.12789625212174707), (1870, 0.12789625212174707), (2069, 0.12789625212174707), (2086, 0.12789625212174707), (2116, 0.12789625212174707), (2134, 0.12789625212174707), (2136, 0.12789625212174707), (2224, 0.12789625212174707), (2229, 0.12789625212174707), (2230, 0.12789625212174707), (2252, 0.12789625212174707), (2328, 0.12789625212174707), (2434, 0.12789625212174707), (2452, 0.12789625212174707), (2453, 0.12789625212174707), (2487, 0.12789625212174707), (2548, 0.12789625212174707), (2590, 0.12789625212174707), (2625, 0.12789625212174707), (2715, 0.12789625212174707), (2727, 0.12789625212174707), (2767, 0.12789625212174707), (2808, 0.12789625212174707), (2829, 0.12789625212174707), (2857, 0.12789625212174707), (2867, 0.12789625212174707), (2876, 0.12789625212174707), (2918, 0.12789625212174707), (2976, 0.12789625212174707), (3021, 0.12789625212174707), (3082, 0.12789625212174707), (3084, 0.12789625212174707), (3124, 0.12789625212174707), (3165, 0.12789625212174707), (3312, 0.12789625212174707), (3327, 0.12789625212174707), (3354, 0.12789625212174707), (3437, 0.12789625212174707), (3440, 0.12789625212174707), (3460, 0.12789625212174707), (3476, 0.12789625212174707), (3532, 0.12789625212174707), (3566, 0.12789625212174707), (3577, 0.12789625212174707), (3742, 0.12789625212174707), (3744, 0.12789625212174707), (3753, 0.12789625212174707), (3798, 0.12789625212174707), (3831, 0.12789625212174707), (3850, 0.12789625212174707), (3946, 0.12789625212174707), (3992, 0.12789625212174707), (4032, 0.12789625212174707), (4034, 0.12789625212174707), (4051, 0.12789625212174707), (4061, 0.12789625212174707), (4142, 0.12789625212174707), (4195, 0.12789625212174707), (4202, 0.12789625212174707), (4252, 0.12789625212174707), (4307, 0.12789625212174707), (4335, 0.12789625212174707), (4347, 0.12789625212174707), (4355, 0.12789625212174707), (4437, 0.12789625212174707), (4459, 0.12789625212174707), (4520, 0.12789625212174707), (4530, 0.12789625212174707), (4571, 0.12789625212174707), (4712, 0.12789625212174707), (4731, 0.12789625212174707), (4754, 0.12789625212174707), (4789, 0.12789625212174707), (4827, 0.12789625212174707), (4854, 0.12789625212174707), (4904, 0.12789625212174707), (4913, 0.12789625212174707), (4919, 0.12789625212174707), (4985, 0.12789625212174707), (5155, 0.12789625212174707), (5197, 0.12789625212174707), (5250, 0.12789625212174707), (5259, 0.12789625212174707), (5286, 0.12789625212174707), (5396, 0.12789625212174707), (5449, 0.12789625212174707), (5548, 0.12789625212174707), (5550, 0.12789625212174707), (5560, 0.12789625212174707), (5561, 0.12789625212174707), (5568, 0.12789625212174707), (5587, 0.12789625212174707), (5598, 0.12789625212174707), (5605, 0.12789625212174707), (5643, 0.12789625212174707), (5675, 0.12789625212174707), (5691, 0.12789625212174707), (5722, 0.12789625212174707), (5729, 0.12789625212174707), (5784, 0.12789625212174707), (5799, 0.12789625212174707), (5831, 0.12789625212174707), (5954, 0.12789625212174707), (5963, 0.12789625212174707), (6012, 0.12789625212174707), (6049, 0.12789625212174707), (6092, 0.12789625212174707), (6132, 0.12789625212174707), (6146, 0.12789625212174707), (6157, 0.12789625212174707), (6171, 0.12789625212174707), (6191, 0.12789625212174707), (6234, 0.12789625212174707), (6324, 0.12789625212174707), (6325, 0.12789625212174707), (6344, 0.12789625212174707), (6347, 0.12789625212174707), (6351, 0.12789625212174707), (6369, 0.12789625212174707), (6386, 0.12789625212174707), (6459, 0.12789625212174707), (6467, 0.12789625212174707), (6469, 0.12789625212174707), (6542, 0.12789625212174707), (6552, 0.12789625212174707), (6586, 0.12789625212174707), (6753, 0.12789625212174707), (6756, 0.12789625212174707), (6785, 0.12789625212174707), (6788, 0.12789625212174707), (6836, 0.12789625212174707), (6900, 0.12789625212174707), (6945, 0.12789625212174707), (6984, 0.12789625212174707), (7039, 0.12789625212174707), (7189, 0.12789625212174707), (7209, 0.12789625212174707), (7222, 0.12789625212174707), (7232, 0.12789625212174707), (7240, 0.12789625212174707), (7275, 0.12789625212174707), (7296, 0.12789625212174707), (7326, 0.12789625212174707), (7328, 0.12789625212174707), (7368, 0.12789625212174707), (7424, 0.12789625212174707), (7462, 0.12789625212174707), (7531, 0.12789625212174707), (7533, 0.12789625212174707), (7724, 0.12789625212174707), (7731, 0.12789625212174707), (7790, 0.12789625212174707), (7865, 0.12789625212174707), (7896, 0.12789625212174707), (7897, 0.12789625212174707), (7919, 0.12789625212174707), (7943, 0.12789625212174707), (8000, 0.12789625212174707), (8011, 0.12789625212174707), (8022, 0.12789625212174707), (8078, 0.12789625212174707), (8083, 0.12789625212174707), (8107, 0.12789625212174707), (8110, 0.12789625212174707), (8114, 0.12789625212174707), (8183, 0.12789625212174707), (8184, 0.12789625212174707), (8190, 0.12789625212174707), (8217, 0.12789625212174707), (8270, 0.12789625212174707), (8313, 0.12789625212174707), (8335, 0.12789625212174707), (8387, 0.12789625212174707), (8396, 0.12789625212174707), (8397, 0.12789625212174707), (8401, 0.12789625212174707), (8402, 0.12789625212174707), (8407, 0.12789625212174707), (8466, 0.12789625212174707), (8467, 0.12789625212174707), (8651, 0.12789625212174707), (8718, 0.12789625212174707), (8737, 0.12789625212174707), (8739, 0.12789625212174707), (8747, 0.12789625212174707), (8811, 0.12789625212174707), (8847, 0.12789625212174707), (8862, 0.12789625212174707), (8911, 0.12789625212174707), (8936, 0.12789625212174707), (8986, 0.12789625212174707), (9032, 0.12789625212174707), (9078, 0.12789625212174707), (9113, 0.12789625212174707), (9123, 0.12789625212174707), (9126, 0.12789625212174707), (9189, 0.12789625212174707), (9209, 0.12789625212174707), (9276, 0.12789625212174707), (9308, 0.12789625212174707), (9329, 0.12789625212174707), (9344, 0.12789625212174707), (9345, 0.12789625212174707), (9473, 0.12789625212174707), (9475, 0.12789625212174707), (9493, 0.12789625212174707), (9497, 0.12789625212174707), (9538, 0.12789625212174707), (9555, 0.12789625212174707), (9581, 0.12789625212174707), (9622, 0.12789625212174707), (9643, 0.12789625212174707), (9701, 0.12789625212174707), (9719, 0.12789625212174707), (9728, 0.12789625212174707), (9771, 0.12789625212174707), (9778, 0.12789625212174707), (9780, 0.12789625212174707), (9781, 0.12789625212174707), (9803, 0.12789625212174707), (9891, 0.12789625212174707), (9938, 0.12789625212174707), (10035, 0.12789625212174707), (10036, 0.12789625212174707), (10163, 0.12789625212174707), (10165, 0.12789625212174707), (10166, 0.12789625212174707), (10215, 0.12789625212174707), (10274, 0.12789625212174707), (10280, 0.12789625212174707), (431, 0.12789625212174704), (3778, 0.12789625212174704), (4932, 0.12789625212174704), (1817, 0.12743263503620347), (2511, 0.12743263503620347), (4313, 0.12743263503620347), (5145, 0.12743263503620347), (7339, 0.12743263503620345), (9725, 0.12743263503620345), (493, 0.1256135578866317), (985, 0.12283595103578944), (1528, 0.12283595103578944), (2148, 0.12283595103578944), (2421, 0.12283595103578944), (2448, 0.12283595103578944), (2643, 0.12283595103578944), (2700, 0.12283595103578944), (3192, 0.12283595103578944), (4466, 0.12283595103578944), (4651, 0.12283595103578944), (5360, 0.12283595103578944), (5868, 0.12283595103578944), (5987, 0.12283595103578944), (6878, 0.12283595103578944), (8521, 0.12283595103578944), (9709, 0.12283595103578944), (9887, 0.12283595103578944), (10125, 0.12283595103578944), (261, 0.12283595103578941), (1055, 0.12283595103578941), (1080, 0.12283595103578941), (1279, 0.12283595103578941), (1442, 0.12283595103578941), (2620, 0.12283595103578941), (2666, 0.12283595103578941), (2761, 0.12283595103578941), (3206, 0.12283595103578941), (3433, 0.12283595103578941), (3701, 0.12283595103578941), (5594, 0.12283595103578941), (5668, 0.12283595103578941), (5737, 0.12283595103578941), (5999, 0.12283595103578941), (6302, 0.12283595103578941), (6969, 0.12283595103578941), (7112, 0.12283595103578941), (7151, 0.12283595103578941), (8399, 0.12283595103578941), (8523, 0.12283595103578941), (9154, 0.12283595103578941), (9159, 0.12283595103578941), (9386, 0.12283595103578941), (9545, 0.12283595103578941), (448, 0.12003780466565564), (694, 0.12003780466565564), (4812, 0.12003780466565564), (278, 0.12003780466565563), (472, 0.12003780466565563), (936, 0.12003780466565563), (1024, 0.12003780466565563), (1108, 0.12003780466565563), (1155, 0.12003780466565563), (1223, 0.12003780466565563), (1389, 0.12003780466565563), (1865, 0.12003780466565563), (2028, 0.12003780466565563), (2060, 0.12003780466565563), (2663, 0.12003780466565563), (2929, 0.12003780466565563), (4480, 0.12003780466565563), (4568, 0.12003780466565563), (4569, 0.12003780466565563), (4579, 0.12003780466565563), (4975, 0.12003780466565563), (5104, 0.12003780466565563), (6043, 0.12003780466565563), (6155, 0.12003780466565563), (6359, 0.12003780466565563), (6361, 0.12003780466565563), (6517, 0.12003780466565563), (6525, 0.12003780466565563), (6595, 0.12003780466565563), (6615, 0.12003780466565563), (7049, 0.12003780466565563), (7438, 0.12003780466565563), (7509, 0.12003780466565563), (8290, 0.12003780466565563), (8338, 0.12003780466565563), (8496, 0.12003780466565563), (9077, 0.12003780466565563), (9148, 0.12003780466565563), (9378, 0.12003780466565563), (9706, 0.12003780466565563), (9798, 0.12003780466565563), (10006, 0.12003780466565563), (140, 0.11983938071181469), (260, 0.11983938071181469), (302, 0.11983938071181469), (503, 0.11983938071181469), (545, 0.11983938071181469), (888, 0.11983938071181469), (906, 0.11983938071181469), (1212, 0.11983938071181469), (1838, 0.11983938071181469), (2253, 0.11983938071181469), (2509, 0.11983938071181469), (2604, 0.11983938071181469), (3123, 0.11983938071181469), (3160, 0.11983938071181469), (4120, 0.11983938071181469), (5526, 0.11983938071181469), (6569, 0.11983938071181469), (6719, 0.11983938071181469), (7305, 0.11983938071181469), (7570, 0.11983938071181469), (9236, 0.11983938071181469), (9479, 0.11983938071181469), (9568, 0.11983938071181469), (1335, 0.11983938071181467), (4519, 0.11983938071181467), (2282, 0.11885766670967098), (2277, 0.1180921445255787), (3149, 0.1180921445255787), (4079, 0.1180921445255787), (5425, 0.1180921445255787), (6360, 0.1180921445255787), (6863, 0.1180921445255787), (7996, 0.1180921445255787), (8278, 0.1180921445255787), (9390, 0.1180921445255787), (3088, 0.11809214452557869), (776, 0.11487099565761115), (8946, 0.11487099565761115), (9495, 0.11487099565761115), (710, 0.11433086275550768), (524, 0.11433086275550766), (2719, 0.11433086275550766), (3292, 0.11433086275550766), (4081, 0.11433086275550766), (4349, 0.11433086275550766), (4446, 0.11433086275550766), (4467, 0.11433086275550766), (5045, 0.11433086275550766), (5359, 0.11433086275550766), (5430, 0.11433086275550766), (5431, 0.11433086275550766), (6310, 0.11433086275550766), (6402, 0.11433086275550766), (6669, 0.11433086275550766), (7411, 0.11433086275550766), (7993, 0.11433086275550766), (8158, 0.11433086275550766), (9976, 0.11433086275550766), (9991, 0.11433086275550766), (10218, 0.11433086275550766), (6599, 0.11433086275550765), (9173, 0.11193069106035473), (652, 0.11193069106035472), (1129, 0.11193069106035472), (1631, 0.11193069106035472), (1675, 0.11193069106035472), (2795, 0.11193069106035472), (3473, 0.11193069106035472), (4026, 0.11193069106035472), (4284, 0.11193069106035472), (5785, 0.11193069106035472), (5866, 0.11193069106035472), (6078, 0.11193069106035472), (6561, 0.11193069106035472), (6797, 0.11193069106035472), (7356, 0.11193069106035472), (7593, 0.11193069106035472), (8126, 0.11193069106035472), (8329, 0.11193069106035472), (8945, 0.11193069106035472), (9133, 0.11193069106035472), (9155, 0.11193069106035472), (9156, 0.11193069106035472), (9605, 0.11193069106035472), (1394, 0.1119306910603547), (2425, 0.1119306910603547), (3928, 0.1119306910603547), (5832, 0.1119306910603547), (6478, 0.1119306910603547), (7015, 0.1119306910603547), (9253, 0.1119306910603547), (279, 0.10830628487111622), (1032, 0.10830628487111622), (1040, 0.10830628487111622), (1290, 0.10830628487111622), (1460, 0.10830628487111622), (1914, 0.10830628487111622), (3104, 0.10830628487111622), (3712, 0.10830628487111622), (3847, 0.10830628487111622), (4759, 0.10830628487111622), (6094, 0.10830628487111622), (6288, 0.10830628487111622), (6738, 0.10830628487111622), (6895, 0.10830628487111622), (6999, 0.10830628487111622), (8116, 0.10830628487111622), (8235, 0.10830628487111622), (1230, 0.10830628487111621), (1237, 0.10830628487111621), (6445, 0.10830628487111621), (7687, 0.10830628487111621), (3958, 0.10820642367646868), (4348, 0.10820642367646868), (4414, 0.10820642367646868), (4833, 0.10820642367646868), (6636, 0.10820642367646868), (8213, 0.10820642367646868), (8669, 0.10820642367646868), (5502, 0.10820642367646867), (7080, 0.10820642367646867), (1561, 0.10788532804054905), (2721, 0.10788532804054905), (3115, 0.10788532804054905), (3176, 0.10788532804054905), (6392, 0.10788532804054905), (2, 0.10788532804054904), (458, 0.10788532804054904), (667, 0.10788532804054904), (744, 0.10788532804054904), (889, 0.10788532804054904), (978, 0.10788532804054904), (1029, 0.10788532804054904), (1101, 0.10788532804054904), (1383, 0.10788532804054904), (1574, 0.10788532804054904), (1642, 0.10788532804054904), (1724, 0.10788532804054904), (2013, 0.10788532804054904), (2076, 0.10788532804054904), (2258, 0.10788532804054904), (2351, 0.10788532804054904), (2995, 0.10788532804054904), (3078, 0.10788532804054904), (3250, 0.10788532804054904), (4200, 0.10788532804054904), (4796, 0.10788532804054904), (4826, 0.10788532804054904), (4834, 0.10788532804054904), (5160, 0.10788532804054904), (5710, 0.10788532804054904), (5806, 0.10788532804054904), (6086, 0.10788532804054904), (6548, 0.10788532804054904), (6591, 0.10788532804054904), (6675, 0.10788532804054904), (7066, 0.10788532804054904), (7273, 0.10788532804054904), (7344, 0.10788532804054904), (7358, 0.10788532804054904), (7802, 0.10788532804054904), (7895, 0.10788532804054904), (8024, 0.10788532804054904), (8383, 0.10788532804054904), (8471, 0.10788532804054904), (8563, 0.10788532804054904), (8919, 0.10788532804054904), (9186, 0.10788532804054904), (9406, 0.10788532804054904), (9733, 0.10788532804054904), (9905, 0.10788532804054904), (9944, 0.10788532804054904), (10209, 0.10788532804054904), (10238, 0.10788532804054904), (512, 0.10739814023146245), (5731, 0.10739814023146245), (6311, 0.10739814023146245), (9956, 0.10739814023146245), (6996, 0.10739814023146242), (628, 0.10701332772285313), (4881, 0.10701332772285313), (3576, 0.10701332772285312), (3764, 0.10701332772285312), (7270, 0.10701332772285312), (953, 0.10687266645582469), (2569, 0.10687266645582469), (3633, 0.10687266645582469), (5500, 0.10687266645582469), (6023, 0.10687266645582469), (6154, 0.10687266645582469), (6642, 0.10687266645582469), (6684, 0.10687266645582469), (7116, 0.10687266645582467), (7886, 0.10687266645582467), (2094, 0.10580526579207176), (2218, 0.10580526579207176), (6740, 0.10580526579207176), (9088, 0.10580526579207176), (9619, 0.10580526579207176), (9214, 0.10518141228409536), (6235, 0.10518141228409532), (6673, 0.10518141228409532), (9121, 0.10518141228409532), (4766, 0.10291058866225587), (912, 0.10291058866225586), (928, 0.10291058866225586), (2938, 0.10291058866225586), (4490, 0.10291058866225586), (5869, 0.10291058866225586), (6117, 0.10291058866225586), (7155, 0.10291058866225586), (7988, 0.10291058866225586), (8411, 0.10291058866225586), (9877, 0.10291058866225586), (7878, 0.10291058866225584), (918, 0.10288619935578411), (3391, 0.10288619935578411), (4331, 0.10288619935578411), (794, 0.10114975265787267), (2536, 0.10114975265787267), (2836, 0.10114975265787267), (3303, 0.10114975265787267), (8049, 0.10114975265787267), (9099, 0.10114975265787267), (691, 0.09957010160429594), (1851, 0.09957010160429594), (5254, 0.09957010160429594), (5615, 0.09957010160429594), (6034, 0.09957010160429594), (6924, 0.09957010160429594), (6927, 0.09957010160429594), (7510, 0.09957010160429594), (7841, 0.09957010160429594), (8406, 0.09957010160429594), (3267, 0.09957010160429593), (312, 0.09945676695404189), (385, 0.09945676695404189), (886, 0.09945676695404189), (1057, 0.09945676695404189), (2656, 0.09945676695404189), (3356, 0.09945676695404189), (5179, 0.09945676695404189), (5391, 0.09945676695404189), (5876, 0.09945676695404189), (6772, 0.09945676695404189), (7022, 0.09945676695404189), (9450, 0.09945676695404189), (10087, 0.09945676695404189), (181, 0.09945676695404186), (897, 0.09945676695404186), (1875, 0.09945676695404186), (2837, 0.09945676695404186), (3598, 0.09945676695404186), (4750, 0.09945676695404186), (6711, 0.09945676695404186), (6768, 0.09945676695404186), (9354, 0.09945676695404186), (10185, 0.09945676695404186), (2627, 0.09845120249423978), (8277, 0.09845120249423978), (8770, 0.09837617798304127), (9940, 0.09837617798304127), (1832, 0.09813469851122823), (2008, 0.09813469851122823), (3315, 0.09813469851122823), (3330, 0.09813469851122823), (3699, 0.09813469851122823), (3905, 0.09813469851122823), (3907, 0.09813469851122823), (4740, 0.09813469851122823), (7890, 0.09813469851122823), (9342, 0.09813469851122823), (72, 0.09813469851122822), (879, 0.09813469851122822), (4080, 0.09813469851122822), (7199, 0.09813469851122822), (7699, 0.09813469851122822), (8613, 0.09813469851122822), (5847, 0.09776759853922047), (257, 0.09712581698299703), (1490, 0.09712581698299703), (1529, 0.09712581698299703), (1915, 0.09712581698299703), (1924, 0.09712581698299703), (3717, 0.09712581698299703), (3993, 0.09712581698299703), (4298, 0.09712581698299703), (4828, 0.09712581698299703), (4829, 0.09712581698299703), (4832, 0.09712581698299703), (5610, 0.09712581698299703), (5828, 0.09712581698299703), (6007, 0.09712581698299703), (6205, 0.09712581698299703), (6370, 0.09712581698299703), (6466, 0.09712581698299703), (7439, 0.09712581698299703), (7498, 0.09712581698299703), (7499, 0.09712581698299703), (8210, 0.09712581698299703), (8885, 0.09712581698299703), (9139, 0.09712581698299703), (1740, 0.09712581698299702), (9548, 0.09712581698299702), (4145, 0.09686694406104172), (4235, 0.09686694406104172), (4804, 0.09686694406104172), (4872, 0.09686694406104172), (5248, 0.09686694406104172), (5474, 0.09686694406104172), (5892, 0.09686694406104172), (6830, 0.09686694406104172), (7428, 0.09686694406104172), (7863, 0.09686694406104172), (7983, 0.09686694406104172), (8182, 0.09686694406104172), (9094, 0.09686694406104172), (9127, 0.09686694406104172), (9603, 0.09686694406104172), (9604, 0.09686694406104172), (10080, 0.09686694406104172), (3570, 0.09686694406104171), (4370, 0.09686694406104171), (8115, 0.09686694406104171), (1891, 0.09463165955710161), (2793, 0.09463165955710161), (7986, 0.09463165955710161), (3070, 0.0946316595571016), (3334, 0.09419733377616205), (5983, 0.09419733377616205), (46, 0.09419733377616203), (47, 0.09419733377616203), (381, 0.09419733377616203), (728, 0.09419733377616203), (729, 0.09419733377616203), (1136, 0.09419733377616203), (1472, 0.09419733377616203), (1763, 0.09419733377616203), (2049, 0.09419733377616203), (2324, 0.09419733377616203), (2409, 0.09419733377616203), (3029, 0.09419733377616203), (3060, 0.09419733377616203), (3652, 0.09419733377616203), (3935, 0.09419733377616203), (4494, 0.09419733377616203), (5227, 0.09419733377616203), (5718, 0.09419733377616203), (5724, 0.09419733377616203), (5740, 0.09419733377616203), (6125, 0.09419733377616203), (7194, 0.09419733377616203), (7242, 0.09419733377616203), (8234, 0.09419733377616203), (9565, 0.09419733377616203), (5934, 0.09419733377616202), (5327, 0.0930421973800887), (8288, 0.0930421973800887), (9932, 0.0930421973800887), (5077, 0.09304219738008869), (5080, 0.09304219738008869), (8505, 0.09304219738008869), (1687, 0.09294970419189082), (3142, 0.09294970419189082), (4518, 0.09294970419189082), (7052, 0.09294970419189082), (10124, 0.0929497041918908), (113, 0.09229991245478615), (904, 0.09229991245478615), (1204, 0.09229991245478615), (1411, 0.09229991245478615), (1527, 0.09229991245478615), (1592, 0.09229991245478615), (2552, 0.09229991245478615), (2823, 0.09229991245478615), (3321, 0.09229991245478615), (3495, 0.09229991245478615), (3663, 0.09229991245478615), (4336, 0.09229991245478615), (5062, 0.09229991245478615), (6183, 0.09229991245478615), (6450, 0.09229991245478615), (6520, 0.09229991245478615), (6695, 0.09229991245478615), (6901, 0.09229991245478615), (7028, 0.09229991245478615), (7541, 0.09229991245478615), (7762, 0.09229991245478615), (7875, 0.09229991245478615), (8195, 0.09229991245478615), (8627, 0.09229991245478615), (9561, 0.09229991245478615), (9794, 0.09229991245478615), (9918, 0.09229991245478615), (10222, 0.09229991245478615), (10266, 0.09229991245478615), (122, 0.0919942786644116), (6030, 0.0919942786644116), (9988, 0.0919942786644116), (10077, 0.0919942786644116), (487, 0.09184796851518767), (1149, 0.09184796851518767), (3400, 0.09184796851518767), (3401, 0.09184796851518767), (3402, 0.09184796851518767), (4237, 0.09184796851518767), (5009, 0.09184796851518767), (5200, 0.09184796851518767), (6016, 0.09184796851518767), (10264, 0.09184796851518767), (713, 0.09184796851518766), (882, 0.09184796851518766), (1117, 0.09184796851518766), (2349, 0.0917520850443613), (6963, 0.0917520850443613), (1035, 0.0916633826118516), (1485, 0.0916633826118516), (2447, 0.0916633826118516), (3240, 0.0916633826118516), (5990, 0.0916633826118516), (8685, 0.0916633826118516), (323, 0.09166338261185157), (498, 0.09166338261185157), (587, 0.09166338261185157), (4916, 0.09166338261185157), (6835, 0.09166338261185157), (7226, 0.09166338261185157), (7345, 0.09166338261185157), (7954, 0.09166338261185157), (8971, 0.09166338261185157), (9251, 0.09166338261185157), (8120, 0.0905895959736424), (4507, 0.09034283755012588), (5050, 0.09034283755012588), (2057, 0.08982893234570576), (3555, 0.08982893234570576), (3882, 0.08982893234570576), (5261, 0.08982893234570576), (9269, 0.08974568650689069), (4931, 0.08962401333913642), (3090, 0.08863685028133086), (10098, 0.08863685028133086), (5172, 0.08863685028133085), (5121, 0.08858096357975864), (7098, 0.08813589139448018), (9311, 0.08813589139448018), (4048, 0.08749702955657526), (7694, 0.08749702955657526), (9472, 0.08749702955657525), (7027, 0.08702861736378698), (4373, 0.0863370497522962), (1269, 0.0862631315418975), (1836, 0.0862631315418975), (3179, 0.0862631315418975), (7200, 0.0862631315418975), (3067, 0.08626313154189748), (1272, 0.08597009421387125), (2742, 0.08597009421387125), (4150, 0.08597009421387125), (5178, 0.08597009421387125), (6312, 0.08597009421387125), (6787, 0.08597009421387125), (6860, 0.08597009421387125), (7727, 0.08597009421387125), (8194, 0.08597009421387125), (8813, 0.08597009421387125), (10129, 0.08597009421387125), (234, 0.08560454574626719), (237, 0.08560454574626719), (2990, 0.08560454574626719), (10119, 0.08560454574626719), (3613, 0.08511391719195652), (5743, 0.08511391719195652), (7887, 0.08511391719195652), (366, 0.0851139171919565), (1451, 0.0851139171919565), (4127, 0.0851139171919565), (4453, 0.0851139171919565), (8553, 0.0851139171919565), (8981, 0.0851139171919565), (891, 0.08458299544466204), (1786, 0.08438203361204383), (9505, 0.08358556213540401), (9926, 0.08358556213540401), (5733, 0.08357199059030516), (626, 0.08357199059030515), (3939, 0.08357199059030515), (9083, 0.08357199059030515), (7304, 0.08357199059030514), (2822, 0.08345838387890013), (355, 0.08339161004585921), (534, 0.0832858137114483), (1033, 0.0832858137114483), (1920, 0.0832858137114483), (2953, 0.0832858137114483), (3342, 0.0832858137114483), (4107, 0.0832858137114483), (6431, 0.0832858137114483), (6986, 0.0832858137114483), (8373, 0.0832858137114483), (8680, 0.0832858137114483), (9266, 0.0832858137114483), (10273, 0.0832858137114483), (4504, 0.08316599884607298), (8887, 0.08316599884607298), (9784, 0.08316599884607298), (1312, 0.0829869255170738), (3025, 0.0829869255170738), (1207, 0.08241972428733196), (5329, 0.08241972428733196), (2260, 0.08203054874161894), (4345, 0.08203054874161894), (5477, 0.08203054874161894), (5716, 0.08203054874161894), (7381, 0.08203054874161894), (7625, 0.08203054874161894), (9465, 0.08203054874161894), (3103, 0.0816486884916026), (42, 0.08146788055249245), (3372, 0.0812574866519857), (789, 0.08125748665198569), (7441, 0.08125748665198569), (1762, 0.0810291823596157), (4787, 0.08058589895263163), (56, 0.08039027805542753), (60, 0.08039027805542753), (166, 0.08039027805542753), (9630, 0.08039027805542753), (1922, 0.08039027805542752), (2333, 0.08039027805542752), (2908, 0.08039027805542752), (7038, 0.08039027805542752), (8574, 0.08039027805542752), (538, 0.08022052670230262), (815, 0.0802205267023026), (4617, 0.0802205267023026), (6054, 0.0800744803000105), (1126, 0.07966867895091613), (2208, 0.07936809225121019), (4515, 0.07936809225121019), (7177, 0.07936809225121018), (7198, 0.07936809225121018), (8245, 0.07936809225121018), (1860, 0.07935147353711952), (2649, 0.07935147353711952), (2681, 0.07935147353711952), (8169, 0.07935147353711952), (10059, 0.07935147353711952), (1408, 0.07935147353711951), (3693, 0.07935147353711951), (5845, 0.07935147353711951), (3383, 0.07935147353711948), (1911, 0.07879791345202526), (6618, 0.07863535373736284), (4478, 0.07854662820005302), (7161, 0.07844610094371973), (2363, 0.07803314258868956), (5469, 0.07803314258868956), (563, 0.07747655614216653), (5378, 0.07747655614216652), (6547, 0.07747655614216652), (527, 0.07701620462864703), (614, 0.07683837711436614), (8374, 0.07661715824776562), (3216, 0.07661715824776559), (8444, 0.07661715824776559), (8551, 0.07661715824776559), (120, 0.07656548610769848), (683, 0.07656548610769848), (2770, 0.07656548610769848), (208, 0.07553605456858938), (7504, 0.07553605456858936), (6051, 0.0752877430404518), (6840, 0.07523490690656913), (2782, 0.07506847441294504), (8594, 0.07328392720521346), (8248, 0.07283499173612402), (6035, 0.0727563597271611), (8007, 0.07216179691271149), (3735, 0.07194712352922979), (7838, 0.07194712352922979), (8006, 0.07189070130896691), (9635, 0.07189070130896691), (8929, 0.0718907013089669), (2402, 0.07176666334666086), (4149, 0.07070074497600783), (3154, 0.0705630997800693), (63, 0.07035158055624313), (6213, 0.07035158055624313), (2680, 0.06987896686296079), (10258, 0.06941683957522561), (6343, 0.06911624951794888), (1059, 0.06797387961587621), (1265, 0.06797387961587621), (1892, 0.06797387961587621), (2037, 0.06797387961587621), (2744, 0.06797387961587621), (2831, 0.06797387961587621), (3499, 0.06797387961587621), (3985, 0.06797387961587621), (4181, 0.06797387961587621), (4322, 0.06797387961587621), (5287, 0.06797387961587621), (5340, 0.06797387961587621), (6024, 0.06797387961587621), (6505, 0.06797387961587621), (6545, 0.06797387961587621), (7470, 0.06797387961587621), (8117, 0.06797387961587621), (8681, 0.06797387961587621), (8684, 0.06797387961587621), (8821, 0.06797387961587621), (9598, 0.06797387961587621), (9608, 0.06797387961587621), (9983, 0.06797387961587621), (7700, 0.06793976035515392), (9916, 0.06793186364606088), (8976, 0.06767696137329339), (9760, 0.0675562028611159), (4002, 0.0667443452480856), (1929, 0.0665914291908917), (9391, 0.0665914291908917), (2766, 0.0665750831979175), (6891, 0.06636208216345166), (346, 0.06633503033885883), (6381, 0.06619253719507479), (4960, 0.06619253719507477), (8423, 0.06600117998749823), (7555, 0.06592463900855419), (6084, 0.0659108424652844), (2668, 0.06532312360933538), (3635, 0.06495216916519135), (1112, 0.06351365402559427), (1737, 0.06351365402559427), (8057, 0.06351365402559427), (8757, 0.06351365402559427), (3273, 0.06307286811671596), (5018, 0.06307286811671596), (5427, 0.06307286811671596), (9858, 0.06307286811671596), (3851, 0.06286516904760683), (9996, 0.06286516904760683), (492, 0.06286516904760682), (573, 0.06286516904760682), (1203, 0.06286516904760682), (1291, 0.06286516904760682), (1307, 0.06286516904760682), (1387, 0.06286516904760682), (1432, 0.06286516904760682), (1588, 0.06286516904760682), (2144, 0.06286516904760682), (2147, 0.06286516904760682), (2160, 0.06286516904760682), (2284, 0.06286516904760682), (2495, 0.06286516904760682), (2654, 0.06286516904760682), (2657, 0.06286516904760682), (2911, 0.06286516904760682), (3883, 0.06286516904760682), (4245, 0.06286516904760682), (4421, 0.06286516904760682), (4864, 0.06286516904760682), (5029, 0.06286516904760682), (5093, 0.06286516904760682), (5113, 0.06286516904760682), (5164, 0.06286516904760682), (5399, 0.06286516904760682), (5403, 0.06286516904760682), (5823, 0.06286516904760682), (6087, 0.06286516904760682), (6364, 0.06286516904760682), (6391, 0.06286516904760682), (6685, 0.06286516904760682), (6806, 0.06286516904760682), (7394, 0.06286516904760682), (7987, 0.06286516904760682), (8726, 0.06286516904760682), (9977, 0.06286516904760682), (9506, 0.06250717311319438), (4388, 0.06236807900826951), (7122, 0.06236807900826951), (469, 0.061123927062886656), (1881, 0.06082746473421683), (5168, 0.060403196039973434), (2234, 0.06040319603997343), (2373, 0.06040319603997343), (6064, 0.06040319603997343), (6341, 0.06040319603997343), (10143, 0.06040319603997343), (8361, 0.059391173581118235), (4868, 0.05928699865558143), (9585, 0.05928699865558143), (6406, 0.058969761044730735), (8500, 0.058800087098420585), (9979, 0.058800087098420585), (4704, 0.05827761217272238), (6150, 0.057691001617962576), (4217, 0.05750518484870548), (4562, 0.05720860857271423), (3621, 0.057208608572714224), (2281, 0.05673334368771148), (3189, 0.05673334368771148), (3657, 0.05673334368771148), (4969, 0.05673334368771148), (5852, 0.05673334368771148), (6376, 0.05673334368771148), (9987, 0.05673334368771148), (1399, 0.05673334368771147), (6237, 0.056161840559170326), (8075, 0.055884541974377824), (1837, 0.05571545441294824), (5171, 0.05406181231580471), (5042, 0.05382851406510907), (5404, 0.05126753738590615), (5533, 0.04999785325744908), (4, 0.0), (7, 0.0), (9, 0.0), (11, 0.0), (14, 0.0), (15, 0.0), (16, 0.0), (18, 0.0), (20, 0.0), (23, 0.0), (33, 0.0), (34, 0.0), (48, 0.0), (50, 0.0), (53, 0.0), (54, 0.0), (55, 0.0), (58, 0.0), (59, 0.0), (61, 0.0), (67, 0.0), (68, 0.0), (75, 0.0), (78, 0.0), (80, 0.0), (82, 0.0), (97, 0.0), (105, 0.0), (107, 0.0), (108, 0.0), (110, 0.0), (112, 0.0), (124, 0.0), (125, 0.0), (126, 0.0), (131, 0.0), (135, 0.0), (137, 0.0), (141, 0.0), (145, 0.0), (149, 0.0), (153, 0.0), (154, 0.0), (158, 0.0), (160, 0.0), (163, 0.0), (172, 0.0), (173, 0.0), (177, 0.0), (187, 0.0), (188, 0.0), (191, 0.0), (194, 0.0), (196, 0.0), (199, 0.0), (200, 0.0), (202, 0.0), (204, 0.0), (209, 0.0), (216, 0.0), (218, 0.0), (219, 0.0), (220, 0.0), (221, 0.0), (224, 0.0), (228, 0.0), (229, 0.0), (230, 0.0), (231, 0.0), (232, 0.0), (235, 0.0), (236, 0.0), (238, 0.0), (242, 0.0), (254, 0.0), (256, 0.0), (262, 0.0), (263, 0.0), (265, 0.0), (267, 0.0), (272, 0.0), (274, 0.0), (281, 0.0), (285, 0.0), (286, 0.0), (291, 0.0), (292, 0.0), (293, 0.0), (294, 0.0), (295, 0.0), (304, 0.0), (305, 0.0), (307, 0.0), (308, 0.0), (309, 0.0), (321, 0.0), (326, 0.0), (327, 0.0), (328, 0.0), (330, 0.0), (331, 0.0), (337, 0.0), (344, 0.0), (347, 0.0), (352, 0.0), (359, 0.0), (371, 0.0), (374, 0.0), (376, 0.0), (382, 0.0), (383, 0.0), (384, 0.0), (387, 0.0), (393, 0.0), (395, 0.0), (398, 0.0), (400, 0.0), (401, 0.0), (404, 0.0), (405, 0.0), (406, 0.0), (419, 0.0), (424, 0.0), (425, 0.0), (426, 0.0), (427, 0.0), (428, 0.0), (429, 0.0), (430, 0.0), (434, 0.0), (438, 0.0), (439, 0.0), (441, 0.0), (444, 0.0), (446, 0.0), (449, 0.0), (450, 0.0), (451, 0.0), (454, 0.0), (455, 0.0), (456, 0.0), (460, 0.0), (462, 0.0), (465, 0.0), (466, 0.0), (470, 0.0), (473, 0.0), (474, 0.0), (475, 0.0), (482, 0.0), (486, 0.0), (489, 0.0), (494, 0.0), (504, 0.0), (507, 0.0), (508, 0.0), (509, 0.0), (510, 0.0), (511, 0.0), (513, 0.0), (515, 0.0), (521, 0.0), (523, 0.0), (526, 0.0), (528, 0.0), (541, 0.0), (550, 0.0), (551, 0.0), (553, 0.0), (556, 0.0), (560, 0.0), (564, 0.0), (567, 0.0), (570, 0.0), (571, 0.0), (575, 0.0), (578, 0.0), (582, 0.0), (585, 0.0), (586, 0.0), (590, 0.0), (599, 0.0), (600, 0.0), (601, 0.0), (604, 0.0), (608, 0.0), (609, 0.0), (611, 0.0), (612, 0.0), (613, 0.0), (616, 0.0), (622, 0.0), (633, 0.0), (634, 0.0), (635, 0.0), (636, 0.0), (637, 0.0), (647, 0.0), (649, 0.0), (650, 0.0), (653, 0.0), (656, 0.0), (657, 0.0), (658, 0.0), (660, 0.0), (671, 0.0), (672, 0.0), (678, 0.0), (697, 0.0), (698, 0.0), (699, 0.0), (700, 0.0), (701, 0.0), (703, 0.0), (705, 0.0), (706, 0.0), (715, 0.0), (716, 0.0), (718, 0.0), (721, 0.0), (722, 0.0), (723, 0.0), (724, 0.0), (725, 0.0), (726, 0.0), (727, 0.0), (732, 0.0), (733, 0.0), (734, 0.0), (735, 0.0), (736, 0.0), (738, 0.0), (739, 0.0), (740, 0.0), (741, 0.0), (742, 0.0), (743, 0.0), (756, 0.0), (762, 0.0), (763, 0.0), (764, 0.0), (765, 0.0), (766, 0.0), (769, 0.0), (770, 0.0), (779, 0.0), (780, 0.0), (785, 0.0), (786, 0.0), (790, 0.0), (792, 0.0), (800, 0.0), (801, 0.0), (807, 0.0), (811, 0.0), (814, 0.0), (817, 0.0), (818, 0.0), (819, 0.0), (821, 0.0), (822, 0.0), (823, 0.0), (825, 0.0), (826, 0.0), (849, 0.0), (875, 0.0), (876, 0.0), (877, 0.0), (880, 0.0), (883, 0.0), (885, 0.0), (894, 0.0), (900, 0.0), (903, 0.0), (905, 0.0), (909, 0.0), (910, 0.0), (916, 0.0), (917, 0.0), (920, 0.0), (922, 0.0), (923, 0.0), (924, 0.0), (926, 0.0), (929, 0.0), (930, 0.0), (935, 0.0), (939, 0.0), (941, 0.0), (946, 0.0), (959, 0.0), (961, 0.0), (966, 0.0), (970, 0.0), (972, 0.0), (975, 0.0), (976, 0.0), (977, 0.0), (987, 0.0), (993, 0.0), (995, 0.0), (1002, 0.0), (1005, 0.0), (1009, 0.0), (1010, 0.0), (1013, 0.0), (1014, 0.0), (1019, 0.0), (1020, 0.0), (1027, 0.0), (1028, 0.0), (1030, 0.0), (1037, 0.0), (1044, 0.0), (1047, 0.0), (1048, 0.0), (1049, 0.0), (1050, 0.0), (1053, 0.0), (1056, 0.0), (1058, 0.0), (1063, 0.0), (1064, 0.0), (1066, 0.0), (1069, 0.0), (1073, 0.0), (1075, 0.0), (1076, 0.0), (1077, 0.0), (1078, 0.0), (1081, 0.0), (1082, 0.0), (1084, 0.0), (1085, 0.0), (1086, 0.0), (1087, 0.0), (1088, 0.0), (1089, 0.0), (1090, 0.0), (1096, 0.0), (1097, 0.0), (1099, 0.0), (1100, 0.0), (1103, 0.0), (1120, 0.0), (1121, 0.0), (1131, 0.0), (1132, 0.0), (1146, 0.0), (1147, 0.0), (1152, 0.0), (1153, 0.0), (1158, 0.0), (1159, 0.0), (1160, 0.0), (1163, 0.0), (1166, 0.0), (1167, 0.0), (1173, 0.0), (1176, 0.0), (1177, 0.0), (1179, 0.0), (1180, 0.0), (1181, 0.0), (1183, 0.0), (1184, 0.0), (1188, 0.0), (1196, 0.0), (1200, 0.0), (1201, 0.0), (1210, 0.0), (1220, 0.0), (1229, 0.0), (1233, 0.0), (1242, 0.0), (1247, 0.0), (1248, 0.0), (1255, 0.0), (1277, 0.0), (1278, 0.0), (1280, 0.0), (1292, 0.0), (1298, 0.0), (1299, 0.0), (1303, 0.0), (1304, 0.0), (1305, 0.0), (1308, 0.0), (1313, 0.0), (1316, 0.0), (1327, 0.0), (1328, 0.0), (1332, 0.0), (1336, 0.0), (1347, 0.0), (1354, 0.0), (1357, 0.0), (1358, 0.0), (1359, 0.0), (1364, 0.0), (1368, 0.0), (1371, 0.0), (1381, 0.0), (1382, 0.0), (1384, 0.0), (1386, 0.0), (1396, 0.0), (1397, 0.0), (1402, 0.0), (1403, 0.0), (1405, 0.0), (1409, 0.0), (1410, 0.0), (1413, 0.0), (1419, 0.0), (1420, 0.0), (1425, 0.0), (1426, 0.0), (1431, 0.0), (1435, 0.0), (1436, 0.0), (1438, 0.0), (1439, 0.0), (1441, 0.0), (1445, 0.0), (1446, 0.0), (1447, 0.0), (1463, 0.0), (1469, 0.0), (1470, 0.0), (1477, 0.0), (1480, 0.0), (1482, 0.0), (1488, 0.0), (1489, 0.0), (1491, 0.0), (1492, 0.0), (1493, 0.0), (1497, 0.0), (1499, 0.0), (1503, 0.0), (1504, 0.0), (1506, 0.0), (1514, 0.0), (1516, 0.0), (1522, 0.0), (1523, 0.0), (1524, 0.0), (1535, 0.0), (1537, 0.0), (1538, 0.0), (1542, 0.0), (1544, 0.0), (1546, 0.0), (1552, 0.0), (1553, 0.0), (1554, 0.0), (1558, 0.0), (1559, 0.0), (1563, 0.0), (1566, 0.0), (1568, 0.0), (1570, 0.0), (1571, 0.0), (1572, 0.0), (1573, 0.0), (1576, 0.0), (1577, 0.0), (1581, 0.0), (1583, 0.0), (1586, 0.0), (1596, 0.0), (1597, 0.0), (1598, 0.0), (1600, 0.0), (1601, 0.0), (1604, 0.0), (1605, 0.0), (1607, 0.0), (1608, 0.0), (1609, 0.0), (1615, 0.0), (1625, 0.0), (1628, 0.0), (1629, 0.0), (1632, 0.0), (1633, 0.0), (1634, 0.0), (1636, 0.0), (1637, 0.0), (1647, 0.0), (1649, 0.0), (1650, 0.0), (1651, 0.0), (1652, 0.0), (1653, 0.0), (1654, 0.0), (1661, 0.0), (1662, 0.0), (1664, 0.0), (1671, 0.0), (1674, 0.0), (1681, 0.0), (1682, 0.0), (1683, 0.0), (1685, 0.0), (1688, 0.0), (1689, 0.0), (1690, 0.0), (1691, 0.0), (1693, 0.0), (1700, 0.0), (1702, 0.0), (1703, 0.0), (1704, 0.0), (1705, 0.0), (1708, 0.0), (1711, 0.0), (1712, 0.0), (1714, 0.0), (1718, 0.0), (1719, 0.0), (1723, 0.0), (1733, 0.0), (1736, 0.0), (1738, 0.0), (1739, 0.0), (1755, 0.0), (1757, 0.0), (1760, 0.0), (1761, 0.0), (1767, 0.0), (1768, 0.0), (1769, 0.0), (1773, 0.0), (1774, 0.0), (1775, 0.0), (1776, 0.0), (1777, 0.0), (1778, 0.0), (1779, 0.0), (1780, 0.0), (1781, 0.0), (1782, 0.0), (1783, 0.0), (1784, 0.0), (1785, 0.0), (1788, 0.0), (1790, 0.0), (1799, 0.0), (1806, 0.0), (1807, 0.0), (1808, 0.0), (1811, 0.0), (1813, 0.0), (1820, 0.0), (1821, 0.0), (1828, 0.0), (1835, 0.0), (1840, 0.0), (1841, 0.0), (1842, 0.0), (1843, 0.0), (1845, 0.0), (1846, 0.0), (1847, 0.0), (1849, 0.0), (1850, 0.0), (1855, 0.0), (1857, 0.0), (1867, 0.0), (1871, 0.0), (1872, 0.0), (1873, 0.0), (1876, 0.0), (1888, 0.0), (1889, 0.0), (1896, 0.0), (1897, 0.0), (1900, 0.0), (1901, 0.0), (1904, 0.0), (1909, 0.0), (1910, 0.0), (1917, 0.0), (1918, 0.0), (1921, 0.0), (1927, 0.0), (1931, 0.0), (1932, 0.0), (1934, 0.0), (1935, 0.0), (1937, 0.0), (1938, 0.0), (1947, 0.0), (1948, 0.0), (1952, 0.0), (1953, 0.0), (1954, 0.0), (1955, 0.0), (1959, 0.0), (1968, 0.0), (1974, 0.0), (1975, 0.0), (1982, 0.0), (1985, 0.0), (1986, 0.0), (1990, 0.0), (1993, 0.0), (1997, 0.0), (1998, 0.0), (1999, 0.0), (2000, 0.0), (2002, 0.0), (2003, 0.0), (2005, 0.0), (2006, 0.0), (2012, 0.0), (2015, 0.0), (2017, 0.0), (2021, 0.0), (2026, 0.0), (2031, 0.0), (2032, 0.0), (2033, 0.0), (2034, 0.0), (2041, 0.0), (2053, 0.0), (2062, 0.0), (2066, 0.0), (2067, 0.0), (2074, 0.0), (2081, 0.0), (2082, 0.0), (2084, 0.0), (2085, 0.0), (2088, 0.0), (2089, 0.0), (2091, 0.0), (2092, 0.0), (2098, 0.0), (2100, 0.0), (2101, 0.0), (2103, 0.0), (2104, 0.0), (2105, 0.0), (2106, 0.0), (2108, 0.0), (2110, 0.0), (2115, 0.0), (2117, 0.0), (2127, 0.0), (2128, 0.0), (2131, 0.0), (2132, 0.0), (2137, 0.0), (2138, 0.0), (2141, 0.0), (2142, 0.0), (2153, 0.0), (2154, 0.0), (2155, 0.0), (2159, 0.0), (2162, 0.0), (2163, 0.0), (2168, 0.0), (2170, 0.0), (2172, 0.0), (2173, 0.0), (2174, 0.0), (2178, 0.0), (2186, 0.0), (2188, 0.0), (2189, 0.0), (2194, 0.0), (2198, 0.0), (2200, 0.0), (2205, 0.0), (2211, 0.0), (2213, 0.0), (2215, 0.0), (2216, 0.0), (2219, 0.0), (2232, 0.0), (2236, 0.0), (2237, 0.0), (2241, 0.0), (2247, 0.0), (2248, 0.0), (2251, 0.0), (2271, 0.0), (2275, 0.0), (2280, 0.0), (2283, 0.0), (2285, 0.0), (2286, 0.0), (2287, 0.0), (2293, 0.0), (2296, 0.0), (2305, 0.0), (2309, 0.0), (2311, 0.0), (2313, 0.0), (2315, 0.0), (2316, 0.0), (2317, 0.0), (2321, 0.0), (2322, 0.0), (2327, 0.0), (2332, 0.0), (2337, 0.0), (2350, 0.0), (2353, 0.0), (2362, 0.0), (2366, 0.0), (2367, 0.0), (2380, 0.0), (2385, 0.0), (2387, 0.0), (2388, 0.0), (2391, 0.0), (2395, 0.0), (2398, 0.0), (2399, 0.0), (2407, 0.0), (2416, 0.0), (2417, 0.0), (2418, 0.0), (2420, 0.0), (2424, 0.0), (2430, 0.0), (2433, 0.0), (2443, 0.0), (2454, 0.0), (2456, 0.0), (2464, 0.0), (2465, 0.0), (2470, 0.0), (2480, 0.0), (2482, 0.0), (2485, 0.0), (2488, 0.0), (2489, 0.0), (2490, 0.0), (2492, 0.0), (2493, 0.0), (2497, 0.0), (2499, 0.0), (2500, 0.0), (2501, 0.0), (2502, 0.0), (2505, 0.0), (2508, 0.0), (2510, 0.0), (2516, 0.0), (2518, 0.0), (2524, 0.0), (2527, 0.0), (2529, 0.0), (2530, 0.0), (2531, 0.0), (2532, 0.0), (2533, 0.0), (2535, 0.0), (2541, 0.0), (2542, 0.0), (2544, 0.0), (2546, 0.0), (2549, 0.0), (2550, 0.0), (2553, 0.0), (2554, 0.0), (2557, 0.0), (2561, 0.0), (2562, 0.0), (2563, 0.0), (2565, 0.0), (2571, 0.0), (2572, 0.0), (2574, 0.0), (2581, 0.0), (2584, 0.0), (2588, 0.0), (2589, 0.0), (2593, 0.0), (2597, 0.0), (2598, 0.0), (2599, 0.0), (2600, 0.0), (2605, 0.0), (2606, 0.0), (2609, 0.0), (2612, 0.0), (2615, 0.0), (2629, 0.0), (2630, 0.0), (2632, 0.0), (2633, 0.0), (2636, 0.0), (2637, 0.0), (2638, 0.0), (2659, 0.0), (2665, 0.0), (2667, 0.0), (2671, 0.0), (2672, 0.0), (2673, 0.0), (2676, 0.0), (2677, 0.0), (2678, 0.0), (2679, 0.0), (2685, 0.0), (2686, 0.0), (2688, 0.0), (2689, 0.0), (2690, 0.0), (2691, 0.0), (2693, 0.0), (2695, 0.0), (2696, 0.0), (2697, 0.0), (2699, 0.0), (2709, 0.0), (2710, 0.0), (2714, 0.0), (2717, 0.0), (2730, 0.0), (2734, 0.0), (2735, 0.0), (2737, 0.0), (2740, 0.0), (2751, 0.0), (2752, 0.0), (2753, 0.0), (2754, 0.0), (2757, 0.0), (2763, 0.0), (2764, 0.0), (2765, 0.0), (2769, 0.0), (2772, 0.0), (2773, 0.0), (2776, 0.0), (2783, 0.0), (2786, 0.0), (2789, 0.0), (2790, 0.0), (2791, 0.0), (2796, 0.0), (2800, 0.0), (2803, 0.0), (2804, 0.0), (2807, 0.0), (2810, 0.0), (2815, 0.0), (2817, 0.0), (2818, 0.0), (2819, 0.0), (2820, 0.0), (2821, 0.0), (2842, 0.0), (2847, 0.0), (2848, 0.0), (2851, 0.0), (2852, 0.0), (2861, 0.0), (2868, 0.0), (2871, 0.0), (2880, 0.0), (2881, 0.0), (2887, 0.0), (2888, 0.0), (2890, 0.0), (2891, 0.0), (2898, 0.0), (2901, 0.0), (2902, 0.0), (2903, 0.0), (2912, 0.0), (2914, 0.0), (2919, 0.0), (2922, 0.0), (2924, 0.0), (2925, 0.0), (2926, 0.0), (2933, 0.0), (2935, 0.0), (2936, 0.0), (2937, 0.0), (2939, 0.0), (2940, 0.0), (2941, 0.0), (2946, 0.0), (2950, 0.0), (2956, 0.0), (2960, 0.0), (2961, 0.0), (2968, 0.0), (2973, 0.0), (2974, 0.0), (2977, 0.0), (2979, 0.0), (2981, 0.0), (2982, 0.0), (2983, 0.0), (2984, 0.0), (2986, 0.0), (2989, 0.0), (2992, 0.0), (2996, 0.0), (3000, 0.0), (3001, 0.0), (3005, 0.0), (3007, 0.0), (3011, 0.0), (3012, 0.0), (3013, 0.0), (3022, 0.0), (3023, 0.0), (3027, 0.0), (3028, 0.0), (3038, 0.0), (3043, 0.0), (3045, 0.0), (3050, 0.0), (3055, 0.0), (3056, 0.0), (3058, 0.0), (3059, 0.0), (3061, 0.0), (3064, 0.0), (3068, 0.0), (3072, 0.0), (3079, 0.0), (3080, 0.0), (3081, 0.0), (3089, 0.0), (3091, 0.0), (3092, 0.0), (3096, 0.0), (3097, 0.0), (3098, 0.0), (3099, 0.0), (3100, 0.0), (3102, 0.0), (3116, 0.0), (3122, 0.0), (3127, 0.0), (3135, 0.0), (3137, 0.0), (3138, 0.0), (3139, 0.0), (3140, 0.0), (3141, 0.0), (3143, 0.0), (3144, 0.0), (3150, 0.0), (3153, 0.0), (3156, 0.0), (3163, 0.0), (3167, 0.0), (3171, 0.0), (3172, 0.0), (3173, 0.0), (3174, 0.0), (3177, 0.0), (3181, 0.0), (3193, 0.0), (3204, 0.0), (3208, 0.0), (3210, 0.0), (3223, 0.0), (3228, 0.0), (3229, 0.0), (3232, 0.0), (3234, 0.0), (3237, 0.0), (3238, 0.0), (3252, 0.0), (3269, 0.0), (3270, 0.0), (3275, 0.0), (3279, 0.0), (3280, 0.0), (3281, 0.0), (3284, 0.0), (3286, 0.0), (3291, 0.0), (3293, 0.0), (3294, 0.0), (3295, 0.0), (3296, 0.0), (3301, 0.0), (3305, 0.0), (3306, 0.0), (3307, 0.0), (3309, 0.0), (3310, 0.0), (3313, 0.0), (3317, 0.0), (3320, 0.0), (3322, 0.0), (3324, 0.0), (3328, 0.0), (3329, 0.0), (3335, 0.0), (3338, 0.0), (3339, 0.0), (3340, 0.0), (3343, 0.0), (3344, 0.0), (3350, 0.0), (3351, 0.0), (3358, 0.0), (3362, 0.0), (3366, 0.0), (3369, 0.0), (3381, 0.0), (3382, 0.0), (3384, 0.0), (3385, 0.0), (3387, 0.0), (3388, 0.0), (3390, 0.0), (3392, 0.0), (3393, 0.0), (3394, 0.0), (3396, 0.0), (3398, 0.0), (3413, 0.0), (3416, 0.0), (3419, 0.0), (3421, 0.0), (3422, 0.0), (3425, 0.0), (3426, 0.0), (3427, 0.0), (3428, 0.0), (3429, 0.0), (3430, 0.0), (3431, 0.0), (3432, 0.0), (3439, 0.0), (3443, 0.0), (3444, 0.0), (3446, 0.0), (3447, 0.0), (3449, 0.0), (3453, 0.0), (3454, 0.0), (3456, 0.0), (3461, 0.0), (3465, 0.0), (3467, 0.0), (3472, 0.0), (3479, 0.0), (3483, 0.0), (3484, 0.0), (3485, 0.0), (3488, 0.0), (3489, 0.0), (3491, 0.0), (3492, 0.0), (3497, 0.0), (3501, 0.0), (3502, 0.0), (3512, 0.0), (3514, 0.0), (3519, 0.0), (3520, 0.0), (3525, 0.0), (3529, 0.0), (3530, 0.0), (3533, 0.0), (3536, 0.0), (3537, 0.0), (3540, 0.0), (3541, 0.0), (3542, 0.0), (3547, 0.0), (3550, 0.0), (3551, 0.0), (3552, 0.0), (3554, 0.0), (3556, 0.0), (3557, 0.0), (3558, 0.0), (3559, 0.0), (3560, 0.0), (3561, 0.0), (3563, 0.0), (3564, 0.0), (3567, 0.0), (3571, 0.0), (3574, 0.0), (3575, 0.0), (3578, 0.0), (3586, 0.0), (3587, 0.0), (3590, 0.0), (3594, 0.0), (3595, 0.0), (3600, 0.0), (3603, 0.0), (3605, 0.0), (3606, 0.0), (3610, 0.0), (3611, 0.0), (3614, 0.0), (3615, 0.0), (3617, 0.0), (3618, 0.0), (3619, 0.0), (3620, 0.0), (3622, 0.0), (3627, 0.0), (3629, 0.0), (3630, 0.0), (3649, 0.0), (3650, 0.0), (3651, 0.0), (3655, 0.0), (3659, 0.0), (3672, 0.0), (3673, 0.0), (3675, 0.0), (3678, 0.0), (3679, 0.0), (3680, 0.0), (3681, 0.0), (3685, 0.0), (3686, 0.0), (3690, 0.0), (3697, 0.0), (3698, 0.0), (3700, 0.0), (3703, 0.0), (3704, 0.0), (3705, 0.0), (3706, 0.0), (3707, 0.0), (3711, 0.0), (3718, 0.0), (3722, 0.0), (3723, 0.0), (3724, 0.0), (3729, 0.0), (3731, 0.0), (3737, 0.0), (3748, 0.0), (3756, 0.0), (3757, 0.0), (3760, 0.0), (3772, 0.0), (3782, 0.0), (3785, 0.0), (3786, 0.0), (3789, 0.0), (3791, 0.0), (3792, 0.0), (3793, 0.0), (3794, 0.0), (3799, 0.0), (3800, 0.0), (3803, 0.0), (3804, 0.0), (3815, 0.0), (3817, 0.0), (3818, 0.0), (3819, 0.0), (3824, 0.0), (3826, 0.0), (3838, 0.0), (3840, 0.0), (3841, 0.0), (3842, 0.0), (3843, 0.0), (3849, 0.0), (3854, 0.0), (3856, 0.0), (3858, 0.0), (3859, 0.0), (3860, 0.0), (3862, 0.0), (3863, 0.0), (3866, 0.0), (3867, 0.0), (3868, 0.0), (3875, 0.0), (3879, 0.0), (3880, 0.0), (3884, 0.0), (3885, 0.0), (3892, 0.0), (3893, 0.0), (3894, 0.0), (3897, 0.0), (3898, 0.0), (3903, 0.0), (3904, 0.0), (3908, 0.0), (3913, 0.0), (3914, 0.0), (3915, 0.0), (3916, 0.0), (3917, 0.0), (3919, 0.0), (3921, 0.0), (3930, 0.0), (3931, 0.0), (3937, 0.0), (3942, 0.0), (3943, 0.0), (3944, 0.0), (3949, 0.0), (3953, 0.0), (3954, 0.0), (3956, 0.0), (3957, 0.0), (3959, 0.0), (3960, 0.0), (3963, 0.0), (3964, 0.0), (3965, 0.0), (3967, 0.0), (3974, 0.0), (3980, 0.0), (3987, 0.0), (3988, 0.0), (3990, 0.0), (3991, 0.0), (3994, 0.0), (3997, 0.0), (4001, 0.0), (4003, 0.0), (4004, 0.0), (4006, 0.0), (4009, 0.0), (4011, 0.0), (4012, 0.0), (4015, 0.0), (4016, 0.0), (4017, 0.0), (4018, 0.0), (4019, 0.0), (4020, 0.0), (4037, 0.0), (4039, 0.0), (4044, 0.0), (4045, 0.0), (4046, 0.0), (4049, 0.0), (4050, 0.0), (4053, 0.0), (4054, 0.0), (4060, 0.0), (4065, 0.0), (4068, 0.0), (4069, 0.0), (4071, 0.0), (4077, 0.0), (4078, 0.0), (4082, 0.0), (4085, 0.0), (4088, 0.0), (4091, 0.0), (4092, 0.0), (4093, 0.0), (4094, 0.0), (4096, 0.0), (4097, 0.0), (4098, 0.0), (4100, 0.0), (4104, 0.0), (4106, 0.0), (4108, 0.0), (4109, 0.0), (4110, 0.0), (4111, 0.0), (4112, 0.0), (4113, 0.0), (4115, 0.0), (4123, 0.0), (4126, 0.0), (4146, 0.0), (4148, 0.0), (4152, 0.0), (4153, 0.0), (4167, 0.0), (4168, 0.0), (4171, 0.0), (4176, 0.0), (4179, 0.0), (4180, 0.0), (4185, 0.0), (4191, 0.0), (4192, 0.0), (4193, 0.0), (4196, 0.0), (4198, 0.0), (4201, 0.0), (4203, 0.0), (4204, 0.0), (4205, 0.0), (4212, 0.0), (4213, 0.0), (4216, 0.0), (4221, 0.0), (4222, 0.0), (4223, 0.0), (4224, 0.0), (4225, 0.0), (4226, 0.0), (4227, 0.0), (4228, 0.0), (4232, 0.0), (4236, 0.0), (4239, 0.0), (4240, 0.0), (4241, 0.0), (4243, 0.0), (4246, 0.0), (4247, 0.0), (4248, 0.0), (4251, 0.0), (4255, 0.0), (4256, 0.0), (4257, 0.0), (4258, 0.0), (4260, 0.0), (4261, 0.0), (4262, 0.0), (4267, 0.0), (4271, 0.0), (4273, 0.0), (4274, 0.0), (4276, 0.0), (4278, 0.0), (4280, 0.0), (4281, 0.0), (4285, 0.0), (4286, 0.0), (4287, 0.0), (4288, 0.0), (4292, 0.0), (4293, 0.0), (4294, 0.0), (4296, 0.0), (4297, 0.0), (4301, 0.0), (4302, 0.0), (4303, 0.0), (4304, 0.0), (4305, 0.0), (4306, 0.0), (4308, 0.0), (4309, 0.0), (4312, 0.0), (4314, 0.0), (4327, 0.0), (4329, 0.0), (4333, 0.0), (4337, 0.0), (4339, 0.0), (4343, 0.0), (4344, 0.0), (4346, 0.0), (4350, 0.0), (4352, 0.0), (4353, 0.0), (4357, 0.0), (4358, 0.0), (4359, 0.0), (4360, 0.0), (4362, 0.0), (4364, 0.0), (4365, 0.0), (4366, 0.0), (4367, 0.0), (4368, 0.0), (4372, 0.0), (4375, 0.0), (4376, 0.0), (4377, 0.0), (4381, 0.0), (4382, 0.0), (4385, 0.0), (4393, 0.0), (4412, 0.0), (4425, 0.0), (4426, 0.0), (4427, 0.0), (4428, 0.0), (4430, 0.0), (4438, 0.0), (4439, 0.0), (4440, 0.0), (4441, 0.0), (4442, 0.0), (4445, 0.0), (4450, 0.0), (4461, 0.0), (4465, 0.0), (4468, 0.0), (4473, 0.0), (4474, 0.0), (4479, 0.0), (4482, 0.0), (4483, 0.0), (4484, 0.0), (4485, 0.0), (4486, 0.0), (4493, 0.0), (4498, 0.0), (4500, 0.0), (4506, 0.0), (4508, 0.0), (4511, 0.0), (4513, 0.0), (4514, 0.0), (4516, 0.0), (4517, 0.0), (4521, 0.0), (4523, 0.0), (4532, 0.0), (4534, 0.0), (4535, 0.0), (4536, 0.0), (4554, 0.0), (4555, 0.0), (4573, 0.0), (4581, 0.0), (4582, 0.0), (4583, 0.0), (4587, 0.0), (4588, 0.0), (4590, 0.0), (4593, 0.0), (4595, 0.0), (4600, 0.0), (4604, 0.0), (4605, 0.0), (4609, 0.0), (4620, 0.0), (4627, 0.0), (4631, 0.0), (4632, 0.0), (4636, 0.0), (4645, 0.0), (4652, 0.0), (4655, 0.0), (4656, 0.0), (4659, 0.0), (4660, 0.0), (4666, 0.0), (4668, 0.0), (4672, 0.0), (4674, 0.0), (4675, 0.0), (4676, 0.0), (4679, 0.0), (4680, 0.0), (4685, 0.0), (4690, 0.0), (4691, 0.0), (4697, 0.0), (4700, 0.0), (4711, 0.0), (4717, 0.0), (4719, 0.0), (4725, 0.0), (4727, 0.0), (4728, 0.0), (4729, 0.0), (4730, 0.0), (4732, 0.0), (4733, 0.0), (4734, 0.0), (4735, 0.0), (4737, 0.0), (4738, 0.0), (4741, 0.0), (4744, 0.0), (4745, 0.0), (4748, 0.0), (4749, 0.0), (4751, 0.0), (4756, 0.0), (4757, 0.0), (4763, 0.0), (4765, 0.0), (4769, 0.0), (4770, 0.0), (4771, 0.0), (4772, 0.0), (4773, 0.0), (4775, 0.0), (4776, 0.0), (4778, 0.0), (4779, 0.0), (4784, 0.0), (4791, 0.0), (4792, 0.0), (4805, 0.0), (4810, 0.0), (4811, 0.0), (4813, 0.0), (4820, 0.0), (4822, 0.0), (4823, 0.0), (4830, 0.0), (4837, 0.0), (4839, 0.0), (4842, 0.0), (4843, 0.0), (4846, 0.0), (4847, 0.0), (4848, 0.0), (4850, 0.0), (4852, 0.0), (4853, 0.0), (4855, 0.0), (4856, 0.0), (4859, 0.0), (4862, 0.0), (4865, 0.0), (4867, 0.0), (4877, 0.0), (4878, 0.0), (4880, 0.0), (4883, 0.0), (4888, 0.0), (4889, 0.0), (4891, 0.0), (4898, 0.0), (4899, 0.0), (4908, 0.0), (4918, 0.0), (4922, 0.0), (4924, 0.0), (4925, 0.0), (4926, 0.0), (4927, 0.0), (4929, 0.0), (4930, 0.0), (4938, 0.0), (4942, 0.0), (4943, 0.0), (4944, 0.0), (4945, 0.0), (4946, 0.0), (4947, 0.0), (4948, 0.0), (4949, 0.0), (4957, 0.0), (4965, 0.0), (4976, 0.0), (4981, 0.0), (4983, 0.0), (4984, 0.0), (4988, 0.0), (4989, 0.0), (4991, 0.0), (4992, 0.0), (4995, 0.0), (5000, 0.0), (5001, 0.0), (5004, 0.0), (5006, 0.0), (5008, 0.0), (5014, 0.0), (5015, 0.0), (5031, 0.0), (5032, 0.0), (5035, 0.0), (5043, 0.0), (5055, 0.0), (5057, 0.0), (5061, 0.0), (5063, 0.0), (5065, 0.0), (5069, 0.0), (5073, 0.0), (5081, 0.0), (5086, 0.0), (5089, 0.0), (5090, 0.0), (5091, 0.0), (5098, 0.0), (5099, 0.0), (5105, 0.0), (5114, 0.0), (5120, 0.0), (5123, 0.0), (5125, 0.0), (5127, 0.0), (5128, 0.0), (5132, 0.0), (5133, 0.0), (5141, 0.0), (5142, 0.0), (5143, 0.0), (5144, 0.0), (5146, 0.0), (5150, 0.0), (5153, 0.0), (5154, 0.0), (5157, 0.0), (5159, 0.0), (5166, 0.0), (5167, 0.0), (5173, 0.0), (5175, 0.0), (5176, 0.0), (5177, 0.0), (5181, 0.0), (5182, 0.0), (5185, 0.0), (5186, 0.0), (5187, 0.0), (5195, 0.0), (5198, 0.0), (5215, 0.0), (5216, 0.0), (5226, 0.0), (5231, 0.0), (5232, 0.0), (5237, 0.0), (5249, 0.0), (5251, 0.0), (5253, 0.0), (5256, 0.0), (5262, 0.0), (5263, 0.0), (5265, 0.0), (5269, 0.0), (5274, 0.0), (5277, 0.0), (5279, 0.0), (5282, 0.0), (5288, 0.0), (5296, 0.0), (5297, 0.0), (5298, 0.0), (5299, 0.0), (5306, 0.0), (5307, 0.0), (5312, 0.0), (5314, 0.0), (5315, 0.0), (5318, 0.0), (5319, 0.0), (5320, 0.0), (5326, 0.0), (5330, 0.0), (5331, 0.0), (5332, 0.0), (5333, 0.0), (5346, 0.0), (5349, 0.0), (5350, 0.0), (5357, 0.0), (5361, 0.0), (5366, 0.0), (5370, 0.0), (5371, 0.0), (5372, 0.0), (5374, 0.0), (5379, 0.0), (5380, 0.0), (5381, 0.0), (5384, 0.0), (5386, 0.0), (5388, 0.0), (5390, 0.0), (5393, 0.0), (5409, 0.0), (5410, 0.0), (5417, 0.0), (5418, 0.0), (5420, 0.0), (5424, 0.0), (5426, 0.0), (5428, 0.0), (5432, 0.0), (5433, 0.0), (5434, 0.0), (5435, 0.0), (5436, 0.0), (5441, 0.0), (5443, 0.0), (5450, 0.0), (5451, 0.0), (5454, 0.0), (5467, 0.0), (5475, 0.0), (5481, 0.0), (5484, 0.0), (5489, 0.0), (5495, 0.0), (5496, 0.0), (5497, 0.0), (5499, 0.0), (5505, 0.0), (5506, 0.0), (5510, 0.0), (5514, 0.0), (5515, 0.0), (5517, 0.0), (5523, 0.0), (5527, 0.0), (5538, 0.0), (5541, 0.0), (5542, 0.0), (5545, 0.0), (5546, 0.0), (5551, 0.0), (5552, 0.0), (5553, 0.0), (5554, 0.0), (5555, 0.0), (5556, 0.0), (5557, 0.0), (5563, 0.0), (5564, 0.0), (5567, 0.0), (5569, 0.0), (5572, 0.0), (5573, 0.0), (5576, 0.0), (5577, 0.0), (5578, 0.0), (5580, 0.0), (5582, 0.0), (5584, 0.0), (5586, 0.0), (5589, 0.0), (5593, 0.0), (5595, 0.0), (5596, 0.0), (5597, 0.0), (5601, 0.0), (5603, 0.0), (5631, 0.0), (5634, 0.0), (5640, 0.0), (5644, 0.0), (5645, 0.0), (5652, 0.0), (5653, 0.0), (5656, 0.0), (5659, 0.0), (5660, 0.0), (5662, 0.0), (5663, 0.0), (5664, 0.0), (5665, 0.0), (5667, 0.0), (5671, 0.0), (5673, 0.0), (5674, 0.0), (5676, 0.0), (5678, 0.0), (5679, 0.0), (5682, 0.0), (5685, 0.0), (5686, 0.0), (5688, 0.0), (5689, 0.0), (5692, 0.0), (5693, 0.0), (5694, 0.0), (5695, 0.0), (5696, 0.0), (5697, 0.0), (5700, 0.0), (5703, 0.0), (5705, 0.0), (5706, 0.0), (5707, 0.0), (5709, 0.0), (5711, 0.0), (5720, 0.0), (5721, 0.0), (5728, 0.0), (5732, 0.0), (5741, 0.0), (5747, 0.0), (5749, 0.0), (5750, 0.0), (5752, 0.0), (5757, 0.0), (5759, 0.0), (5760, 0.0), (5763, 0.0), (5765, 0.0), (5769, 0.0), (5773, 0.0), (5775, 0.0), (5776, 0.0), (5778, 0.0), (5786, 0.0), (5789, 0.0), (5794, 0.0), (5795, 0.0), (5798, 0.0), (5801, 0.0), (5808, 0.0), (5809, 0.0), (5819, 0.0), (5821, 0.0), (5822, 0.0), (5825, 0.0), (5827, 0.0), (5829, 0.0), (5833, 0.0), (5841, 0.0), (5843, 0.0), (5853, 0.0), (5858, 0.0), (5867, 0.0), (5871, 0.0), (5879, 0.0), (5881, 0.0), (5882, 0.0), (5885, 0.0), (5886, 0.0), (5889, 0.0), (5894, 0.0), (5895, 0.0), (5900, 0.0), (5902, 0.0), (5906, 0.0), (5907, 0.0), (5908, 0.0), (5909, 0.0), (5915, 0.0), (5918, 0.0), (5920, 0.0), (5921, 0.0), (5923, 0.0), (5924, 0.0), (5925, 0.0), (5926, 0.0), (5927, 0.0), (5928, 0.0), (5929, 0.0), (5931, 0.0), (5936, 0.0), (5939, 0.0), (5965, 0.0), (5968, 0.0), (5969, 0.0), (5972, 0.0), (5976, 0.0), (5977, 0.0), (5979, 0.0), (5982, 0.0), (5984, 0.0), (5985, 0.0), (5988, 0.0), (5994, 0.0), (5995, 0.0), (5996, 0.0), (5997, 0.0), (6000, 0.0), (6006, 0.0), (6009, 0.0), (6010, 0.0), (6014, 0.0), (6019, 0.0), (6020, 0.0), (6022, 0.0), (6027, 0.0), (6033, 0.0), (6040, 0.0), (6045, 0.0), (6057, 0.0), (6058, 0.0), (6059, 0.0), (6061, 0.0), (6068, 0.0), (6075, 0.0), (6079, 0.0), (6085, 0.0), (6090, 0.0), (6091, 0.0), (6096, 0.0), (6098, 0.0), (6100, 0.0), (6105, 0.0), (6110, 0.0), (6111, 0.0), (6112, 0.0), (6113, 0.0), (6114, 0.0), (6118, 0.0), (6120, 0.0), (6121, 0.0), (6123, 0.0), (6124, 0.0), (6126, 0.0), (6127, 0.0), (6128, 0.0), (6129, 0.0), (6131, 0.0), (6134, 0.0), (6135, 0.0), (6136, 0.0), (6137, 0.0), (6138, 0.0), (6141, 0.0), (6147, 0.0), (6148, 0.0), (6151, 0.0), (6152, 0.0), (6153, 0.0), (6164, 0.0), (6170, 0.0), (6172, 0.0), (6176, 0.0), (6177, 0.0), (6179, 0.0), (6184, 0.0), (6185, 0.0), (6187, 0.0), (6188, 0.0), (6189, 0.0), (6193, 0.0), (6195, 0.0), (6196, 0.0), (6197, 0.0), (6199, 0.0), (6200, 0.0), (6201, 0.0), (6202, 0.0), (6203, 0.0), (6206, 0.0), (6208, 0.0), (6209, 0.0), (6214, 0.0), (6219, 0.0), (6220, 0.0), (6221, 0.0), (6222, 0.0), (6231, 0.0), (6233, 0.0), (6242, 0.0), (6245, 0.0), (6246, 0.0), (6247, 0.0), (6248, 0.0), (6249, 0.0), (6250, 0.0), (6254, 0.0), (6255, 0.0), (6256, 0.0), (6257, 0.0), (6258, 0.0), (6259, 0.0), (6268, 0.0), (6270, 0.0), (6271, 0.0), (6274, 0.0), (6275, 0.0), (6279, 0.0), (6280, 0.0), (6283, 0.0), (6284, 0.0), (6289, 0.0), (6291, 0.0), (6292, 0.0), (6293, 0.0), (6296, 0.0), (6299, 0.0), (6300, 0.0), (6303, 0.0), (6304, 0.0), (6306, 0.0), (6307, 0.0), (6308, 0.0), (6316, 0.0), (6317, 0.0), (6319, 0.0), (6320, 0.0), (6321, 0.0), (6326, 0.0), (6327, 0.0), (6333, 0.0), (6334, 0.0), (6335, 0.0), (6336, 0.0), (6339, 0.0), (6342, 0.0), (6348, 0.0), (6349, 0.0), (6353, 0.0), (6355, 0.0), (6357, 0.0), (6363, 0.0), (6365, 0.0), (6367, 0.0), (6372, 0.0), (6373, 0.0), (6377, 0.0), (6382, 0.0), (6383, 0.0), (6387, 0.0), (6388, 0.0), (6395, 0.0), (6396, 0.0), (6397, 0.0), (6398, 0.0), (6407, 0.0), (6408, 0.0), (6411, 0.0), (6413, 0.0), (6419, 0.0), (6420, 0.0), (6421, 0.0), (6428, 0.0), (6430, 0.0), (6432, 0.0), (6434, 0.0), (6437, 0.0), (6438, 0.0), (6439, 0.0), (6440, 0.0), (6446, 0.0), (6451, 0.0), (6452, 0.0), (6457, 0.0), (6460, 0.0), (6472, 0.0), (6479, 0.0), (6489, 0.0), (6490, 0.0), (6491, 0.0), (6492, 0.0), (6493, 0.0), (6499, 0.0), (6506, 0.0), (6508, 0.0), (6511, 0.0), (6519, 0.0), (6521, 0.0), (6522, 0.0), (6524, 0.0), (6528, 0.0), (6531, 0.0), (6534, 0.0), (6543, 0.0), (6555, 0.0), (6559, 0.0), (6563, 0.0), (6568, 0.0), (6572, 0.0), (6573, 0.0), (6574, 0.0), (6581, 0.0), (6582, 0.0), (6587, 0.0), (6593, 0.0), (6594, 0.0), (6606, 0.0), (6608, 0.0), (6611, 0.0), (6612, 0.0), (6613, 0.0), (6617, 0.0), (6620, 0.0), (6621, 0.0), (6622, 0.0), (6624, 0.0), (6625, 0.0), (6633, 0.0), (6640, 0.0), (6641, 0.0), (6651, 0.0), (6654, 0.0), (6659, 0.0), (6660, 0.0), (6661, 0.0), (6662, 0.0), (6665, 0.0), (6668, 0.0), (6672, 0.0), (6683, 0.0), (6691, 0.0), (6693, 0.0), (6697, 0.0), (6698, 0.0), (6712, 0.0), (6714, 0.0), (6720, 0.0), (6722, 0.0), (6723, 0.0), (6730, 0.0), (6731, 0.0), (6737, 0.0), (6741, 0.0), (6742, 0.0), (6743, 0.0), (6744, 0.0), (6745, 0.0), (6749, 0.0), (6754, 0.0), (6761, 0.0), (6764, 0.0), (6765, 0.0), (6766, 0.0), (6774, 0.0), (6791, 0.0), (6794, 0.0), (6795, 0.0), (6796, 0.0), (6800, 0.0), (6805, 0.0), (6808, 0.0), (6809, 0.0), (6810, 0.0), (6812, 0.0), (6816, 0.0), (6819, 0.0), (6820, 0.0), (6823, 0.0), (6824, 0.0), (6826, 0.0), (6828, 0.0), (6837, 0.0), (6839, 0.0), (6847, 0.0), (6849, 0.0), (6850, 0.0), (6855, 0.0), (6859, 0.0), (6861, 0.0), (6862, 0.0), (6864, 0.0), (6865, 0.0), (6877, 0.0), (6882, 0.0), (6884, 0.0), (6885, 0.0), (6887, 0.0), (6888, 0.0), (6894, 0.0), (6896, 0.0), (6897, 0.0), (6903, 0.0), (6904, 0.0), (6905, 0.0), (6908, 0.0), (6909, 0.0), (6910, 0.0), (6911, 0.0), (6917, 0.0), (6926, 0.0), (6928, 0.0), (6929, 0.0), (6940, 0.0), (6943, 0.0), (6946, 0.0), (6958, 0.0), (6962, 0.0), (6964, 0.0), (6965, 0.0), (6966, 0.0), (6972, 0.0), (6973, 0.0), (6975, 0.0), (6976, 0.0), (6977, 0.0), (6980, 0.0), (6982, 0.0), (7000, 0.0), (7004, 0.0), (7005, 0.0), (7006, 0.0), (7007, 0.0), (7008, 0.0), (7009, 0.0), (7010, 0.0), (7011, 0.0), (7012, 0.0), (7018, 0.0), (7020, 0.0), (7021, 0.0), (7023, 0.0), (7032, 0.0), (7035, 0.0), (7047, 0.0), (7051, 0.0), (7053, 0.0), (7055, 0.0), (7057, 0.0), (7060, 0.0), (7061, 0.0), (7062, 0.0), (7065, 0.0), (7067, 0.0), (7068, 0.0), (7069, 0.0), (7070, 0.0), (7071, 0.0), (7072, 0.0), (7074, 0.0), (7076, 0.0), (7077, 0.0), (7079, 0.0), (7085, 0.0), (7086, 0.0), (7088, 0.0), (7089, 0.0), (7090, 0.0), (7091, 0.0), (7099, 0.0), (7100, 0.0), (7101, 0.0), (7105, 0.0), (7108, 0.0), (7110, 0.0), (7115, 0.0), (7117, 0.0), (7123, 0.0), (7131, 0.0), (7135, 0.0), (7136, 0.0), (7137, 0.0), (7138, 0.0), (7139, 0.0), (7141, 0.0), (7142, 0.0), (7143, 0.0), (7144, 0.0), (7145, 0.0), (7146, 0.0), (7147, 0.0), (7148, 0.0), (7152, 0.0), (7159, 0.0), (7164, 0.0), (7166, 0.0), (7168, 0.0), (7170, 0.0), (7172, 0.0), (7173, 0.0), (7174, 0.0), (7175, 0.0), (7191, 0.0), (7193, 0.0), (7216, 0.0), (7221, 0.0), (7227, 0.0), (7244, 0.0), (7246, 0.0), (7248, 0.0), (7255, 0.0), (7256, 0.0), (7259, 0.0), (7266, 0.0), (7267, 0.0), (7268, 0.0), (7276, 0.0), (7277, 0.0), (7278, 0.0), (7279, 0.0), (7281, 0.0), (7284, 0.0), (7286, 0.0), (7287, 0.0), (7294, 0.0), (7295, 0.0), (7300, 0.0), (7301, 0.0), (7303, 0.0), (7307, 0.0), (7311, 0.0), (7318, 0.0), (7319, 0.0), (7324, 0.0), (7325, 0.0), (7327, 0.0), (7338, 0.0), (7340, 0.0), (7346, 0.0), (7353, 0.0), (7354, 0.0), (7362, 0.0), (7364, 0.0), (7369, 0.0), (7370, 0.0), (7372, 0.0), (7375, 0.0), (7387, 0.0), (7398, 0.0), (7399, 0.0), (7401, 0.0), (7402, 0.0), (7409, 0.0), (7418, 0.0), (7435, 0.0), (7440, 0.0), (7442, 0.0), (7445, 0.0), (7450, 0.0), (7453, 0.0), (7454, 0.0), (7455, 0.0), (7456, 0.0), (7457, 0.0), (7459, 0.0), (7468, 0.0), (7469, 0.0), (7480, 0.0), (7511, 0.0), (7517, 0.0), (7524, 0.0), (7526, 0.0), (7529, 0.0), (7538, 0.0), (7543, 0.0), (7545, 0.0), (7547, 0.0), (7548, 0.0), (7554, 0.0), (7569, 0.0), (7572, 0.0), (7574, 0.0), (7576, 0.0), (7577, 0.0), (7578, 0.0), (7579, 0.0), (7580, 0.0), (7581, 0.0), (7582, 0.0), (7583, 0.0), (7585, 0.0), (7587, 0.0), (7589, 0.0), (7594, 0.0), (7597, 0.0), (7598, 0.0), (7599, 0.0), (7600, 0.0), (7601, 0.0), (7603, 0.0), (7604, 0.0), (7607, 0.0), (7608, 0.0), (7609, 0.0), (7612, 0.0), (7613, 0.0), (7614, 0.0), (7615, 0.0), (7616, 0.0), (7617, 0.0), (7618, 0.0), (7619, 0.0), (7620, 0.0), (7624, 0.0), (7628, 0.0), (7638, 0.0), (7639, 0.0), (7641, 0.0), (7642, 0.0), (7643, 0.0), (7644, 0.0), (7645, 0.0), (7650, 0.0), (7654, 0.0), (7658, 0.0), (7662, 0.0), (7665, 0.0), (7666, 0.0), (7668, 0.0), (7669, 0.0), (7671, 0.0), (7673, 0.0), (7674, 0.0), (7682, 0.0), (7683, 0.0), (7685, 0.0), (7689, 0.0), (7696, 0.0), (7698, 0.0), (7702, 0.0), (7704, 0.0), (7706, 0.0), (7710, 0.0), (7715, 0.0), (7716, 0.0), (7720, 0.0), (7725, 0.0), (7739, 0.0), (7741, 0.0), (7744, 0.0), (7750, 0.0), (7765, 0.0), (7766, 0.0), (7769, 0.0), (7773, 0.0), (7776, 0.0), (7778, 0.0), (7779, 0.0), (7780, 0.0), (7781, 0.0), (7792, 0.0), (7794, 0.0), (7796, 0.0), (7799, 0.0), (7822, 0.0), (7825, 0.0), (7829, 0.0), (7832, 0.0), (7836, 0.0), (7837, 0.0), (7860, 0.0), (7862, 0.0), (7868, 0.0), (7881, 0.0), (7882, 0.0), (7883, 0.0), (7884, 0.0), (7885, 0.0), (7889, 0.0), (7891, 0.0), (7893, 0.0), (7894, 0.0), (7900, 0.0), (7907, 0.0), (7910, 0.0), (7920, 0.0), (7926, 0.0), (7932, 0.0), (7933, 0.0), (7934, 0.0), (7935, 0.0), (7936, 0.0), (7937, 0.0), (7938, 0.0), (7939, 0.0), (7941, 0.0), (7942, 0.0), (7947, 0.0), (7949, 0.0), (7951, 0.0), (7953, 0.0), (7955, 0.0), (7957, 0.0), (7958, 0.0), (7959, 0.0), (7960, 0.0), (7963, 0.0), (7970, 0.0), (7972, 0.0), (7973, 0.0), (7985, 0.0), (7990, 0.0), (7998, 0.0), (7999, 0.0), (8002, 0.0), (8004, 0.0), (8005, 0.0), (8013, 0.0), (8015, 0.0), (8016, 0.0), (8017, 0.0), (8019, 0.0), (8020, 0.0), (8023, 0.0), (8027, 0.0), (8028, 0.0), (8029, 0.0), (8030, 0.0), (8038, 0.0), (8042, 0.0), (8044, 0.0), (8046, 0.0), (8050, 0.0), (8053, 0.0), (8061, 0.0), (8062, 0.0), (8065, 0.0), (8067, 0.0), (8068, 0.0), (8077, 0.0), (8082, 0.0), (8085, 0.0), (8087, 0.0), (8088, 0.0), (8089, 0.0), (8094, 0.0), (8104, 0.0), (8105, 0.0), (8108, 0.0), (8109, 0.0), (8112, 0.0), (8124, 0.0), (8125, 0.0), (8130, 0.0), (8131, 0.0), (8133, 0.0), (8134, 0.0), (8135, 0.0), (8136, 0.0), (8137, 0.0), (8138, 0.0), (8139, 0.0), (8141, 0.0), (8142, 0.0), (8143, 0.0), (8149, 0.0), (8150, 0.0), (8153, 0.0), (8156, 0.0), (8157, 0.0), (8160, 0.0), (8162, 0.0), (8167, 0.0), (8172, 0.0), (8174, 0.0), (8181, 0.0), (8185, 0.0), (8186, 0.0), (8191, 0.0), (8198, 0.0), (8201, 0.0), (8202, 0.0), (8203, 0.0), (8204, 0.0), (8209, 0.0), (8216, 0.0), (8219, 0.0), (8231, 0.0), (8236, 0.0), (8243, 0.0), (8254, 0.0), (8255, 0.0), (8256, 0.0), (8260, 0.0), (8261, 0.0), (8262, 0.0), (8264, 0.0), (8265, 0.0), (8275, 0.0), (8276, 0.0), (8281, 0.0), (8282, 0.0), (8285, 0.0), (8287, 0.0), (8291, 0.0), (8300, 0.0), (8301, 0.0), (8304, 0.0), (8305, 0.0), (8306, 0.0), (8308, 0.0), (8314, 0.0), (8316, 0.0), (8317, 0.0), (8321, 0.0), (8324, 0.0), (8326, 0.0), (8328, 0.0), (8334, 0.0), (8336, 0.0), (8337, 0.0), (8347, 0.0), (8357, 0.0), (8358, 0.0), (8362, 0.0), (8363, 0.0), (8365, 0.0), (8366, 0.0), (8370, 0.0), (8377, 0.0), (8380, 0.0), (8390, 0.0), (8393, 0.0), (8408, 0.0), (8409, 0.0), (8412, 0.0), (8413, 0.0), (8417, 0.0), (8421, 0.0), (8422, 0.0), (8427, 0.0), (8428, 0.0), (8433, 0.0), (8434, 0.0), (8439, 0.0), (8440, 0.0), (8441, 0.0), (8443, 0.0), (8451, 0.0), (8452, 0.0), (8453, 0.0), (8459, 0.0), (8460, 0.0), (8461, 0.0), (8462, 0.0), (8463, 0.0), (8464, 0.0), (8479, 0.0), (8480, 0.0), (8481, 0.0), (8483, 0.0), (8491, 0.0), (8495, 0.0), (8502, 0.0), (8503, 0.0), (8507, 0.0), (8509, 0.0), (8510, 0.0), (8515, 0.0), (8516, 0.0), (8520, 0.0), (8526, 0.0), (8528, 0.0), (8536, 0.0), (8538, 0.0), (8541, 0.0), (8547, 0.0), (8552, 0.0), (8556, 0.0), (8558, 0.0), (8564, 0.0), (8569, 0.0), (8577, 0.0), (8587, 0.0), (8591, 0.0), (8599, 0.0), (8600, 0.0), (8601, 0.0), (8602, 0.0), (8612, 0.0), (8616, 0.0), (8617, 0.0), (8618, 0.0), (8624, 0.0), (8625, 0.0), (8629, 0.0), (8637, 0.0), (8640, 0.0), (8641, 0.0), (8642, 0.0), (8645, 0.0), (8646, 0.0), (8656, 0.0), (8659, 0.0), (8674, 0.0), (8677, 0.0), (8688, 0.0), (8694, 0.0), (8703, 0.0), (8707, 0.0), (8709, 0.0), (8710, 0.0), (8711, 0.0), (8712, 0.0), (8713, 0.0), (8714, 0.0), (8716, 0.0), (8728, 0.0), (8730, 0.0), (8734, 0.0), (8740, 0.0), (8742, 0.0), (8743, 0.0), (8744, 0.0), (8749, 0.0), (8754, 0.0), (8762, 0.0), (8768, 0.0), (8771, 0.0), (8772, 0.0), (8773, 0.0), (8786, 0.0), (8787, 0.0), (8788, 0.0), (8789, 0.0), (8791, 0.0), (8792, 0.0), (8795, 0.0), (8797, 0.0), (8800, 0.0), (8805, 0.0), (8809, 0.0), (8810, 0.0), (8816, 0.0), (8817, 0.0), (8823, 0.0), (8824, 0.0), (8833, 0.0), (8836, 0.0), (8837, 0.0), (8838, 0.0), (8840, 0.0), (8842, 0.0), (8848, 0.0), (8855, 0.0), (8856, 0.0), (8859, 0.0), (8861, 0.0), (8867, 0.0), (8869, 0.0), (8872, 0.0), (8882, 0.0), (8886, 0.0), (8894, 0.0), (8898, 0.0), (8904, 0.0), (8906, 0.0), (8907, 0.0), (8909, 0.0), (8912, 0.0), (8913, 0.0), (8914, 0.0), (8916, 0.0), (8920, 0.0), (8923, 0.0), (8927, 0.0), (8928, 0.0), (8944, 0.0), (8948, 0.0), (8954, 0.0), (8955, 0.0), (8957, 0.0), (8958, 0.0), (8964, 0.0), (8973, 0.0), (8978, 0.0), (8979, 0.0), (8993, 0.0), (8994, 0.0), (8996, 0.0), (8997, 0.0), (9004, 0.0), (9005, 0.0), (9006, 0.0), (9008, 0.0), (9010, 0.0), (9013, 0.0), (9014, 0.0), (9015, 0.0), (9019, 0.0), (9021, 0.0), (9022, 0.0), (9023, 0.0), (9024, 0.0), (9025, 0.0), (9033, 0.0), (9037, 0.0), (9038, 0.0), (9042, 0.0), (9045, 0.0), (9068, 0.0), (9069, 0.0), (9073, 0.0), (9075, 0.0), (9079, 0.0), (9080, 0.0), (9081, 0.0), (9089, 0.0), (9093, 0.0), (9096, 0.0), (9100, 0.0), (9109, 0.0), (9112, 0.0), (9114, 0.0), (9120, 0.0), (9124, 0.0), (9125, 0.0), (9129, 0.0), (9130, 0.0), (9131, 0.0), (9132, 0.0), (9134, 0.0), (9138, 0.0), (9140, 0.0), (9141, 0.0), (9144, 0.0), (9145, 0.0), (9149, 0.0), (9152, 0.0), (9158, 0.0), (9160, 0.0), (9161, 0.0), (9162, 0.0), (9164, 0.0), (9165, 0.0), (9166, 0.0), (9169, 0.0), (9172, 0.0), (9174, 0.0), (9190, 0.0), (9195, 0.0), (9203, 0.0), (9206, 0.0), (9212, 0.0), (9213, 0.0), (9215, 0.0), (9225, 0.0), (9226, 0.0), (9227, 0.0), (9231, 0.0), (9233, 0.0), (9237, 0.0), (9238, 0.0), (9239, 0.0), (9240, 0.0), (9243, 0.0), (9244, 0.0), (9257, 0.0), (9259, 0.0), (9262, 0.0), (9275, 0.0), (9278, 0.0), (9280, 0.0), (9281, 0.0), (9289, 0.0), (9301, 0.0), (9303, 0.0), (9317, 0.0), (9318, 0.0), (9321, 0.0), (9322, 0.0), (9323, 0.0), (9327, 0.0), (9331, 0.0), (9332, 0.0), (9333, 0.0), (9334, 0.0), (9336, 0.0), (9337, 0.0), (9340, 0.0), (9341, 0.0), (9349, 0.0), (9350, 0.0), (9355, 0.0), (9359, 0.0), (9360, 0.0), (9366, 0.0), (9369, 0.0), (9370, 0.0), (9371, 0.0), (9373, 0.0), (9374, 0.0), (9375, 0.0), (9376, 0.0), (9377, 0.0), (9379, 0.0), (9381, 0.0), (9382, 0.0), (9387, 0.0), (9396, 0.0), (9401, 0.0), (9407, 0.0), (9408, 0.0), (9413, 0.0), (9414, 0.0), (9415, 0.0), (9416, 0.0), (9421, 0.0), (9425, 0.0), (9429, 0.0), (9431, 0.0), (9437, 0.0), (9441, 0.0), (9442, 0.0), (9443, 0.0), (9444, 0.0), (9445, 0.0), (9448, 0.0), (9451, 0.0), (9452, 0.0), (9454, 0.0), (9455, 0.0), (9456, 0.0), (9460, 0.0), (9466, 0.0), (9470, 0.0), (9476, 0.0), (9480, 0.0), (9485, 0.0), (9486, 0.0), (9490, 0.0), (9491, 0.0), (9498, 0.0), (9501, 0.0), (9515, 0.0), (9516, 0.0), (9518, 0.0), (9523, 0.0), (9531, 0.0), (9533, 0.0), (9534, 0.0), (9535, 0.0), (9540, 0.0), (9542, 0.0), (9543, 0.0), (9544, 0.0), (9547, 0.0), (9551, 0.0), (9552, 0.0), (9569, 0.0), (9578, 0.0), (9583, 0.0), (9584, 0.0), (9599, 0.0), (9600, 0.0), (9609, 0.0), (9623, 0.0), (9624, 0.0), (9634, 0.0), (9640, 0.0), (9641, 0.0), (9642, 0.0), (9645, 0.0), (9646, 0.0), (9649, 0.0), (9657, 0.0), (9659, 0.0), (9660, 0.0), (9661, 0.0), (9662, 0.0), (9663, 0.0), (9667, 0.0), (9669, 0.0), (9671, 0.0), (9672, 0.0), (9673, 0.0), (9674, 0.0), (9675, 0.0), (9676, 0.0), (9677, 0.0), (9678, 0.0), (9694, 0.0), (9696, 0.0), (9699, 0.0), (9702, 0.0), (9707, 0.0), (9715, 0.0), (9716, 0.0), (9717, 0.0), (9720, 0.0), (9721, 0.0), (9722, 0.0), (9723, 0.0), (9727, 0.0), (9730, 0.0), (9734, 0.0), (9738, 0.0), (9739, 0.0), (9751, 0.0), (9753, 0.0), (9757, 0.0), (9759, 0.0), (9763, 0.0), (9767, 0.0), (9770, 0.0), (9772, 0.0), (9773, 0.0), (9776, 0.0), (9777, 0.0), (9779, 0.0), (9785, 0.0), (9786, 0.0), (9789, 0.0), (9796, 0.0), (9799, 0.0), (9806, 0.0), (9807, 0.0), (9808, 0.0), (9809, 0.0), (9810, 0.0), (9811, 0.0), (9814, 0.0), (9820, 0.0), (9832, 0.0), (9834, 0.0), (9836, 0.0), (9843, 0.0), (9845, 0.0), (9848, 0.0), (9852, 0.0), (9855, 0.0), (9856, 0.0), (9861, 0.0), (9864, 0.0), (9870, 0.0), (9871, 0.0), (9873, 0.0), (9886, 0.0), (9888, 0.0), (9889, 0.0), (9892, 0.0), (9893, 0.0), (9895, 0.0), (9896, 0.0), (9899, 0.0), (9900, 0.0), (9902, 0.0), (9903, 0.0), (9904, 0.0), (9907, 0.0), (9909, 0.0), (9919, 0.0), (9922, 0.0), (9924, 0.0), (9929, 0.0), (9930, 0.0), (9934, 0.0), (9936, 0.0), (9937, 0.0), (9939, 0.0), (9945, 0.0), (9946, 0.0), (9948, 0.0), (9949, 0.0), (9952, 0.0), (9953, 0.0), (9954, 0.0), (9955, 0.0), (9958, 0.0), (9960, 0.0), (9964, 0.0), (9965, 0.0), (9970, 0.0), (9971, 0.0), (9972, 0.0), (9980, 0.0), (9982, 0.0), (9986, 0.0), (9993, 0.0), (9995, 0.0), (10009, 0.0), (10013, 0.0), (10014, 0.0), (10017, 0.0), (10018, 0.0), (10019, 0.0), (10020, 0.0), (10021, 0.0), (10023, 0.0), (10027, 0.0), (10029, 0.0), (10039, 0.0), (10040, 0.0), (10041, 0.0), (10046, 0.0), (10047, 0.0), (10049, 0.0), (10060, 0.0), (10061, 0.0), (10063, 0.0), (10064, 0.0), (10066, 0.0), (10069, 0.0), (10071, 0.0), (10073, 0.0), (10074, 0.0), (10079, 0.0), (10084, 0.0), (10086, 0.0), (10090, 0.0), (10091, 0.0), (10092, 0.0), (10101, 0.0), (10102, 0.0), (10104, 0.0), (10105, 0.0), (10107, 0.0), (10109, 0.0), (10111, 0.0), (10112, 0.0), (10113, 0.0), (10114, 0.0), (10117, 0.0), (10118, 0.0), (10122, 0.0), (10126, 0.0), (10134, 0.0), (10140, 0.0), (10141, 0.0), (10147, 0.0), (10149, 0.0), (10152, 0.0), (10153, 0.0), (10156, 0.0), (10158, 0.0), (10160, 0.0), (10161, 0.0), (10162, 0.0), (10172, 0.0), (10176, 0.0), (10178, 0.0), (10182, 0.0), (10194, 0.0), (10203, 0.0), (10206, 0.0), (10213, 0.0), (10220, 0.0), (10224, 0.0), (10225, 0.0), (10226, 0.0), (10228, 0.0), (10230, 0.0), (10232, 0.0), (10233, 0.0), (10235, 0.0), (10237, 0.0), (10241, 0.0), (10242, 0.0), (10243, 0.0), (10245, 0.0), (10246, 0.0), (10250, 0.0), (10251, 0.0), (10252, 0.0), (10267, 0.0), (10271, 0.0), (10272, 0.0), (10279, 0.0), (10282, 0.0), (10283, 0.0), (10286, 0.0), (10287, 0.0), (10288, 0.0), (10291, 0.0), (10296, 0.0), (10298, 0.0), (10299, 0.0), (10300, 0.0), (10302, 0.0), (10309, 0.0), (10311, 0.0), (10314, 0.0), (10315, 0.0)]\n"
     ]
    }
   ],
   "source": [
    "index = indices[\"Toy Story (1995)\"]\n",
    "\n",
    "movie_similarity_scores = similarity[index]\n",
    "\n",
    "movie_similarity_scores = list(enumerate(movie_similarity_scores))\n",
    "\n",
    "sorted_similarity_scores = sorted(movie_similarity_scores, key=lambda x: x[1], reverse=True)\n",
    "\n",
    "print(sorted_similarity_scores)\n"
   ]
  },
  {
   "cell_type": "code",
   "execution_count": 37,
   "metadata": {},
   "outputs": [
    {
     "data": {
      "text/plain": [
       "[(0, 1.0000000000000002),\n",
       " (596, 1.0000000000000002),\n",
       " (858, 1.0000000000000002),\n",
       " (3837, 1.0000000000000002),\n",
       " (4405, 1.0000000000000002),\n",
       " (7421, 1.0000000000000002),\n",
       " (9242, 1.0000000000000002),\n",
       " (5470, 1.0),\n",
       " (210, 0.9564936958601954),\n",
       " (945, 0.9564936958601954)]"
      ]
     },
     "execution_count": 37,
     "metadata": {},
     "output_type": "execute_result"
    }
   ],
   "source": [
    "sorted_similarity_scores[:10]"
   ]
  },
  {
   "cell_type": "code",
   "execution_count": 38,
   "metadata": {},
   "outputs": [],
   "source": [
    "def recommend_movies(movie_title, topN=5):\n",
    "   \n",
    "    index = indices[movie_title]  \n",
    "  \n",
    "    movie_similarity_scores = similarity[index]    \n",
    "    movie_similarity_scores = list(enumerate(movie_similarity_scores))  \n",
    "    sorted_similarity_scores = sorted(movie_similarity_scores, key=lambda x: x[1], reverse=True)\n",
    " \n",
    "    top_indices = [i[0] for i in sorted_similarity_scores[1:topN+1]]  \n",
    "    top_movies = combined_features.iloc[top_indices]['title'].tolist()\n",
    "    \n",
    "    return top_movies"
   ]
  },
  {
   "cell_type": "code",
   "execution_count": 39,
   "metadata": {},
   "outputs": [
    {
     "name": "stdout",
     "output_type": "stream",
     "text": [
      "Recommended movies similar to 'Toy Story (1995)':\n",
      "Army of Shadows (L'armée des ombres) (1969)\n",
      "Battle Royale 2: Requiem (Batoru rowaiaru II: Chinkonka) (2003)\n",
      "Green Zone (2010)\n",
      "Hurt Locker, The (2008)\n",
      "Rambo (Rambo 4) (2008)\n"
     ]
    }
   ],
   "source": [
    "input_movie_title = \"Toy Story (1995)\"\n",
    "recommended_movies = recommend_movies(input_movie_title, topN=5)\n",
    "print(f\"Recommended movies similar to '{input_movie_title}':\")\n",
    "for movie in recommended_movies:\n",
    "    print(movie)"
   ]
  },
  {
   "cell_type": "code",
   "execution_count": 40,
   "metadata": {},
   "outputs": [
    {
     "name": "stdout",
     "output_type": "stream",
     "text": [
      "No close match found.\n"
     ]
    }
   ],
   "source": [
    "input_ = input(\"Enter Movie Name: \")\n",
    "closest_match = difflib.get_close_matches(input_, movies_data['title'].tolist(), n=1)\n",
    "if closest_match:\n",
    "    print(closest_match[0])\n",
    "else:\n",
    "    print(\"No close match found.\")"
   ]
  },
  {
   "cell_type": "code",
   "execution_count": 41,
   "metadata": {},
   "outputs": [
    {
     "ename": "IndexError",
     "evalue": "list index out of range",
     "output_type": "error",
     "traceback": [
      "\u001b[1;31m---------------------------------------------------------------------------\u001b[0m",
      "\u001b[1;31mIndexError\u001b[0m                                Traceback (most recent call last)",
      "Input \u001b[1;32mIn [41]\u001b[0m, in \u001b[0;36m<cell line: 1>\u001b[1;34m()\u001b[0m\n\u001b[1;32m----> 1\u001b[0m recommended_movies \u001b[38;5;241m=\u001b[39m recommend_movies(\u001b[43mclosest_match\u001b[49m\u001b[43m[\u001b[49m\u001b[38;5;241;43m0\u001b[39;49m\u001b[43m]\u001b[49m, topN\u001b[38;5;241m=\u001b[39m\u001b[38;5;241m5\u001b[39m)\n\u001b[0;32m      2\u001b[0m \u001b[38;5;28mprint\u001b[39m(\u001b[38;5;124mf\u001b[39m\u001b[38;5;124m\"\u001b[39m\u001b[38;5;124mRecommended movies similar to \u001b[39m\u001b[38;5;124m'\u001b[39m\u001b[38;5;132;01m{\u001b[39;00minput_\u001b[38;5;132;01m}\u001b[39;00m\u001b[38;5;124m'\u001b[39m\u001b[38;5;124m:\u001b[39m\u001b[38;5;124m\"\u001b[39m)\n\u001b[0;32m      3\u001b[0m \u001b[38;5;28;01mfor\u001b[39;00m movie \u001b[38;5;129;01min\u001b[39;00m recommended_movies:\n",
      "\u001b[1;31mIndexError\u001b[0m: list index out of range"
     ]
    }
   ],
   "source": [
    "recommended_movies = recommend_movies(closest_match[0], topN=5)\n",
    "print(f\"Recommended movies similar to '{input_}':\")\n",
    "for movie in recommended_movies:\n",
    "    print(movie)"
   ]
  },
  {
   "cell_type": "code",
   "execution_count": 42,
   "metadata": {},
   "outputs": [],
   "source": [
    "import ipywidgets as widgets\n",
    "from IPython.display import display\n",
    "\n",
    "def recommend_movies(movie_title, topN=5):\n",
    "   \n",
    "    index = indices[movie_title]  \n",
    "  \n",
    "    movie_similarity_scores = similarity[index]    \n",
    "    movie_similarity_scores = list(enumerate(movie_similarity_scores))  \n",
    "    sorted_similarity_scores = sorted(movie_similarity_scores, key=lambda x: x[1], reverse=True)\n",
    " \n",
    "    top_indices = [i[0] for i in sorted_similarity_scores[1:topN+1]]  \n",
    "    top_movies = combined_features.iloc[top_indices]['title'].tolist()\n",
    "    \n",
    "    return top_movies\n",
    "\n",
    "\n"
   ]
  },
  {
   "cell_type": "code",
   "execution_count": 43,
   "metadata": {},
   "outputs": [
    {
     "data": {
      "application/vnd.jupyter.widget-view+json": {
       "model_id": "052b0d9afd304899b27df11263544f2e",
       "version_major": 2,
       "version_minor": 0
      },
      "text/plain": [
       "Text(value='', placeholder='Enter Movie Name')"
      ]
     },
     "metadata": {},
     "output_type": "display_data"
    },
    {
     "data": {
      "application/vnd.jupyter.widget-view+json": {
       "model_id": "d8ce48edd0634c7396e252939eb564e9",
       "version_major": 2,
       "version_minor": 0
      },
      "text/plain": [
       "Button(description='Get Recommendations', style=ButtonStyle())"
      ]
     },
     "metadata": {},
     "output_type": "display_data"
    },
    {
     "data": {
      "application/vnd.jupyter.widget-view+json": {
       "model_id": "70cccb9047644cd0a3fa230a2b5988a4",
       "version_major": 2,
       "version_minor": 0
      },
      "text/plain": [
       "Output()"
      ]
     },
     "metadata": {},
     "output_type": "display_data"
    }
   ],
   "source": [
    "def on_button_clicked(b):\n",
    "    movie_title = text_input.value\n",
    "    recommended_movies = recommend_movies(movie_title)\n",
    "    output.clear_output()\n",
    "    with output:\n",
    "        print(f\"Recommended movies similar to '{movie_title}':\")\n",
    "        for movie in recommended_movies:\n",
    "            print(movie)\n",
    "\n",
    "text_input = widgets.Text(placeholder='Enter Movie Name')\n",
    "button = widgets.Button(description=\"Get Recommendations\")\n",
    "button.on_click(on_button_clicked)\n",
    "\n",
    "output = widgets.Output()\n",
    "display(text_input, button, output)"
   ]
  },
  {
   "cell_type": "code",
   "execution_count": null,
   "metadata": {},
   "outputs": [],
   "source": []
  }
 ],
 "metadata": {
  "kernelspec": {
   "display_name": "Python 3",
   "language": "python",
   "name": "python3"
  },
  "language_info": {
   "codemirror_mode": {
    "name": "ipython",
    "version": 3
   },
   "file_extension": ".py",
   "mimetype": "text/x-python",
   "name": "python",
   "nbconvert_exporter": "python",
   "pygments_lexer": "ipython3",
   "version": "3.10.5"
  }
 },
 "nbformat": 4,
 "nbformat_minor": 2
}
