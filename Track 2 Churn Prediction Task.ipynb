{
 "cells": [
  {
   "cell_type": "code",
   "execution_count": 1,
   "metadata": {},
   "outputs": [],
   "source": [
    "import numpy as np\n",
    "import pandas as pd\n",
    "from sklearn.model_selection import train_test_split\n",
    "from sklearn.preprocessing import LabelEncoder, StandardScaler\n",
    "from tensorflow.keras.models import Sequential\n",
    "from tensorflow.keras.layers import Dense"
   ]
  },
  {
   "cell_type": "code",
   "execution_count": 2,
   "metadata": {},
   "outputs": [
    {
     "name": "stdout",
     "output_type": "stream",
     "text": [
      "Columns:  Index(['customerID', 'gender', 'SeniorCitizen', 'Partner', 'Dependents',\n",
      "       'tenure', 'PhoneService', 'MultipleLines', 'InternetService',\n",
      "       'OnlineSecurity', 'OnlineBackup', 'DeviceProtection', 'TechSupport',\n",
      "       'StreamingTV', 'StreamingMovies', 'Contract', 'PaperlessBilling',\n",
      "       'PaymentMethod', 'MonthlyCharges', 'TotalCharges', 'Churn'],\n",
      "      dtype='object')\n",
      "<class 'pandas.core.frame.DataFrame'>\n",
      "RangeIndex: 7043 entries, 0 to 7042\n",
      "Data columns (total 21 columns):\n",
      " #   Column            Non-Null Count  Dtype  \n",
      "---  ------            --------------  -----  \n",
      " 0   customerID        7043 non-null   object \n",
      " 1   gender            7043 non-null   object \n",
      " 2   SeniorCitizen     7043 non-null   int64  \n",
      " 3   Partner           7043 non-null   object \n",
      " 4   Dependents        7043 non-null   object \n",
      " 5   tenure            7043 non-null   int64  \n",
      " 6   PhoneService      7043 non-null   object \n",
      " 7   MultipleLines     7043 non-null   object \n",
      " 8   InternetService   7043 non-null   object \n",
      " 9   OnlineSecurity    7043 non-null   object \n",
      " 10  OnlineBackup      7043 non-null   object \n",
      " 11  DeviceProtection  7043 non-null   object \n",
      " 12  TechSupport       7043 non-null   object \n",
      " 13  StreamingTV       7043 non-null   object \n",
      " 14  StreamingMovies   7043 non-null   object \n",
      " 15  Contract          7043 non-null   object \n",
      " 16  PaperlessBilling  7043 non-null   object \n",
      " 17  PaymentMethod     7043 non-null   object \n",
      " 18  MonthlyCharges    7043 non-null   float64\n",
      " 19  TotalCharges      7043 non-null   object \n",
      " 20  Churn             7043 non-null   object \n",
      "dtypes: float64(1), int64(2), object(18)\n",
      "memory usage: 1.1+ MB\n",
      "Info:  None\n"
     ]
    }
   ],
   "source": [
    "import pandas as pd\n",
    "path = \"C:\\\\Users\\\\alok\\\\Desktop\\\\Inzint\\\\datasets\\\\WA_Fn-UseC_-Telco-Customer-Churn.csv\"\n",
    "df = pd.read_csv(path)\n",
    "print(\"Columns: \",df.columns)\n",
    "print(\"Info: \",df.info())"
   ]
  },
  {
   "cell_type": "code",
   "execution_count": 3,
   "metadata": {},
   "outputs": [],
   "source": [
    "df['TotalCharges'] = pd.to_numeric(df['TotalCharges'], errors='coerce') # Convert 'TotalCharges' to numeric\n",
    "df = df.dropna()  # Drop rows with missing values\n",
    "df = df.drop(columns=['customerID'])  # Remove customerID column"
   ]
  },
  {
   "cell_type": "code",
   "execution_count": 4,
   "metadata": {},
   "outputs": [
    {
     "name": "stderr",
     "output_type": "stream",
     "text": [
      "C:\\Users\\alok\\AppData\\Local\\Temp\\ipykernel_13336\\866765483.py:3: DeprecationWarning: `np.object` is a deprecated alias for the builtin `object`. To silence this warning, use `object` by itself. Doing this will not modify any behavior and is safe. \n",
      "Deprecated in NumPy 1.20; for more details and guidance: https://numpy.org/devdocs/release/1.20.0-notes.html#deprecations\n",
      "  if df[column].dtype == np.object:\n",
      "C:\\Users\\alok\\AppData\\Local\\Temp\\ipykernel_13336\\866765483.py:3: DeprecationWarning: `np.object` is a deprecated alias for the builtin `object`. To silence this warning, use `object` by itself. Doing this will not modify any behavior and is safe. \n",
      "Deprecated in NumPy 1.20; for more details and guidance: https://numpy.org/devdocs/release/1.20.0-notes.html#deprecations\n",
      "  if df[column].dtype == np.object:\n",
      "C:\\Users\\alok\\AppData\\Local\\Temp\\ipykernel_13336\\866765483.py:3: DeprecationWarning: `np.object` is a deprecated alias for the builtin `object`. To silence this warning, use `object` by itself. Doing this will not modify any behavior and is safe. \n",
      "Deprecated in NumPy 1.20; for more details and guidance: https://numpy.org/devdocs/release/1.20.0-notes.html#deprecations\n",
      "  if df[column].dtype == np.object:\n",
      "C:\\Users\\alok\\AppData\\Local\\Temp\\ipykernel_13336\\866765483.py:3: DeprecationWarning: `np.object` is a deprecated alias for the builtin `object`. To silence this warning, use `object` by itself. Doing this will not modify any behavior and is safe. \n",
      "Deprecated in NumPy 1.20; for more details and guidance: https://numpy.org/devdocs/release/1.20.0-notes.html#deprecations\n",
      "  if df[column].dtype == np.object:\n",
      "C:\\Users\\alok\\AppData\\Local\\Temp\\ipykernel_13336\\866765483.py:3: DeprecationWarning: `np.object` is a deprecated alias for the builtin `object`. To silence this warning, use `object` by itself. Doing this will not modify any behavior and is safe. \n",
      "Deprecated in NumPy 1.20; for more details and guidance: https://numpy.org/devdocs/release/1.20.0-notes.html#deprecations\n",
      "  if df[column].dtype == np.object:\n",
      "C:\\Users\\alok\\AppData\\Local\\Temp\\ipykernel_13336\\866765483.py:3: DeprecationWarning: `np.object` is a deprecated alias for the builtin `object`. To silence this warning, use `object` by itself. Doing this will not modify any behavior and is safe. \n",
      "Deprecated in NumPy 1.20; for more details and guidance: https://numpy.org/devdocs/release/1.20.0-notes.html#deprecations\n",
      "  if df[column].dtype == np.object:\n",
      "C:\\Users\\alok\\AppData\\Local\\Temp\\ipykernel_13336\\866765483.py:3: DeprecationWarning: `np.object` is a deprecated alias for the builtin `object`. To silence this warning, use `object` by itself. Doing this will not modify any behavior and is safe. \n",
      "Deprecated in NumPy 1.20; for more details and guidance: https://numpy.org/devdocs/release/1.20.0-notes.html#deprecations\n",
      "  if df[column].dtype == np.object:\n",
      "C:\\Users\\alok\\AppData\\Local\\Temp\\ipykernel_13336\\866765483.py:3: DeprecationWarning: `np.object` is a deprecated alias for the builtin `object`. To silence this warning, use `object` by itself. Doing this will not modify any behavior and is safe. \n",
      "Deprecated in NumPy 1.20; for more details and guidance: https://numpy.org/devdocs/release/1.20.0-notes.html#deprecations\n",
      "  if df[column].dtype == np.object:\n",
      "C:\\Users\\alok\\AppData\\Local\\Temp\\ipykernel_13336\\866765483.py:3: DeprecationWarning: `np.object` is a deprecated alias for the builtin `object`. To silence this warning, use `object` by itself. Doing this will not modify any behavior and is safe. \n",
      "Deprecated in NumPy 1.20; for more details and guidance: https://numpy.org/devdocs/release/1.20.0-notes.html#deprecations\n",
      "  if df[column].dtype == np.object:\n",
      "C:\\Users\\alok\\AppData\\Local\\Temp\\ipykernel_13336\\866765483.py:3: DeprecationWarning: `np.object` is a deprecated alias for the builtin `object`. To silence this warning, use `object` by itself. Doing this will not modify any behavior and is safe. \n",
      "Deprecated in NumPy 1.20; for more details and guidance: https://numpy.org/devdocs/release/1.20.0-notes.html#deprecations\n",
      "  if df[column].dtype == np.object:\n",
      "C:\\Users\\alok\\AppData\\Local\\Temp\\ipykernel_13336\\866765483.py:3: DeprecationWarning: `np.object` is a deprecated alias for the builtin `object`. To silence this warning, use `object` by itself. Doing this will not modify any behavior and is safe. \n",
      "Deprecated in NumPy 1.20; for more details and guidance: https://numpy.org/devdocs/release/1.20.0-notes.html#deprecations\n",
      "  if df[column].dtype == np.object:\n",
      "C:\\Users\\alok\\AppData\\Local\\Temp\\ipykernel_13336\\866765483.py:3: DeprecationWarning: `np.object` is a deprecated alias for the builtin `object`. To silence this warning, use `object` by itself. Doing this will not modify any behavior and is safe. \n",
      "Deprecated in NumPy 1.20; for more details and guidance: https://numpy.org/devdocs/release/1.20.0-notes.html#deprecations\n",
      "  if df[column].dtype == np.object:\n",
      "C:\\Users\\alok\\AppData\\Local\\Temp\\ipykernel_13336\\866765483.py:3: DeprecationWarning: `np.object` is a deprecated alias for the builtin `object`. To silence this warning, use `object` by itself. Doing this will not modify any behavior and is safe. \n",
      "Deprecated in NumPy 1.20; for more details and guidance: https://numpy.org/devdocs/release/1.20.0-notes.html#deprecations\n",
      "  if df[column].dtype == np.object:\n",
      "C:\\Users\\alok\\AppData\\Local\\Temp\\ipykernel_13336\\866765483.py:3: DeprecationWarning: `np.object` is a deprecated alias for the builtin `object`. To silence this warning, use `object` by itself. Doing this will not modify any behavior and is safe. \n",
      "Deprecated in NumPy 1.20; for more details and guidance: https://numpy.org/devdocs/release/1.20.0-notes.html#deprecations\n",
      "  if df[column].dtype == np.object:\n",
      "C:\\Users\\alok\\AppData\\Local\\Temp\\ipykernel_13336\\866765483.py:3: DeprecationWarning: `np.object` is a deprecated alias for the builtin `object`. To silence this warning, use `object` by itself. Doing this will not modify any behavior and is safe. \n",
      "Deprecated in NumPy 1.20; for more details and guidance: https://numpy.org/devdocs/release/1.20.0-notes.html#deprecations\n",
      "  if df[column].dtype == np.object:\n",
      "C:\\Users\\alok\\AppData\\Local\\Temp\\ipykernel_13336\\866765483.py:3: DeprecationWarning: `np.object` is a deprecated alias for the builtin `object`. To silence this warning, use `object` by itself. Doing this will not modify any behavior and is safe. \n",
      "Deprecated in NumPy 1.20; for more details and guidance: https://numpy.org/devdocs/release/1.20.0-notes.html#deprecations\n",
      "  if df[column].dtype == np.object:\n"
     ]
    }
   ],
   "source": [
    "encoder = LabelEncoder()\n",
    "for column in df.columns:\n",
    "    if df[column].dtype == np.object:\n",
    "        df[column] = encoder.fit_transform(df[column])"
   ]
  },
  {
   "cell_type": "code",
   "execution_count": 5,
   "metadata": {},
   "outputs": [
    {
     "name": "stdout",
     "output_type": "stream",
     "text": [
      "<class 'pandas.core.frame.DataFrame'>\n",
      "Index: 7032 entries, 0 to 7042\n",
      "Data columns (total 20 columns):\n",
      " #   Column            Non-Null Count  Dtype  \n",
      "---  ------            --------------  -----  \n",
      " 0   gender            7032 non-null   int32  \n",
      " 1   SeniorCitizen     7032 non-null   int64  \n",
      " 2   Partner           7032 non-null   int32  \n",
      " 3   Dependents        7032 non-null   int32  \n",
      " 4   tenure            7032 non-null   int64  \n",
      " 5   PhoneService      7032 non-null   int32  \n",
      " 6   MultipleLines     7032 non-null   int32  \n",
      " 7   InternetService   7032 non-null   int32  \n",
      " 8   OnlineSecurity    7032 non-null   int32  \n",
      " 9   OnlineBackup      7032 non-null   int32  \n",
      " 10  DeviceProtection  7032 non-null   int32  \n",
      " 11  TechSupport       7032 non-null   int32  \n",
      " 12  StreamingTV       7032 non-null   int32  \n",
      " 13  StreamingMovies   7032 non-null   int32  \n",
      " 14  Contract          7032 non-null   int32  \n",
      " 15  PaperlessBilling  7032 non-null   int32  \n",
      " 16  PaymentMethod     7032 non-null   int32  \n",
      " 17  MonthlyCharges    7032 non-null   float64\n",
      " 18  TotalCharges      7032 non-null   float64\n",
      " 19  Churn             7032 non-null   int32  \n",
      "dtypes: float64(2), int32(16), int64(2)\n",
      "memory usage: 714.2 KB\n"
     ]
    }
   ],
   "source": [
    "df.info()"
   ]
  },
  {
   "cell_type": "code",
   "execution_count": 6,
   "metadata": {},
   "outputs": [],
   "source": [
    "X = df.drop('Churn', axis=1)\n",
    "y = df['Churn']\n",
    "\n"
   ]
  },
  {
   "cell_type": "code",
   "execution_count": 7,
   "metadata": {},
   "outputs": [],
   "source": [
    "# Split the data into training and testing sets\n",
    "X_train, X_test, y_train, y_test = train_test_split(X, y, test_size=0.2, random_state=42)"
   ]
  },
  {
   "cell_type": "code",
   "execution_count": 8,
   "metadata": {},
   "outputs": [],
   "source": [
    "# Standardize features\n",
    "scaler = StandardScaler()\n",
    "X_train = scaler.fit_transform(X_train)\n",
    "X_test = scaler.transform(X_test)"
   ]
  },
  {
   "cell_type": "code",
   "execution_count": 9,
   "metadata": {},
   "outputs": [],
   "source": [
    "# Build the neural network model\n",
    "model = Sequential([\n",
    "    Dense(64, activation='relu', input_shape=(X_train.shape[1],)),\n",
    "    Dense(32, activation='relu'),\n",
    "    Dense(1, activation='sigmoid')\n",
    "])\n",
    "\n",
    "# Compile the model\n",
    "model.compile(optimizer='adam', loss='binary_crossentropy', metrics=['accuracy'])\n"
   ]
  },
  {
   "cell_type": "code",
   "execution_count": 10,
   "metadata": {},
   "outputs": [
    {
     "name": "stdout",
     "output_type": "stream",
     "text": [
      "Epoch 1/10\n",
      "141/141 [==============================] - 1s 4ms/step - loss: 0.4719 - accuracy: 0.7742 - val_loss: 0.4143 - val_accuracy: 0.8044\n",
      "Epoch 2/10\n",
      "141/141 [==============================] - 0s 2ms/step - loss: 0.4231 - accuracy: 0.8002 - val_loss: 0.4149 - val_accuracy: 0.8053\n",
      "Epoch 3/10\n",
      "141/141 [==============================] - 0s 2ms/step - loss: 0.4135 - accuracy: 0.8049 - val_loss: 0.4065 - val_accuracy: 0.8169\n",
      "Epoch 4/10\n",
      "141/141 [==============================] - 0s 2ms/step - loss: 0.4098 - accuracy: 0.8098 - val_loss: 0.4061 - val_accuracy: 0.8027\n",
      "Epoch 5/10\n",
      "141/141 [==============================] - 0s 2ms/step - loss: 0.4046 - accuracy: 0.8098 - val_loss: 0.4124 - val_accuracy: 0.8062\n",
      "Epoch 6/10\n",
      "141/141 [==============================] - 0s 2ms/step - loss: 0.4032 - accuracy: 0.8140 - val_loss: 0.4071 - val_accuracy: 0.8124\n",
      "Epoch 7/10\n",
      "141/141 [==============================] - 0s 2ms/step - loss: 0.3970 - accuracy: 0.8184 - val_loss: 0.4083 - val_accuracy: 0.8098\n",
      "Epoch 8/10\n",
      "141/141 [==============================] - 0s 2ms/step - loss: 0.3933 - accuracy: 0.8164 - val_loss: 0.4147 - val_accuracy: 0.8071\n",
      "Epoch 9/10\n",
      "141/141 [==============================] - 0s 2ms/step - loss: 0.3921 - accuracy: 0.8173 - val_loss: 0.4077 - val_accuracy: 0.8142\n",
      "Epoch 10/10\n",
      "141/141 [==============================] - 0s 2ms/step - loss: 0.3888 - accuracy: 0.8169 - val_loss: 0.4109 - val_accuracy: 0.7991\n"
     ]
    },
    {
     "data": {
      "text/plain": [
       "<keras.callbacks.History at 0x201e4fba020>"
      ]
     },
     "execution_count": 10,
     "metadata": {},
     "output_type": "execute_result"
    }
   ],
   "source": [
    "# Train the model\n",
    "model.fit(X_train, y_train, epochs=10, batch_size=32, validation_split=0.2)\n"
   ]
  },
  {
   "cell_type": "code",
   "execution_count": 11,
   "metadata": {},
   "outputs": [
    {
     "name": "stdout",
     "output_type": "stream",
     "text": [
      "44/44 [==============================] - 0s 1ms/step - loss: 0.4552 - accuracy: 0.7868\n",
      "Test Accuracy: 0.7867803573608398\n",
      "44/44 [==============================] - 0s 1ms/step\n"
     ]
    }
   ],
   "source": [
    "# Evaluate the model\n",
    "loss, accuracy = model.evaluate(X_test, y_test)\n",
    "print(f'Test Accuracy: {accuracy}')\n",
    "\n",
    "# Make predictions\n",
    "predictions = model.predict(X_test)"
   ]
  },
  {
   "cell_type": "code",
   "execution_count": 18,
   "metadata": {},
   "outputs": [
    {
     "data": {
      "image/png": "[encoded data removed]",
      "text/plain": [
       "<Figure size 576x432 with 1 Axes>"
      ]
     },
     "metadata": {
      "needs_background": "light"
     },
     "output_type": "display_data"
    }
   ],
   "source": [
    "import matplotlib.pyplot as plt\n",
    "import seaborn as sns\n",
    "df = pd.read_csv(path)\n",
    "# Relationship between tenure and Churn\n",
    "plt.figure(figsize=(8, 6))\n",
    "sns.boxplot(x='Churn', y='tenure', data=df)\n",
    "plt.title('Relationship between Tenure and Churn')\n",
    "plt.xlabel('Churn')\n",
    "plt.ylabel('Tenure')\n",
    "plt.show()"
   ]
  },
  {
   "cell_type": "code",
   "execution_count": 19,
   "metadata": {},
   "outputs": [
    {
     "data": {
      "image/png": "[encoded data removed]",
      "text/plain": [
       "<Figure size 576x432 with 1 Axes>"
      ]
     },
     "metadata": {
      "needs_background": "light"
     },
     "output_type": "display_data"
    }
   ],
   "source": [
    "plt.figure(figsize=(8, 6))\n",
    "sns.scatterplot(x='MonthlyCharges', y='Churn', data=df)\n",
    "plt.title('Relationship between MonthlyCharges and Churn')\n",
    "plt.xlabel('Monthly Charges')\n",
    "plt.ylabel('Churn')\n",
    "plt.show()"
   ]
  },
  {
   "cell_type": "code",
   "execution_count": 20,
   "metadata": {},
   "outputs": [
    {
     "data": {
      "image/png": "[encoded data removed]",
      "text/plain": [
       "<Figure size 576x432 with 1 Axes>"
      ]
     },
     "metadata": {
      "needs_background": "light"
     },
     "output_type": "display_data"
    }
   ],
   "source": [
    "\n",
    "plt.figure(figsize=(8, 6))\n",
    "sns.boxplot(x='MonthlyCharges', y='Churn', data=df)\n",
    "plt.title('Relationship between Tenure and Churn')\n",
    "plt.xlabel('Churn')\n",
    "plt.ylabel('Tenure')\n",
    "plt.show()"
   ]
  },
  {
   "cell_type": "code",
   "execution_count": null,
   "metadata": {},
   "outputs": [],
   "source": []
  }
 ],
 "metadata": {
  "kernelspec": {
   "display_name": "Python 3",
   "language": "python",
   "name": "python3"
  },
  "language_info": {
   "codemirror_mode": {
    "name": "ipython",
    "version": 3
   },
   "file_extension": ".py",
   "mimetype": "text/x-python",
   "name": "python",
   "nbconvert_exporter": "python",
   "pygments_lexer": "ipython3",
   "version": "3.10.5"
  }
 },
 "nbformat": 4,
 "nbformat_minor": 2
}
