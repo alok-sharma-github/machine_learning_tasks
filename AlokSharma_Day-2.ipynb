{
 "cells": [
  {
   "cell_type": "code",
   "execution_count": 1,
   "metadata": {},
   "outputs": [],
   "source": [
    "import numpy as np\n",
    "\n",
    "data=np.linspace(1,2,10).reshape(5,2)"
   ]
  },
  {
   "cell_type": "markdown",
   "metadata": {},
   "source": [
    "# Aggregate Functions"
   ]
  },
  {
   "cell_type": "code",
   "execution_count": 2,
   "metadata": {},
   "outputs": [
    {
     "name": "stdout",
     "output_type": "stream",
     "text": [
      "Mean: 1.5\n",
      "Sum: 15.0\n",
      "Max: 2.0\n"
     ]
    }
   ],
   "source": [
    "# Aggregation functions\n",
    "mean_value = np.mean(data)\n",
    "sum_value = np.sum(data)\n",
    "max_value = np.max(data)\n",
    "\n",
    "print(\"Mean:\", mean_value)\n",
    "print(\"Sum:\", sum_value)\n",
    "print(\"Max:\", max_value)"
   ]
  },
  {
   "cell_type": "markdown",
   "metadata": {},
   "source": [
    "# Joining and Splitting"
   ]
  },
  {
   "cell_type": "code",
   "execution_count": 10,
   "metadata": {},
   "outputs": [
    {
     "name": "stdout",
     "output_type": "stream",
     "text": [
      "Original Data: [[1.         1.11111111]\n",
      " [1.22222222 1.33333333]\n",
      " [1.44444444 1.55555556]\n",
      " [1.66666667 1.77777778]\n",
      " [1.88888889 2.        ]]\n",
      "\n",
      "Split Data: [array([[1.        , 1.11111111],\n",
      "       [1.22222222, 1.33333333]]), array([[1.44444444, 1.55555556],\n",
      "       [1.66666667, 1.77777778],\n",
      "       [1.88888889, 2.        ]]), array([], shape=(0, 2), dtype=float64)]\n",
      "\n",
      "Concatenated: [[1.         1.11111111]\n",
      " [1.22222222 1.33333333]\n",
      " [1.44444444 1.55555556]\n",
      " [1.66666667 1.77777778]\n",
      " [1.88888889 2.        ]\n",
      " [1.         1.11111111]\n",
      " [1.22222222 1.33333333]\n",
      " [1.44444444 1.55555556]\n",
      " [1.66666667 1.77777778]\n",
      " [1.88888889 2.        ]]\n",
      "\n",
      "Concatenate (Axis=1):\n",
      "[[1.         1.11111111 1.         1.11111111]\n",
      " [1.22222222 1.33333333 1.22222222 1.33333333]\n",
      " [1.44444444 1.55555556 1.44444444 1.55555556]\n",
      " [1.66666667 1.77777778 1.66666667 1.77777778]\n",
      " [1.88888889 2.         1.88888889 2.        ]]\n",
      "\n",
      "Splitting (Vertical Split):\n",
      "[array([[1.        , 1.11111111]]), array([[1.22222222, 1.33333333]]), array([[1.44444444, 1.55555556]]), array([[1.66666667, 1.77777778]]), array([[1.88888889, 2.        ]])]\n",
      "\n"
     ]
    }
   ],
   "source": [
    "# Splitting\n",
    "split_data = np.split(data, [2, 5])  # Split at indices 2 and 5\n",
    "\n",
    "print(\"Original Data:\", data)\n",
    "print(\"\\nSplit Data:\", split_data)\n",
    "\n",
    "# Joining\n",
    "\n",
    "concatenated = np.concatenate((data, data))  # Default axis is 0 (rows)\n",
    "print(\"\\nConcatenated:\", concatenated)\n",
    "\n",
    "concatenated_data = np.concatenate((data, data), axis=1)\n",
    "print(\"\\nConcatenate (Axis=1):\")\n",
    "print(concatenated_data)\n",
    "print()\n",
    "\n",
    "\n",
    "\n",
    "split_data = np.vsplit(data, 5)\n",
    "print(\"Splitting (Vertical Split):\")\n",
    "print(split_data)\n",
    "print()"
   ]
  },
  {
   "cell_type": "markdown",
   "metadata": {},
   "source": [
    "# Stack"
   ]
  },
  {
   "cell_type": "code",
   "execution_count": 11,
   "metadata": {},
   "outputs": [
    {
     "name": "stdout",
     "output_type": "stream",
     "text": [
      "Stacked Data:\n",
      "[[[1.         1.11111111]\n",
      "  [1.22222222 1.33333333]\n",
      "  [1.44444444 1.55555556]\n",
      "  [1.66666667 1.77777778]\n",
      "  [1.88888889 2.        ]]\n",
      "\n",
      " [[1.         1.11111111]\n",
      "  [1.22222222 1.33333333]\n",
      "  [1.44444444 1.55555556]\n",
      "  [1.66666667 1.77777778]\n",
      "  [1.88888889 2.        ]]]\n",
      "\n",
      "\n",
      "Vertical Stack:\n",
      "[[1.         1.11111111]\n",
      " [1.22222222 1.33333333]\n",
      " [1.44444444 1.55555556]\n",
      " [1.66666667 1.77777778]\n",
      " [1.88888889 2.        ]\n",
      " [1.         1.11111111]\n",
      " [1.22222222 1.33333333]\n",
      " [1.44444444 1.55555556]\n",
      " [1.66666667 1.77777778]\n",
      " [1.88888889 2.        ]]\n",
      "\n",
      "\n",
      "Horizontal Stack:\n",
      "[[1.         1.11111111 1.         1.11111111]\n",
      " [1.22222222 1.33333333 1.22222222 1.33333333]\n",
      " [1.44444444 1.55555556 1.44444444 1.55555556]\n",
      " [1.66666667 1.77777778 1.66666667 1.77777778]\n",
      " [1.88888889 2.         1.88888889 2.        ]]\n",
      "\n",
      "\n",
      "Column Stack:\n",
      "[[1.         1.11111111 1.         1.11111111]\n",
      " [1.22222222 1.33333333 1.22222222 1.33333333]\n",
      " [1.44444444 1.55555556 1.44444444 1.55555556]\n",
      " [1.66666667 1.77777778 1.66666667 1.77777778]\n",
      " [1.88888889 2.         1.88888889 2.        ]]\n"
     ]
    }
   ],
   "source": [
    "stacked_data = np.stack([data, data], axis=0)\n",
    "print(\"Stacked Data:\")\n",
    "print(stacked_data)\n",
    "print()\n",
    "\n",
    "# vstack (Vertical Stack)\n",
    "vstacked_data = np.vstack([data, data])\n",
    "print(\"\\nVertical Stack:\")\n",
    "print(vstacked_data)\n",
    "print()\n",
    "\n",
    "# hstack (Horizontal Stack)\n",
    "hstacked_data = np.hstack([data, data])\n",
    "print(\"\\nHorizontal Stack:\")\n",
    "print(hstacked_data)\n",
    "print()\n",
    "\n",
    "# column_stack\n",
    "column_stacked_data = np.column_stack([data, data])\n",
    "print(\"\\nColumn Stack:\")\n",
    "print(column_stacked_data)"
   ]
  },
  {
   "cell_type": "code",
   "execution_count": null,
   "metadata": {},
   "outputs": [],
   "source": []
  }
 ],
 "metadata": {
  "kernelspec": {
   "display_name": "Python 3",
   "language": "python",
   "name": "python3"
  },
  "language_info": {
   "codemirror_mode": {
    "name": "ipython",
    "version": 3
   },
   "file_extension": ".py",
   "mimetype": "text/x-python",
   "name": "python",
   "nbconvert_exporter": "python",
   "pygments_lexer": "ipython3",
   "version": "3.10.5"
  }
 },
 "nbformat": 4,
 "nbformat_minor": 2
}
