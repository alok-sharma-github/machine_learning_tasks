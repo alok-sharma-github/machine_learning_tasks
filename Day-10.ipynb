{
 "cells": [
  {
   "cell_type": "code",
   "execution_count": 2,
   "id": "6424560e",
   "metadata": {},
   "outputs": [],
   "source": [
    "import pandas as pd\n",
    "df =pd.read_csv(\"C:\\\\Users\\\\alok\\\\Desktop\\\\inzint\\\\datasets\\\\students.csv\")"
   ]
  },
  {
   "cell_type": "code",
   "execution_count": null,
   "id": "195f92ef",
   "metadata": {},
   "outputs": [
    {
     "data": {
      "text/plain": [
       "Index(['stud.id', 'name', 'gender', 'age', 'height', 'weight', 'religion',\n",
       "       'nc.score', 'semester', 'major', 'minor', 'score1', 'score2',\n",
       "       'online.tutorial', 'graduated', 'salary'],\n",
       "      dtype='object')"
      ]
     },
     "execution_count": 31,
     "metadata": {},
     "output_type": "execute_result"
    }
   ],
   "source": [
    "df.columns"
   ]
  },
  {
   "cell_type": "code",
   "execution_count": 3,
   "id": "f19f9ab4",
   "metadata": {},
   "outputs": [
    {
     "data": {
      "text/html": [
       "<div>\n",
       "<style scoped>\n",
       "    .dataframe tbody tr th:only-of-type {\n",
       "        vertical-align: middle;\n",
       "    }\n",
       "\n",
       "    .dataframe tbody tr th {\n",
       "        vertical-align: top;\n",
       "    }\n",
       "\n",
       "    .dataframe thead th {\n",
       "        text-align: right;\n",
       "    }\n",
       "</style>\n",
       "<table border=\"1\" class=\"dataframe\">\n",
       "  <thead>\n",
       "    <tr style=\"text-align: right;\">\n",
       "      <th></th>\n",
       "      <th>stud.id</th>\n",
       "      <th>name</th>\n",
       "      <th>gender</th>\n",
       "      <th>age</th>\n",
       "      <th>height</th>\n",
       "      <th>weight</th>\n",
       "      <th>religion</th>\n",
       "      <th>nc.score</th>\n",
       "      <th>semester</th>\n",
       "      <th>major</th>\n",
       "      <th>minor</th>\n",
       "      <th>score1</th>\n",
       "      <th>score2</th>\n",
       "      <th>online.tutorial</th>\n",
       "      <th>graduated</th>\n",
       "      <th>salary</th>\n",
       "    </tr>\n",
       "  </thead>\n",
       "  <tbody>\n",
       "    <tr>\n",
       "      <th>1</th>\n",
       "      <td>833917</td>\n",
       "      <td>Gonzales, Christina</td>\n",
       "      <td>Female</td>\n",
       "      <td>19</td>\n",
       "      <td>160</td>\n",
       "      <td>64.8</td>\n",
       "      <td>Muslim</td>\n",
       "      <td>1.91</td>\n",
       "      <td>1st</td>\n",
       "      <td>Political Science</td>\n",
       "      <td>Social Sciences</td>\n",
       "      <td>NaN</td>\n",
       "      <td>NaN</td>\n",
       "      <td>0</td>\n",
       "      <td>0</td>\n",
       "      <td>NaN</td>\n",
       "    </tr>\n",
       "    <tr>\n",
       "      <th>2</th>\n",
       "      <td>898539</td>\n",
       "      <td>Lozano, T'Hani</td>\n",
       "      <td>Female</td>\n",
       "      <td>19</td>\n",
       "      <td>172</td>\n",
       "      <td>73.0</td>\n",
       "      <td>Other</td>\n",
       "      <td>1.56</td>\n",
       "      <td>2nd</td>\n",
       "      <td>Social Sciences</td>\n",
       "      <td>Mathematics and Statistics</td>\n",
       "      <td>NaN</td>\n",
       "      <td>NaN</td>\n",
       "      <td>0</td>\n",
       "      <td>0</td>\n",
       "      <td>NaN</td>\n",
       "    </tr>\n",
       "    <tr>\n",
       "      <th>3</th>\n",
       "      <td>379678</td>\n",
       "      <td>Williams, Hanh</td>\n",
       "      <td>Female</td>\n",
       "      <td>22</td>\n",
       "      <td>168</td>\n",
       "      <td>70.6</td>\n",
       "      <td>Protestant</td>\n",
       "      <td>1.24</td>\n",
       "      <td>3rd</td>\n",
       "      <td>Social Sciences</td>\n",
       "      <td>Mathematics and Statistics</td>\n",
       "      <td>45.0</td>\n",
       "      <td>46.0</td>\n",
       "      <td>0</td>\n",
       "      <td>0</td>\n",
       "      <td>NaN</td>\n",
       "    </tr>\n",
       "    <tr>\n",
       "      <th>4</th>\n",
       "      <td>807564</td>\n",
       "      <td>Nem, Denzel</td>\n",
       "      <td>Male</td>\n",
       "      <td>19</td>\n",
       "      <td>183</td>\n",
       "      <td>79.7</td>\n",
       "      <td>Other</td>\n",
       "      <td>1.37</td>\n",
       "      <td>2nd</td>\n",
       "      <td>Environmental Sciences</td>\n",
       "      <td>Mathematics and Statistics</td>\n",
       "      <td>NaN</td>\n",
       "      <td>NaN</td>\n",
       "      <td>0</td>\n",
       "      <td>0</td>\n",
       "      <td>NaN</td>\n",
       "    </tr>\n",
       "    <tr>\n",
       "      <th>5</th>\n",
       "      <td>383291</td>\n",
       "      <td>Powell, Heather</td>\n",
       "      <td>Female</td>\n",
       "      <td>21</td>\n",
       "      <td>175</td>\n",
       "      <td>71.4</td>\n",
       "      <td>Catholic</td>\n",
       "      <td>1.46</td>\n",
       "      <td>1st</td>\n",
       "      <td>Environmental Sciences</td>\n",
       "      <td>Mathematics and Statistics</td>\n",
       "      <td>NaN</td>\n",
       "      <td>NaN</td>\n",
       "      <td>0</td>\n",
       "      <td>0</td>\n",
       "      <td>NaN</td>\n",
       "    </tr>\n",
       "  </tbody>\n",
       "</table>\n",
       "</div>"
      ],
      "text/plain": [
       "   stud.id                 name  gender  age  height  weight    religion  \\\n",
       "1   833917  Gonzales, Christina  Female   19     160    64.8      Muslim   \n",
       "2   898539       Lozano, T'Hani  Female   19     172    73.0       Other   \n",
       "3   379678       Williams, Hanh  Female   22     168    70.6  Protestant   \n",
       "4   807564          Nem, Denzel    Male   19     183    79.7       Other   \n",
       "5   383291      Powell, Heather  Female   21     175    71.4    Catholic   \n",
       "\n",
       "   nc.score semester                   major                       minor  \\\n",
       "1      1.91      1st       Political Science             Social Sciences   \n",
       "2      1.56      2nd         Social Sciences  Mathematics and Statistics   \n",
       "3      1.24      3rd         Social Sciences  Mathematics and Statistics   \n",
       "4      1.37      2nd  Environmental Sciences  Mathematics and Statistics   \n",
       "5      1.46      1st  Environmental Sciences  Mathematics and Statistics   \n",
       "\n",
       "   score1  score2  online.tutorial  graduated  salary  \n",
       "1     NaN     NaN                0          0     NaN  \n",
       "2     NaN     NaN                0          0     NaN  \n",
       "3    45.0    46.0                0          0     NaN  \n",
       "4     NaN     NaN                0          0     NaN  \n",
       "5     NaN     NaN                0          0     NaN  "
      ]
     },
     "execution_count": 3,
     "metadata": {},
     "output_type": "execute_result"
    }
   ],
   "source": [
    "df.head()"
   ]
  },
  {
   "cell_type": "code",
   "execution_count": 4,
   "id": "b9670a1b",
   "metadata": {},
   "outputs": [],
   "source": [
    "# goodness of fit   >.> to check whether a variable is likely to come in a specific dist.\n",
    "# independence  >>> association b/w two cart variables\n"
   ]
  },
  {
   "cell_type": "code",
   "execution_count": 14,
   "id": "2505bfc0",
   "metadata": {},
   "outputs": [],
   "source": [
    "df.isnull().sum()\n",
    "df = df.dropna()"
   ]
  },
  {
   "cell_type": "code",
   "execution_count": 15,
   "id": "0b222a89",
   "metadata": {},
   "outputs": [],
   "source": [
    "# Find whether there is equal proportion of males and females in university?"
   ]
  },
  {
   "cell_type": "code",
   "execution_count": 16,
   "id": "4b67541f",
   "metadata": {},
   "outputs": [],
   "source": [
    "# hypothesis\n",
    "null_hypo = \"Proportion is same\"\n",
    "alt_hypo = \"Proportion is not same\""
   ]
  },
  {
   "cell_type": "code",
   "execution_count": 17,
   "id": "bbad9ff6",
   "metadata": {},
   "outputs": [
    {
     "data": {
      "text/plain": [
       "11      Female\n",
       "13        Male\n",
       "14      Female\n",
       "17      Female\n",
       "28        Male\n",
       "         ...  \n",
       "8229    Female\n",
       "8234      Male\n",
       "8235      Male\n",
       "8238      Male\n",
       "8239    Female\n",
       "Name: gender, Length: 1753, dtype: object"
      ]
     },
     "execution_count": 17,
     "metadata": {},
     "output_type": "execute_result"
    }
   ],
   "source": [
    "# samples = 500\n",
    "df[\"gender\"]"
   ]
  },
  {
   "cell_type": "code",
   "execution_count": 18,
   "id": "3261c10e",
   "metadata": {},
   "outputs": [
    {
     "name": "stdout",
     "output_type": "stream",
     "text": [
      "Proportion of males: 0.6155162578436966\n",
      "Proportion of females: 0.3844837421563035\n"
     ]
    }
   ],
   "source": [
    "# Count the number of males and females\n",
    "male_count = df[df['gender'] == 'Male'].shape[0]\n",
    "female_count = df[df['gender'] == 'Female'].shape[0]\n",
    "\n",
    "# Calculate the proportion of males and females\n",
    "male_proportion = male_count / len(df)\n",
    "female_proportion = female_count / len(df)\n",
    "print(\"Proportion of males:\", male_proportion)\n",
    "print(\"Proportion of females:\", female_proportion)"
   ]
  },
  {
   "cell_type": "markdown",
   "id": "061cd49c",
   "metadata": {},
   "source": [
    "# chi_2 for goodness of fit"
   ]
  },
  {
   "cell_type": "code",
   "execution_count": 28,
   "id": "7f392042",
   "metadata": {},
   "outputs": [
    {
     "name": "stdout",
     "output_type": "stream",
     "text": [
      "gender  Female  Male\n",
      "gender              \n",
      "Female     193     0\n",
      "Male         0   307\n",
      "5.023886187314888\n"
     ]
    }
   ],
   "source": [
    "contingency_table = pd.crosstab(df[\"gender\"].sample(n=500, random_state=1), df[\"gender\"].sample(n=500, random_state=1))\n",
    "print(contingency_table)\n",
    "\n",
    "# alpha \n",
    "alpha=0.05\n",
    "\n",
    "# p = 1-alpha/2\n",
    "p = 1-alpha/2\n",
    "dof=1\n",
    "from scipy.stats import chisquare, chi2\n",
    "\n",
    "# percentage point function/ probabiity mass fn/prob density func.\n",
    "critical_value = chi2.ppf(p, dof)\n",
    "print(critical_value)\n",
    "\n"
   ]
  },
  {
   "cell_type": "code",
   "execution_count": 20,
   "id": "c784e3fc",
   "metadata": {},
   "outputs": [
    {
     "name": "stdout",
     "output_type": "stream",
     "text": [
      "stats 25.992\n",
      "p_value 3.4283506780566255e-07\n",
      "Reject H0, proportions are likely different.\n"
     ]
    }
   ],
   "source": [
    "# chi squre test\n",
    "stat, p_value = chisquare([193, 307], [250, 250])\n",
    "print(\"stats\",stat)\n",
    "print(\"p_value\",p_value)\n",
    "# Interpret p-value:\n",
    "if p_value <= alpha:\n",
    "    print(\"Reject H0, proportions are likely different.\")\n",
    "else:\n",
    "    print(\"Fail to reject H0, inconclusive about differences.\")"
   ]
  },
  {
   "cell_type": "code",
   "execution_count": 22,
   "id": "e5d0555e",
   "metadata": {},
   "outputs": [
    {
     "name": "stdout",
     "output_type": "stream",
     "text": [
      "\n",
      "chi2:\n",
      " 495.78956333663194\n",
      "pvalue:\n",
      " 7.835812014374055e-110\n",
      "dof:\n",
      " 1\n",
      "expected:\n",
      " [[ 74.498 118.502]\n",
      " [118.502 188.498]]\n",
      "\n",
      "Reject H0, proportions are likely different.\n"
     ]
    }
   ],
   "source": [
    "from scipy.stats import chi2_contingency\n",
    "\n",
    "# Perform chi-square test\n",
    "chi2, pval, dof, expected = chi2_contingency(contingency_table)\n",
    "print(\"\\nchi2:\\n\",chi2)\n",
    "print(\"pvalue:\\n\",pval)\n",
    "print(\"dof:\\n\",dof)\n",
    "print(\"expected:\\n\",expected)\n",
    "# Interpret p-value:\n",
    "if pval <= 0.05:\n",
    "    print(\"\\nReject H0, proportions are likely different.\")\n",
    "else:\n",
    "    print(\"Fail to reject H0, inconclusive about differences.\")\n"
   ]
  },
  {
   "cell_type": "markdown",
   "id": "a8c4bd37",
   "metadata": {},
   "source": [
    "# chi_2 for Independence"
   ]
  },
  {
   "cell_type": "code",
   "execution_count": 23,
   "id": "8f9fb11b",
   "metadata": {},
   "outputs": [],
   "source": [
    "# whether there is any relationship between gender of students and their major \n",
    "null_hypo = \"no relationship b/w gender and major\"\n",
    "alt_hypo = \"relationship b/w gender and major\""
   ]
  },
  {
   "cell_type": "code",
   "execution_count": 26,
   "id": "d6d66515",
   "metadata": {},
   "outputs": [
    {
     "name": "stdout",
     "output_type": "stream",
     "text": [
      "gender                      Female  Male\n",
      "major                                   \n",
      "Biology                        152   178\n",
      "Economics and Finance           73   222\n",
      "Environmental Sciences         114   231\n",
      "Mathematics and Statistics      48   240\n",
      "Political Science              164   125\n",
      "Social Sciences                123    83\n"
     ]
    }
   ],
   "source": [
    "#crosstab gender vs major\n",
    "table = pd.crosstab(df.major,df.gender)\n",
    "print(table)"
   ]
  },
  {
   "cell_type": "code",
   "execution_count": 29,
   "id": "441093cb",
   "metadata": {},
   "outputs": [
    {
     "name": "stdout",
     "output_type": "stream",
     "text": [
      "12.832501994030027\n"
     ]
    }
   ],
   "source": [
    "# Step 2 Set Alpha\n",
    "alpha = 0.05\n",
    "\n",
    "# 3. Prob\n",
    "p = 1-(alpha/2)\n",
    "\n",
    "# 4 DOF\n",
    "# major= 6-1 and gender = 2-1\n",
    "dof = 5\n",
    "critical_value = chi2.ppf(p, dof)\n",
    "print(critical_value)"
   ]
  },
  {
   "cell_type": "code",
   "execution_count": 30,
   "id": "7a2072fc",
   "metadata": {},
   "outputs": [
    {
     "name": "stdout",
     "output_type": "stream",
     "text": [
      "\n",
      "chi2:\n",
      " 173.71857686007684\n",
      "pvalue:\n",
      " 1.1736988372787206e-35\n",
      "dof:\n",
      " 5\n",
      "expected:\n",
      " [[126.87963491 203.12036509]\n",
      " [113.42270394 181.57729606]\n",
      " [132.64689104 212.35310896]\n",
      " [110.73131774 177.26868226]\n",
      " [111.11580148 177.88419852]\n",
      " [ 79.20365088 126.79634912]]\n",
      "\n",
      "Reject H0, proportions are likely different.\n"
     ]
    }
   ],
   "source": [
    "chi2, pval, dof, expected = chi2_contingency(table)\n",
    "\n",
    "print(\"\\nchi2:\\n\",chi2)\n",
    "print(\"pvalue:\\n\",pval)\n",
    "print(\"dof:\\n\",dof)\n",
    "print(\"expected:\\n\",expected)\n",
    "# Interpret p-value:\n",
    "if pval <= 0.05:\n",
    "    print(\"\\nReject H0, proportions are likely different.\")\n",
    "else:\n",
    "    print(\"Fail to reject H0, inconclusive about differences.\")"
   ]
  },
  {
   "cell_type": "code",
   "execution_count": null,
   "id": "b66c6acd",
   "metadata": {},
   "outputs": [],
   "source": []
  }
 ],
 "metadata": {
  "kernelspec": {
   "display_name": "Python 3 (ipykernel)",
   "language": "python",
   "name": "python3"
  },
  "language_info": {
   "codemirror_mode": {
    "name": "ipython",
    "version": 3
   },
   "file_extension": ".py",
   "mimetype": "text/x-python",
   "name": "python",
   "nbconvert_exporter": "python",
   "pygments_lexer": "ipython3",
   "version": "3.10.5"
  }
 },
 "nbformat": 4,
 "nbformat_minor": 5
}
